{
 "cells": [
  {
   "cell_type": "markdown",
   "id": "0f0f53ee",
   "metadata": {},
   "source": [
    "---\n",
    "title: Analysis with DESeq2\n",
    "format:\n",
    "    confluence-html:\n",
    "        code-fold: true\n",
    "---"
   ]
  },
  {
   "cell_type": "markdown",
   "id": "08ba6cf3",
   "metadata": {},
   "source": [
    "[DESeq2](https://genomebiology.biomedcentral.com/articles/10.1186/s13059-014-0550-8?ref=https://githubhelp.com) is a program for differential abundance analysis which was originally developed for RNASeq experiments. It models counts using a negative binomial distribution and can handle complex design formulations. An evaluation of tools specifically adapted for compositional data analysis and more traditional tools for differential expression analysis of RNA-seq data showed that DESeq2 had consistent results also on metagenomic datasets ([Calgaro et al, 2020](https://genomebiology.biomedcentral.com/articles/10.1186/s13059-020-02104-1)).\n",
    "\n",
    "Specific considerations for metagenomic data used here is the `poscounts` setting which normalizes the data using non-zero counts."
   ]
  },
  {
   "cell_type": "code",
   "execution_count": 18,
   "id": "4525edbb",
   "metadata": {
    "vscode": {
     "languageId": "r"
    }
   },
   "outputs": [],
   "source": [
    "library(DESeq2)\n",
    "library(mixOmics)\n",
    "library(arrow)\n",
    "library(tibble)\n",
    "library(stringr)\n",
    "library(dplyr)"
   ]
  },
  {
   "cell_type": "code",
   "execution_count": 19,
   "id": "5335b97f",
   "metadata": {
    "vscode": {
     "languageId": "r"
    }
   },
   "outputs": [],
   "source": [
    "cpus <- 10"
   ]
  },
  {
   "cell_type": "code",
   "execution_count": 20,
   "id": "f568003a",
   "metadata": {
    "vscode": {
     "languageId": "r"
    }
   },
   "outputs": [],
   "source": [
    "save_results <- function(r, name) {\n",
    "    f = paste0(\"../atlas/stats/DESeq2/\", name, \".tsv\")\n",
    "    r$feature <- rownames(r)\n",
    "    r <- r[, c(\"feature\",colnames(r)[colnames(r)!=\"feature\"])]\n",
    "    isDE <- plotMA(r, returnData = TRUE)$isDE\n",
    "    r <- cbind(r, isDE)\n",
    "    write.table(file = f, x = r, sep = \"\\t\", quote = FALSE, row.names = FALSE)\n",
    "}"
   ]
  },
  {
   "cell_type": "code",
   "execution_count": 21,
   "id": "1e96b0ce",
   "metadata": {
    "vscode": {
     "languageId": "r"
    }
   },
   "outputs": [],
   "source": [
    "low.count.removal <- function(\n",
    "                        data, # feature count df of size n (sample) x p (feature)\n",
    "                        percent=0.01 # cutoff chosen\n",
    "                        ) \n",
    "  {\n",
    "    keep.feat = which(rowSums(data)*100/(sum(rowSums(data))) > percent)\n",
    "    data.filter = data[keep.feat, ]\n",
    "    return(list(data.filter = data.filter, keep.feat = keep.feat))\n",
    "}"
   ]
  },
  {
   "cell_type": "markdown",
   "id": "6f9147c5",
   "metadata": {},
   "source": [
    "## Read the data"
   ]
  },
  {
   "cell_type": "code",
   "execution_count": 22,
   "id": "d28cb627",
   "metadata": {
    "vscode": {
     "languageId": "r"
    }
   },
   "outputs": [],
   "source": [
    "mag <- list()\n",
    "mag_data <- as.matrix(\n",
    "    column_to_rownames(\n",
    "        read_parquet(\"../atlas/genomes/counts/median_coverage_genomes.parquet\"), \n",
    "        var=\"index\")\n",
    "    )\n",
    "mag$cov <- t(mag_data)"
   ]
  },
  {
   "cell_type": "code",
   "execution_count": 23,
   "id": "a7e38773",
   "metadata": {
    "vscode": {
     "languageId": "r"
    }
   },
   "outputs": [],
   "source": [
    "mag_genus <- read.csv(\"../atlas/genomes/counts/genus.coverage.tsv\", sep = \"\\t\", header = TRUE, row.names = 1)\n",
    "colnames(mag_genus) <- gsub(\".t.r\", \"-t.r\", colnames(mag_genus))\n",
    "mag$cov_genus <- mag_genus"
   ]
  },
  {
   "cell_type": "code",
   "execution_count": 24,
   "id": "31c82b7e",
   "metadata": {
    "vscode": {
     "languageId": "r"
    }
   },
   "outputs": [],
   "source": [
    "mag_tax = read.table(\"../atlas/genomes/taxonomy/gtdb_taxonomy.tsv\", sep = \"\\t\", header = TRUE, row.names = 1)"
   ]
  },
  {
   "cell_type": "code",
   "execution_count": 25,
   "id": "bd87c609",
   "metadata": {
    "vscode": {
     "languageId": "r"
    }
   },
   "outputs": [],
   "source": [
    "pfam <- list()\n",
    "pfam_data <- read.csv(\"../atlas/Genecatalog/counts/PFAMs.median_coverage.tsv\", sep = \"\\t\", header = TRUE, row.names=1)\n",
    "colnames(pfam_data) <- gsub(\".t.r\", \"-t.r\", colnames(pfam_data))\n",
    "pfam$cov <- pfam_data"
   ]
  },
  {
   "cell_type": "code",
   "execution_count": 26,
   "id": "f9cd15ea",
   "metadata": {
    "vscode": {
     "languageId": "r"
    }
   },
   "outputs": [],
   "source": [
    "ko <- list()\n",
    "ko_data <- read.csv(\"../atlas/Genecatalog/counts/KO.median_coverage.tsv\", sep = \"\\t\", header = TRUE, row.names=1)\n",
    "colnames(ko_data) <- gsub(\".t.r\", \"-t.r\", colnames(ko_data))\n",
    "ko$cov <- ko_data"
   ]
  },
  {
   "cell_type": "code",
   "execution_count": 27,
   "id": "66bfd937",
   "metadata": {
    "vscode": {
     "languageId": "r"
    }
   },
   "outputs": [],
   "source": [
    "cazy <- list()\n",
    "cazy_data <- read.csv(\"../atlas/Genecatalog/counts/CAZy.median_coverage.tsv\", sep = \"\\t\", header = TRUE, row.names=1)\n",
    "colnames(cazy_data) <- gsub(\".t.r\", \"-t.r\", colnames(cazy_data))\n",
    "cazy$cov <- cazy_data"
   ]
  },
  {
   "cell_type": "code",
   "execution_count": 67,
   "id": "8d711a7e",
   "metadata": {
    "vscode": {
     "languageId": "r"
    }
   },
   "outputs": [],
   "source": [
    "rgi <- list()\n",
    "rgi_data <- read.csv(\"../atlas/Genecatalog/counts/rgi.best_hit_aro.median_coverage.tsv\", sep = \"\\t\", header = TRUE, row.names=1)\n",
    "colnames(rgi_data) <- gsub(\".t.r\", \"-t.r\", colnames(rgi_data))\n",
    "rgi$cov <- rgi_data"
   ]
  },
  {
   "cell_type": "code",
   "execution_count": 2,
   "id": "c708697d",
   "metadata": {
    "vscode": {
     "languageId": "r"
    }
   },
   "outputs": [],
   "source": [
    "uniref <- list()\n",
    "uniref_data <- read.csv(\"../atlas/taxonomy/UniRef100.median_fold.species.allsamples.tsv\", sep = \"\\t\", header = TRUE, row.names = 1)\n",
    "uniref_taxonomy <- read.csv(\"../atlas/taxonomy/UniRef100.median_fold.tsv\", sep=\"\\t\", header = TRUE)\n",
    "colnames(uniref_data) <- gsub(\".t.r\", \"-t.r\", colnames(uniref_data))\n",
    "# Remove unclassified and unknown\n",
    "uc <- rownames(uniref_data)[grep(\"^uc_\", rownames(uniref_data))]\n",
    "# Remove uncultured\n",
    "unc <- rownames(uniref_data)[grep(\"^uncultured\", rownames(uniref_data))]\n",
    "# Remove species with unknown phylum\n",
    "unk <- uniref_taxonomy[uniref_taxonomy$phylum==\"unknown\",\"species\"]\n",
    "uniref_data_filt <- uniref_data[!c(rownames(uniref_data)%in%c(unc, unk, uc)),]\n",
    "uniref_data_filt <- uniref_data_filt[!c(rownames(uniref_data_filt)%in%c(\"unknown\")), ]\n",
    "# Keep species with proper name\n",
    "keep <- grep(\"^[A-Z][a-z]+ \", rownames(uniref_data_filt))\n",
    "uniref_data_filt <- uniref_data_filt[keep,]\n",
    "uniref$cov <- uniref_data_filt"
   ]
  },
  {
   "cell_type": "code",
   "execution_count": 4,
   "id": "b1018041",
   "metadata": {
    "vscode": {
     "languageId": "r"
    }
   },
   "outputs": [],
   "source": [
    "uniref.genus <- list()\n",
    "uniref_genus_data <- read.csv(\"../atlas/taxonomy//UniRef100.median_fold.genus.tsv\", sep=\"\\t\", header = TRUE, row.names = 1)\n",
    "colnames(uniref_genus_data) <- gsub(\".t.r\", \"-t.r\", colnames(uniref_genus_data))\n",
    "# Remove unclassified and unknown\n",
    "uc <- rownames(uniref_genus_data)[grep(\"^uc_\", rownames(uniref_genus_data))]\n",
    "# Remove uncultured\n",
    "unc <- rownames(uniref_genus_data)[grep(\"^uncultured\", rownames(uniref_genus_data))]\n",
    "# Remove genera with unknown phylum\n",
    "unk <- uniref_taxonomy[uniref_taxonomy$phylum==\"unknown\",\"genus\"]\n",
    "uniref_genus_filt <- uniref_genus_data[!c(rownames(uniref_genus_data)%in%c(unc, unk, uc)),]\n",
    "uniref_genus_filt <- uniref_genus_filt[!c(rownames(uniref_genus_filt)%in%c(\"unknown\")), ]\n",
    "uniref.genus$cov <- uniref_genus_filt"
   ]
  },
  {
   "cell_type": "code",
   "execution_count": 68,
   "id": "630b4af4",
   "metadata": {
    "vscode": {
     "languageId": "r"
    }
   },
   "outputs": [],
   "source": [
    "# Only keep best replicates\n",
    "drop_reps <- c(\"C11-t.r\", \"C12\", \"C19-t.r\", \"H10\", \"H13-t.r\", \"H32\", \"L11-t.r\", \"L29\", \"L6\")\n",
    "mag$cov <- mag$cov[, !c(colnames(mag$cov)%in%drop_reps)]\n",
    "pfam$cov <- pfam$cov[, !c(colnames(pfam$cov)%in%drop_reps)]\n",
    "ko$cov <- ko$cov[, !c(colnames(ko$cov)%in%drop_reps)]\n",
    "cazy$cov <- cazy$cov[, !c(colnames(cazy$cov)%in%drop_reps)]\n",
    "rgi$cov <- rgi$cov[, !c(colnames(rgi$cov)%in%drop_reps)]\n",
    "uniref$cov <- uniref$cov[, !c(colnames(uniref$cov)%in%drop_reps)]\n",
    "uniref.genus$cov <- uniref.genus$cov[,!c(colnames(uniref.genus$cov)%in%drop_reps)]"
   ]
  },
  {
   "cell_type": "code",
   "execution_count": 69,
   "id": "a09fa6d8",
   "metadata": {
    "vscode": {
     "languageId": "r"
    }
   },
   "outputs": [],
   "source": [
    "# Make all dataframes line up\n",
    "samples <- colnames(mag$cov)\n",
    "mag$cov <- mag$cov[, samples]\n",
    "pfam$cov <- pfam$cov[, samples]\n",
    "ko$cov <- ko$cov[, samples]\n",
    "cazy$cov <- cazy$cov[, samples]\n",
    "rgi$cov <- rgi$cov[, samples]\n",
    "uniref$cov <- uniref$cov[, samples]\n",
    "uniref.genus$cov <- uniref.genus$cov[, samples]"
   ]
  },
  {
   "cell_type": "code",
   "execution_count": 32,
   "id": "8bcdd655",
   "metadata": {
    "vscode": {
     "languageId": "r"
    }
   },
   "outputs": [],
   "source": [
    "# Read sample info and set up the relevant columns\n",
    "info <- read.csv(\"../data/sample_groups.csv\", header = T, row.names = 1)\n",
    "info[c(\"Generation\",\"Treatment\")] <- str_split_fixed(info$group, \"_\", 2)\n",
    "# Reorder the metadata\n",
    "info <- info[samples, ]\n",
    "\n",
    "info$group <- factor(info$group)\n",
    "info$Generation <- factor(info$Generation)\n",
    "info$Generation <- relevel(info$Generation, ref = \"F0\")\n",
    "info$Treatment <- factor(info$Treatment)\n",
    "info$Treatment <- relevel(info$Treatment, ref = \"C\")\n",
    "info$sample <- factor(gsub(\"-t.r\", \"\", rownames(info)))"
   ]
  },
  {
   "cell_type": "code",
   "execution_count": 70,
   "id": "e333af9d",
   "metadata": {
    "vscode": {
     "languageId": "r"
    }
   },
   "outputs": [
    {
     "data": {
      "text/html": [
       "TRUE"
      ],
      "text/latex": [
       "TRUE"
      ],
      "text/markdown": [
       "TRUE"
      ],
      "text/plain": [
       "[1] TRUE"
      ]
     },
     "metadata": {},
     "output_type": "display_data"
    }
   ],
   "source": [
    "all(all(rownames(info) == colnames(mag$cov)),\n",
    "all(rownames(info) == colnames(pfam$cov)),\n",
    "all(rownames(info) == colnames(ko$cov)),\n",
    "all(rownames(info) == colnames(cazy$cov)),\n",
    "all(rownames(info) == colnames(rgi$cov)),\n",
    "all(rownames(info) == colnames(uniref$cov)),\n",
    "all(rownames(info) == colnames(uniref.genus$cov)))"
   ]
  },
  {
   "cell_type": "markdown",
   "id": "29dbe219",
   "metadata": {},
   "source": [
    "## Differential expression analysis"
   ]
  },
  {
   "cell_type": "markdown",
   "id": "7b692a30",
   "metadata": {},
   "source": [
    "### MAGs"
   ]
  },
  {
   "cell_type": "markdown",
   "id": "ff544849",
   "metadata": {},
   "source": [
    "#### MAGs - generational differences"
   ]
  },
  {
   "cell_type": "code",
   "execution_count": 94,
   "id": "9ed37066",
   "metadata": {
    "vscode": {
     "languageId": "r"
    }
   },
   "outputs": [
    {
     "data": {
      "text/html": [
       "<style>\n",
       ".list-inline {list-style: none; margin:0; padding: 0}\n",
       ".list-inline>li {display: inline-block}\n",
       ".list-inline>li:not(:last-child)::after {content: \"\\00b7\"; padding: 0 .5ex}\n",
       "</style>\n",
       "<ol class=list-inline><li>'30'</li><li>'MAGs removed'</li><li>'232'</li><li>'remaining'</li></ol>\n"
      ],
      "text/latex": [
       "\\begin{enumerate*}\n",
       "\\item '30'\n",
       "\\item 'MAGs removed'\n",
       "\\item '232'\n",
       "\\item 'remaining'\n",
       "\\end{enumerate*}\n"
      ],
      "text/markdown": [
       "1. '30'\n",
       "2. 'MAGs removed'\n",
       "3. '232'\n",
       "4. 'remaining'\n",
       "\n",
       "\n"
      ],
      "text/plain": [
       "[1] \"30\"           \"MAGs removed\" \"232\"          \"remaining\"   "
      ]
     },
     "metadata": {},
     "output_type": "display_data"
    },
    {
     "name": "stderr",
     "output_type": "stream",
     "text": [
      "converting counts to integer mode\n",
      "\n",
      "estimating size factors\n",
      "\n",
      "estimating dispersions\n",
      "\n",
      "gene-wise dispersion estimates: 8 workers\n",
      "\n",
      "mean-dispersion relationship\n",
      "\n",
      "final dispersion estimates, fitting model and testing: 8 workers\n",
      "\n",
      "-- replacing outliers and refitting for 11 genes\n",
      "-- DESeq argument 'minReplicatesForReplace' = 7 \n",
      "-- original counts are preserved in counts(dds)\n",
      "\n",
      "estimating dispersions\n",
      "\n",
      "fitting model and testing\n",
      "\n"
     ]
    }
   ],
   "source": [
    "## PARAMS ##\n",
    "# Percentage of samples in which features must have >0 sum\n",
    "mag.percent_occ <- 10\n",
    "# Quantile used for removing low abundance features\n",
    "mag.quantile_thresh <- 0.1\n",
    "\n",
    "## PREFILTERING ##\n",
    "# Remove zero sum features\n",
    "nz <- rownames(mag$cov[rowSums(mag$cov) > 0, ])\n",
    "mag$nz <- mag$cov[rownames(mag$cov)%in%nz, ]\n",
    "\n",
    "# Filter low abundance features\n",
    "low_threshold = quantile(rowSums(mag$nz) / sum(rowSums(mag$nz)) * 100, probs = mag.quantile_thresh)\n",
    "mag$filtered <- low.count.removal(mag$nz, percent = low_threshold)$data.filter\n",
    "\n",
    "mag$occ <- rowSums(mag$filtered>0) / ncol(mag$filtered) * 100\n",
    "# Keep features occurring in defined percentage of samples\n",
    "mag$filtered <- mag$filtered[which(mag$occ >= mag.percent_occ), ]\n",
    "paste0(c(dim(mag$cov)[1] - dim(mag$filtered)[1], \"MAGs removed\", dim(mag$filtered)[1], \"remaining\"))\n",
    "\n",
    "mag$filtered <- ceiling(mag$filtered)\n",
    "\n",
    "## DESeq2 analysis\n",
    "info.mag <- info[, c(\"run\",\"sample\",\"Generation\")]\n",
    "dds.mag <- DESeqDataSetFromMatrix(countData = mag$filtered,\n",
    "                              colData = info.mag,\n",
    "                              design = ~ 1 + Generation)\n",
    "dds.mag$sample <- info$sample\n",
    "dds.mag$run <- info$run\n",
    "#dds.mag <- collapseReplicates(dds.mag, dds.mag$sample, dds.mag$run)\n",
    "dds.mag <- DESeq(dds.mag, sfType = \"poscounts\", parallel = TRUE)\n",
    "\n",
    "# Multi-factor (treatment + generation)\n",
    "#dds.magMF <- dds.mag\n",
    "#design(dds.magMF) <- formula(~ group)\n",
    "#dds.magMF <- DESeq(dds.magMF, sfType = \"poscounts\")\n",
    "\n",
    "# Contrast F2 vs F0\n",
    "res.mag.F2vsF0 <- results(dds.mag, contrast = list(\"Generation_F2_vs_F0\"))\n",
    "res.mag.F2vsF0 <- res.mag.F2vsF0[order(res.mag.F2vsF0$padj),]\n",
    "save_results(res.mag.F2vsF0, \"res.mag.F2vsF0\")\n",
    "\n",
    "# Contrast F1 vs F0\n",
    "res.mag.F1vsF0 <- results(dds.mag, contrast = list(\"Generation_F1_vs_F0\"))\n",
    "res.mag.F1vsF0 <- res.mag.F1vsF0[order(res.mag.F1vsF0$padj),]\n",
    "save_results(res.mag.F1vsF0, \"res.mag.F1vsF0\")\n",
    "\n",
    "# Contrast F2 vs F1\n",
    "res.mag.F2vsF1 <- results(dds.mag, contrast = list(\"Generation_F2_vs_F0\", \"Generation_F1_vs_F0\"))\n",
    "res.mag.F2vsF1 <- res.mag.F2vsF1[order(res.mag.F2vsF1$padj),]\n",
    "save_results(res.mag.F2vsF1, \"res.mag.F2vsF1\")"
   ]
  },
  {
   "cell_type": "markdown",
   "id": "d9550a49",
   "metadata": {},
   "source": [
    "#### MAGs - all samples with generation as a covariate"
   ]
  },
  {
   "cell_type": "code",
   "execution_count": 156,
   "id": "d61e6b7b",
   "metadata": {
    "vscode": {
     "languageId": "r"
    }
   },
   "outputs": [
    {
     "data": {
      "text/html": [
       "<style>\n",
       ".list-inline {list-style: none; margin:0; padding: 0}\n",
       ".list-inline>li {display: inline-block}\n",
       ".list-inline>li:not(:last-child)::after {content: \"\\00b7\"; padding: 0 .5ex}\n",
       "</style>\n",
       "<ol class=list-inline><li>'30'</li><li>'MAGs removed'</li><li>'232'</li><li>'remaining'</li></ol>\n"
      ],
      "text/latex": [
       "\\begin{enumerate*}\n",
       "\\item '30'\n",
       "\\item 'MAGs removed'\n",
       "\\item '232'\n",
       "\\item 'remaining'\n",
       "\\end{enumerate*}\n"
      ],
      "text/markdown": [
       "1. '30'\n",
       "2. 'MAGs removed'\n",
       "3. '232'\n",
       "4. 'remaining'\n",
       "\n",
       "\n"
      ],
      "text/plain": [
       "[1] \"30\"           \"MAGs removed\" \"232\"          \"remaining\"   "
      ]
     },
     "metadata": {},
     "output_type": "display_data"
    },
    {
     "name": "stderr",
     "output_type": "stream",
     "text": [
      "converting counts to integer mode\n",
      "\n",
      "estimating size factors\n",
      "\n",
      "estimating dispersions\n",
      "\n",
      "gene-wise dispersion estimates: 8 workers\n",
      "\n",
      "mean-dispersion relationship\n",
      "\n",
      "final dispersion estimates, fitting model and testing: 8 workers\n",
      "\n",
      "-- replacing outliers and refitting for 9 genes\n",
      "-- DESeq argument 'minReplicatesForReplace' = 7 \n",
      "-- original counts are preserved in counts(dds)\n",
      "\n",
      "estimating dispersions\n",
      "\n",
      "fitting model and testing\n",
      "\n"
     ]
    }
   ],
   "source": [
    "## PARAMS ##\n",
    "# Percentage of samples in which features must have >0 sum\n",
    "mag.percent_occ <- 10\n",
    "# Quantile used for removing low abundance features\n",
    "mag.quantile_thresh <- 0.1\n",
    "\n",
    "## PREFILTERING ##\n",
    "# Remove zero sum features\n",
    "nz <- rownames(mag$cov[rowSums(mag$cov) > 0, ])\n",
    "mag$nz <- mag$cov[rownames(mag$cov)%in%nz, ]\n",
    "\n",
    "# Filter low abundance features\n",
    "low_threshold = quantile(rowSums(mag$nz) / sum(rowSums(mag$nz)) * 100, probs = mag.quantile_thresh)\n",
    "mag$filtered <- low.count.removal(mag$nz, percent = low_threshold)$data.filter\n",
    "\n",
    "mag$occ <- rowSums(mag$filtered>0) / ncol(mag$filtered) * 100\n",
    "# Keep features occurring in defined percentage of samples\n",
    "mag$filtered <- mag$filtered[which(mag$occ >= mag.percent_occ), ]\n",
    "paste0(c(dim(mag$cov)[1] - dim(mag$filtered)[1], \"MAGs removed\", dim(mag$filtered)[1], \"remaining\"))\n",
    "\n",
    "mag$filtered <- ceiling(mag$filtered)\n",
    "\n",
    "## DESeq2 analysis\n",
    "info.mag <- info[, c(\"run\",\"sample\",\"Generation\", \"Treatment\")]\n",
    "dds.mag.co <- DESeqDataSetFromMatrix(countData = mag$filtered,\n",
    "                              colData = info.mag,\n",
    "                              design = ~ 1 + Generation + Treatment)\n",
    "dds.mag.co$sample <- info$sample\n",
    "dds.mag.co$run <- info$run\n",
    "#dds.mag <- collapseReplicates(dds.mag, dds.mag$sample, dds.mag$run)\n",
    "dds.mag.co <- DESeq(dds.mag.co, sfType = \"poscounts\", parallel = TRUE)\n",
    "\n",
    "res.mag.co.HvsC <- results(dds.mag.co, contrast=list(\"Treatment_H_vs_C\"))\n",
    "res.mag.co.HvsC <- res.mag.co.HvsC[order(res.mag.co.HvsC$padj),]\n",
    "save_results(res.mag.co.HvsC, \"res.mag.co.HvsC\")\n",
    "\n",
    "res.mag.co.LvsC <- results(dds.mag.co, contrast=list(\"Treatment_L_vs_C\"))\n",
    "res.mag.co.LvsC <- res.mag.co.LvsC[order(res.mag.co.LvsC$padj),]\n",
    "save_results(res.mag.co.LvsC, \"res.mag.co.LvsC\")\n",
    "\n",
    "res.mag.co.HvsL <- results(dds.mag.co, contrast=list(\"Treatment_H_vs_C\", \"Treatment_L_vs_C\"))\n",
    "res.mag.co.HvsL <- res.mag.co.HvsL[order(res.mag.co.HvsL$padj),]\n",
    "save_results(res.mag.co.HvsL, \"res.mag.co.HvsL\")"
   ]
  },
  {
   "cell_type": "code",
   "execution_count": 159,
   "id": "7cd55d03",
   "metadata": {
    "vscode": {
     "languageId": "r"
    }
   },
   "outputs": [
    {
     "data": {
      "text/plain": [
       "log2 fold change (MLE): Treatment_L_vs_C effect \n",
       "Wald test p-value: Treatment_L_vs_C effect \n",
       "DataFrame with 232 rows and 6 columns\n",
       "        baseMean log2FoldChange     lfcSE        stat      pvalue      padj\n",
       "       <numeric>      <numeric> <numeric>   <numeric>   <numeric> <numeric>\n",
       "MAG219   1.69769        2.09479  0.552281     3.79298 0.000148848 0.0172664\n",
       "MAG226   0.90631        2.00385  0.524510     3.82042 0.000133222 0.0172664\n",
       "MAG172  10.73429       -4.09456  1.287750    -3.17962 0.001474682 0.0855316\n",
       "MAG183   1.93392       -1.98054  0.617381    -3.20797 0.001336752 0.0855316\n",
       "MAG086   3.72290       -1.08586  0.357094    -3.04081 0.002359405 0.0912303\n",
       "...          ...            ...       ...         ...         ...       ...\n",
       "MAG141  0.797269     0.02890951  0.746282  0.03873807    0.969099  0.993241\n",
       "MAG149  5.487468     0.00558991  0.475127  0.01176510    0.990613  0.993241\n",
       "MAG202  0.974295    -0.01029338  1.215017 -0.00847180    0.993241  0.993241\n",
       "MAG228  3.496216     0.00401855  0.462352  0.00869154    0.993065  0.993241\n",
       "MAG258  1.328993     0.00678440  0.472314  0.01436415    0.988539  0.993241"
      ]
     },
     "metadata": {},
     "output_type": "display_data"
    }
   ],
   "source": [
    "res.mag.co.LvsC"
   ]
  },
  {
   "cell_type": "markdown",
   "id": "d4d7a7ed",
   "metadata": {},
   "source": [
    "#### MAGs - F0 generation"
   ]
  },
  {
   "cell_type": "code",
   "execution_count": 144,
   "id": "2fa80082",
   "metadata": {
    "vscode": {
     "languageId": "r"
    }
   },
   "outputs": [
    {
     "data": {
      "text/html": [
       "<style>\n",
       ".list-inline {list-style: none; margin:0; padding: 0}\n",
       ".list-inline>li {display: inline-block}\n",
       ".list-inline>li:not(:last-child)::after {content: \"\\00b7\"; padding: 0 .5ex}\n",
       "</style>\n",
       "<ol class=list-inline><li>'66'</li><li>'MAGs removed'</li><li>'196'</li><li>'remaining'</li></ol>\n"
      ],
      "text/latex": [
       "\\begin{enumerate*}\n",
       "\\item '66'\n",
       "\\item 'MAGs removed'\n",
       "\\item '196'\n",
       "\\item 'remaining'\n",
       "\\end{enumerate*}\n"
      ],
      "text/markdown": [
       "1. '66'\n",
       "2. 'MAGs removed'\n",
       "3. '196'\n",
       "4. 'remaining'\n",
       "\n",
       "\n"
      ],
      "text/plain": [
       "[1] \"66\"           \"MAGs removed\" \"196\"          \"remaining\"   "
      ]
     },
     "metadata": {},
     "output_type": "display_data"
    },
    {
     "name": "stderr",
     "output_type": "stream",
     "text": [
      "converting counts to integer mode\n",
      "\n",
      "estimating size factors\n",
      "\n",
      "estimating dispersions\n",
      "\n",
      "gene-wise dispersion estimates: 8 workers\n",
      "\n",
      "mean-dispersion relationship\n",
      "\n",
      "final dispersion estimates, fitting model and testing: 8 workers\n",
      "\n",
      "-- replacing outliers and refitting for 2 genes\n",
      "-- DESeq argument 'minReplicatesForReplace' = 7 \n",
      "-- original counts are preserved in counts(dds)\n",
      "\n",
      "estimating dispersions\n",
      "\n",
      "fitting model and testing\n",
      "\n"
     ]
    }
   ],
   "source": [
    "# Extract and filter F0 samples\n",
    "mag$cov.F0 <- mag$cov[, rownames(info[info$Generation==\"F0\",])]\n",
    "## PARAMS ##\n",
    "# Percentage of samples in which features must have >0 sum\n",
    "mag.F0.percent_occ <- 10\n",
    "# Quantile used for removing low abundance features\n",
    "mag.F0.quantile_thresh <- 0.1\n",
    "\n",
    "## PREFILTERING ##\n",
    "# Remove zero sum features\n",
    "nz <- rownames(mag$cov.F0[rowSums(mag$cov.F0) > 0, ])\n",
    "mag$nz.F0 <- mag$cov.F0[rownames(mag$cov.F0)%in%nz, ]\n",
    "\n",
    "# Filter low abundance features\n",
    "low_threshold = quantile(rowSums(mag$nz.F0) / sum(rowSums(mag$nz.F0)) * 100, probs = mag.F0.quantile_thresh)\n",
    "mag$filtered.F0 <- low.count.removal(mag$nz.F0, percent = low_threshold)$data.filter\n",
    "\n",
    "mag$occ.F0 <- rowSums(mag$filtered.F0>0) / ncol(mag$filtered.F0) * 100\n",
    "# Keep features occurring in defined percentage of samples\n",
    "mag$filtered.F0 <- mag$filtered.F0[which(mag$occ.F0 >= mag.F0.percent_occ), ]\n",
    "paste0(c(dim(mag$cov.F0)[1] - dim(mag$filtered.F0)[1], \"MAGs removed\", dim(mag$filtered.F0)[1], \"remaining\"))\n",
    "\n",
    "\n",
    "mag$filtered.F0 <- ceiling(mag$filtered.F0)\n",
    "\n",
    "\n",
    "info.F0 <- info[colnames(mag$filtered.F0), c(\"run\",\"sample\",\"Treatment\")]\n",
    "\n",
    "# Create DESeq dataset\n",
    "dds.mag.F0 <- DESeqDataSetFromMatrix(countData = mag$filtered.F0,\n",
    "                                    colData = info.F0,\n",
    "                                    design = ~ 1 + Treatment)\n",
    "\n",
    "# Add information in case of collapsing technical replicates\n",
    "dds.mag.F0$sample <- info.F0$sample\n",
    "dds.mag.F0$run <- info.F0$run\n",
    "#dds.mag.F0 <- collapseReplicates(dds.mag.F0, dds.mag.F0$sample, dds.mag.F0$run)\n",
    "\n",
    "# Run DESeq2\n",
    "dds.mag.F0 <- DESeq(dds.mag.F0, sfType = \"poscounts\", parallel = TRUE)\n",
    "\n",
    "# Contrast H vs C\n",
    "res.mag.F0.HvsC <- results(dds.mag.F0, contrast = list(\"Treatment_H_vs_C\"))\n",
    "res.mag.F0.HvsC <- res.mag.F0.HvsC[order(res.mag.F0.HvsC$padj),]\n",
    "save_results(res.mag.F0.HvsC, \"res.mag.F0_HvsF0_C\")\n",
    "\n",
    "# Contrast L vs C\n",
    "res.mag.F0.LvsC <- results(dds.mag.F0, contrast = list(\"Treatment_L_vs_C\"))\n",
    "res.mag.F0.LvsC <- res.mag.F0.LvsC[order(res.mag.F0.LvsC$padj),]\n",
    "save_results(res.mag.F0.LvsC, \"res.mag.F0_LvsF0_C\")\n",
    "\n",
    "# Contrast H vs L\n",
    "res.mag.F0.HvsL <- results(dds.mag.F0, contrast = list(\"Treatment_H_vs_C\", \"Treatment_L_vs_C\"))\n",
    "res.mag.F0.HvsL <- res.mag.F0.HvsL[order(res.mag.F0.HvsL$padj),]\n",
    "save_results(res.mag.F0.HvsL, \"res.mag.F0_HvsF0_L\")"
   ]
  },
  {
   "cell_type": "markdown",
   "id": "3e6c0c88",
   "metadata": {},
   "source": [
    "#### MAGs - F0 generation (C+L vs H)"
   ]
  },
  {
   "cell_type": "code",
   "execution_count": 96,
   "id": "f9b58d70",
   "metadata": {
    "vscode": {
     "languageId": "r"
    }
   },
   "outputs": [
    {
     "name": "stderr",
     "output_type": "stream",
     "text": [
      "converting counts to integer mode\n",
      "\n",
      "Warning message in DESeqDataSet(se, design = design, ignoreRank):\n",
      "“some variables in design formula are characters, converting to factors”\n",
      "estimating size factors\n",
      "\n",
      "estimating dispersions\n",
      "\n",
      "gene-wise dispersion estimates: 8 workers\n",
      "\n",
      "mean-dispersion relationship\n",
      "\n",
      "final dispersion estimates, fitting model and testing: 8 workers\n",
      "\n",
      "-- replacing outliers and refitting for 5 genes\n",
      "-- DESeq argument 'minReplicatesForReplace' = 7 \n",
      "-- original counts are preserved in counts(dds)\n",
      "\n",
      "estimating dispersions\n",
      "\n",
      "fitting model and testing\n",
      "\n"
     ]
    }
   ],
   "source": [
    "info.F0_2 <- info.F0\n",
    "info.F0_2$Treatment <- gsub(x = info.F0_2$Treatment, pattern = \"[CL]\", replacement = \"CL\")\n",
    "# Create DESeq dataset\n",
    "dds.mag.F0_2 <- DESeqDataSetFromMatrix(countData = mag$filtered.F0,\n",
    "                                    colData = info.F0_2,\n",
    "                                    design = ~ 1 + Treatment)\n",
    "\n",
    "\n",
    "# Run DESeq2\n",
    "dds.mag.F0_2 <- DESeq(dds.mag.F0_2, sfType = \"poscounts\", parallel = TRUE)\n",
    "\n",
    "# Contrast H vs C+L\n",
    "res.mag.F0.HvsCL <- results(dds.mag.F0_2, contrast = list(\"Treatment_H_vs_CL\"))\n",
    "res.mag.F0.HvsCL <- res.mag.F0.HvsCL[order(res.mag.F0.HvsCL$padj),]\n",
    "save_results(res.mag.F0.HvsCL, \"res.mag.F0_HvsF0_CL\")"
   ]
  },
  {
   "cell_type": "markdown",
   "id": "e29d00a1",
   "metadata": {},
   "source": [
    "#### MAGs - F1 generation"
   ]
  },
  {
   "cell_type": "code",
   "execution_count": 97,
   "id": "57ce1760",
   "metadata": {
    "vscode": {
     "languageId": "r"
    }
   },
   "outputs": [
    {
     "data": {
      "text/html": [
       "<style>\n",
       ".list-inline {list-style: none; margin:0; padding: 0}\n",
       ".list-inline>li {display: inline-block}\n",
       ".list-inline>li:not(:last-child)::after {content: \"\\00b7\"; padding: 0 .5ex}\n",
       "</style>\n",
       "<ol class=list-inline><li>'70'</li><li>'MAGs removed'</li><li>'192'</li><li>'remaining'</li></ol>\n"
      ],
      "text/latex": [
       "\\begin{enumerate*}\n",
       "\\item '70'\n",
       "\\item 'MAGs removed'\n",
       "\\item '192'\n",
       "\\item 'remaining'\n",
       "\\end{enumerate*}\n"
      ],
      "text/markdown": [
       "1. '70'\n",
       "2. 'MAGs removed'\n",
       "3. '192'\n",
       "4. 'remaining'\n",
       "\n",
       "\n"
      ],
      "text/plain": [
       "[1] \"70\"           \"MAGs removed\" \"192\"          \"remaining\"   "
      ]
     },
     "metadata": {},
     "output_type": "display_data"
    },
    {
     "name": "stderr",
     "output_type": "stream",
     "text": [
      "converting counts to integer mode\n",
      "\n",
      "estimating size factors\n",
      "\n",
      "estimating dispersions\n",
      "\n",
      "gene-wise dispersion estimates: 8 workers\n",
      "\n",
      "mean-dispersion relationship\n",
      "\n",
      "final dispersion estimates, fitting model and testing: 8 workers\n",
      "\n",
      "-- replacing outliers and refitting for 5 genes\n",
      "-- DESeq argument 'minReplicatesForReplace' = 7 \n",
      "-- original counts are preserved in counts(dds)\n",
      "\n",
      "estimating dispersions\n",
      "\n",
      "fitting model and testing\n",
      "\n"
     ]
    }
   ],
   "source": [
    "# Extract and filter F1 samples\n",
    "mag$cov.F1 <- mag$cov[, rownames(info[info$Generation==\"F1\",])]\n",
    "## PARAMS ##\n",
    "# Percentage of samples in which features must have >0 sum\n",
    "mag.F1.percent_occ <- 10\n",
    "# Quantile used for removing low abundance features\n",
    "mag.F1.quantile_thresh <- 0.1\n",
    "\n",
    "## PREFILTERING ##\n",
    "# Remove zero sum features\n",
    "nz <- rownames(mag$cov.F1[rowSums(mag$cov.F1) > 0, ])\n",
    "mag$nz.F1 <- mag$cov.F1[rownames(mag$cov.F1)%in%nz, ]\n",
    "\n",
    "# Filter low abundance features\n",
    "low_threshold = quantile(rowSums(mag$nz.F1) / sum(rowSums(mag$nz.F1)) * 100, probs = mag.F1.quantile_thresh)\n",
    "mag$filtered.F1 <- low.count.removal(mag$nz.F1, percent = low_threshold)$data.filter\n",
    "\n",
    "mag$occ.F1 <- rowSums(mag$filtered.F1>0) / ncol(mag$filtered.F1) * 100\n",
    "# Keep features occurring in defined percentage of samples\n",
    "mag$filtered.F1 <- mag$filtered.F1[which(mag$occ.F1 >= mag.F1.percent_occ), ]\n",
    "paste0(c(dim(mag$cov.F1)[1] - dim(mag$filtered.F1)[1], \"MAGs removed\", dim(mag$filtered.F1)[1], \"remaining\"))\n",
    "\n",
    "\n",
    "mag$filtered.F1 <- ceiling(mag$filtered.F1)\n",
    "\n",
    "\n",
    "info.F1 <- info[colnames(mag$filtered.F1), c(\"run\",\"sample\",\"Treatment\")]\n",
    "\n",
    "# Create DESeq dataset\n",
    "dds.mag.F1 <- DESeqDataSetFromMatrix(countData = mag$filtered.F1,\n",
    "                                    colData = info.F1,\n",
    "                                    design = ~ 1 + Treatment)\n",
    "\n",
    "# Add information in case of collapsing technical replicates\n",
    "dds.mag.F1$sample <- info.F1$sample\n",
    "dds.mag.F1$run <- info.F1$run\n",
    "#dds.mag.F1 <- collapseReplicates(dds.mag.F1, dds.mag.F1$sample, dds.mag.F1$run)\n",
    "\n",
    "# Run DESeq2\n",
    "dds.mag.F1 <- DESeq(dds.mag.F1, sfType = \"poscounts\", parallel = TRUE)\n",
    "\n",
    "# Contrast H vs C\n",
    "res.mag.F1.HvsC <- results(dds.mag.F1, contrast = list(\"Treatment_H_vs_C\"))\n",
    "res.mag.F1.HvsC <- res.mag.F1.HvsC[order(res.mag.F1.HvsC$padj),]\n",
    "save_results(res.mag.F1.HvsC, \"res.mag.F1_HvsF1_C\")\n",
    "\n",
    "# Contrast L vs C\n",
    "res.mag.F1.LvsC <- results(dds.mag.F1, contrast = list(\"Treatment_L_vs_C\"))\n",
    "res.mag.F1.LvsC <- res.mag.F1.LvsC[order(res.mag.F1.LvsC$padj),]\n",
    "save_results(res.mag.F1.LvsC, \"res.mag.F1_LvsF1_C\")\n",
    "\n",
    "# Contrast H vs L\n",
    "res.mag.F1.HvsL <- results(dds.mag.F1, contrast = list(\"Treatment_H_vs_C\", \"Treatment_L_vs_C\"))\n",
    "res.mag.F1.HvsL <- res.mag.F1.HvsL[order(res.mag.F1.HvsL$padj),]\n",
    "save_results(res.mag.F1.HvsL, \"res.mag.F1_HvsF1_L\")"
   ]
  },
  {
   "cell_type": "markdown",
   "id": "dc907e16",
   "metadata": {},
   "source": [
    "#### MAGs - F1 generation (C vs H+L)"
   ]
  },
  {
   "cell_type": "code",
   "execution_count": 98,
   "id": "7a628447",
   "metadata": {
    "vscode": {
     "languageId": "r"
    }
   },
   "outputs": [
    {
     "name": "stderr",
     "output_type": "stream",
     "text": [
      "converting counts to integer mode\n",
      "\n",
      "Warning message in DESeqDataSet(se, design = design, ignoreRank):\n",
      "“some variables in design formula are characters, converting to factors”\n",
      "estimating size factors\n",
      "\n",
      "estimating dispersions\n",
      "\n",
      "gene-wise dispersion estimates: 8 workers\n",
      "\n",
      "mean-dispersion relationship\n",
      "\n",
      "final dispersion estimates, fitting model and testing: 8 workers\n",
      "\n",
      "-- replacing outliers and refitting for 12 genes\n",
      "-- DESeq argument 'minReplicatesForReplace' = 7 \n",
      "-- original counts are preserved in counts(dds)\n",
      "\n",
      "estimating dispersions\n",
      "\n",
      "fitting model and testing\n",
      "\n"
     ]
    }
   ],
   "source": [
    "info.F1_2 <- info.F1\n",
    "info.F1_2$Treatment <- gsub(x = info.F1_2$Treatment, pattern = \"[HL]\", replacement = \"HL\")\n",
    "# Create DESeq dataset\n",
    "dds.mag.F1_2 <- DESeqDataSetFromMatrix(countData = mag$filtered.F1,\n",
    "                                    colData = info.F1_2,\n",
    "                                    design = ~ 1 + Treatment)\n",
    "\n",
    "\n",
    "# Run DESeq2\n",
    "dds.mag.F1_2 <- DESeq(dds.mag.F1_2, sfType = \"poscounts\", parallel = TRUE)\n",
    "\n",
    "# Contrast H vs C+L\n",
    "res.mag.F1.HLvsC <- results(dds.mag.F1_2, contrast = list(\"Treatment_HL_vs_C\"))\n",
    "res.mag.F1.HvLsC <- res.mag.F1.HLvsC[order(res.mag.F1.HLvsC$padj),]\n",
    "save_results(res.mag.F1.HLvsC, \"res.mag.F1_HLvsF1_C\")"
   ]
  },
  {
   "cell_type": "markdown",
   "id": "35d1c541",
   "metadata": {},
   "source": [
    "#### MAGs - F1 generation (C+L vs H)"
   ]
  },
  {
   "cell_type": "code",
   "execution_count": 99,
   "id": "9391df36",
   "metadata": {
    "vscode": {
     "languageId": "r"
    }
   },
   "outputs": [
    {
     "name": "stderr",
     "output_type": "stream",
     "text": [
      "converting counts to integer mode\n",
      "\n",
      "Warning message in DESeqDataSet(se, design = design, ignoreRank):\n",
      "“some variables in design formula are characters, converting to factors”\n",
      "estimating size factors\n",
      "\n",
      "estimating dispersions\n",
      "\n",
      "gene-wise dispersion estimates: 8 workers\n",
      "\n",
      "mean-dispersion relationship\n",
      "\n",
      "final dispersion estimates, fitting model and testing: 8 workers\n",
      "\n",
      "-- replacing outliers and refitting for 9 genes\n",
      "-- DESeq argument 'minReplicatesForReplace' = 7 \n",
      "-- original counts are preserved in counts(dds)\n",
      "\n",
      "estimating dispersions\n",
      "\n",
      "fitting model and testing\n",
      "\n"
     ]
    }
   ],
   "source": [
    "info.F1_3 <- info.F1\n",
    "info.F1_3$Treatment <- gsub(x = info.F1_3$Treatment, pattern = \"[CL]\", replacement = \"CL\")\n",
    "# Create DESeq dataset\n",
    "dds.mag.F1_3 <- DESeqDataSetFromMatrix(countData = mag$filtered.F1,\n",
    "                                    colData = info.F1_3,\n",
    "                                    design = ~ 1 + Treatment)\n",
    "\n",
    "\n",
    "# Run DESeq2\n",
    "dds.mag.F1_3 <- DESeq(dds.mag.F1_3, sfType = \"poscounts\", parallel = TRUE)\n",
    "\n",
    "# Contrast H vs C+L\n",
    "res.mag.F1.HvsCL <- results(dds.mag.F1_3, contrast = list(\"Treatment_H_vs_CL\"))\n",
    "res.mag.F1.HvsCL <- res.mag.F1.HvsCL[order(res.mag.F1.HvsCL$padj),]\n",
    "save_results(res.mag.F1.HvsCL, \"res.mag.F1_HvsF1_CL\")"
   ]
  },
  {
   "cell_type": "markdown",
   "id": "e550d999",
   "metadata": {},
   "source": [
    "#### MAGs - F2 generation"
   ]
  },
  {
   "cell_type": "code",
   "execution_count": 100,
   "id": "204c3d46",
   "metadata": {
    "vscode": {
     "languageId": "r"
    }
   },
   "outputs": [
    {
     "data": {
      "text/html": [
       "<style>\n",
       ".list-inline {list-style: none; margin:0; padding: 0}\n",
       ".list-inline>li {display: inline-block}\n",
       ".list-inline>li:not(:last-child)::after {content: \"\\00b7\"; padding: 0 .5ex}\n",
       "</style>\n",
       "<ol class=list-inline><li>'50'</li><li>'MAGs removed'</li><li>'212'</li><li>'remaining'</li></ol>\n"
      ],
      "text/latex": [
       "\\begin{enumerate*}\n",
       "\\item '50'\n",
       "\\item 'MAGs removed'\n",
       "\\item '212'\n",
       "\\item 'remaining'\n",
       "\\end{enumerate*}\n"
      ],
      "text/markdown": [
       "1. '50'\n",
       "2. 'MAGs removed'\n",
       "3. '212'\n",
       "4. 'remaining'\n",
       "\n",
       "\n"
      ],
      "text/plain": [
       "[1] \"50\"           \"MAGs removed\" \"212\"          \"remaining\"   "
      ]
     },
     "metadata": {},
     "output_type": "display_data"
    },
    {
     "name": "stderr",
     "output_type": "stream",
     "text": [
      "converting counts to integer mode\n",
      "\n",
      "estimating size factors\n",
      "\n",
      "estimating dispersions\n",
      "\n",
      "gene-wise dispersion estimates: 8 workers\n",
      "\n",
      "mean-dispersion relationship\n",
      "\n",
      "final dispersion estimates, fitting model and testing: 8 workers\n",
      "\n",
      "-- replacing outliers and refitting for 32 genes\n",
      "-- DESeq argument 'minReplicatesForReplace' = 7 \n",
      "-- original counts are preserved in counts(dds)\n",
      "\n",
      "estimating dispersions\n",
      "\n",
      "fitting model and testing\n",
      "\n"
     ]
    }
   ],
   "source": [
    "# Extract and filter F2 samples\n",
    "mag$cov.F2 <- mag$cov[, rownames(info[info$Generation==\"F2\",])]\n",
    "## PARAMS ##\n",
    "# Percentage of samples in which features must have >0 sum\n",
    "mag.F2.percent_occ <- 10\n",
    "# Quantile used for removing low abundance features\n",
    "mag.F2.quantile_thresh <- 0.1\n",
    "\n",
    "## PREFILTERING ##\n",
    "# Remove zero sum features\n",
    "nz <- rownames(mag$cov.F2[rowSums(mag$cov.F2) > 0, ])\n",
    "mag$nz.F2 <- mag$cov.F2[rownames(mag$cov.F2)%in%nz, ]\n",
    "\n",
    "# Filter low abundance features\n",
    "low_threshold = quantile(rowSums(mag$nz.F2) / sum(rowSums(mag$nz.F2)) * 100, probs = mag.F2.quantile_thresh)\n",
    "mag$filtered.F2 <- low.count.removal(mag$nz.F2, percent = low_threshold)$data.filter\n",
    "\n",
    "mag$occ.F2 <- rowSums(mag$filtered.F2>0) / ncol(mag$filtered.F2) * 100\n",
    "# Keep features occurring in defined percentage of samples\n",
    "mag$filtered.F2 <- mag$filtered.F2[which(mag$occ.F2 >= mag.F2.percent_occ), ]\n",
    "paste0(c(dim(mag$cov.F2)[1] - dim(mag$filtered.F2)[1], \"MAGs removed\", dim(mag$filtered.F2)[1], \"remaining\"))\n",
    "\n",
    "\n",
    "mag$filtered.F2 <- ceiling(mag$filtered.F2)\n",
    "\n",
    "\n",
    "info.F2 <- info[colnames(mag$filtered.F2), c(\"run\",\"sample\",\"Treatment\")]\n",
    "\n",
    "# Create DESeq dataset\n",
    "dds.mag.F2 <- DESeqDataSetFromMatrix(countData = mag$filtered.F2,\n",
    "                                    colData = info.F2,\n",
    "                                    design = ~ 1 + Treatment)\n",
    "\n",
    "# Add information in case of collapsing technical replicates\n",
    "dds.mag.F2$sample <- info.F2$sample\n",
    "dds.mag.F2$run <- info.F2$run\n",
    "#dds.mag.F2 <- collapseReplicates(dds.mag.F2, dds.mag.F2$sample, dds.mag.F2$run)\n",
    "\n",
    "# Run DESeq2\n",
    "dds.mag.F2 <- DESeq(dds.mag.F2, sfType = \"poscounts\", parallel = TRUE)\n",
    "\n",
    "# Contrast H vs C\n",
    "res.mag.F2.HvsC <- results(dds.mag.F2, contrast = list(\"Treatment_H_vs_C\"))\n",
    "res.mag.F2.HvsC <- res.mag.F2.HvsC[order(res.mag.F2.HvsC$padj),]\n",
    "save_results(res.mag.F2.HvsC, \"res.mag.F2_HvsF2_C\")\n",
    "\n",
    "# Contrast L vs C\n",
    "res.mag.F2.LvsC <- results(dds.mag.F2, contrast = list(\"Treatment_L_vs_C\"))\n",
    "res.mag.F2.LvsC <- res.mag.F2.LvsC[order(res.mag.F2.LvsC$padj),]\n",
    "save_results(res.mag.F2.LvsC, \"res.mag.F2_LvsF2_C\")\n",
    "\n",
    "# Contrast H vs L\n",
    "res.mag.F2.HvsL <- results(dds.mag.F2, contrast = list(\"Treatment_H_vs_C\", \"Treatment_L_vs_C\"))\n",
    "res.mag.F2.HvsL <- res.mag.F2.HvsL[order(res.mag.F2.HvsL$padj),]\n",
    "save_results(res.mag.F2.HvsL, \"res.mag.F2_HvsF2_L\")"
   ]
  },
  {
   "cell_type": "markdown",
   "id": "d4cdafde",
   "metadata": {},
   "source": [
    "#### MAGs - F2 generation (C+L vs H)"
   ]
  },
  {
   "cell_type": "code",
   "execution_count": 101,
   "id": "149714dd",
   "metadata": {
    "vscode": {
     "languageId": "r"
    }
   },
   "outputs": [
    {
     "name": "stderr",
     "output_type": "stream",
     "text": [
      "converting counts to integer mode\n",
      "\n",
      "Warning message in DESeqDataSet(se, design = design, ignoreRank):\n",
      "“some variables in design formula are characters, converting to factors”\n",
      "estimating size factors\n",
      "\n",
      "estimating dispersions\n",
      "\n",
      "gene-wise dispersion estimates: 8 workers\n",
      "\n",
      "mean-dispersion relationship\n",
      "\n",
      "final dispersion estimates, fitting model and testing: 8 workers\n",
      "\n",
      "-- replacing outliers and refitting for 32 genes\n",
      "-- DESeq argument 'minReplicatesForReplace' = 7 \n",
      "-- original counts are preserved in counts(dds)\n",
      "\n",
      "estimating dispersions\n",
      "\n",
      "fitting model and testing\n",
      "\n"
     ]
    }
   ],
   "source": [
    "info.F2_2 <- info.F2\n",
    "info.F2_2$Treatment <- gsub(x = info.F2_2$Treatment, pattern = \"[CL]\", replacement = \"CL\")\n",
    "# Create DESeq dataset\n",
    "dds.mag.F2_2 <- DESeqDataSetFromMatrix(countData = mag$filtered.F2,\n",
    "                                    colData = info.F2_2,\n",
    "                                    design = ~ 1 + Treatment)\n",
    "\n",
    "\n",
    "# Run DESeq2\n",
    "dds.mag.F2_2 <- DESeq(dds.mag.F2_2, sfType = \"poscounts\", parallel = TRUE)\n",
    "\n",
    "# Contrast H vs C+L\n",
    "res.mag.F2.HvsCL <- results(dds.mag.F2_2, contrast = list(\"Treatment_H_vs_CL\"))\n",
    "res.mag.F2.HvsCL <- res.mag.F2.HvsCL[order(res.mag.F2.HvsCL$padj),]\n",
    "save_results(res.mag.F2.HvsCL, \"res.mag.F2_HvsF2_CL\")"
   ]
  },
  {
   "cell_type": "markdown",
   "id": "caecb0b8",
   "metadata": {},
   "source": [
    "### UniRef species"
   ]
  },
  {
   "cell_type": "markdown",
   "id": "119f5485",
   "metadata": {},
   "source": [
    "#### UniRef species - generational differences"
   ]
  },
  {
   "cell_type": "code",
   "execution_count": 102,
   "id": "70bbae87",
   "metadata": {
    "vscode": {
     "languageId": "r"
    }
   },
   "outputs": [
    {
     "data": {
      "text/html": [
       "<style>\n",
       ".list-inline {list-style: none; margin:0; padding: 0}\n",
       ".list-inline>li {display: inline-block}\n",
       ".list-inline>li:not(:last-child)::after {content: \"\\00b7\"; padding: 0 .5ex}\n",
       "</style>\n",
       "<ol class=list-inline><li>'3521'</li><li>'species removed'</li><li>'539'</li><li>'remaining'</li></ol>\n"
      ],
      "text/latex": [
       "\\begin{enumerate*}\n",
       "\\item '3521'\n",
       "\\item 'species removed'\n",
       "\\item '539'\n",
       "\\item 'remaining'\n",
       "\\end{enumerate*}\n"
      ],
      "text/markdown": [
       "1. '3521'\n",
       "2. 'species removed'\n",
       "3. '539'\n",
       "4. 'remaining'\n",
       "\n",
       "\n"
      ],
      "text/plain": [
       "[1] \"3521\"            \"species removed\" \"539\"             \"remaining\"      "
      ]
     },
     "metadata": {},
     "output_type": "display_data"
    },
    {
     "name": "stderr",
     "output_type": "stream",
     "text": [
      "converting counts to integer mode\n",
      "\n",
      "estimating size factors\n",
      "\n",
      "estimating dispersions\n",
      "\n",
      "gene-wise dispersion estimates: 8 workers\n",
      "\n",
      "mean-dispersion relationship\n",
      "\n",
      "final dispersion estimates, fitting model and testing: 8 workers\n",
      "\n",
      "-- replacing outliers and refitting for 32 genes\n",
      "-- DESeq argument 'minReplicatesForReplace' = 7 \n",
      "-- original counts are preserved in counts(dds)\n",
      "\n",
      "estimating dispersions\n",
      "\n",
      "fitting model and testing\n",
      "\n"
     ]
    }
   ],
   "source": [
    "## PARAMS ##\n",
    "# Percentage of samples in which features must have >0 sum\n",
    "uniref.percent_occ <- 10\n",
    "# Quantile used for removing low abundance features\n",
    "uniref.quantile_thresh <- 0.1\n",
    "\n",
    "## PREFILTERING ##\n",
    "# Remove zero sum features\n",
    "nz <- rownames(uniref$cov[rowSums(uniref$cov) > 0, ])\n",
    "uniref$nz <- uniref$cov[rownames(uniref$cov)%in%nz, ]\n",
    "\n",
    "# Filter low abundance features\n",
    "low_threshold = quantile(rowSums(uniref$nz) / sum(rowSums(uniref$nz)) * 100, probs = uniref.quantile_thresh)\n",
    "uniref$filtered <- low.count.removal(uniref$nz, percent = low_threshold)$data.filter\n",
    "\n",
    "uniref$occ <- rowSums(uniref$filtered>0) / ncol(uniref$filtered) * 100\n",
    "# Keep features occurring in defined percentage of samples\n",
    "uniref$filtered <- uniref$filtered[which(uniref$occ >= uniref.percent_occ), ]\n",
    "paste0(c(dim(uniref$cov)[1] - dim(uniref$filtered)[1], \"species removed\", dim(uniref$filtered)[1], \"remaining\"))\n",
    "\n",
    "uniref$filtered <- ceiling(uniref$filtered)\n",
    "\n",
    "## DESeq2 analysis\n",
    "info.uniref <- info[, c(\"run\",\"sample\",\"Generation\")]\n",
    "dds.uniref <- DESeqDataSetFromMatrix(countData = uniref$filtered,\n",
    "                              colData = info.uniref,\n",
    "                              design = ~ 1 + Generation)\n",
    "dds.uniref$sample <- info$sample\n",
    "dds.uniref$run <- info$run\n",
    "#dds.uniref <- collapseReplicates(dds.uniref, dds.uniref$sample, dds.uniref$run)\n",
    "dds.uniref <- DESeq(dds.uniref, sfType = \"poscounts\", parallel = TRUE)\n",
    "\n",
    "# Multi-factor (treatment + generation)\n",
    "#dds.unirefMF <- dds.uniref\n",
    "#design(dds.unirefMF) <- formula(~ group)\n",
    "#dds.unirefMF <- DESeq(dds.unirefMF, sfType = \"poscounts\")\n",
    "\n",
    "# Contrast H vs C\n",
    "res.uniref.F2vsF0 <- results(dds.uniref, contrast = list(\"Generation_F2_vs_F0\"))\n",
    "res.uniref.F2vsF0 <- res.uniref.F2vsF0[order(res.uniref.F2vsF0$padj),]\n",
    "save_results(res.uniref.F2vsF0, \"res.uniref.F2vsF0\")\n",
    "\n",
    "# Contrast L vs C\n",
    "res.uniref.F1vsF0 <- results(dds.uniref, contrast = list(\"Generation_F1_vs_F0\"))\n",
    "res.uniref.F1vsF0 <- res.uniref.F1vsF0[order(res.uniref.F1vsF0$padj),]\n",
    "save_results(res.uniref.F1vsF0, \"res.uniref.F1vsF0\")\n",
    "\n",
    "# Contrast H vs L\n",
    "res.uniref.F2vsF1 <- results(dds.uniref, contrast = list(\"Generation_F2_vs_F0\", \"Generation_F1_vs_F0\"))\n",
    "res.uniref.F2vsF1 <- res.uniref.F2vsF1[order(res.uniref.F2vsF1$padj),]\n",
    "save_results(res.uniref.F2vsF1, \"res.uniref.F2vsF1\")"
   ]
  },
  {
   "cell_type": "markdown",
   "id": "5940a378",
   "metadata": {},
   "source": [
    "#### UniRef species - F0 generation"
   ]
  },
  {
   "cell_type": "code",
   "execution_count": 103,
   "id": "5d99ba99",
   "metadata": {
    "vscode": {
     "languageId": "r"
    }
   },
   "outputs": [
    {
     "data": {
      "text/html": [
       "<style>\n",
       ".list-inline {list-style: none; margin:0; padding: 0}\n",
       ".list-inline>li {display: inline-block}\n",
       ".list-inline>li:not(:last-child)::after {content: \"\\00b7\"; padding: 0 .5ex}\n",
       "</style>\n",
       "<ol class=list-inline><li>'3480'</li><li>'species removed'</li><li>'580'</li><li>'remaining'</li></ol>\n"
      ],
      "text/latex": [
       "\\begin{enumerate*}\n",
       "\\item '3480'\n",
       "\\item 'species removed'\n",
       "\\item '580'\n",
       "\\item 'remaining'\n",
       "\\end{enumerate*}\n"
      ],
      "text/markdown": [
       "1. '3480'\n",
       "2. 'species removed'\n",
       "3. '580'\n",
       "4. 'remaining'\n",
       "\n",
       "\n"
      ],
      "text/plain": [
       "[1] \"3480\"            \"species removed\" \"580\"             \"remaining\"      "
      ]
     },
     "metadata": {},
     "output_type": "display_data"
    },
    {
     "name": "stderr",
     "output_type": "stream",
     "text": [
      "converting counts to integer mode\n",
      "\n",
      "estimating size factors\n",
      "\n",
      "estimating dispersions\n",
      "\n",
      "gene-wise dispersion estimates: 8 workers\n",
      "\n",
      "mean-dispersion relationship\n",
      "\n",
      "final dispersion estimates, fitting model and testing: 8 workers\n",
      "\n",
      "-- replacing outliers and refitting for 45 genes\n",
      "-- DESeq argument 'minReplicatesForReplace' = 7 \n",
      "-- original counts are preserved in counts(dds)\n",
      "\n",
      "estimating dispersions\n",
      "\n",
      "fitting model and testing\n",
      "\n"
     ]
    }
   ],
   "source": [
    "# Extract and filter F0 samples\n",
    "uniref$cov.F0 <- uniref$cov[, rownames(info[info$Generation==\"F0\",])]\n",
    "## PARAMS ##\n",
    "# Percentage of samples in which features must have >0 sum\n",
    "uniref.F0.percent_occ <- 10\n",
    "# Quantile used for removing low abundance features\n",
    "uniref.F0.quantile_thresh <- 0.1\n",
    "\n",
    "## PREFILTERING ##\n",
    "# Remove zero sum features\n",
    "nz <- rownames(uniref$cov.F0[rowSums(uniref$cov.F0) > 0, ])\n",
    "uniref$nz.F0 <- uniref$cov.F0[rownames(uniref$cov.F0)%in%nz, ]\n",
    "\n",
    "# Filter low abundance features\n",
    "low_threshold = quantile(rowSums(uniref$nz.F0) / sum(rowSums(uniref$nz.F0)) * 100, probs = uniref.F0.quantile_thresh)\n",
    "uniref$filtered.F0 <- low.count.removal(uniref$nz.F0, percent = low_threshold)$data.filter\n",
    "\n",
    "uniref$occ.F0 <- rowSums(uniref$filtered.F0>0) / ncol(uniref$filtered.F0) * 100\n",
    "# Keep features occurring in defined percentage of samples\n",
    "uniref$filtered.F0 <- uniref$filtered.F0[which(uniref$occ.F0 >= uniref.F0.percent_occ), ]\n",
    "paste0(c(dim(uniref$cov.F0)[1] - dim(uniref$filtered.F0)[1], \"species removed\", dim(uniref$filtered.F0)[1], \"remaining\"))\n",
    "\n",
    "\n",
    "uniref$filtered.F0 <- ceiling(uniref$filtered.F0)\n",
    "\n",
    "\n",
    "info.F0 <- info[colnames(uniref$filtered.F0), c(\"run\",\"sample\",\"Treatment\")]\n",
    "\n",
    "# Create DESeq dataset\n",
    "dds.uniref.F0 <- DESeqDataSetFromMatrix(countData = uniref$filtered.F0,\n",
    "                                    colData = info.F0,\n",
    "                                    design = ~ 1 + Treatment)\n",
    "\n",
    "# Add information in case of collapsing technical replicates\n",
    "dds.uniref.F0$sample <- info.F0$sample\n",
    "dds.uniref.F0$run <- info.F0$run\n",
    "#dds.uniref.F0 <- collapseReplicates(dds.uniref.F0, dds.uniref.F0$sample, dds.uniref.F0$run)\n",
    "\n",
    "# Run DESeq2\n",
    "dds.uniref.F0 <- DESeq(dds.uniref.F0, sfType = \"poscounts\", parallel = TRUE)\n",
    "\n",
    "# Contrast H vs C\n",
    "res.uniref.F0.HvsC <- results(dds.uniref.F0, contrast = list(\"Treatment_H_vs_C\"))\n",
    "res.uniref.F0.HvsC <- res.uniref.F0.HvsC[order(res.uniref.F0.HvsC$padj),]\n",
    "save_results(res.uniref.F0.HvsC, \"res.uniref.F0_HvsF0_C\")\n",
    "\n",
    "# Contrast L vs C\n",
    "res.uniref.F0.LvsC <- results(dds.uniref.F0, contrast = list(\"Treatment_L_vs_C\"))\n",
    "res.uniref.F0.LvsC <- res.uniref.F0.LvsC[order(res.uniref.F0.LvsC$padj),]\n",
    "save_results(res.uniref.F0.LvsC, \"res.uniref.F0_LvsF0_C\")\n",
    "\n",
    "# Contrast H vs L\n",
    "res.uniref.F0.HvsL <- results(dds.uniref.F0, contrast = list(\"Treatment_H_vs_C\", \"Treatment_L_vs_C\"))\n",
    "res.uniref.F0.HvsL <- res.uniref.F0.HvsL[order(res.uniref.F0.HvsL$padj),]\n",
    "save_results(res.uniref.F0.HvsL, \"res.uniref.F0_HvsF0_L\")"
   ]
  },
  {
   "cell_type": "markdown",
   "id": "9153f1d8",
   "metadata": {},
   "source": [
    "#### UniRef species - F0 generation (C+L vs H)"
   ]
  },
  {
   "cell_type": "code",
   "execution_count": 104,
   "id": "92e7bef3",
   "metadata": {
    "vscode": {
     "languageId": "r"
    }
   },
   "outputs": [
    {
     "name": "stderr",
     "output_type": "stream",
     "text": [
      "converting counts to integer mode\n",
      "\n",
      "Warning message in DESeqDataSet(se, design = design, ignoreRank):\n",
      "“some variables in design formula are characters, converting to factors”\n",
      "estimating size factors\n",
      "\n",
      "estimating dispersions\n",
      "\n",
      "gene-wise dispersion estimates: 8 workers\n",
      "\n",
      "mean-dispersion relationship\n",
      "\n",
      "final dispersion estimates, fitting model and testing: 8 workers\n",
      "\n",
      "-- replacing outliers and refitting for 97 genes\n",
      "-- DESeq argument 'minReplicatesForReplace' = 7 \n",
      "-- original counts are preserved in counts(dds)\n",
      "\n",
      "estimating dispersions\n",
      "\n",
      "fitting model and testing\n",
      "\n"
     ]
    }
   ],
   "source": [
    "info.F0_2 <- info.F0\n",
    "info.F0_2$Treatment <- gsub(x = info.F0_2$Treatment, pattern = \"[CL]\", replacement = \"CL\")\n",
    "# Create DESeq dataset\n",
    "dds.uniref.F0_2 <- DESeqDataSetFromMatrix(countData = uniref$filtered.F0,\n",
    "                                    colData = info.F0_2,\n",
    "                                    design = ~ 1 + Treatment)\n",
    "\n",
    "\n",
    "# Run DESeq2\n",
    "dds.uniref.F0_2 <- DESeq(dds.uniref.F0_2, sfType = \"poscounts\", parallel = TRUE)\n",
    "\n",
    "# Contrast H vs C+L\n",
    "res.uniref.F0.HvsCL <- results(dds.uniref.F0_2, contrast = list(\"Treatment_H_vs_CL\"))\n",
    "res.uniref.F0.HvsCL <- res.uniref.F0.HvsCL[order(res.uniref.F0.HvsCL$padj),]\n",
    "save_results(res.uniref.F0.HvsCL, \"res.uniref.F0_HvsF0_CL\")"
   ]
  },
  {
   "cell_type": "markdown",
   "id": "0b4418c5",
   "metadata": {},
   "source": [
    "#### UniRef species - F1 generation"
   ]
  },
  {
   "cell_type": "code",
   "execution_count": 105,
   "id": "c6369c51",
   "metadata": {
    "vscode": {
     "languageId": "r"
    }
   },
   "outputs": [
    {
     "data": {
      "text/html": [
       "<style>\n",
       ".list-inline {list-style: none; margin:0; padding: 0}\n",
       ".list-inline>li {display: inline-block}\n",
       ".list-inline>li:not(:last-child)::after {content: \"\\00b7\"; padding: 0 .5ex}\n",
       "</style>\n",
       "<ol class=list-inline><li>'3518'</li><li>'species removed'</li><li>'542'</li><li>'remaining'</li></ol>\n"
      ],
      "text/latex": [
       "\\begin{enumerate*}\n",
       "\\item '3518'\n",
       "\\item 'species removed'\n",
       "\\item '542'\n",
       "\\item 'remaining'\n",
       "\\end{enumerate*}\n"
      ],
      "text/markdown": [
       "1. '3518'\n",
       "2. 'species removed'\n",
       "3. '542'\n",
       "4. 'remaining'\n",
       "\n",
       "\n"
      ],
      "text/plain": [
       "[1] \"3518\"            \"species removed\" \"542\"             \"remaining\"      "
      ]
     },
     "metadata": {},
     "output_type": "display_data"
    },
    {
     "name": "stderr",
     "output_type": "stream",
     "text": [
      "converting counts to integer mode\n",
      "\n",
      "estimating size factors\n",
      "\n",
      "estimating dispersions\n",
      "\n",
      "gene-wise dispersion estimates: 8 workers\n",
      "\n",
      "mean-dispersion relationship\n",
      "\n",
      "final dispersion estimates, fitting model and testing: 8 workers\n",
      "\n",
      "-- replacing outliers and refitting for 50 genes\n",
      "-- DESeq argument 'minReplicatesForReplace' = 7 \n",
      "-- original counts are preserved in counts(dds)\n",
      "\n",
      "estimating dispersions\n",
      "\n",
      "fitting model and testing\n",
      "\n"
     ]
    }
   ],
   "source": [
    "# Extract and filter F1 samples\n",
    "uniref$cov.F1 <- uniref$cov[, rownames(info[info$Generation==\"F1\",])]\n",
    "## PARAMS ##\n",
    "# Percentage of samples in which features must have >0 sum\n",
    "uniref.F1.percent_occ <- 10\n",
    "# Quantile used for removing low abundance features\n",
    "uniref.F1.quantile_thresh <- 0.1\n",
    "\n",
    "## PREFILTERING ##\n",
    "# Remove zero sum features\n",
    "nz <- rownames(uniref$cov.F1[rowSums(uniref$cov.F1) > 0, ])\n",
    "uniref$nz.F1 <- uniref$cov.F1[rownames(uniref$cov.F1)%in%nz, ]\n",
    "\n",
    "# Filter low abundance features\n",
    "low_threshold = quantile(rowSums(uniref$nz.F1) / sum(rowSums(uniref$nz.F1)) * 100, probs = uniref.F1.quantile_thresh)\n",
    "uniref$filtered.F1 <- low.count.removal(uniref$nz.F1, percent = low_threshold)$data.filter\n",
    "\n",
    "uniref$occ.F1 <- rowSums(uniref$filtered.F1>0) / ncol(uniref$filtered.F1) * 100\n",
    "# Keep features occurring in defined percentage of samples\n",
    "uniref$filtered.F1 <- uniref$filtered.F1[which(uniref$occ.F1 >= uniref.F1.percent_occ), ]\n",
    "paste0(c(dim(uniref$cov.F1)[1] - dim(uniref$filtered.F1)[1], \"species removed\", dim(uniref$filtered.F1)[1], \"remaining\"))\n",
    "\n",
    "\n",
    "uniref$filtered.F1 <- ceiling(uniref$filtered.F1)\n",
    "\n",
    "\n",
    "info.F1 <- info[colnames(uniref$filtered.F1), c(\"run\",\"sample\",\"Treatment\")]\n",
    "\n",
    "# Create DESeq dataset\n",
    "dds.uniref.F1 <- DESeqDataSetFromMatrix(countData = uniref$filtered.F1,\n",
    "                                    colData = info.F1,\n",
    "                                    design = ~ 1 + Treatment)\n",
    "\n",
    "# Add information in case of collapsing technical replicates\n",
    "dds.uniref.F1$sample <- info.F1$sample\n",
    "dds.uniref.F1$run <- info.F1$run\n",
    "#dds.uniref.F1 <- collapseReplicates(dds.uniref.F1, dds.uniref.F1$sample, dds.uniref.F1$run)\n",
    "\n",
    "# Run DESeq2\n",
    "dds.uniref.F1 <- DESeq(dds.uniref.F1, sfType = \"poscounts\", parallel = TRUE)\n",
    "\n",
    "# Contrast H vs C\n",
    "res.uniref.F1.HvsC <- results(dds.uniref.F1, contrast = list(\"Treatment_H_vs_C\"))\n",
    "res.uniref.F1.HvsC <- res.uniref.F1.HvsC[order(res.uniref.F1.HvsC$padj),]\n",
    "save_results(res.uniref.F1.HvsC, \"res.uniref.F1_HvsF1_C\")\n",
    "\n",
    "# Contrast L vs C\n",
    "res.uniref.F1.LvsC <- results(dds.uniref.F1, contrast = list(\"Treatment_L_vs_C\"))\n",
    "res.uniref.F1.LvsC <- res.uniref.F1.LvsC[order(res.uniref.F1.LvsC$padj),]\n",
    "save_results(res.uniref.F1.LvsC, \"res.uniref.F1_LvsF1_C\")\n",
    "\n",
    "# Contrast H vs L\n",
    "res.uniref.F1.HvsL <- results(dds.uniref.F1, contrast = list(\"Treatment_H_vs_C\", \"Treatment_L_vs_C\"))\n",
    "res.uniref.F1.HvsL <- res.uniref.F1.HvsL[order(res.uniref.F1.HvsL$padj),]\n",
    "save_results(res.uniref.F1.HvsL, \"res.uniref.F1_HvsF1_L\")"
   ]
  },
  {
   "cell_type": "markdown",
   "id": "1607bf58",
   "metadata": {},
   "source": [
    "#### UniRef species - F1 generation (C+L vs H)"
   ]
  },
  {
   "cell_type": "code",
   "execution_count": 106,
   "id": "7d8c3d78",
   "metadata": {
    "vscode": {
     "languageId": "r"
    }
   },
   "outputs": [
    {
     "name": "stderr",
     "output_type": "stream",
     "text": [
      "converting counts to integer mode\n",
      "\n",
      "Warning message in DESeqDataSet(se, design = design, ignoreRank):\n",
      "“some variables in design formula are characters, converting to factors”\n",
      "estimating size factors\n",
      "\n",
      "estimating dispersions\n",
      "\n",
      "gene-wise dispersion estimates: 8 workers\n",
      "\n",
      "mean-dispersion relationship\n",
      "\n",
      "final dispersion estimates, fitting model and testing: 8 workers\n",
      "\n",
      "-- replacing outliers and refitting for 101 genes\n",
      "-- DESeq argument 'minReplicatesForReplace' = 7 \n",
      "-- original counts are preserved in counts(dds)\n",
      "\n",
      "estimating dispersions\n",
      "\n",
      "fitting model and testing\n",
      "\n"
     ]
    }
   ],
   "source": [
    "info.F1_2 <- info.F1\n",
    "info.F1_2$Treatment <- gsub(x = info.F1_2$Treatment, pattern = \"[CL]\", replacement = \"CL\")\n",
    "# Create DESeq dataset\n",
    "dds.uniref.F1_2 <- DESeqDataSetFromMatrix(countData = uniref$filtered.F1,\n",
    "                                    colData = info.F1_2,\n",
    "                                    design = ~ 1 + Treatment)\n",
    "\n",
    "\n",
    "# Run DESeq2\n",
    "dds.uniref.F1_2 <- DESeq(dds.uniref.F1_2, sfType = \"poscounts\", parallel = TRUE)\n",
    "\n",
    "# Contrast H vs C+L\n",
    "res.uniref.F1.HvsCL <- results(dds.uniref.F1_2, contrast = list(\"Treatment_H_vs_CL\"))\n",
    "res.uniref.F1.HvsCL <- res.uniref.F1.HvsCL[order(res.uniref.F1.HvsCL$padj),]\n",
    "save_results(res.uniref.F1.HvsCL, \"res.uniref.F1_HvsF1_CL\")"
   ]
  },
  {
   "cell_type": "markdown",
   "id": "24d475e0",
   "metadata": {},
   "source": [
    "#### UniRef species - F2 generation"
   ]
  },
  {
   "cell_type": "code",
   "execution_count": 107,
   "id": "1d522c37",
   "metadata": {
    "vscode": {
     "languageId": "r"
    }
   },
   "outputs": [
    {
     "data": {
      "text/html": [
       "<style>\n",
       ".list-inline {list-style: none; margin:0; padding: 0}\n",
       ".list-inline>li {display: inline-block}\n",
       ".list-inline>li:not(:last-child)::after {content: \"\\00b7\"; padding: 0 .5ex}\n",
       "</style>\n",
       "<ol class=list-inline><li>'3535'</li><li>'species removed'</li><li>'525'</li><li>'remaining'</li></ol>\n"
      ],
      "text/latex": [
       "\\begin{enumerate*}\n",
       "\\item '3535'\n",
       "\\item 'species removed'\n",
       "\\item '525'\n",
       "\\item 'remaining'\n",
       "\\end{enumerate*}\n"
      ],
      "text/markdown": [
       "1. '3535'\n",
       "2. 'species removed'\n",
       "3. '525'\n",
       "4. 'remaining'\n",
       "\n",
       "\n"
      ],
      "text/plain": [
       "[1] \"3535\"            \"species removed\" \"525\"             \"remaining\"      "
      ]
     },
     "metadata": {},
     "output_type": "display_data"
    },
    {
     "name": "stderr",
     "output_type": "stream",
     "text": [
      "converting counts to integer mode\n",
      "\n",
      "estimating size factors\n",
      "\n",
      "estimating dispersions\n",
      "\n",
      "gene-wise dispersion estimates: 8 workers\n",
      "\n",
      "mean-dispersion relationship\n",
      "\n",
      "final dispersion estimates, fitting model and testing: 8 workers\n",
      "\n",
      "-- replacing outliers and refitting for 121 genes\n",
      "-- DESeq argument 'minReplicatesForReplace' = 7 \n",
      "-- original counts are preserved in counts(dds)\n",
      "\n",
      "estimating dispersions\n",
      "\n",
      "fitting model and testing\n",
      "\n"
     ]
    }
   ],
   "source": [
    "# Extract and filter F2 samples\n",
    "uniref$cov.F2 <- uniref$cov[, rownames(info[info$Generation==\"F2\",])]\n",
    "## PARAMS ##\n",
    "# Percentage of samples in which features must have >0 sum\n",
    "uniref.F2.percent_occ <- 10\n",
    "# Quantile used for removing low abundance features\n",
    "uniref.F2.quantile_thresh <- 0.1\n",
    "\n",
    "## PREFILTERING ##\n",
    "# Remove zero sum features\n",
    "nz <- rownames(uniref$cov.F2[rowSums(uniref$cov.F2) > 0, ])\n",
    "uniref$nz.F2 <- uniref$cov.F2[rownames(uniref$cov.F2)%in%nz, ]\n",
    "\n",
    "# Filter low abundance features\n",
    "low_threshold = quantile(rowSums(uniref$nz.F2) / sum(rowSums(uniref$nz.F2)) * 100, probs = uniref.F2.quantile_thresh)\n",
    "uniref$filtered.F2 <- low.count.removal(uniref$nz.F2, percent = low_threshold)$data.filter\n",
    "\n",
    "uniref$occ.F2 <- rowSums(uniref$filtered.F2>0) / ncol(uniref$filtered.F2) * 100\n",
    "# Keep features occurring in defined percentage of samples\n",
    "uniref$filtered.F2 <- uniref$filtered.F2[which(uniref$occ.F2 >= uniref.F2.percent_occ), ]\n",
    "paste0(c(dim(uniref$cov.F2)[1] - dim(uniref$filtered.F2)[1], \"species removed\", dim(uniref$filtered.F2)[1], \"remaining\"))\n",
    "\n",
    "\n",
    "uniref$filtered.F2 <- ceiling(uniref$filtered.F2)\n",
    "\n",
    "\n",
    "info.F2 <- info[colnames(uniref$filtered.F2), c(\"run\",\"sample\",\"Treatment\")]\n",
    "\n",
    "# Create DESeq dataset\n",
    "dds.uniref.F2 <- DESeqDataSetFromMatrix(countData = uniref$filtered.F2,\n",
    "                                    colData = info.F2,\n",
    "                                    design = ~ 1 + Treatment)\n",
    "\n",
    "# Add information in case of collapsing technical replicates\n",
    "dds.uniref.F2$sample <- info.F2$sample\n",
    "dds.uniref.F2$run <- info.F2$run\n",
    "#dds.uniref.F2 <- collapseReplicates(dds.uniref.F2, dds.uniref.F2$sample, dds.uniref.F2$run)\n",
    "\n",
    "# Run DESeq2\n",
    "dds.uniref.F2 <- DESeq(dds.uniref.F2, sfType = \"poscounts\", parallel = TRUE)\n",
    "\n",
    "# Contrast H vs C\n",
    "res.uniref.F2.HvsC <- results(dds.uniref.F2, contrast = list(\"Treatment_H_vs_C\"))\n",
    "res.uniref.F2.HvsC <- res.uniref.F2.HvsC[order(res.uniref.F2.HvsC$padj),]\n",
    "save_results(res.uniref.F2.HvsC, \"res.uniref.F2_HvsF2_C\")\n",
    "\n",
    "# Contrast L vs C\n",
    "res.uniref.F2.LvsC <- results(dds.uniref.F2, contrast = list(\"Treatment_L_vs_C\"))\n",
    "res.uniref.F2.LvsC <- res.uniref.F2.LvsC[order(res.uniref.F2.LvsC$padj),]\n",
    "save_results(res.uniref.F2.LvsC, \"res.uniref.F2_LvsF2_C\")\n",
    "\n",
    "# Contrast H vs L\n",
    "res.uniref.F2.HvsL <- results(dds.uniref.F2, contrast = list(\"Treatment_H_vs_C\", \"Treatment_L_vs_C\"))\n",
    "res.uniref.F2.HvsL <- res.uniref.F2.HvsL[order(res.uniref.F2.HvsL$padj),]\n",
    "save_results(res.uniref.F2.HvsL, \"res.uniref.F2_HvsF2_L\")"
   ]
  },
  {
   "cell_type": "markdown",
   "id": "64c05e21",
   "metadata": {},
   "source": [
    "#### UniRef species - F2 generation (C+L vs H)"
   ]
  },
  {
   "cell_type": "code",
   "execution_count": 108,
   "id": "ff431b1f",
   "metadata": {
    "vscode": {
     "languageId": "r"
    }
   },
   "outputs": [
    {
     "name": "stderr",
     "output_type": "stream",
     "text": [
      "converting counts to integer mode\n",
      "\n",
      "Warning message in DESeqDataSet(se, design = design, ignoreRank):\n",
      "“some variables in design formula are characters, converting to factors”\n",
      "estimating size factors\n",
      "\n",
      "estimating dispersions\n",
      "\n",
      "gene-wise dispersion estimates: 8 workers\n",
      "\n",
      "mean-dispersion relationship\n",
      "\n",
      "final dispersion estimates, fitting model and testing: 8 workers\n",
      "\n",
      "-- replacing outliers and refitting for 76 genes\n",
      "-- DESeq argument 'minReplicatesForReplace' = 7 \n",
      "-- original counts are preserved in counts(dds)\n",
      "\n",
      "estimating dispersions\n",
      "\n",
      "fitting model and testing\n",
      "\n"
     ]
    }
   ],
   "source": [
    "info.F2_2 <- info.F2\n",
    "info.F2_2$Treatment <- gsub(x = info.F2_2$Treatment, pattern = \"[CL]\", replacement = \"CL\")\n",
    "# Create DESeq dataset\n",
    "dds.uniref.F2_2 <- DESeqDataSetFromMatrix(countData = uniref$filtered.F2,\n",
    "                                    colData = info.F2_2,\n",
    "                                    design = ~ 1 + Treatment)\n",
    "\n",
    "\n",
    "# Run DESeq2\n",
    "dds.uniref.F2_2 <- DESeq(dds.uniref.F2_2, sfType = \"poscounts\", parallel = TRUE)\n",
    "\n",
    "# Contrast H vs C+L\n",
    "res.uniref.F2.HvsCL <- results(dds.uniref.F2_2, contrast = list(\"Treatment_H_vs_CL\"))\n",
    "res.uniref.F2.HvsCL <- res.uniref.F2.HvsCL[order(res.uniref.F2.HvsCL$padj),]\n",
    "save_results(res.uniref.F2.HvsCL, \"res.uniref.F2_HvsF2_CL\")"
   ]
  },
  {
   "cell_type": "markdown",
   "id": "5b2a7e97",
   "metadata": {},
   "source": [
    "### UniRef genera"
   ]
  },
  {
   "cell_type": "markdown",
   "id": "3e25d576",
   "metadata": {},
   "source": [
    "#### UniRef genera - generational differences"
   ]
  },
  {
   "cell_type": "code",
   "execution_count": 109,
   "id": "fadb4cfb",
   "metadata": {
    "vscode": {
     "languageId": "r"
    }
   },
   "outputs": [
    {
     "data": {
      "text/html": [
       "<style>\n",
       ".list-inline {list-style: none; margin:0; padding: 0}\n",
       ".list-inline>li {display: inline-block}\n",
       ".list-inline>li:not(:last-child)::after {content: \"\\00b7\"; padding: 0 .5ex}\n",
       "</style>\n",
       "<ol class=list-inline><li>'1180'</li><li>'species removed'</li><li>'216'</li><li>'remaining'</li></ol>\n"
      ],
      "text/latex": [
       "\\begin{enumerate*}\n",
       "\\item '1180'\n",
       "\\item 'species removed'\n",
       "\\item '216'\n",
       "\\item 'remaining'\n",
       "\\end{enumerate*}\n"
      ],
      "text/markdown": [
       "1. '1180'\n",
       "2. 'species removed'\n",
       "3. '216'\n",
       "4. 'remaining'\n",
       "\n",
       "\n"
      ],
      "text/plain": [
       "[1] \"1180\"            \"species removed\" \"216\"             \"remaining\"      "
      ]
     },
     "metadata": {},
     "output_type": "display_data"
    },
    {
     "name": "stderr",
     "output_type": "stream",
     "text": [
      "converting counts to integer mode\n",
      "\n",
      "estimating size factors\n",
      "\n",
      "estimating dispersions\n",
      "\n",
      "gene-wise dispersion estimates: 8 workers\n",
      "\n",
      "mean-dispersion relationship\n",
      "\n",
      "final dispersion estimates, fitting model and testing: 8 workers\n",
      "\n",
      "-- replacing outliers and refitting for 18 genes\n",
      "-- DESeq argument 'minReplicatesForReplace' = 7 \n",
      "-- original counts are preserved in counts(dds)\n",
      "\n",
      "estimating dispersions\n",
      "\n",
      "fitting model and testing\n",
      "\n"
     ]
    }
   ],
   "source": [
    "## PARAMS ##\n",
    "# Percentage of samples in which features must have >0 sum\n",
    "uniref.genus.percent_occ <- 10\n",
    "# Quantile used for removing low abundance features\n",
    "uniref.genus.quantile_thresh <- 0.1\n",
    "\n",
    "## PREFILTERING ##\n",
    "# Remove zero sum features\n",
    "nz <- rownames(uniref.genus$cov[rowSums(uniref.genus$cov) > 0, ])\n",
    "uniref.genus$nz <- uniref.genus$cov[rownames(uniref.genus$cov)%in%nz, ]\n",
    "\n",
    "# Filter low abundance features\n",
    "low_threshold = quantile(rowSums(uniref.genus$nz) / sum(rowSums(uniref.genus$nz)) * 100, probs = uniref.genus.quantile_thresh)\n",
    "uniref.genus$filtered <- low.count.removal(uniref.genus$nz, percent = low_threshold)$data.filter\n",
    "\n",
    "uniref.genus$occ <- rowSums(uniref.genus$filtered>0) / ncol(uniref.genus$filtered) * 100\n",
    "# Keep features occurring in defined percentage of samples\n",
    "uniref.genus$filtered <- uniref.genus$filtered[which(uniref.genus$occ >= uniref.genus.percent_occ), ]\n",
    "paste0(c(dim(uniref.genus$cov)[1] - dim(uniref.genus$filtered)[1], \"species removed\", dim(uniref.genus$filtered)[1], \"remaining\"))\n",
    "\n",
    "uniref.genus$filtered <- ceiling(uniref.genus$filtered)\n",
    "\n",
    "## DESeq2 analysis\n",
    "info.uniref.genus <- info[, c(\"run\",\"sample\",\"Generation\")]\n",
    "dds.uniref.genus <- DESeqDataSetFromMatrix(countData = uniref.genus$filtered,\n",
    "                              colData = info.uniref.genus,\n",
    "                              design = ~ 1 + Generation)\n",
    "dds.uniref.genus$sample <- info$sample\n",
    "dds.uniref.genus$run <- info$run\n",
    "#dds.uniref.genus <- collapseReplicates(dds.uniref.genus, dds.uniref.genus$sample, dds.uniref.genus$run)\n",
    "dds.uniref.genus <- DESeq(dds.uniref.genus, sfType = \"poscounts\", parallel = TRUE)\n",
    "\n",
    "# Multi-factor (treatment + generation)\n",
    "#dds.uniref.genusMF <- dds.uniref.genus\n",
    "#design(dds.uniref.genusMF) <- formula(~ group)\n",
    "#dds.uniref.genusMF <- DESeq(dds.uniref.genusMF, sfType = \"poscounts\")\n",
    "\n",
    "# Contrast H vs C\n",
    "res.uniref.genus.F2vsF0 <- results(dds.uniref.genus, contrast = list(\"Generation_F2_vs_F0\"))\n",
    "res.uniref.genus.F2vsF0 <- res.uniref.genus.F2vsF0[order(res.uniref.genus.F2vsF0$padj),]\n",
    "save_results(res.uniref.genus.F2vsF0, \"res.uniref.genus.F2vsF0\")\n",
    "\n",
    "# Contrast L vs C\n",
    "res.uniref.genus.F1vsF0 <- results(dds.uniref.genus, contrast = list(\"Generation_F1_vs_F0\"))\n",
    "res.uniref.genus.F1vsF0 <- res.uniref.genus.F1vsF0[order(res.uniref.genus.F1vsF0$padj),]\n",
    "save_results(res.uniref.genus.F1vsF0, \"res.uniref.genus.F1vsF0\")\n",
    "\n",
    "# Contrast H vs L\n",
    "res.uniref.genus.F2vsF1 <- results(dds.uniref.genus, contrast = list(\"Generation_F2_vs_F0\", \"Generation_F1_vs_F0\"))\n",
    "res.uniref.genus.F2vsF1 <- res.uniref.genus.F2vsF1[order(res.uniref.genus.F2vsF1$padj),]\n",
    "save_results(res.uniref.genus.F2vsF1, \"res.uniref.genus.F2vsF1\")"
   ]
  },
  {
   "cell_type": "markdown",
   "id": "1a17a11c",
   "metadata": {},
   "source": [
    "#### UniRef genera - F0 generation"
   ]
  },
  {
   "cell_type": "code",
   "execution_count": 110,
   "id": "16f485a6",
   "metadata": {
    "vscode": {
     "languageId": "r"
    }
   },
   "outputs": [
    {
     "data": {
      "text/html": [
       "<style>\n",
       ".list-inline {list-style: none; margin:0; padding: 0}\n",
       ".list-inline>li {display: inline-block}\n",
       ".list-inline>li:not(:last-child)::after {content: \"\\00b7\"; padding: 0 .5ex}\n",
       "</style>\n",
       "<ol class=list-inline><li>'1163'</li><li>'genera removed'</li><li>'233'</li><li>'remaining'</li></ol>\n"
      ],
      "text/latex": [
       "\\begin{enumerate*}\n",
       "\\item '1163'\n",
       "\\item 'genera removed'\n",
       "\\item '233'\n",
       "\\item 'remaining'\n",
       "\\end{enumerate*}\n"
      ],
      "text/markdown": [
       "1. '1163'\n",
       "2. 'genera removed'\n",
       "3. '233'\n",
       "4. 'remaining'\n",
       "\n",
       "\n"
      ],
      "text/plain": [
       "[1] \"1163\"           \"genera removed\" \"233\"            \"remaining\"     "
      ]
     },
     "metadata": {},
     "output_type": "display_data"
    },
    {
     "name": "stderr",
     "output_type": "stream",
     "text": [
      "converting counts to integer mode\n",
      "\n",
      "estimating size factors\n",
      "\n",
      "estimating dispersions\n",
      "\n",
      "gene-wise dispersion estimates: 8 workers\n",
      "\n",
      "mean-dispersion relationship\n",
      "\n",
      "final dispersion estimates, fitting model and testing: 8 workers\n",
      "\n",
      "-- replacing outliers and refitting for 15 genes\n",
      "-- DESeq argument 'minReplicatesForReplace' = 7 \n",
      "-- original counts are preserved in counts(dds)\n",
      "\n",
      "estimating dispersions\n",
      "\n",
      "fitting model and testing\n",
      "\n"
     ]
    }
   ],
   "source": [
    "# Extract and filter F0 samples\n",
    "uniref.genus$cov.F0 <- uniref.genus$cov[, rownames(info[info$Generation==\"F0\",])]\n",
    "## PARAMS ##\n",
    "# Percentage of samples in which features must have >0 sum\n",
    "uniref.genus.F0.percent_occ <- 10\n",
    "# Quantile used for removing low abundance features\n",
    "uniref.genus.F0.quantile_thresh <- 0.1\n",
    "\n",
    "## PREFILTERING ##\n",
    "# Remove zero sum features\n",
    "nz <- rownames(uniref.genus$cov.F0[rowSums(uniref.genus$cov.F0) > 0, ])\n",
    "uniref.genus$nz.F0 <- uniref.genus$cov.F0[rownames(uniref.genus$cov.F0)%in%nz, ]\n",
    "\n",
    "# Filter low abundance features\n",
    "low_threshold = quantile(rowSums(uniref.genus$nz.F0) / sum(rowSums(uniref.genus$nz.F0)) * 100, probs = uniref.genus.F0.quantile_thresh)\n",
    "uniref.genus$filtered.F0 <- low.count.removal(uniref.genus$nz.F0, percent = low_threshold)$data.filter\n",
    "\n",
    "uniref.genus$occ.F0 <- rowSums(uniref.genus$filtered.F0>0) / ncol(uniref.genus$filtered.F0) * 100\n",
    "# Keep features occurring in defined percentage of samples\n",
    "uniref.genus$filtered.F0 <- uniref.genus$filtered.F0[which(uniref.genus$occ.F0 >= uniref.genus.F0.percent_occ), ]\n",
    "paste0(c(dim(uniref.genus$cov.F0)[1] - dim(uniref.genus$filtered.F0)[1], \"genera removed\", dim(uniref.genus$filtered.F0)[1], \"remaining\"))\n",
    "\n",
    "\n",
    "uniref.genus$filtered.F0 <- ceiling(uniref.genus$filtered.F0)\n",
    "\n",
    "\n",
    "info.F0 <- info[colnames(uniref.genus$filtered.F0), c(\"run\",\"sample\",\"Treatment\")]\n",
    "\n",
    "# Create DESeq dataset\n",
    "dds.uniref.genus.F0 <- DESeqDataSetFromMatrix(countData = uniref.genus$filtered.F0,\n",
    "                                    colData = info.F0,\n",
    "                                    design = ~ 1 + Treatment)\n",
    "\n",
    "# Add information in case of collapsing technical replicates\n",
    "dds.uniref.genus.F0$sample <- info.F0$sample\n",
    "dds.uniref.genus.F0$run <- info.F0$run\n",
    "#dds.uniref.genus.F0 <- collapseReplicates(dds.uniref.genus.F0, dds.uniref.genus.F0$sample, dds.uniref.genus.F0$run)\n",
    "\n",
    "# Run DESeq2\n",
    "dds.uniref.genus.F0 <- DESeq(dds.uniref.genus.F0, sfType = \"poscounts\", parallel = TRUE)\n",
    "\n",
    "# Contrast H vs C\n",
    "res.uniref.genus.F0.HvsC <- results(dds.uniref.genus.F0, contrast = list(\"Treatment_H_vs_C\"))\n",
    "res.uniref.genus.F0.HvsC <- res.uniref.genus.F0.HvsC[order(res.uniref.genus.F0.HvsC$padj),]\n",
    "save_results(res.uniref.genus.F0.HvsC, \"res.uniref.genus.F0_HvsF0_C\")\n",
    "\n",
    "# Contrast L vs C\n",
    "res.uniref.genus.F0.LvsC <- results(dds.uniref.genus.F0, contrast = list(\"Treatment_L_vs_C\"))\n",
    "res.uniref.genus.F0.LvsC <- res.uniref.genus.F0.LvsC[order(res.uniref.genus.F0.LvsC$padj),]\n",
    "save_results(res.uniref.genus.F0.LvsC, \"res.uniref.genus.F0_LvsF0_C\")\n",
    "\n",
    "# Contrast H vs L\n",
    "res.uniref.genus.F0.HvsL <- results(dds.uniref.genus.F0, contrast = list(\"Treatment_H_vs_C\", \"Treatment_L_vs_C\"))\n",
    "res.uniref.genus.F0.HvsL <- res.uniref.genus.F0.HvsL[order(res.uniref.genus.F0.HvsL$padj),]\n",
    "save_results(res.uniref.genus.F0.HvsL, \"res.uniref.genus.F0_HvsF0_L\")"
   ]
  },
  {
   "cell_type": "markdown",
   "id": "9468b35b",
   "metadata": {},
   "source": [
    "#### UniRef genera - F0 generation (C+L vs H)"
   ]
  },
  {
   "cell_type": "code",
   "execution_count": 111,
   "id": "d5715a6b",
   "metadata": {
    "vscode": {
     "languageId": "r"
    }
   },
   "outputs": [
    {
     "name": "stderr",
     "output_type": "stream",
     "text": [
      "converting counts to integer mode\n",
      "\n",
      "Warning message in DESeqDataSet(se, design = design, ignoreRank):\n",
      "“some variables in design formula are characters, converting to factors”\n",
      "estimating size factors\n",
      "\n",
      "estimating dispersions\n",
      "\n",
      "gene-wise dispersion estimates: 8 workers\n",
      "\n",
      "mean-dispersion relationship\n",
      "\n",
      "final dispersion estimates, fitting model and testing: 8 workers\n",
      "\n",
      "-- replacing outliers and refitting for 31 genes\n",
      "-- DESeq argument 'minReplicatesForReplace' = 7 \n",
      "-- original counts are preserved in counts(dds)\n",
      "\n",
      "estimating dispersions\n",
      "\n",
      "fitting model and testing\n",
      "\n"
     ]
    }
   ],
   "source": [
    "info.F0_2 <- info.F0\n",
    "info.F0_2$Treatment <- gsub(x = info.F0_2$Treatment, pattern = \"[CL]\", replacement = \"CL\")\n",
    "# Create DESeq dataset\n",
    "dds.uniref.genus.F0_2 <- DESeqDataSetFromMatrix(countData = uniref.genus$filtered.F0,\n",
    "                                    colData = info.F0_2,\n",
    "                                    design = ~ 1 + Treatment)\n",
    "\n",
    "\n",
    "# Run DESeq2\n",
    "dds.uniref.genus.F0_2 <- DESeq(dds.uniref.genus.F0_2, sfType = \"poscounts\", parallel = TRUE)\n",
    "\n",
    "# Contrast H vs C+L\n",
    "res.uniref.genus.F0.HvsCL <- results(dds.uniref.genus.F0_2, contrast = list(\"Treatment_H_vs_CL\"))\n",
    "res.uniref.genus.F0.HvsCL <- res.uniref.genus.F0.HvsCL[order(res.uniref.genus.F0.HvsCL$padj),]\n",
    "save_results(res.uniref.genus.F0.HvsCL, \"res.uniref.genus.F0_HvsF0_CL\")"
   ]
  },
  {
   "cell_type": "markdown",
   "id": "6d1006c4",
   "metadata": {},
   "source": [
    "#### UniRef genera - F1 generation"
   ]
  },
  {
   "cell_type": "code",
   "execution_count": 112,
   "id": "3c3ed023",
   "metadata": {
    "vscode": {
     "languageId": "r"
    }
   },
   "outputs": [
    {
     "data": {
      "text/html": [
       "<style>\n",
       ".list-inline {list-style: none; margin:0; padding: 0}\n",
       ".list-inline>li {display: inline-block}\n",
       ".list-inline>li:not(:last-child)::after {content: \"\\00b7\"; padding: 0 .5ex}\n",
       "</style>\n",
       "<ol class=list-inline><li>'1171'</li><li>'genera removed'</li><li>'225'</li><li>'remaining'</li></ol>\n"
      ],
      "text/latex": [
       "\\begin{enumerate*}\n",
       "\\item '1171'\n",
       "\\item 'genera removed'\n",
       "\\item '225'\n",
       "\\item 'remaining'\n",
       "\\end{enumerate*}\n"
      ],
      "text/markdown": [
       "1. '1171'\n",
       "2. 'genera removed'\n",
       "3. '225'\n",
       "4. 'remaining'\n",
       "\n",
       "\n"
      ],
      "text/plain": [
       "[1] \"1171\"           \"genera removed\" \"225\"            \"remaining\"     "
      ]
     },
     "metadata": {},
     "output_type": "display_data"
    },
    {
     "name": "stderr",
     "output_type": "stream",
     "text": [
      "converting counts to integer mode\n",
      "\n",
      "estimating size factors\n",
      "\n",
      "estimating dispersions\n",
      "\n",
      "gene-wise dispersion estimates: 8 workers\n",
      "\n",
      "mean-dispersion relationship\n",
      "\n",
      "final dispersion estimates, fitting model and testing: 8 workers\n",
      "\n",
      "-- replacing outliers and refitting for 15 genes\n",
      "-- DESeq argument 'minReplicatesForReplace' = 7 \n",
      "-- original counts are preserved in counts(dds)\n",
      "\n",
      "estimating dispersions\n",
      "\n",
      "fitting model and testing\n",
      "\n"
     ]
    }
   ],
   "source": [
    "# Extract and filter F1 samples\n",
    "uniref.genus$cov.F1 <- uniref.genus$cov[, rownames(info[info$Generation==\"F1\",])]\n",
    "## PARAMS ##\n",
    "# Percentage of samples in which features must have >0 sum\n",
    "uniref.genus.F1.percent_occ <- 10\n",
    "# Quantile used for removing low abundance features\n",
    "uniref.genus.F1.quantile_thresh <- 0.1\n",
    "\n",
    "## PREFILTERING ##\n",
    "# Remove zero sum features\n",
    "nz <- rownames(uniref.genus$cov.F1[rowSums(uniref.genus$cov.F1) > 0, ])\n",
    "uniref.genus$nz.F1 <- uniref.genus$cov.F1[rownames(uniref.genus$cov.F1)%in%nz, ]\n",
    "\n",
    "# Filter low abundance features\n",
    "low_threshold = quantile(rowSums(uniref.genus$nz.F1) / sum(rowSums(uniref.genus$nz.F1)) * 100, probs = uniref.genus.F1.quantile_thresh)\n",
    "uniref.genus$filtered.F1 <- low.count.removal(uniref.genus$nz.F1, percent = low_threshold)$data.filter\n",
    "\n",
    "uniref.genus$occ.F1 <- rowSums(uniref.genus$filtered.F1>0) / ncol(uniref.genus$filtered.F1) * 100\n",
    "# Keep features occurring in defined percentage of samples\n",
    "uniref.genus$filtered.F1 <- uniref.genus$filtered.F1[which(uniref.genus$occ.F1 >= uniref.genus.F1.percent_occ), ]\n",
    "paste0(c(dim(uniref.genus$cov.F1)[1] - dim(uniref.genus$filtered.F1)[1], \"genera removed\", dim(uniref.genus$filtered.F1)[1], \"remaining\"))\n",
    "\n",
    "\n",
    "uniref.genus$filtered.F1 <- ceiling(uniref.genus$filtered.F1)\n",
    "\n",
    "\n",
    "info.F1 <- info[colnames(uniref.genus$filtered.F1), c(\"run\",\"sample\",\"Treatment\")]\n",
    "\n",
    "# Create DESeq dataset\n",
    "dds.uniref.genus.F1 <- DESeqDataSetFromMatrix(countData = uniref.genus$filtered.F1,\n",
    "                                    colData = info.F1,\n",
    "                                    design = ~ 1 + Treatment)\n",
    "\n",
    "# Add information in case of collapsing technical replicates\n",
    "dds.uniref.genus.F1$sample <- info.F1$sample\n",
    "dds.uniref.genus.F1$run <- info.F1$run\n",
    "#dds.uniref.genus.F1 <- collapseReplicates(dds.uniref.genus.F1, dds.uniref.genus.F1$sample, dds.uniref.genus.F1$run)\n",
    "\n",
    "# Run DESeq2\n",
    "dds.uniref.genus.F1 <- DESeq(dds.uniref.genus.F1, sfType = \"poscounts\", parallel = TRUE)\n",
    "\n",
    "# Contrast H vs C\n",
    "res.uniref.genus.F1.HvsC <- results(dds.uniref.genus.F1, contrast = list(\"Treatment_H_vs_C\"))\n",
    "res.uniref.genus.F1.HvsC <- res.uniref.genus.F1.HvsC[order(res.uniref.genus.F1.HvsC$padj),]\n",
    "save_results(res.uniref.genus.F1.HvsC, \"res.uniref.genus.F1_HvsF1_C\")\n",
    "\n",
    "# Contrast L vs C\n",
    "res.uniref.genus.F1.LvsC <- results(dds.uniref.genus.F1, contrast = list(\"Treatment_L_vs_C\"))\n",
    "res.uniref.genus.F1.LvsC <- res.uniref.genus.F1.LvsC[order(res.uniref.genus.F1.LvsC$padj),]\n",
    "save_results(res.uniref.genus.F1.LvsC, \"res.uniref.genus.F1_LvsF1_C\")\n",
    "\n",
    "# Contrast H vs L\n",
    "res.uniref.genus.F1.HvsL <- results(dds.uniref.genus.F1, contrast = list(\"Treatment_H_vs_C\", \"Treatment_L_vs_C\"))\n",
    "res.uniref.genus.F1.HvsL <- res.uniref.genus.F1.HvsL[order(res.uniref.genus.F1.HvsL$padj),]\n",
    "save_results(res.uniref.genus.F1.HvsL, \"res.uniref.genus.F1_HvsF1_L\")"
   ]
  },
  {
   "cell_type": "markdown",
   "id": "28ab91a2",
   "metadata": {},
   "source": [
    "#### UniRef genera - F1 generation (C+L vs H)"
   ]
  },
  {
   "cell_type": "code",
   "execution_count": 113,
   "id": "45101850",
   "metadata": {
    "vscode": {
     "languageId": "r"
    }
   },
   "outputs": [
    {
     "name": "stderr",
     "output_type": "stream",
     "text": [
      "converting counts to integer mode\n",
      "\n",
      "Warning message in DESeqDataSet(se, design = design, ignoreRank):\n",
      "“some variables in design formula are characters, converting to factors”\n",
      "estimating size factors\n",
      "\n",
      "estimating dispersions\n",
      "\n",
      "gene-wise dispersion estimates: 8 workers\n",
      "\n",
      "mean-dispersion relationship\n",
      "\n",
      "final dispersion estimates, fitting model and testing: 8 workers\n",
      "\n",
      "-- replacing outliers and refitting for 38 genes\n",
      "-- DESeq argument 'minReplicatesForReplace' = 7 \n",
      "-- original counts are preserved in counts(dds)\n",
      "\n",
      "estimating dispersions\n",
      "\n",
      "fitting model and testing\n",
      "\n"
     ]
    }
   ],
   "source": [
    "info.F1_2 <- info.F1\n",
    "info.F1_2$Treatment <- gsub(x = info.F1_2$Treatment, pattern = \"[CL]\", replacement = \"CL\")\n",
    "# Create DESeq dataset\n",
    "dds.uniref.genus.F1_2 <- DESeqDataSetFromMatrix(countData = uniref.genus$filtered.F1,\n",
    "                                    colData = info.F1_2,\n",
    "                                    design = ~ 1 + Treatment)\n",
    "\n",
    "\n",
    "# Run DESeq2\n",
    "dds.uniref.genus.F1_2 <- DESeq(dds.uniref.genus.F1_2, sfType = \"poscounts\", parallel = TRUE)\n",
    "\n",
    "# Contrast H vs C+L\n",
    "res.uniref.genus.F1.HvsCL <- results(dds.uniref.genus.F1_2, contrast = list(\"Treatment_H_vs_CL\"))\n",
    "res.uniref.genus.F1.HvsCL <- res.uniref.genus.F1.HvsCL[order(res.uniref.genus.F1.HvsCL$padj),]\n",
    "save_results(res.uniref.genus.F1.HvsCL, \"res.uniref.genus.F1_HvsF1_CL\")"
   ]
  },
  {
   "cell_type": "markdown",
   "id": "6500ce4b",
   "metadata": {},
   "source": [
    "#### UniRef genera - F2 generation"
   ]
  },
  {
   "cell_type": "code",
   "execution_count": 114,
   "id": "1e0b8282",
   "metadata": {
    "vscode": {
     "languageId": "r"
    }
   },
   "outputs": [
    {
     "data": {
      "text/html": [
       "<style>\n",
       ".list-inline {list-style: none; margin:0; padding: 0}\n",
       ".list-inline>li {display: inline-block}\n",
       ".list-inline>li:not(:last-child)::after {content: \"\\00b7\"; padding: 0 .5ex}\n",
       "</style>\n",
       "<ol class=list-inline><li>'1185'</li><li>'genera removed'</li><li>'211'</li><li>'remaining'</li></ol>\n"
      ],
      "text/latex": [
       "\\begin{enumerate*}\n",
       "\\item '1185'\n",
       "\\item 'genera removed'\n",
       "\\item '211'\n",
       "\\item 'remaining'\n",
       "\\end{enumerate*}\n"
      ],
      "text/markdown": [
       "1. '1185'\n",
       "2. 'genera removed'\n",
       "3. '211'\n",
       "4. 'remaining'\n",
       "\n",
       "\n"
      ],
      "text/plain": [
       "[1] \"1185\"           \"genera removed\" \"211\"            \"remaining\"     "
      ]
     },
     "metadata": {},
     "output_type": "display_data"
    },
    {
     "name": "stderr",
     "output_type": "stream",
     "text": [
      "converting counts to integer mode\n",
      "\n",
      "estimating size factors\n",
      "\n",
      "estimating dispersions\n",
      "\n",
      "gene-wise dispersion estimates: 8 workers\n",
      "\n",
      "mean-dispersion relationship\n",
      "\n",
      "final dispersion estimates, fitting model and testing: 8 workers\n",
      "\n",
      "-- replacing outliers and refitting for 57 genes\n",
      "-- DESeq argument 'minReplicatesForReplace' = 7 \n",
      "-- original counts are preserved in counts(dds)\n",
      "\n",
      "estimating dispersions\n",
      "\n",
      "fitting model and testing\n",
      "\n"
     ]
    }
   ],
   "source": [
    "# Extract and filter F2 samples\n",
    "uniref.genus$cov.F2 <- uniref.genus$cov[, rownames(info[info$Generation==\"F2\",])]\n",
    "## PARAMS ##\n",
    "# Percentage of samples in which features must have >0 sum\n",
    "uniref.genus.F2.percent_occ <- 10\n",
    "# Quantile used for removing low abundance features\n",
    "uniref.genus.F2.quantile_thresh <- 0.1\n",
    "\n",
    "## PREFILTERING ##\n",
    "# Remove zero sum features\n",
    "nz <- rownames(uniref.genus$cov.F2[rowSums(uniref.genus$cov.F2) > 0, ])\n",
    "uniref.genus$nz.F2 <- uniref.genus$cov.F2[rownames(uniref.genus$cov.F2)%in%nz, ]\n",
    "\n",
    "# Filter low abundance features\n",
    "low_threshold = quantile(rowSums(uniref.genus$nz.F2) / sum(rowSums(uniref.genus$nz.F2)) * 100, probs = uniref.genus.F2.quantile_thresh)\n",
    "uniref.genus$filtered.F2 <- low.count.removal(uniref.genus$nz.F2, percent = low_threshold)$data.filter\n",
    "\n",
    "uniref.genus$occ.F2 <- rowSums(uniref.genus$filtered.F2>0) / ncol(uniref.genus$filtered.F2) * 100\n",
    "# Keep features occurring in defined percentage of samples\n",
    "uniref.genus$filtered.F2 <- uniref.genus$filtered.F2[which(uniref.genus$occ.F2 >= uniref.genus.F2.percent_occ), ]\n",
    "paste0(c(dim(uniref.genus$cov.F2)[1] - dim(uniref.genus$filtered.F2)[1], \"genera removed\", dim(uniref.genus$filtered.F2)[1], \"remaining\"))\n",
    "\n",
    "\n",
    "uniref.genus$filtered.F2 <- ceiling(uniref.genus$filtered.F2)\n",
    "\n",
    "\n",
    "info.F2 <- info[colnames(uniref.genus$filtered.F2), c(\"run\",\"sample\",\"Treatment\")]\n",
    "\n",
    "# Create DESeq dataset\n",
    "dds.uniref.genus.F2 <- DESeqDataSetFromMatrix(countData = uniref.genus$filtered.F2,\n",
    "                                    colData = info.F2,\n",
    "                                    design = ~ 1 + Treatment)\n",
    "\n",
    "# Add information in case of collapsing technical replicates\n",
    "dds.uniref.genus.F2$sample <- info.F2$sample\n",
    "dds.uniref.genus.F2$run <- info.F2$run\n",
    "#dds.uniref.genus.F2 <- collapseReplicates(dds.uniref.genus.F2, dds.uniref.genus.F2$sample, dds.uniref.genus.F2$run)\n",
    "\n",
    "# Run DESeq2\n",
    "dds.uniref.genus.F2 <- DESeq(dds.uniref.genus.F2, sfType = \"poscounts\", parallel = TRUE)\n",
    "\n",
    "# Contrast H vs C\n",
    "res.uniref.genus.F2.HvsC <- results(dds.uniref.genus.F2, contrast = list(\"Treatment_H_vs_C\"))\n",
    "res.uniref.genus.F2.HvsC <- res.uniref.genus.F2.HvsC[order(res.uniref.genus.F2.HvsC$padj),]\n",
    "save_results(res.uniref.genus.F2.HvsC, \"res.uniref.genus.F2_HvsF2_C\")\n",
    "\n",
    "# Contrast L vs C\n",
    "res.uniref.genus.F2.LvsC <- results(dds.uniref.genus.F2, contrast = list(\"Treatment_L_vs_C\"))\n",
    "res.uniref.genus.F2.LvsC <- res.uniref.genus.F2.LvsC[order(res.uniref.genus.F2.LvsC$padj),]\n",
    "save_results(res.uniref.genus.F2.LvsC, \"res.uniref.genus.F2_LvsF2_C\")\n",
    "\n",
    "# Contrast H vs L\n",
    "res.uniref.genus.F2.HvsL <- results(dds.uniref.genus.F2, contrast = list(\"Treatment_H_vs_C\", \"Treatment_L_vs_C\"))\n",
    "res.uniref.genus.F2.HvsL <- res.uniref.genus.F2.HvsL[order(res.uniref.genus.F2.HvsL$padj),]\n",
    "save_results(res.uniref.genus.F2.HvsL, \"res.uniref.genus.F2_HvsF2_L\")"
   ]
  },
  {
   "cell_type": "markdown",
   "id": "8ac8a879",
   "metadata": {},
   "source": [
    "#### UniRef genera - F2 generation (C+L vs H)"
   ]
  },
  {
   "cell_type": "code",
   "execution_count": 115,
   "id": "56f9b078",
   "metadata": {
    "vscode": {
     "languageId": "r"
    }
   },
   "outputs": [
    {
     "name": "stderr",
     "output_type": "stream",
     "text": [
      "converting counts to integer mode\n",
      "\n",
      "Warning message in DESeqDataSet(se, design = design, ignoreRank):\n",
      "“some variables in design formula are characters, converting to factors”\n",
      "estimating size factors\n",
      "\n",
      "estimating dispersions\n",
      "\n",
      "gene-wise dispersion estimates: 8 workers\n",
      "\n",
      "mean-dispersion relationship\n",
      "\n",
      "final dispersion estimates, fitting model and testing: 8 workers\n",
      "\n",
      "-- replacing outliers and refitting for 36 genes\n",
      "-- DESeq argument 'minReplicatesForReplace' = 7 \n",
      "-- original counts are preserved in counts(dds)\n",
      "\n",
      "estimating dispersions\n",
      "\n",
      "fitting model and testing\n",
      "\n"
     ]
    }
   ],
   "source": [
    "info.F2_2 <- info.F2\n",
    "info.F2_2$Treatment <- gsub(x = info.F2_2$Treatment, pattern = \"[CL]\", replacement = \"CL\")\n",
    "# Create DESeq dataset\n",
    "dds.uniref.genus.F2_2 <- DESeqDataSetFromMatrix(countData = uniref.genus$filtered.F2,\n",
    "                                    colData = info.F2_2,\n",
    "                                    design = ~ 1 + Treatment)\n",
    "\n",
    "\n",
    "# Run DESeq2\n",
    "dds.uniref.genus.F2_2 <- DESeq(dds.uniref.genus.F2_2, sfType = \"poscounts\", parallel = TRUE)\n",
    "\n",
    "# Contrast H vs C+L\n",
    "res.uniref.genus.F2.HvsCL <- results(dds.uniref.genus.F2_2, contrast = list(\"Treatment_H_vs_CL\"))\n",
    "res.uniref.genus.F2.HvsCL <- res.uniref.genus.F2.HvsCL[order(res.uniref.genus.F2.HvsCL$padj),]\n",
    "save_results(res.uniref.genus.F2.HvsCL, \"res.uniref.genus.F2_HvsF2_CL\")"
   ]
  },
  {
   "cell_type": "markdown",
   "id": "3412bd5c",
   "metadata": {},
   "source": [
    "### PFAM"
   ]
  },
  {
   "cell_type": "markdown",
   "id": "efc5af7b",
   "metadata": {},
   "source": [
    "#### PFAM - generational differences"
   ]
  },
  {
   "cell_type": "code",
   "execution_count": 116,
   "id": "0590b963",
   "metadata": {
    "vscode": {
     "languageId": "r"
    }
   },
   "outputs": [
    {
     "data": {
      "text/html": [
       "<style>\n",
       ".list-inline {list-style: none; margin:0; padding: 0}\n",
       ".list-inline>li {display: inline-block}\n",
       ".list-inline>li:not(:last-child)::after {content: \"\\00b7\"; padding: 0 .5ex}\n",
       "</style>\n",
       "<ol class=list-inline><li>'826'</li><li>'PFAMs removed'</li><li>'6537'</li><li>'remaining'</li></ol>\n"
      ],
      "text/latex": [
       "\\begin{enumerate*}\n",
       "\\item '826'\n",
       "\\item 'PFAMs removed'\n",
       "\\item '6537'\n",
       "\\item 'remaining'\n",
       "\\end{enumerate*}\n"
      ],
      "text/markdown": [
       "1. '826'\n",
       "2. 'PFAMs removed'\n",
       "3. '6537'\n",
       "4. 'remaining'\n",
       "\n",
       "\n"
      ],
      "text/plain": [
       "[1] \"826\"           \"PFAMs removed\" \"6537\"          \"remaining\"    "
      ]
     },
     "metadata": {},
     "output_type": "display_data"
    },
    {
     "name": "stderr",
     "output_type": "stream",
     "text": [
      "converting counts to integer mode\n",
      "\n",
      "estimating size factors\n",
      "\n",
      "estimating dispersions\n",
      "\n",
      "gene-wise dispersion estimates: 8 workers\n",
      "\n",
      "mean-dispersion relationship\n",
      "\n",
      "final dispersion estimates, fitting model and testing: 8 workers\n",
      "\n",
      "-- replacing outliers and refitting for 106 genes\n",
      "-- DESeq argument 'minReplicatesForReplace' = 7 \n",
      "-- original counts are preserved in counts(dds)\n",
      "\n",
      "estimating dispersions\n",
      "\n",
      "fitting model and testing\n",
      "\n"
     ]
    }
   ],
   "source": [
    "## PARAMS ##\n",
    "# Percentage of samples in which features must have >0 sum\n",
    "pfam.percent_occ <- 10\n",
    "# Quantile used for removing low abundance features\n",
    "pfam.quantile_thresh <- 0.1\n",
    "\n",
    "## PREFILTERING ##\n",
    "# Remove zero sum features\n",
    "nz <- rownames(pfam$cov[rowSums(pfam$cov) > 0, ])\n",
    "pfam$nz <- pfam$cov[rownames(pfam$cov)%in%nz, ]\n",
    "\n",
    "# Filter low abundance features\n",
    "low_threshold = quantile(rowSums(pfam$nz) / sum(rowSums(pfam$nz)) * 100, probs = pfam.quantile_thresh)\n",
    "pfam$filtered <- low.count.removal(pfam$nz, percent = low_threshold)$data.filter\n",
    "\n",
    "pfam$occ <- rowSums(pfam$filtered>0) / ncol(pfam$filtered) * 100\n",
    "# Keep features occurring in defined percentage of samples\n",
    "pfam$filtered <- pfam$filtered[which(pfam$occ >= pfam.percent_occ), ]\n",
    "paste0(c(dim(pfam$cov)[1] - dim(pfam$filtered)[1], \"PFAMs removed\", dim(pfam$filtered)[1], \"remaining\"))\n",
    "\n",
    "pfam$filtered <- ceiling(pfam$filtered)\n",
    "\n",
    "## DESeq2 analysis\n",
    "info.pfam <- info[, c(\"run\",\"sample\",\"Generation\")]\n",
    "dds.pfam <- DESeqDataSetFromMatrix(countData = pfam$filtered,\n",
    "                              colData = info.pfam,\n",
    "                              design = ~ 1 + Generation)\n",
    "dds.pfam$sample <- info$sample\n",
    "dds.pfam$run <- info$run\n",
    "#dds.pfam <- collapseReplicates(dds.pfam, dds.pfam$sample, dds.pfam$run)\n",
    "dds.pfam <- DESeq(dds.pfam, sfType = \"poscounts\", parallel = TRUE)\n",
    "\n",
    "# Multi-factor (treatment + generation)\n",
    "#dds.pfamMF <- dds.pfam\n",
    "#design(dds.pfamMF) <- formula(~ group)\n",
    "#dds.pfamMF <- DESeq(dds.pfamMF, sfType = \"poscounts\")\n",
    "\n",
    "# Contrast H vs C\n",
    "res.pfam.F2vsF0 <- results(dds.pfam, contrast = list(\"Generation_F2_vs_F0\"))\n",
    "res.pfam.F2vsF0 <- res.pfam.F2vsF0[order(res.pfam.F2vsF0$padj),]\n",
    "save_results(res.pfam.F2vsF0, \"res.pfam.F2vsF0\")\n",
    "\n",
    "# Contrast L vs C\n",
    "res.pfam.F1vsF0 <- results(dds.pfam, contrast = list(\"Generation_F1_vs_F0\"))\n",
    "res.pfam.F1vsF0 <- res.pfam.F1vsF0[order(res.pfam.F1vsF0$padj),]\n",
    "save_results(res.pfam.F1vsF0, \"res.pfam.F1vsF0\")\n",
    "\n",
    "# Contrast H vs L\n",
    "res.pfam.F2vsF1 <- results(dds.pfam, contrast = list(\"Generation_F2_vs_F0\", \"Generation_F1_vs_F0\"))\n",
    "res.pfam.F2vsF1 <- res.pfam.F2vsF1[order(res.pfam.F2vsF1$padj),]\n",
    "save_results(res.pfam.F2vsF1, \"res.pfam.F2vsF1\")"
   ]
  },
  {
   "cell_type": "markdown",
   "id": "54c1732c",
   "metadata": {},
   "source": [
    "#### PFAMs - F0 generation"
   ]
  },
  {
   "cell_type": "code",
   "execution_count": 117,
   "id": "1374fb4a",
   "metadata": {
    "vscode": {
     "languageId": "r"
    }
   },
   "outputs": [
    {
     "name": "stderr",
     "output_type": "stream",
     "text": [
      "converting counts to integer mode\n",
      "\n",
      "estimating size factors\n",
      "\n",
      "estimating dispersions\n",
      "\n",
      "gene-wise dispersion estimates: 8 workers\n",
      "\n",
      "mean-dispersion relationship\n",
      "\n",
      "final dispersion estimates, fitting model and testing: 8 workers\n",
      "\n",
      "-- replacing outliers and refitting for 5 genes\n",
      "-- DESeq argument 'minReplicatesForReplace' = 7 \n",
      "-- original counts are preserved in counts(dds)\n",
      "\n",
      "estimating dispersions\n",
      "\n",
      "fitting model and testing\n",
      "\n"
     ]
    }
   ],
   "source": [
    "# Extract and filter F0 samples\n",
    "pfam$cov.F0 <- pfam$cov[, rownames(info[info$Generation==\"F0\",])]\n",
    "## PARAMS ##\n",
    "# Percentage of samples in which features must have >0 sum\n",
    "pfam.F0.percent_occ <- 10\n",
    "# Quantile used for removing low abundance features\n",
    "pfam.F0.quantile_thresh <- 0.1\n",
    "\n",
    "## PREFILTERING ##\n",
    "# Remove zero sum features\n",
    "nz <- rownames(pfam$cov.F0[rowSums(pfam$cov.F0) > 0, ])\n",
    "pfam$nz.F0 <- pfam$cov.F0[rownames(pfam$cov.F0)%in%nz, ]\n",
    "\n",
    "# Filter low abundance features\n",
    "low_threshold = quantile(rowSums(pfam$nz.F0) / sum(rowSums(pfam$nz.F0)) * 100, probs = pfam.F0.quantile_thresh)\n",
    "pfam$filtered.F0 <- low.count.removal(pfam$nz.F0, percent = low_threshold)$data.filter\n",
    "\n",
    "pfam$occ.F0 <- rowSums(pfam$filtered.F0>0) / ncol(pfam$filtered.F0) * 100\n",
    "# Keep features occurring in defined percentage of samples\n",
    "pfam$filtered.F0 <- pfam$filtered.F0[which(pfam$occ.F0 >= pfam.F0.percent_occ), ]\n",
    "\n",
    "\n",
    "pfam$filtered.F0 <- ceiling(pfam$filtered.F0)\n",
    "\n",
    "\n",
    "info.F0 <- info[colnames(pfam$filtered.F0), c(\"run\",\"sample\",\"Treatment\")]\n",
    "\n",
    "# Create DESeq dataset\n",
    "dds.pfam.F0 <- DESeqDataSetFromMatrix(countData = pfam$filtered.F0,\n",
    "                                    colData = info.F0,\n",
    "                                    design = ~ 1 + Treatment)\n",
    "\n",
    "# Add information in case of collapsing technical replicates\n",
    "dds.pfam.F0$sample <- info.F0$sample\n",
    "dds.pfam.F0$run <- info.F0$run\n",
    "#dds.pfam.F0 <- collapseReplicates(dds.pfam.F0, dds.pfam.F0$sample, dds.pfam.F0$run)\n",
    "\n",
    "# Run DESeq2\n",
    "dds.pfam.F0 <- DESeq(dds.pfam.F0, sfType = \"poscounts\", parallel = TRUE)\n",
    "\n",
    "# Contrast H vs C\n",
    "res.pfam.F0.HvsC <- results(dds.pfam.F0, contrast = list(\"Treatment_H_vs_C\"))\n",
    "res.pfam.F0.HvsC <- res.pfam.F0.HvsC[order(res.pfam.F0.HvsC$padj),]\n",
    "save_results(res.pfam.F0.HvsC, \"res.pfam.F0_HvsF0_C\")\n",
    "\n",
    "# Contrast L vs C\n",
    "res.pfam.F0.LvsC <- results(dds.pfam.F0, contrast = list(\"Treatment_L_vs_C\"))\n",
    "res.pfam.F0.LvsC <- res.pfam.F0.LvsC[order(res.pfam.F0.LvsC$padj),]\n",
    "save_results(res.pfam.F0.LvsC, \"res.pfam.F0_LvsF0_C\")\n",
    "\n",
    "# Contrast H vs L\n",
    "res.pfam.F0.HvsL <- results(dds.pfam.F0, contrast = list(\"Treatment_H_vs_C\", \"Treatment_L_vs_C\"))\n",
    "res.pfam.F0.HvsL <- res.pfam.F0.HvsL[order(res.pfam.F0.HvsL$padj),]\n",
    "save_results(res.pfam.F0.HvsL, \"res.pfam.F0_HvsF0_L\")"
   ]
  },
  {
   "cell_type": "markdown",
   "id": "ae0055d6",
   "metadata": {},
   "source": [
    "#### PFAMs - F0 generation (C+L vs H)"
   ]
  },
  {
   "cell_type": "code",
   "execution_count": 118,
   "id": "1609a008",
   "metadata": {
    "vscode": {
     "languageId": "r"
    }
   },
   "outputs": [
    {
     "name": "stderr",
     "output_type": "stream",
     "text": [
      "converting counts to integer mode\n",
      "\n",
      "Warning message in DESeqDataSet(se, design = design, ignoreRank):\n",
      "“some variables in design formula are characters, converting to factors”\n",
      "estimating size factors\n",
      "\n",
      "estimating dispersions\n",
      "\n",
      "gene-wise dispersion estimates: 8 workers\n",
      "\n",
      "mean-dispersion relationship\n",
      "\n",
      "final dispersion estimates, fitting model and testing: 8 workers\n",
      "\n",
      "-- replacing outliers and refitting for 19 genes\n",
      "-- DESeq argument 'minReplicatesForReplace' = 7 \n",
      "-- original counts are preserved in counts(dds)\n",
      "\n",
      "estimating dispersions\n",
      "\n",
      "fitting model and testing\n",
      "\n"
     ]
    }
   ],
   "source": [
    "info.F0_2 <- info.F0\n",
    "info.F0_2$Treatment <- gsub(x = info.F0_2$Treatment, pattern = \"[CL]\", replacement = \"CL\")\n",
    "# Create DESeq dataset\n",
    "dds.pfam.F0_2 <- DESeqDataSetFromMatrix(countData = pfam$filtered.F0,\n",
    "                                    colData = info.F0_2,\n",
    "                                    design = ~ 1 + Treatment)\n",
    "\n",
    "\n",
    "# Run DESeq2\n",
    "dds.pfam.F0_2 <- DESeq(dds.pfam.F0_2, sfType = \"poscounts\", parallel = TRUE)\n",
    "\n",
    "# Contrast H vs C+L\n",
    "res.pfam.F0.HvsCL <- results(dds.pfam.F0_2, contrast = list(\"Treatment_H_vs_CL\"))\n",
    "res.pfam.F0.HvsCL <- res.pfam.F0.HvsCL[order(res.pfam.F0.HvsCL$padj),]\n",
    "save_results(res.pfam.F0.HvsCL, \"res.pfam.F0_HvsF0_CL\")"
   ]
  },
  {
   "cell_type": "markdown",
   "id": "0d376f66",
   "metadata": {},
   "source": [
    "#### PFAMs - F1 generation"
   ]
  },
  {
   "cell_type": "code",
   "execution_count": 119,
   "id": "08f2b1a0",
   "metadata": {
    "vscode": {
     "languageId": "r"
    }
   },
   "outputs": [
    {
     "name": "stderr",
     "output_type": "stream",
     "text": [
      "converting counts to integer mode\n",
      "\n",
      "estimating size factors\n",
      "\n",
      "estimating dispersions\n",
      "\n",
      "gene-wise dispersion estimates: 8 workers\n",
      "\n",
      "mean-dispersion relationship\n",
      "\n",
      "final dispersion estimates, fitting model and testing: 8 workers\n",
      "\n",
      "-- replacing outliers and refitting for 17 genes\n",
      "-- DESeq argument 'minReplicatesForReplace' = 7 \n",
      "-- original counts are preserved in counts(dds)\n",
      "\n",
      "estimating dispersions\n",
      "\n",
      "fitting model and testing\n",
      "\n"
     ]
    }
   ],
   "source": [
    "# Extract and filter F1 samples\n",
    "pfam$cov.F1 <- pfam$cov[, rownames(info[info$Generation==\"F1\",])]\n",
    "## PARAMS ##\n",
    "# Percentage of samples in which features must have >0 sum\n",
    "pfam.F1.percent_occ <- 10\n",
    "# Quantile used for removing low abundance features\n",
    "pfam.F1.quantile_thresh <- 0.1\n",
    "\n",
    "## PREFILTERING ##\n",
    "# Remove zero sum features\n",
    "nz <- rownames(pfam$cov.F1[rowSums(pfam$cov.F1) > 0, ])\n",
    "pfam$nz.F1 <- pfam$cov.F1[rownames(pfam$cov.F1)%in%nz, ]\n",
    "\n",
    "# Filter low abundance features\n",
    "low_threshold = quantile(rowSums(pfam$nz.F1) / sum(rowSums(pfam$nz.F1)) * 100, probs = pfam.F1.quantile_thresh)\n",
    "pfam$filtered.F1 <- low.count.removal(pfam$nz.F1, percent = low_threshold)$data.filter\n",
    "\n",
    "pfam$occ.F1 <- rowSums(pfam$filtered.F1>0) / ncol(pfam$filtered.F1) * 100\n",
    "# Keep features occurring in defined percentage of samples\n",
    "pfam$filtered.F1 <- pfam$filtered.F1[which(pfam$occ.F1 >= pfam.F1.percent_occ), ]\n",
    "\n",
    "\n",
    "pfam$filtered.F1 <- ceiling(pfam$filtered.F1)\n",
    "\n",
    "\n",
    "info.F1 <- info[colnames(pfam$filtered.F1), c(\"run\",\"sample\",\"Treatment\")]\n",
    "\n",
    "# Create DESeq dataset\n",
    "dds.pfam.F1 <- DESeqDataSetFromMatrix(countData = pfam$filtered.F1,\n",
    "                                    colData = info.F1,\n",
    "                                    design = ~ 1 + Treatment)\n",
    "\n",
    "# Add information in case of collapsing technical replicates\n",
    "dds.pfam.F1$sample <- info.F1$sample\n",
    "dds.pfam.F1$run <- info.F1$run\n",
    "#dds.pfam.F1 <- collapseReplicates(dds.pfam.F1, dds.pfam.F1$sample, dds.pfam.F1$run)\n",
    "\n",
    "# Run DESeq2\n",
    "dds.pfam.F1 <- DESeq(dds.pfam.F1, sfType = \"poscounts\", parallel = TRUE)\n",
    "\n",
    "# Contrast H vs C\n",
    "res.pfam.F1.HvsC <- results(dds.pfam.F1, contrast = list(\"Treatment_H_vs_C\"))\n",
    "res.pfam.F1.HvsC <- res.pfam.F1.HvsC[order(res.pfam.F1.HvsC$padj),]\n",
    "save_results(res.pfam.F1.HvsC, \"res.pfam.F1_HvsF1_C\")\n",
    "\n",
    "# Contrast L vs C\n",
    "res.pfam.F1.LvsC <- results(dds.pfam.F1, contrast = list(\"Treatment_L_vs_C\"))\n",
    "res.pfam.F1.LvsC <- res.pfam.F1.LvsC[order(res.pfam.F1.LvsC$padj),]\n",
    "save_results(res.pfam.F1.LvsC, \"res.pfam.F1_LvsF1_C\")\n",
    "\n",
    "# Contrast H vs L\n",
    "res.pfam.F1.HvsL <- results(dds.pfam.F1, contrast = list(\"Treatment_H_vs_C\", \"Treatment_L_vs_C\"))\n",
    "res.pfam.F1.HvsL <- res.pfam.F1.HvsL[order(res.pfam.F1.HvsL$padj),]\n",
    "save_results(res.pfam.F1.HvsL, \"res.pfam.F1_HvsF1_L\")"
   ]
  },
  {
   "cell_type": "markdown",
   "id": "652b7225",
   "metadata": {},
   "source": [
    "#### PFAMs - F1 generation (C+L vs H)"
   ]
  },
  {
   "cell_type": "code",
   "execution_count": 120,
   "id": "2ef4224b",
   "metadata": {
    "vscode": {
     "languageId": "r"
    }
   },
   "outputs": [
    {
     "name": "stderr",
     "output_type": "stream",
     "text": [
      "converting counts to integer mode\n",
      "\n",
      "Warning message in DESeqDataSet(se, design = design, ignoreRank):\n",
      "“some variables in design formula are characters, converting to factors”\n",
      "estimating size factors\n",
      "\n",
      "estimating dispersions\n",
      "\n",
      "gene-wise dispersion estimates: 8 workers\n",
      "\n",
      "mean-dispersion relationship\n",
      "\n",
      "final dispersion estimates, fitting model and testing: 8 workers\n",
      "\n",
      "-- replacing outliers and refitting for 58 genes\n",
      "-- DESeq argument 'minReplicatesForReplace' = 7 \n",
      "-- original counts are preserved in counts(dds)\n",
      "\n",
      "estimating dispersions\n",
      "\n",
      "fitting model and testing\n",
      "\n"
     ]
    }
   ],
   "source": [
    "info.F1_2 <- info.F1\n",
    "info.F1_2$Treatment <- gsub(x = info.F1_2$Treatment, pattern = \"[CL]\", replacement = \"CL\")\n",
    "# Create DESeq dataset\n",
    "dds.pfam.F1_2 <- DESeqDataSetFromMatrix(countData = pfam$filtered.F1,\n",
    "                                    colData = info.F1_2,\n",
    "                                    design = ~ 1 + Treatment)\n",
    "\n",
    "\n",
    "# Run DESeq2\n",
    "dds.pfam.F1_2 <- DESeq(dds.pfam.F1_2, sfType = \"poscounts\", parallel = TRUE)\n",
    "\n",
    "# Contrast H vs C+L\n",
    "res.pfam.F1.HvsCL <- results(dds.pfam.F1_2, contrast = list(\"Treatment_H_vs_CL\"))\n",
    "res.pfam.F1.HvsCL <- res.pfam.F1.HvsCL[order(res.pfam.F1.HvsCL$padj),]\n",
    "save_results(res.pfam.F1.HvsCL, \"res.pfam.F1_HvsF1_CL\")"
   ]
  },
  {
   "cell_type": "markdown",
   "id": "6d9b94fb",
   "metadata": {},
   "source": [
    "#### PFAMs - F2 generation"
   ]
  },
  {
   "cell_type": "code",
   "execution_count": 121,
   "id": "fe61fbbf",
   "metadata": {
    "vscode": {
     "languageId": "r"
    }
   },
   "outputs": [
    {
     "name": "stderr",
     "output_type": "stream",
     "text": [
      "converting counts to integer mode\n",
      "\n",
      "estimating size factors\n",
      "\n",
      "estimating dispersions\n",
      "\n",
      "gene-wise dispersion estimates: 8 workers\n",
      "\n",
      "mean-dispersion relationship\n",
      "\n",
      "final dispersion estimates, fitting model and testing: 8 workers\n",
      "\n",
      "-- replacing outliers and refitting for 327 genes\n",
      "-- DESeq argument 'minReplicatesForReplace' = 7 \n",
      "-- original counts are preserved in counts(dds)\n",
      "\n",
      "estimating dispersions\n",
      "\n",
      "fitting model and testing\n",
      "\n"
     ]
    }
   ],
   "source": [
    "# Extract and filter F2 samples\n",
    "pfam$cov.F2 <- pfam$cov[, rownames(info[info$Generation==\"F2\",])]\n",
    "## PARAMS ##\n",
    "# Percentage of samples in which features must have >0 sum\n",
    "pfam.F2.percent_occ <- 10\n",
    "# Quantile used for removing low abundance features\n",
    "pfam.F2.quantile_thresh <- 0.1\n",
    "\n",
    "## PREFILTERING ##\n",
    "# Remove zero sum features\n",
    "nz <- rownames(pfam$cov.F2[rowSums(pfam$cov.F2) > 0, ])\n",
    "pfam$nz.F2 <- pfam$cov.F2[rownames(pfam$cov.F2)%in%nz, ]\n",
    "\n",
    "# Filter low abundance features\n",
    "low_threshold = quantile(rowSums(pfam$nz.F2) / sum(rowSums(pfam$nz.F2)) * 100, probs = pfam.F2.quantile_thresh)\n",
    "pfam$filtered.F2 <- low.count.removal(pfam$nz.F2, percent = low_threshold)$data.filter\n",
    "\n",
    "pfam$occ.F2 <- rowSums(pfam$filtered.F2>0) / ncol(pfam$filtered.F2) * 100\n",
    "# Keep features occurring in defined percentage of samples\n",
    "pfam$filtered.F2 <- pfam$filtered.F2[which(pfam$occ.F2 >= pfam.F2.percent_occ), ]\n",
    "\n",
    "\n",
    "pfam$filtered.F2 <- ceiling(pfam$filtered.F2)\n",
    "\n",
    "\n",
    "info.F2 <- info[colnames(pfam$filtered.F2), c(\"run\",\"sample\",\"Treatment\")]\n",
    "\n",
    "# Create DESeq dataset\n",
    "dds.pfam.F2 <- DESeqDataSetFromMatrix(countData = pfam$filtered.F2,\n",
    "                                    colData = info.F2,\n",
    "                                    design = ~ 1 + Treatment)\n",
    "\n",
    "# Add information in case of collapsing technical replicates\n",
    "dds.pfam.F2$sample <- info.F2$sample\n",
    "dds.pfam.F2$run <- info.F2$run\n",
    "#dds.pfam.F2 <- collapseReplicates(dds.pfam.F2, dds.pfam.F2$sample, dds.pfam.F2$run)\n",
    "\n",
    "# Run DESeq2\n",
    "dds.pfam.F2 <- DESeq(dds.pfam.F2, sfType = \"poscounts\", parallel = TRUE)\n",
    "\n",
    "# Contrast H vs C\n",
    "res.pfam.F2.HvsC <- results(dds.pfam.F2, contrast = list(\"Treatment_H_vs_C\"))\n",
    "res.pfam.F2.HvsC <- res.pfam.F2.HvsC[order(res.pfam.F2.HvsC$padj),]\n",
    "save_results(res.pfam.F2.HvsC, \"res.pfam.F2_HvsF2_C\")\n",
    "\n",
    "# Contrast L vs C\n",
    "res.pfam.F2.LvsC <- results(dds.pfam.F2, contrast = list(\"Treatment_L_vs_C\"))\n",
    "res.pfam.F2.LvsC <- res.pfam.F2.LvsC[order(res.pfam.F2.LvsC$padj),]\n",
    "save_results(res.pfam.F2.LvsC, \"res.pfam.F2_LvsF2_C\")\n",
    "\n",
    "# Contrast H vs L\n",
    "res.pfam.F2.HvsL <- results(dds.pfam.F2, contrast = list(\"Treatment_H_vs_C\", \"Treatment_L_vs_C\"))\n",
    "res.pfam.F2.HvsL <- res.pfam.F2.HvsL[order(res.pfam.F2.HvsL$padj),]\n",
    "save_results(res.pfam.F2.HvsL, \"res.pfam.F2_HvsF2_L\")"
   ]
  },
  {
   "cell_type": "markdown",
   "id": "6b3bd01c",
   "metadata": {},
   "source": [
    "#### PFAMs - F2 generation (C+L vs H)"
   ]
  },
  {
   "cell_type": "code",
   "execution_count": 122,
   "id": "73975bf7",
   "metadata": {
    "vscode": {
     "languageId": "r"
    }
   },
   "outputs": [
    {
     "name": "stderr",
     "output_type": "stream",
     "text": [
      "converting counts to integer mode\n",
      "\n",
      "Warning message in DESeqDataSet(se, design = design, ignoreRank):\n",
      "“some variables in design formula are characters, converting to factors”\n",
      "estimating size factors\n",
      "\n",
      "estimating dispersions\n",
      "\n",
      "gene-wise dispersion estimates: 8 workers\n",
      "\n",
      "mean-dispersion relationship\n",
      "\n",
      "final dispersion estimates, fitting model and testing: 8 workers\n",
      "\n",
      "-- replacing outliers and refitting for 274 genes\n",
      "-- DESeq argument 'minReplicatesForReplace' = 7 \n",
      "-- original counts are preserved in counts(dds)\n",
      "\n",
      "estimating dispersions\n",
      "\n",
      "fitting model and testing\n",
      "\n"
     ]
    }
   ],
   "source": [
    "info.F2_2 <- info.F2\n",
    "info.F2_2$Treatment <- gsub(x = info.F2_2$Treatment, pattern = \"[CL]\", replacement = \"CL\")\n",
    "# Create DESeq dataset\n",
    "dds.pfam.F2_2 <- DESeqDataSetFromMatrix(countData = pfam$filtered.F2,\n",
    "                                    colData = info.F2_2,\n",
    "                                    design = ~ 1 + Treatment)\n",
    "\n",
    "\n",
    "# Run DESeq2\n",
    "dds.pfam.F2_2 <- DESeq(dds.pfam.F2_2, sfType = \"poscounts\", parallel = TRUE)\n",
    "\n",
    "# Contrast H vs C+L\n",
    "res.pfam.F2.HvsCL <- results(dds.pfam.F2_2, contrast = list(\"Treatment_H_vs_CL\"))\n",
    "res.pfam.F2.HvsCL <- res.pfam.F2.HvsCL[order(res.pfam.F2.HvsCL$padj),]\n",
    "save_results(res.pfam.F2.HvsCL, \"res.pfam.F2_HvsF2_CL\")"
   ]
  },
  {
   "cell_type": "markdown",
   "id": "4ed03b9f",
   "metadata": {},
   "source": [
    "### KO"
   ]
  },
  {
   "cell_type": "markdown",
   "id": "2b9fd1cc",
   "metadata": {},
   "source": [
    "#### ko - generational differences"
   ]
  },
  {
   "cell_type": "code",
   "execution_count": 123,
   "id": "13cef9bb",
   "metadata": {
    "vscode": {
     "languageId": "r"
    }
   },
   "outputs": [
    {
     "data": {
      "text/html": [
       "<style>\n",
       ".list-inline {list-style: none; margin:0; padding: 0}\n",
       ".list-inline>li {display: inline-block}\n",
       ".list-inline>li:not(:last-child)::after {content: \"\\00b7\"; padding: 0 .5ex}\n",
       "</style>\n",
       "<ol class=list-inline><li>'974'</li><li>'kos removed'</li><li>'4952'</li><li>'remaining'</li></ol>\n"
      ],
      "text/latex": [
       "\\begin{enumerate*}\n",
       "\\item '974'\n",
       "\\item 'kos removed'\n",
       "\\item '4952'\n",
       "\\item 'remaining'\n",
       "\\end{enumerate*}\n"
      ],
      "text/markdown": [
       "1. '974'\n",
       "2. 'kos removed'\n",
       "3. '4952'\n",
       "4. 'remaining'\n",
       "\n",
       "\n"
      ],
      "text/plain": [
       "[1] \"974\"         \"kos removed\" \"4952\"        \"remaining\"  "
      ]
     },
     "metadata": {},
     "output_type": "display_data"
    },
    {
     "name": "stderr",
     "output_type": "stream",
     "text": [
      "converting counts to integer mode\n",
      "\n",
      "estimating size factors\n",
      "\n",
      "estimating dispersions\n",
      "\n",
      "gene-wise dispersion estimates: 8 workers\n",
      "\n",
      "mean-dispersion relationship\n",
      "\n",
      "final dispersion estimates, fitting model and testing: 8 workers\n",
      "\n",
      "-- replacing outliers and refitting for 103 genes\n",
      "-- DESeq argument 'minReplicatesForReplace' = 7 \n",
      "-- original counts are preserved in counts(dds)\n",
      "\n",
      "estimating dispersions\n",
      "\n",
      "fitting model and testing\n",
      "\n"
     ]
    }
   ],
   "source": [
    "## PARAMS ##\n",
    "# Percentage of samples in which features must have >0 sum\n",
    "ko.percent_occ <- 10\n",
    "# Quantile used for removing low abundance features\n",
    "ko.quantile_thresh <- 0.1\n",
    "\n",
    "## PREFILTERING ##\n",
    "# Remove zero sum features\n",
    "nz <- rownames(ko$cov[rowSums(ko$cov) > 0, ])\n",
    "ko$nz <- ko$cov[rownames(ko$cov)%in%nz, ]\n",
    "\n",
    "# Filter low abundance features\n",
    "low_threshold = quantile(rowSums(ko$nz) / sum(rowSums(ko$nz)) * 100, probs = ko.quantile_thresh)\n",
    "ko$filtered <- low.count.removal(ko$nz, percent = low_threshold)$data.filter\n",
    "\n",
    "ko$occ <- rowSums(ko$filtered>0) / ncol(ko$filtered) * 100\n",
    "# Keep features occurring in defined percentage of samples\n",
    "ko$filtered <- ko$filtered[which(ko$occ >= ko.percent_occ), ]\n",
    "paste0(c(dim(ko$cov)[1] - dim(ko$filtered)[1], \"kos removed\", dim(ko$filtered)[1], \"remaining\"))\n",
    "\n",
    "ko$filtered <- ceiling(ko$filtered)\n",
    "\n",
    "## DESeq2 analysis\n",
    "info.ko <- info[, c(\"run\",\"sample\",\"Generation\")]\n",
    "dds.ko <- DESeqDataSetFromMatrix(countData = ko$filtered,\n",
    "                              colData = info.ko,\n",
    "                              design = ~ 1 + Generation)\n",
    "dds.ko$sample <- info$sample\n",
    "dds.ko$run <- info$run\n",
    "#dds.ko <- collapseReplicates(dds.ko, dds.ko$sample, dds.ko$run)\n",
    "dds.ko <- DESeq(dds.ko, sfType = \"poscounts\", parallel = TRUE)\n",
    "\n",
    "# Multi-factor (treatment + generation)\n",
    "#dds.koMF <- dds.ko\n",
    "#design(dds.koMF) <- formula(~ group)\n",
    "#dds.koMF <- DESeq(dds.koMF, sfType = \"poscounts\")\n",
    "\n",
    "# Contrast H vs C\n",
    "res.ko.F2vsF0 <- results(dds.ko, contrast = list(\"Generation_F2_vs_F0\"))\n",
    "res.ko.F2vsF0 <- res.ko.F2vsF0[order(res.ko.F2vsF0$padj),]\n",
    "save_results(res.ko.F2vsF0, \"res.ko.F2vsF0\")\n",
    "\n",
    "# Contrast L vs C\n",
    "res.ko.F1vsF0 <- results(dds.ko, contrast = list(\"Generation_F1_vs_F0\"))\n",
    "res.ko.F1vsF0 <- res.ko.F1vsF0[order(res.ko.F1vsF0$padj),]\n",
    "save_results(res.ko.F1vsF0, \"res.ko.F1vsF0\")\n",
    "\n",
    "# Contrast H vs L\n",
    "res.ko.F2vsF1 <- results(dds.ko, contrast = list(\"Generation_F2_vs_F0\", \"Generation_F1_vs_F0\"))\n",
    "res.ko.F2vsF1 <- res.ko.F2vsF1[order(res.ko.F2vsF1$padj),]\n",
    "save_results(res.ko.F2vsF1, \"res.ko.F2vsF1\")"
   ]
  },
  {
   "cell_type": "markdown",
   "id": "f4fa71ff",
   "metadata": {},
   "source": [
    "#### kos - F0 generation"
   ]
  },
  {
   "cell_type": "code",
   "execution_count": 124,
   "id": "fcae4672",
   "metadata": {
    "vscode": {
     "languageId": "r"
    }
   },
   "outputs": [
    {
     "name": "stderr",
     "output_type": "stream",
     "text": [
      "converting counts to integer mode\n",
      "\n",
      "estimating size factors\n",
      "\n",
      "estimating dispersions\n",
      "\n",
      "gene-wise dispersion estimates: 8 workers\n",
      "\n",
      "mean-dispersion relationship\n",
      "\n",
      "final dispersion estimates, fitting model and testing: 8 workers\n",
      "\n",
      "-- replacing outliers and refitting for 8 genes\n",
      "-- DESeq argument 'minReplicatesForReplace' = 7 \n",
      "-- original counts are preserved in counts(dds)\n",
      "\n",
      "estimating dispersions\n",
      "\n",
      "fitting model and testing\n",
      "\n"
     ]
    }
   ],
   "source": [
    "# Extract and filter F0 samples\n",
    "ko$cov.F0 <- ko$cov[, rownames(info[info$Generation==\"F0\",])]\n",
    "## PARAMS ##\n",
    "# Percentage of samples in which features must have >0 sum\n",
    "ko.F0.percent_occ <- 10\n",
    "# Quantile used for removing low abundance features\n",
    "ko.F0.quantile_thresh <- 0.1\n",
    "\n",
    "## PREFILTERING ##\n",
    "# Remove zero sum features\n",
    "nz <- rownames(ko$cov.F0[rowSums(ko$cov.F0) > 0, ])\n",
    "ko$nz.F0 <- ko$cov.F0[rownames(ko$cov.F0)%in%nz, ]\n",
    "\n",
    "# Filter low abundance features\n",
    "low_threshold = quantile(rowSums(ko$nz.F0) / sum(rowSums(ko$nz.F0)) * 100, probs = ko.F0.quantile_thresh)\n",
    "ko$filtered.F0 <- low.count.removal(ko$nz.F0, percent = low_threshold)$data.filter\n",
    "\n",
    "ko$occ.F0 <- rowSums(ko$filtered.F0>0) / ncol(ko$filtered.F0) * 100\n",
    "# Keep features occurring in defined percentage of samples\n",
    "ko$filtered.F0 <- ko$filtered.F0[which(ko$occ.F0 >= ko.F0.percent_occ), ]\n",
    "\n",
    "\n",
    "ko$filtered.F0 <- ceiling(ko$filtered.F0)\n",
    "\n",
    "\n",
    "info.F0 <- info[colnames(ko$filtered.F0), c(\"run\",\"sample\",\"Treatment\")]\n",
    "\n",
    "# Create DESeq dataset\n",
    "dds.ko.F0 <- DESeqDataSetFromMatrix(countData = ko$filtered.F0,\n",
    "                                    colData = info.F0,\n",
    "                                    design = ~ 1 + Treatment)\n",
    "\n",
    "# Add information in case of collapsing technical replicates\n",
    "dds.ko.F0$sample <- info.F0$sample\n",
    "dds.ko.F0$run <- info.F0$run\n",
    "#dds.ko.F0 <- collapseReplicates(dds.ko.F0, dds.ko.F0$sample, dds.ko.F0$run)\n",
    "\n",
    "# Run DESeq2\n",
    "dds.ko.F0 <- DESeq(dds.ko.F0, sfType = \"poscounts\", parallel = TRUE)\n",
    "\n",
    "# Contrast H vs C\n",
    "res.ko.F0.HvsC <- results(dds.ko.F0, contrast = list(\"Treatment_H_vs_C\"))\n",
    "res.ko.F0.HvsC <- res.ko.F0.HvsC[order(res.ko.F0.HvsC$padj),]\n",
    "save_results(res.ko.F0.HvsC, \"res.ko.F0_HvsF0_C\")\n",
    "\n",
    "# Contrast L vs C\n",
    "res.ko.F0.LvsC <- results(dds.ko.F0, contrast = list(\"Treatment_L_vs_C\"))\n",
    "res.ko.F0.LvsC <- res.ko.F0.LvsC[order(res.ko.F0.LvsC$padj),]\n",
    "save_results(res.ko.F0.LvsC, \"res.ko.F0_LvsF0_C\")\n",
    "\n",
    "# Contrast H vs L\n",
    "res.ko.F0.HvsL <- results(dds.ko.F0, contrast = list(\"Treatment_H_vs_C\", \"Treatment_L_vs_C\"))\n",
    "res.ko.F0.HvsL <- res.ko.F0.HvsL[order(res.ko.F0.HvsL$padj),]\n",
    "save_results(res.ko.F0.HvsL, \"res.ko.F0_HvsF0_L\")"
   ]
  },
  {
   "cell_type": "markdown",
   "id": "e45a197e",
   "metadata": {},
   "source": [
    "#### kos - F0 generation (C+L vs H)"
   ]
  },
  {
   "cell_type": "code",
   "execution_count": 125,
   "id": "9330dfd7",
   "metadata": {
    "vscode": {
     "languageId": "r"
    }
   },
   "outputs": [
    {
     "name": "stderr",
     "output_type": "stream",
     "text": [
      "converting counts to integer mode\n",
      "\n",
      "Warning message in DESeqDataSet(se, design = design, ignoreRank):\n",
      "“some variables in design formula are characters, converting to factors”\n",
      "estimating size factors\n",
      "\n",
      "estimating dispersions\n",
      "\n",
      "gene-wise dispersion estimates: 8 workers\n",
      "\n",
      "mean-dispersion relationship\n",
      "\n",
      "final dispersion estimates, fitting model and testing: 8 workers\n",
      "\n",
      "-- replacing outliers and refitting for 32 genes\n",
      "-- DESeq argument 'minReplicatesForReplace' = 7 \n",
      "-- original counts are preserved in counts(dds)\n",
      "\n",
      "estimating dispersions\n",
      "\n",
      "fitting model and testing\n",
      "\n"
     ]
    }
   ],
   "source": [
    "info.F0_2 <- info.F0\n",
    "info.F0_2$Treatment <- gsub(x = info.F0_2$Treatment, pattern = \"[CL]\", replacement = \"CL\")\n",
    "# Create DESeq dataset\n",
    "dds.ko.F0_2 <- DESeqDataSetFromMatrix(countData = ko$filtered.F0,\n",
    "                                    colData = info.F0_2,\n",
    "                                    design = ~ 1 + Treatment)\n",
    "\n",
    "\n",
    "# Run DESeq2\n",
    "dds.ko.F0_2 <- DESeq(dds.ko.F0_2, sfType = \"poscounts\", parallel = TRUE)\n",
    "\n",
    "# Contrast H vs C+L\n",
    "res.ko.F0.HvsCL <- results(dds.ko.F0_2, contrast = list(\"Treatment_H_vs_CL\"))\n",
    "res.ko.F0.HvsCL <- res.ko.F0.HvsCL[order(res.ko.F0.HvsCL$padj),]\n",
    "save_results(res.ko.F0.HvsCL, \"res.ko.F0_HvsF0_CL\")"
   ]
  },
  {
   "cell_type": "markdown",
   "id": "b64d6178",
   "metadata": {},
   "source": [
    "#### kos - F1 generation"
   ]
  },
  {
   "cell_type": "code",
   "execution_count": 126,
   "id": "6889f1ae",
   "metadata": {
    "vscode": {
     "languageId": "r"
    }
   },
   "outputs": [
    {
     "name": "stderr",
     "output_type": "stream",
     "text": [
      "converting counts to integer mode\n",
      "\n",
      "estimating size factors\n",
      "\n",
      "estimating dispersions\n",
      "\n",
      "gene-wise dispersion estimates: 8 workers\n",
      "\n",
      "mean-dispersion relationship\n",
      "\n",
      "final dispersion estimates, fitting model and testing: 8 workers\n",
      "\n",
      "-- replacing outliers and refitting for 15 genes\n",
      "-- DESeq argument 'minReplicatesForReplace' = 7 \n",
      "-- original counts are preserved in counts(dds)\n",
      "\n",
      "estimating dispersions\n",
      "\n",
      "fitting model and testing\n",
      "\n"
     ]
    }
   ],
   "source": [
    "# Extract and filter F1 samples\n",
    "ko$cov.F1 <- ko$cov[, rownames(info[info$Generation==\"F1\",])]\n",
    "## PARAMS ##\n",
    "# Percentage of samples in which features must have >0 sum\n",
    "ko.F1.percent_occ <- 10\n",
    "# Quantile used for removing low abundance features\n",
    "ko.F1.quantile_thresh <- 0.1\n",
    "\n",
    "## PREFILTERING ##\n",
    "# Remove zero sum features\n",
    "nz <- rownames(ko$cov.F1[rowSums(ko$cov.F1) > 0, ])\n",
    "ko$nz.F1 <- ko$cov.F1[rownames(ko$cov.F1)%in%nz, ]\n",
    "\n",
    "# Filter low abundance features\n",
    "low_threshold = quantile(rowSums(ko$nz.F1) / sum(rowSums(ko$nz.F1)) * 100, probs = ko.F1.quantile_thresh)\n",
    "ko$filtered.F1 <- low.count.removal(ko$nz.F1, percent = low_threshold)$data.filter\n",
    "\n",
    "ko$occ.F1 <- rowSums(ko$filtered.F1>0) / ncol(ko$filtered.F1) * 100\n",
    "# Keep features occurring in defined percentage of samples\n",
    "ko$filtered.F1 <- ko$filtered.F1[which(ko$occ.F1 >= ko.F1.percent_occ), ]\n",
    "\n",
    "\n",
    "ko$filtered.F1 <- ceiling(ko$filtered.F1)\n",
    "\n",
    "\n",
    "info.F1 <- info[colnames(ko$filtered.F1), c(\"run\",\"sample\",\"Treatment\")]\n",
    "\n",
    "# Create DESeq dataset\n",
    "dds.ko.F1 <- DESeqDataSetFromMatrix(countData = ko$filtered.F1,\n",
    "                                    colData = info.F1,\n",
    "                                    design = ~ 1 + Treatment)\n",
    "\n",
    "# Add information in case of collapsing technical replicates\n",
    "dds.ko.F1$sample <- info.F1$sample\n",
    "dds.ko.F1$run <- info.F1$run\n",
    "#dds.ko.F1 <- collapseReplicates(dds.ko.F1, dds.ko.F1$sample, dds.ko.F1$run)\n",
    "\n",
    "# Run DESeq2\n",
    "dds.ko.F1 <- DESeq(dds.ko.F1, sfType = \"poscounts\", parallel = TRUE)\n",
    "\n",
    "# Contrast H vs C\n",
    "res.ko.F1.HvsC <- results(dds.ko.F1, contrast = list(\"Treatment_H_vs_C\"))\n",
    "res.ko.F1.HvsC <- res.ko.F1.HvsC[order(res.ko.F1.HvsC$padj),]\n",
    "save_results(res.ko.F1.HvsC, \"res.ko.F1_HvsF1_C\")\n",
    "\n",
    "# Contrast L vs C\n",
    "res.ko.F1.LvsC <- results(dds.ko.F1, contrast = list(\"Treatment_L_vs_C\"))\n",
    "res.ko.F1.LvsC <- res.ko.F1.LvsC[order(res.ko.F1.LvsC$padj),]\n",
    "save_results(res.ko.F1.LvsC, \"res.ko.F1_LvsF1_C\")\n",
    "\n",
    "# Contrast H vs L\n",
    "res.ko.F1.HvsL <- results(dds.ko.F1, contrast = list(\"Treatment_H_vs_C\", \"Treatment_L_vs_C\"))\n",
    "res.ko.F1.HvsL <- res.ko.F1.HvsL[order(res.ko.F1.HvsL$padj),]\n",
    "save_results(res.ko.F1.HvsL, \"res.ko.F1_HvsF1_L\")"
   ]
  },
  {
   "cell_type": "markdown",
   "id": "25ef754e",
   "metadata": {},
   "source": [
    "#### kos - F1 generation (C+L vs H)"
   ]
  },
  {
   "cell_type": "code",
   "execution_count": 127,
   "id": "c43c4017",
   "metadata": {
    "vscode": {
     "languageId": "r"
    }
   },
   "outputs": [
    {
     "name": "stderr",
     "output_type": "stream",
     "text": [
      "converting counts to integer mode\n",
      "\n",
      "Warning message in DESeqDataSet(se, design = design, ignoreRank):\n",
      "“some variables in design formula are characters, converting to factors”\n",
      "estimating size factors\n",
      "\n",
      "estimating dispersions\n",
      "\n",
      "gene-wise dispersion estimates: 8 workers\n",
      "\n",
      "mean-dispersion relationship\n",
      "\n",
      "final dispersion estimates, fitting model and testing: 8 workers\n",
      "\n",
      "-- replacing outliers and refitting for 68 genes\n",
      "-- DESeq argument 'minReplicatesForReplace' = 7 \n",
      "-- original counts are preserved in counts(dds)\n",
      "\n",
      "estimating dispersions\n",
      "\n",
      "fitting model and testing\n",
      "\n"
     ]
    }
   ],
   "source": [
    "info.F1_2 <- info.F1\n",
    "info.F1_2$Treatment <- gsub(x = info.F1_2$Treatment, pattern = \"[CL]\", replacement = \"CL\")\n",
    "# Create DESeq dataset\n",
    "dds.ko.F1_2 <- DESeqDataSetFromMatrix(countData = ko$filtered.F1,\n",
    "                                    colData = info.F1_2,\n",
    "                                    design = ~ 1 + Treatment)\n",
    "\n",
    "\n",
    "# Run DESeq2\n",
    "dds.ko.F1_2 <- DESeq(dds.ko.F1_2, sfType = \"poscounts\", parallel = TRUE)\n",
    "\n",
    "# Contrast H vs C+L\n",
    "res.ko.F1.HvsCL <- results(dds.ko.F1_2, contrast = list(\"Treatment_H_vs_CL\"))\n",
    "res.ko.F1.HvsCL <- res.ko.F1.HvsCL[order(res.ko.F1.HvsCL$padj),]\n",
    "save_results(res.ko.F1.HvsCL, \"res.ko.F1_HvsF1_CL\")"
   ]
  },
  {
   "cell_type": "markdown",
   "id": "c5e41bfd",
   "metadata": {},
   "source": [
    "#### kos - F2 generation"
   ]
  },
  {
   "cell_type": "code",
   "execution_count": 128,
   "id": "5074ec9a",
   "metadata": {
    "vscode": {
     "languageId": "r"
    }
   },
   "outputs": [
    {
     "name": "stderr",
     "output_type": "stream",
     "text": [
      "converting counts to integer mode\n",
      "\n",
      "estimating size factors\n",
      "\n",
      "estimating dispersions\n",
      "\n",
      "gene-wise dispersion estimates: 8 workers\n",
      "\n",
      "mean-dispersion relationship\n",
      "\n",
      "final dispersion estimates, fitting model and testing: 8 workers\n",
      "\n",
      "-- replacing outliers and refitting for 362 genes\n",
      "-- DESeq argument 'minReplicatesForReplace' = 7 \n",
      "-- original counts are preserved in counts(dds)\n",
      "\n",
      "estimating dispersions\n",
      "\n",
      "fitting model and testing\n",
      "\n"
     ]
    }
   ],
   "source": [
    "# Extract and filter F2 samples\n",
    "ko$cov.F2 <- ko$cov[, rownames(info[info$Generation==\"F2\",])]\n",
    "## PARAMS ##\n",
    "# Percentage of samples in which features must have >0 sum\n",
    "ko.F2.percent_occ <- 10\n",
    "# Quantile used for removing low abundance features\n",
    "ko.F2.quantile_thresh <- 0.1\n",
    "\n",
    "## PREFILTERING ##\n",
    "# Remove zero sum features\n",
    "nz <- rownames(ko$cov.F2[rowSums(ko$cov.F2) > 0, ])\n",
    "ko$nz.F2 <- ko$cov.F2[rownames(ko$cov.F2)%in%nz, ]\n",
    "\n",
    "# Filter low abundance features\n",
    "low_threshold = quantile(rowSums(ko$nz.F2) / sum(rowSums(ko$nz.F2)) * 100, probs = ko.F2.quantile_thresh)\n",
    "ko$filtered.F2 <- low.count.removal(ko$nz.F2, percent = low_threshold)$data.filter\n",
    "\n",
    "ko$occ.F2 <- rowSums(ko$filtered.F2>0) / ncol(ko$filtered.F2) * 100\n",
    "# Keep features occurring in defined percentage of samples\n",
    "ko$filtered.F2 <- ko$filtered.F2[which(ko$occ.F2 >= ko.F2.percent_occ), ]\n",
    "\n",
    "\n",
    "ko$filtered.F2 <- ceiling(ko$filtered.F2)\n",
    "\n",
    "\n",
    "info.F2 <- info[colnames(ko$filtered.F2), c(\"run\",\"sample\",\"Treatment\")]\n",
    "\n",
    "# Create DESeq dataset\n",
    "dds.ko.F2 <- DESeqDataSetFromMatrix(countData = ko$filtered.F2,\n",
    "                                    colData = info.F2,\n",
    "                                    design = ~ 1 + Treatment)\n",
    "\n",
    "# Add information in case of collapsing technical replicates\n",
    "dds.ko.F2$sample <- info.F2$sample\n",
    "dds.ko.F2$run <- info.F2$run\n",
    "#dds.ko.F2 <- collapseReplicates(dds.ko.F2, dds.ko.F2$sample, dds.ko.F2$run)\n",
    "\n",
    "# Run DESeq2\n",
    "dds.ko.F2 <- DESeq(dds.ko.F2, sfType = \"poscounts\", parallel = TRUE)\n",
    "\n",
    "# Contrast H vs C\n",
    "res.ko.F2.HvsC <- results(dds.ko.F2, contrast = list(\"Treatment_H_vs_C\"))\n",
    "res.ko.F2.HvsC <- res.ko.F2.HvsC[order(res.ko.F2.HvsC$padj),]\n",
    "save_results(res.ko.F2.HvsC, \"res.ko.F2_HvsF2_C\")\n",
    "\n",
    "# Contrast L vs C\n",
    "res.ko.F2.LvsC <- results(dds.ko.F2, contrast = list(\"Treatment_L_vs_C\"))\n",
    "res.ko.F2.LvsC <- res.ko.F2.LvsC[order(res.ko.F2.LvsC$padj),]\n",
    "save_results(res.ko.F2.LvsC, \"res.ko.F2_LvsF2_C\")\n",
    "\n",
    "# Contrast H vs L\n",
    "res.ko.F2.HvsL <- results(dds.ko.F2, contrast = list(\"Treatment_H_vs_C\", \"Treatment_L_vs_C\"))\n",
    "res.ko.F2.HvsL <- res.ko.F2.HvsL[order(res.ko.F2.HvsL$padj),]\n",
    "save_results(res.ko.F2.HvsL, \"res.ko.F2_HvsF2_L\")"
   ]
  },
  {
   "cell_type": "markdown",
   "id": "936d1c17",
   "metadata": {},
   "source": [
    "#### kos - F2 generation (C+L vs H)"
   ]
  },
  {
   "cell_type": "code",
   "execution_count": 129,
   "id": "73296182",
   "metadata": {
    "vscode": {
     "languageId": "r"
    }
   },
   "outputs": [
    {
     "name": "stderr",
     "output_type": "stream",
     "text": [
      "converting counts to integer mode\n",
      "\n",
      "Warning message in DESeqDataSet(se, design = design, ignoreRank):\n",
      "“some variables in design formula are characters, converting to factors”\n",
      "estimating size factors\n",
      "\n",
      "estimating dispersions\n",
      "\n",
      "gene-wise dispersion estimates: 8 workers\n",
      "\n",
      "mean-dispersion relationship\n",
      "\n",
      "final dispersion estimates, fitting model and testing: 8 workers\n",
      "\n",
      "-- replacing outliers and refitting for 298 genes\n",
      "-- DESeq argument 'minReplicatesForReplace' = 7 \n",
      "-- original counts are preserved in counts(dds)\n",
      "\n",
      "estimating dispersions\n",
      "\n",
      "fitting model and testing\n",
      "\n"
     ]
    }
   ],
   "source": [
    "info.F2_2 <- info.F2\n",
    "info.F2_2$Treatment <- gsub(x = info.F2_2$Treatment, pattern = \"[CL]\", replacement = \"CL\")\n",
    "# Create DESeq dataset\n",
    "dds.ko.F2_2 <- DESeqDataSetFromMatrix(countData = ko$filtered.F2,\n",
    "                                    colData = info.F2_2,\n",
    "                                    design = ~ 1 + Treatment)\n",
    "\n",
    "\n",
    "# Run DESeq2\n",
    "dds.ko.F2_2 <- DESeq(dds.ko.F2_2, sfType = \"poscounts\", parallel = TRUE)\n",
    "\n",
    "# Contrast H vs C+L\n",
    "res.ko.F2.HvsCL <- results(dds.ko.F2_2, contrast = list(\"Treatment_H_vs_CL\"))\n",
    "res.ko.F2.HvsCL <- res.ko.F2.HvsCL[order(res.ko.F2.HvsCL$padj),]\n",
    "save_results(res.ko.F2.HvsCL, \"res.ko.F2_HvsF2_CL\")"
   ]
  },
  {
   "cell_type": "markdown",
   "id": "232238ef",
   "metadata": {},
   "source": [
    "### cazy"
   ]
  },
  {
   "cell_type": "markdown",
   "id": "9e1556ec",
   "metadata": {},
   "source": [
    "#### cazy - generational differences"
   ]
  },
  {
   "cell_type": "code",
   "execution_count": 130,
   "id": "4a9c8330",
   "metadata": {
    "vscode": {
     "languageId": "r"
    }
   },
   "outputs": [
    {
     "data": {
      "text/html": [
       "<style>\n",
       ".list-inline {list-style: none; margin:0; padding: 0}\n",
       ".list-inline>li {display: inline-block}\n",
       ".list-inline>li:not(:last-child)::after {content: \"\\00b7\"; padding: 0 .5ex}\n",
       "</style>\n",
       "<ol class=list-inline><li>'11'</li><li>'cazys removed'</li><li>'78'</li><li>'remaining'</li></ol>\n"
      ],
      "text/latex": [
       "\\begin{enumerate*}\n",
       "\\item '11'\n",
       "\\item 'cazys removed'\n",
       "\\item '78'\n",
       "\\item 'remaining'\n",
       "\\end{enumerate*}\n"
      ],
      "text/markdown": [
       "1. '11'\n",
       "2. 'cazys removed'\n",
       "3. '78'\n",
       "4. 'remaining'\n",
       "\n",
       "\n"
      ],
      "text/plain": [
       "[1] \"11\"            \"cazys removed\" \"78\"            \"remaining\"    "
      ]
     },
     "metadata": {},
     "output_type": "display_data"
    },
    {
     "name": "stderr",
     "output_type": "stream",
     "text": [
      "converting counts to integer mode\n",
      "\n",
      "estimating size factors\n",
      "\n",
      "estimating dispersions\n",
      "\n",
      "gene-wise dispersion estimates: 8 workers\n",
      "\n",
      "mean-dispersion relationship\n",
      "\n",
      "final dispersion estimates, fitting model and testing: 8 workers\n",
      "\n",
      "-- replacing outliers and refitting for 1 genes\n",
      "-- DESeq argument 'minReplicatesForReplace' = 7 \n",
      "-- original counts are preserved in counts(dds)\n",
      "\n",
      "estimating dispersions\n",
      "\n",
      "fitting model and testing\n",
      "\n"
     ]
    }
   ],
   "source": [
    "## PARAMS ##\n",
    "# Percentage of samples in which features must have >0 sum\n",
    "cazy.percent_occ <- 10\n",
    "# Quantile used for removing low abundance features\n",
    "cazy.quantile_thresh <- 0.1\n",
    "\n",
    "## PREFILTERING ##\n",
    "# Remove zero sum features\n",
    "nz <- rownames(cazy$cov[rowSums(cazy$cov) > 0, ])\n",
    "cazy$nz <- cazy$cov[rownames(cazy$cov)%in%nz, ]\n",
    "\n",
    "# Filter low abundance features\n",
    "low_threshold = quantile(rowSums(cazy$nz) / sum(rowSums(cazy$nz)) * 100, probs = cazy.quantile_thresh)\n",
    "cazy$filtered <- low.count.removal(cazy$nz, percent = low_threshold)$data.filter\n",
    "\n",
    "cazy$occ <- rowSums(cazy$filtered>0) / ncol(cazy$filtered) * 100\n",
    "# Keep features occurring in defined percentage of samples\n",
    "cazy$filtered <- cazy$filtered[which(cazy$occ >= cazy.percent_occ), ]\n",
    "paste0(c(dim(cazy$cov)[1] - dim(cazy$filtered)[1], \"cazys removed\", dim(cazy$filtered)[1], \"remaining\"))\n",
    "\n",
    "cazy$filtered <- ceiling(cazy$filtered)\n",
    "\n",
    "## DESeq2 analysis\n",
    "info.cazy <- info[, c(\"run\",\"sample\",\"Generation\")]\n",
    "dds.cazy <- DESeqDataSetFromMatrix(countData = cazy$filtered,\n",
    "                              colData = info.cazy,\n",
    "                              design = ~ 1 + Generation)\n",
    "dds.cazy$sample <- info$sample\n",
    "dds.cazy$run <- info$run\n",
    "#dds.cazy <- collapseReplicates(dds.cazy, dds.cazy$sample, dds.cazy$run)\n",
    "dds.cazy <- DESeq(dds.cazy, sfType = \"poscounts\", parallel = TRUE)\n",
    "\n",
    "# Multi-factor (treatment + generation)\n",
    "#dds.cazyMF <- dds.cazy\n",
    "#design(dds.cazyMF) <- formula(~ group)\n",
    "#dds.cazyMF <- DESeq(dds.cazyMF, sfType = \"poscounts\")\n",
    "\n",
    "# Contrast H vs C\n",
    "res.cazy.F2vsF0 <- results(dds.cazy, contrast = list(\"Generation_F2_vs_F0\"))\n",
    "res.cazy.F2vsF0 <- res.cazy.F2vsF0[order(res.cazy.F2vsF0$padj),]\n",
    "save_results(res.cazy.F2vsF0, \"res.cazy.F2vsF0\")\n",
    "\n",
    "# Contrast L vs C\n",
    "res.cazy.F1vsF0 <- results(dds.cazy, contrast = list(\"Generation_F1_vs_F0\"))\n",
    "res.cazy.F1vsF0 <- res.cazy.F1vsF0[order(res.cazy.F1vsF0$padj),]\n",
    "save_results(res.cazy.F1vsF0, \"res.cazy.F1vsF0\")\n",
    "\n",
    "# Contrast H vs L\n",
    "res.cazy.F2vsF1 <- results(dds.cazy, contrast = list(\"Generation_F2_vs_F0\", \"Generation_F1_vs_F0\"))\n",
    "res.cazy.F2vsF1 <- res.cazy.F2vsF1[order(res.cazy.F2vsF1$padj),]\n",
    "save_results(res.cazy.F2vsF1, \"res.cazy.F2vsF1\")"
   ]
  },
  {
   "cell_type": "markdown",
   "id": "8caef64a",
   "metadata": {},
   "source": [
    "#### cazys - F0 generation"
   ]
  },
  {
   "cell_type": "code",
   "execution_count": 131,
   "id": "d3dcea14",
   "metadata": {
    "vscode": {
     "languageId": "r"
    }
   },
   "outputs": [
    {
     "name": "stderr",
     "output_type": "stream",
     "text": [
      "converting counts to integer mode\n",
      "\n",
      "estimating size factors\n",
      "\n",
      "estimating dispersions\n",
      "\n",
      "gene-wise dispersion estimates: 8 workers\n",
      "\n",
      "mean-dispersion relationship\n",
      "\n",
      "final dispersion estimates, fitting model and testing: 8 workers\n",
      "\n"
     ]
    }
   ],
   "source": [
    "# Extract and filter F0 samples\n",
    "cazy$cov.F0 <- cazy$cov[, rownames(info[info$Generation==\"F0\",])]\n",
    "## PARAMS ##\n",
    "# Percentage of samples in which features must have >0 sum\n",
    "cazy.F0.percent_occ <- 10\n",
    "# Quantile used for removing low abundance features\n",
    "cazy.F0.quantile_thresh <- 0.1\n",
    "\n",
    "## PREFILTERING ##\n",
    "# Remove zero sum features\n",
    "nz <- rownames(cazy$cov.F0[rowSums(cazy$cov.F0) > 0, ])\n",
    "cazy$nz.F0 <- cazy$cov.F0[rownames(cazy$cov.F0)%in%nz, ]\n",
    "\n",
    "# Filter low abundance features\n",
    "low_threshold = quantile(rowSums(cazy$nz.F0) / sum(rowSums(cazy$nz.F0)) * 100, probs = cazy.F0.quantile_thresh)\n",
    "cazy$filtered.F0 <- low.count.removal(cazy$nz.F0, percent = low_threshold)$data.filter\n",
    "\n",
    "cazy$occ.F0 <- rowSums(cazy$filtered.F0>0) / ncol(cazy$filtered.F0) * 100\n",
    "# Keep features occurring in defined percentage of samples\n",
    "cazy$filtered.F0 <- cazy$filtered.F0[which(cazy$occ.F0 >= cazy.F0.percent_occ), ]\n",
    "\n",
    "\n",
    "cazy$filtered.F0 <- ceiling(cazy$filtered.F0)\n",
    "\n",
    "\n",
    "info.F0 <- info[colnames(cazy$filtered.F0), c(\"run\",\"sample\",\"Treatment\")]\n",
    "\n",
    "# Create DESeq dataset\n",
    "dds.cazy.F0 <- DESeqDataSetFromMatrix(countData = cazy$filtered.F0,\n",
    "                                    colData = info.F0,\n",
    "                                    design = ~ 1 + Treatment)\n",
    "\n",
    "# Add information in case of collapsing technical replicates\n",
    "dds.cazy.F0$sample <- info.F0$sample\n",
    "dds.cazy.F0$run <- info.F0$run\n",
    "#dds.cazy.F0 <- collapseReplicates(dds.cazy.F0, dds.cazy.F0$sample, dds.cazy.F0$run)\n",
    "\n",
    "# Run DESeq2\n",
    "dds.cazy.F0 <- DESeq(dds.cazy.F0, sfType = \"poscounts\", parallel = TRUE)\n",
    "\n",
    "# Contrast H vs C\n",
    "res.cazy.F0.HvsC <- results(dds.cazy.F0, contrast = list(\"Treatment_H_vs_C\"))\n",
    "res.cazy.F0.HvsC <- res.cazy.F0.HvsC[order(res.cazy.F0.HvsC$padj),]\n",
    "save_results(res.cazy.F0.HvsC, \"res.cazy.F0_HvsF0_C\")\n",
    "\n",
    "# Contrast L vs C\n",
    "res.cazy.F0.LvsC <- results(dds.cazy.F0, contrast = list(\"Treatment_L_vs_C\"))\n",
    "res.cazy.F0.LvsC <- res.cazy.F0.LvsC[order(res.cazy.F0.LvsC$padj),]\n",
    "save_results(res.cazy.F0.LvsC, \"res.cazy.F0_LvsF0_C\")\n",
    "\n",
    "# Contrast H vs L\n",
    "res.cazy.F0.HvsL <- results(dds.cazy.F0, contrast = list(\"Treatment_H_vs_C\", \"Treatment_L_vs_C\"))\n",
    "res.cazy.F0.HvsL <- res.cazy.F0.HvsL[order(res.cazy.F0.HvsL$padj),]\n",
    "save_results(res.cazy.F0.HvsL, \"res.cazy.F0_HvsF0_L\")"
   ]
  },
  {
   "cell_type": "markdown",
   "id": "a3553cfc",
   "metadata": {},
   "source": [
    "#### cazys - F0 generation (C+L vs H)"
   ]
  },
  {
   "cell_type": "code",
   "execution_count": 132,
   "id": "af985227",
   "metadata": {
    "vscode": {
     "languageId": "r"
    }
   },
   "outputs": [
    {
     "name": "stderr",
     "output_type": "stream",
     "text": [
      "converting counts to integer mode\n",
      "\n",
      "Warning message in DESeqDataSet(se, design = design, ignoreRank):\n",
      "“some variables in design formula are characters, converting to factors”\n",
      "estimating size factors\n",
      "\n",
      "estimating dispersions\n",
      "\n",
      "gene-wise dispersion estimates: 8 workers\n",
      "\n",
      "mean-dispersion relationship\n",
      "\n",
      "final dispersion estimates, fitting model and testing: 8 workers\n",
      "\n"
     ]
    }
   ],
   "source": [
    "info.F0_2 <- info.F0\n",
    "info.F0_2$Treatment <- gsub(x = info.F0_2$Treatment, pattern = \"[CL]\", replacement = \"CL\")\n",
    "# Create DESeq dataset\n",
    "dds.cazy.F0_2 <- DESeqDataSetFromMatrix(countData = cazy$filtered.F0,\n",
    "                                    colData = info.F0_2,\n",
    "                                    design = ~ 1 + Treatment)\n",
    "\n",
    "\n",
    "# Run DESeq2\n",
    "dds.cazy.F0_2 <- DESeq(dds.cazy.F0_2, sfType = \"poscounts\", parallel = TRUE)\n",
    "\n",
    "# Contrast H vs C+L\n",
    "res.cazy.F0.HvsCL <- results(dds.cazy.F0_2, contrast = list(\"Treatment_H_vs_CL\"))\n",
    "res.cazy.F0.HvsCL <- res.cazy.F0.HvsCL[order(res.cazy.F0.HvsCL$padj),]\n",
    "save_results(res.cazy.F0.HvsCL, \"res.cazy.F0_HvsF0_CL\")"
   ]
  },
  {
   "cell_type": "markdown",
   "id": "66ee889b",
   "metadata": {},
   "source": [
    "#### cazys - F1 generation"
   ]
  },
  {
   "cell_type": "code",
   "execution_count": 133,
   "id": "d3f36238",
   "metadata": {
    "vscode": {
     "languageId": "r"
    }
   },
   "outputs": [
    {
     "name": "stderr",
     "output_type": "stream",
     "text": [
      "converting counts to integer mode\n",
      "\n",
      "estimating size factors\n",
      "\n",
      "estimating dispersions\n",
      "\n",
      "gene-wise dispersion estimates: 8 workers\n",
      "\n",
      "mean-dispersion relationship\n",
      "\n",
      "final dispersion estimates, fitting model and testing: 8 workers\n",
      "\n"
     ]
    }
   ],
   "source": [
    "# Extract and filter F1 samples\n",
    "cazy$cov.F1 <- cazy$cov[, rownames(info[info$Generation==\"F1\",])]\n",
    "## PARAMS ##\n",
    "# Percentage of samples in which features must have >0 sum\n",
    "cazy.F1.percent_occ <- 10\n",
    "# Quantile used for removing low abundance features\n",
    "cazy.F1.quantile_thresh <- 0.1\n",
    "\n",
    "## PREFILTERING ##\n",
    "# Remove zero sum features\n",
    "nz <- rownames(cazy$cov.F1[rowSums(cazy$cov.F1) > 0, ])\n",
    "cazy$nz.F1 <- cazy$cov.F1[rownames(cazy$cov.F1)%in%nz, ]\n",
    "\n",
    "# Filter low abundance features\n",
    "low_threshold = quantile(rowSums(cazy$nz.F1) / sum(rowSums(cazy$nz.F1)) * 100, probs = cazy.F1.quantile_thresh)\n",
    "cazy$filtered.F1 <- low.count.removal(cazy$nz.F1, percent = low_threshold)$data.filter\n",
    "\n",
    "cazy$occ.F1 <- rowSums(cazy$filtered.F1>0) / ncol(cazy$filtered.F1) * 100\n",
    "# Keep features occurring in defined percentage of samples\n",
    "cazy$filtered.F1 <- cazy$filtered.F1[which(cazy$occ.F1 >= cazy.F1.percent_occ), ]\n",
    "\n",
    "\n",
    "cazy$filtered.F1 <- ceiling(cazy$filtered.F1)\n",
    "\n",
    "\n",
    "info.F1 <- info[colnames(cazy$filtered.F1), c(\"run\",\"sample\",\"Treatment\")]\n",
    "\n",
    "# Create DESeq dataset\n",
    "dds.cazy.F1 <- DESeqDataSetFromMatrix(countData = cazy$filtered.F1,\n",
    "                                    colData = info.F1,\n",
    "                                    design = ~ 1 + Treatment)\n",
    "\n",
    "# Add information in case of collapsing technical replicates\n",
    "dds.cazy.F1$sample <- info.F1$sample\n",
    "dds.cazy.F1$run <- info.F1$run\n",
    "#dds.cazy.F1 <- collapseReplicates(dds.cazy.F1, dds.cazy.F1$sample, dds.cazy.F1$run)\n",
    "\n",
    "# Run DESeq2\n",
    "dds.cazy.F1 <- DESeq(dds.cazy.F1, sfType = \"poscounts\", parallel = TRUE)\n",
    "\n",
    "# Contrast H vs C\n",
    "res.cazy.F1.HvsC <- results(dds.cazy.F1, contrast = list(\"Treatment_H_vs_C\"))\n",
    "res.cazy.F1.HvsC <- res.cazy.F1.HvsC[order(res.cazy.F1.HvsC$padj),]\n",
    "save_results(res.cazy.F1.HvsC, \"res.cazy.F1_HvsF1_C\")\n",
    "\n",
    "# Contrast L vs C\n",
    "res.cazy.F1.LvsC <- results(dds.cazy.F1, contrast = list(\"Treatment_L_vs_C\"))\n",
    "res.cazy.F1.LvsC <- res.cazy.F1.LvsC[order(res.cazy.F1.LvsC$padj),]\n",
    "save_results(res.cazy.F1.LvsC, \"res.cazy.F1_LvsF1_C\")\n",
    "\n",
    "# Contrast H vs L\n",
    "res.cazy.F1.HvsL <- results(dds.cazy.F1, contrast = list(\"Treatment_H_vs_C\", \"Treatment_L_vs_C\"))\n",
    "res.cazy.F1.HvsL <- res.cazy.F1.HvsL[order(res.cazy.F1.HvsL$padj),]\n",
    "save_results(res.cazy.F1.HvsL, \"res.cazy.F1_HvsF1_L\")"
   ]
  },
  {
   "cell_type": "markdown",
   "id": "f3c2587a",
   "metadata": {},
   "source": [
    "#### cazys - F1 generation (C+L vs H)"
   ]
  },
  {
   "cell_type": "code",
   "execution_count": 134,
   "id": "1b296cfe",
   "metadata": {
    "vscode": {
     "languageId": "r"
    }
   },
   "outputs": [
    {
     "name": "stderr",
     "output_type": "stream",
     "text": [
      "converting counts to integer mode\n",
      "\n",
      "Warning message in DESeqDataSet(se, design = design, ignoreRank):\n",
      "“some variables in design formula are characters, converting to factors”\n",
      "estimating size factors\n",
      "\n",
      "estimating dispersions\n",
      "\n",
      "gene-wise dispersion estimates: 8 workers\n",
      "\n",
      "mean-dispersion relationship\n",
      "\n",
      "final dispersion estimates, fitting model and testing: 8 workers\n",
      "\n",
      "-- replacing outliers and refitting for 1 genes\n",
      "-- DESeq argument 'minReplicatesForReplace' = 7 \n",
      "-- original counts are preserved in counts(dds)\n",
      "\n",
      "estimating dispersions\n",
      "\n",
      "fitting model and testing\n",
      "\n"
     ]
    }
   ],
   "source": [
    "info.F1_2 <- info.F1\n",
    "info.F1_2$Treatment <- gsub(x = info.F1_2$Treatment, pattern = \"[CL]\", replacement = \"CL\")\n",
    "# Create DESeq dataset\n",
    "dds.cazy.F1_2 <- DESeqDataSetFromMatrix(countData = cazy$filtered.F1,\n",
    "                                    colData = info.F1_2,\n",
    "                                    design = ~ 1 + Treatment)\n",
    "\n",
    "\n",
    "# Run DESeq2\n",
    "dds.cazy.F1_2 <- DESeq(dds.cazy.F1_2, sfType = \"poscounts\", parallel = TRUE)\n",
    "\n",
    "# Contrast H vs C+L\n",
    "res.cazy.F1.HvsCL <- results(dds.cazy.F1_2, contrast = list(\"Treatment_H_vs_CL\"))\n",
    "res.cazy.F1.HvsCL <- res.cazy.F1.HvsCL[order(res.cazy.F1.HvsCL$padj),]\n",
    "save_results(res.cazy.F1.HvsCL, \"res.cazy.F1_HvsF1_CL\")"
   ]
  },
  {
   "cell_type": "markdown",
   "id": "928f8c5e",
   "metadata": {},
   "source": [
    "#### cazys - F2 generation"
   ]
  },
  {
   "cell_type": "code",
   "execution_count": 135,
   "id": "d2f441bb",
   "metadata": {
    "vscode": {
     "languageId": "r"
    }
   },
   "outputs": [
    {
     "name": "stderr",
     "output_type": "stream",
     "text": [
      "converting counts to integer mode\n",
      "\n",
      "estimating size factors\n",
      "\n",
      "estimating dispersions\n",
      "\n",
      "gene-wise dispersion estimates: 8 workers\n",
      "\n",
      "mean-dispersion relationship\n",
      "\n",
      "final dispersion estimates, fitting model and testing: 8 workers\n",
      "\n",
      "-- replacing outliers and refitting for 3 genes\n",
      "-- DESeq argument 'minReplicatesForReplace' = 7 \n",
      "-- original counts are preserved in counts(dds)\n",
      "\n",
      "estimating dispersions\n",
      "\n",
      "fitting model and testing\n",
      "\n"
     ]
    }
   ],
   "source": [
    "# Extract and filter F2 samples\n",
    "cazy$cov.F2 <- cazy$cov[, rownames(info[info$Generation==\"F2\",])]\n",
    "## PARAMS ##\n",
    "# Percentage of samples in which features must have >0 sum\n",
    "cazy.F2.percent_occ <- 10\n",
    "# Quantile used for removing low abundance features\n",
    "cazy.F2.quantile_thresh <- 0.1\n",
    "\n",
    "## PREFILTERING ##\n",
    "# Remove zero sum features\n",
    "nz <- rownames(cazy$cov.F2[rowSums(cazy$cov.F2) > 0, ])\n",
    "cazy$nz.F2 <- cazy$cov.F2[rownames(cazy$cov.F2)%in%nz, ]\n",
    "\n",
    "# Filter low abundance features\n",
    "low_threshold = quantile(rowSums(cazy$nz.F2) / sum(rowSums(cazy$nz.F2)) * 100, probs = cazy.F2.quantile_thresh)\n",
    "cazy$filtered.F2 <- low.count.removal(cazy$nz.F2, percent = low_threshold)$data.filter\n",
    "\n",
    "cazy$occ.F2 <- rowSums(cazy$filtered.F2>0) / ncol(cazy$filtered.F2) * 100\n",
    "# Keep features occurring in defined percentage of samples\n",
    "cazy$filtered.F2 <- cazy$filtered.F2[which(cazy$occ.F2 >= cazy.F2.percent_occ), ]\n",
    "\n",
    "\n",
    "cazy$filtered.F2 <- ceiling(cazy$filtered.F2)\n",
    "\n",
    "\n",
    "info.F2 <- info[colnames(cazy$filtered.F2), c(\"run\",\"sample\",\"Treatment\")]\n",
    "\n",
    "# Create DESeq dataset\n",
    "dds.cazy.F2 <- DESeqDataSetFromMatrix(countData = cazy$filtered.F2,\n",
    "                                    colData = info.F2,\n",
    "                                    design = ~ 1 + Treatment)\n",
    "\n",
    "# Add information in case of collapsing technical replicates\n",
    "dds.cazy.F2$sample <- info.F2$sample\n",
    "dds.cazy.F2$run <- info.F2$run\n",
    "#dds.cazy.F2 <- collapseReplicates(dds.cazy.F2, dds.cazy.F2$sample, dds.cazy.F2$run)\n",
    "\n",
    "# Run DESeq2\n",
    "dds.cazy.F2 <- DESeq(dds.cazy.F2, sfType = \"poscounts\", parallel = TRUE)\n",
    "\n",
    "# Contrast H vs C\n",
    "res.cazy.F2.HvsC <- results(dds.cazy.F2, contrast = list(\"Treatment_H_vs_C\"))\n",
    "res.cazy.F2.HvsC <- res.cazy.F2.HvsC[order(res.cazy.F2.HvsC$padj),]\n",
    "save_results(res.cazy.F2.HvsC, \"res.cazy.F2_HvsF2_C\")\n",
    "\n",
    "# Contrast L vs C\n",
    "res.cazy.F2.LvsC <- results(dds.cazy.F2, contrast = list(\"Treatment_L_vs_C\"))\n",
    "res.cazy.F2.LvsC <- res.cazy.F2.LvsC[order(res.cazy.F2.LvsC$padj),]\n",
    "save_results(res.cazy.F2.LvsC, \"res.cazy.F2_LvsF2_C\")\n",
    "\n",
    "# Contrast H vs L\n",
    "res.cazy.F2.HvsL <- results(dds.cazy.F2, contrast = list(\"Treatment_H_vs_C\", \"Treatment_L_vs_C\"))\n",
    "res.cazy.F2.HvsL <- res.cazy.F2.HvsL[order(res.cazy.F2.HvsL$padj),]\n",
    "save_results(res.cazy.F2.HvsL, \"res.cazy.F2_HvsF2_L\")"
   ]
  },
  {
   "cell_type": "markdown",
   "id": "94f931b5",
   "metadata": {},
   "source": [
    "#### cazys - F2 generation (C+L vs H)"
   ]
  },
  {
   "cell_type": "code",
   "execution_count": 136,
   "id": "011e10e0",
   "metadata": {
    "vscode": {
     "languageId": "r"
    }
   },
   "outputs": [
    {
     "name": "stderr",
     "output_type": "stream",
     "text": [
      "converting counts to integer mode\n",
      "\n",
      "Warning message in DESeqDataSet(se, design = design, ignoreRank):\n",
      "“some variables in design formula are characters, converting to factors”\n",
      "estimating size factors\n",
      "\n",
      "estimating dispersions\n",
      "\n",
      "gene-wise dispersion estimates: 8 workers\n",
      "\n",
      "mean-dispersion relationship\n",
      "\n",
      "final dispersion estimates, fitting model and testing: 8 workers\n",
      "\n",
      "-- replacing outliers and refitting for 5 genes\n",
      "-- DESeq argument 'minReplicatesForReplace' = 7 \n",
      "-- original counts are preserved in counts(dds)\n",
      "\n",
      "estimating dispersions\n",
      "\n",
      "fitting model and testing\n",
      "\n"
     ]
    }
   ],
   "source": [
    "info.F2_2 <- info.F2\n",
    "info.F2_2$Treatment <- gsub(x = info.F2_2$Treatment, pattern = \"[CL]\", replacement = \"CL\")\n",
    "# Create DESeq dataset\n",
    "dds.cazy.F2_2 <- DESeqDataSetFromMatrix(countData = cazy$filtered.F2,\n",
    "                                    colData = info.F2_2,\n",
    "                                    design = ~ 1 + Treatment)\n",
    "\n",
    "\n",
    "# Run DESeq2\n",
    "dds.cazy.F2_2 <- DESeq(dds.cazy.F2_2, sfType = \"poscounts\", parallel = TRUE)\n",
    "\n",
    "# Contrast H vs C+L\n",
    "res.cazy.F2.HvsCL <- results(dds.cazy.F2_2, contrast = list(\"Treatment_H_vs_CL\"))\n",
    "res.cazy.F2.HvsCL <- res.cazy.F2.HvsCL[order(res.cazy.F2.HvsCL$padj),]\n",
    "save_results(res.cazy.F2.HvsCL, \"res.cazy.F2_HvsF2_CL\")"
   ]
  },
  {
   "cell_type": "markdown",
   "id": "99bd3d8c",
   "metadata": {},
   "source": [
    "### rgis"
   ]
  },
  {
   "cell_type": "markdown",
   "id": "1f64e674",
   "metadata": {},
   "source": [
    "#### rgis - generational differences"
   ]
  },
  {
   "cell_type": "code",
   "execution_count": 137,
   "id": "097f07b2",
   "metadata": {
    "vscode": {
     "languageId": "r"
    }
   },
   "outputs": [
    {
     "data": {
      "text/html": [
       "<style>\n",
       ".list-inline {list-style: none; margin:0; padding: 0}\n",
       ".list-inline>li {display: inline-block}\n",
       ".list-inline>li:not(:last-child)::after {content: \"\\00b7\"; padding: 0 .5ex}\n",
       "</style>\n",
       "<ol class=list-inline><li>'4'</li><li>'rgis removed'</li><li>'69'</li><li>'remaining'</li></ol>\n"
      ],
      "text/latex": [
       "\\begin{enumerate*}\n",
       "\\item '4'\n",
       "\\item 'rgis removed'\n",
       "\\item '69'\n",
       "\\item 'remaining'\n",
       "\\end{enumerate*}\n"
      ],
      "text/markdown": [
       "1. '4'\n",
       "2. 'rgis removed'\n",
       "3. '69'\n",
       "4. 'remaining'\n",
       "\n",
       "\n"
      ],
      "text/plain": [
       "[1] \"4\"            \"rgis removed\" \"69\"           \"remaining\"   "
      ]
     },
     "metadata": {},
     "output_type": "display_data"
    },
    {
     "name": "stderr",
     "output_type": "stream",
     "text": [
      "converting counts to integer mode\n",
      "\n",
      "estimating size factors\n",
      "\n",
      "estimating dispersions\n",
      "\n",
      "gene-wise dispersion estimates: 8 workers\n",
      "\n",
      "mean-dispersion relationship\n",
      "\n",
      "final dispersion estimates, fitting model and testing: 8 workers\n",
      "\n"
     ]
    }
   ],
   "source": [
    "## PARAMS ##\n",
    "# Percentage of samples in which features must have >0 sum\n",
    "rgi.percent_occ <- 10\n",
    "# Quantile used for removing low abundance features\n",
    "rgi.quantile_thresh <- 0.1\n",
    "\n",
    "## PREFILTERING ##\n",
    "# Remove zero sum features\n",
    "nz <- rownames(rgi$cov[rowSums(rgi$cov) > 0, ])\n",
    "rgi$nz <- rgi$cov[rownames(rgi$cov)%in%nz, ]\n",
    "\n",
    "# Filter low abundance features\n",
    "low_threshold = quantile(rowSums(rgi$nz) / sum(rowSums(rgi$nz)) * 100, probs = rgi.quantile_thresh)\n",
    "#rgi$filtered <- low.count.removal(rgi$nz, percent = low_threshold)$data.filter\n",
    "\n",
    "#rgi$occ <- rowSums(rgi$filtered>0) / ncol(rgi$filtered) * 100\n",
    "# Keep features occurring in defined percentage of samples\n",
    "#rgi$filtered <- rgi$filtered[which(rgi$occ >= rgi.percent_occ), ]\n",
    "rgi$filtered <- rgi$nz\n",
    "paste0(c(dim(rgi$cov)[1] - dim(rgi$filtered)[1], \"rgis removed\", dim(rgi$filtered)[1], \"remaining\"))\n",
    "\n",
    "rgi$filtered <- ceiling(rgi$filtered)\n",
    "\n",
    "## DESeq2 analysis\n",
    "info.rgi <- info[, c(\"run\",\"sample\",\"Generation\")]\n",
    "dds.rgi <- DESeqDataSetFromMatrix(countData = rgi$filtered,\n",
    "                              colData = info.rgi,\n",
    "                              design = ~ 1 + Generation)\n",
    "dds.rgi$sample <- info$sample\n",
    "dds.rgi$run <- info$run\n",
    "#dds.rgi <- collapseReplicates(dds.rgi, dds.rgi$sample, dds.rgi$run)\n",
    "dds.rgi <- DESeq(dds.rgi, sfType = \"poscounts\", parallel = TRUE)\n",
    "\n",
    "# Multi-factor (treatment + generation)\n",
    "#dds.rgiMF <- dds.rgi\n",
    "#design(dds.rgiMF) <- formula(~ group)\n",
    "#dds.rgiMF <- DESeq(dds.rgiMF, sfType = \"poscounts\")\n",
    "\n",
    "# Contrast H vs C\n",
    "res.rgi.F2vsF0 <- results(dds.rgi, contrast = list(\"Generation_F2_vs_F0\"))\n",
    "res.rgi.F2vsF0 <- res.rgi.F2vsF0[order(res.rgi.F2vsF0$padj),]\n",
    "save_results(res.rgi.F2vsF0, \"res.rgi.F2vsF0\")\n",
    "\n",
    "# Contrast L vs C\n",
    "res.rgi.F1vsF0 <- results(dds.rgi, contrast = list(\"Generation_F1_vs_F0\"))\n",
    "res.rgi.F1vsF0 <- res.rgi.F1vsF0[order(res.rgi.F1vsF0$padj),]\n",
    "save_results(res.rgi.F1vsF0, \"res.rgi.F1vsF0\")\n",
    "\n",
    "# Contrast H vs L\n",
    "res.rgi.F2vsF1 <- results(dds.rgi, contrast = list(\"Generation_F2_vs_F0\", \"Generation_F1_vs_F0\"))\n",
    "res.rgi.F2vsF1 <- res.rgi.F2vsF1[order(res.rgi.F2vsF1$padj),]\n",
    "save_results(res.rgi.F2vsF1, \"res.rgi.F2vsF1\")"
   ]
  },
  {
   "cell_type": "markdown",
   "id": "57ed2772",
   "metadata": {},
   "source": [
    "#### rgis - F0 generation"
   ]
  },
  {
   "cell_type": "code",
   "execution_count": 138,
   "id": "a102feb8",
   "metadata": {
    "vscode": {
     "languageId": "r"
    }
   },
   "outputs": [
    {
     "data": {
      "text/html": [
       "<style>\n",
       ".list-inline {list-style: none; margin:0; padding: 0}\n",
       ".list-inline>li {display: inline-block}\n",
       ".list-inline>li:not(:last-child)::after {content: \"\\00b7\"; padding: 0 .5ex}\n",
       "</style>\n",
       "<ol class=list-inline><li>'27'</li><li>'rgis removed'</li><li>'46'</li><li>'remaining'</li></ol>\n"
      ],
      "text/latex": [
       "\\begin{enumerate*}\n",
       "\\item '27'\n",
       "\\item 'rgis removed'\n",
       "\\item '46'\n",
       "\\item 'remaining'\n",
       "\\end{enumerate*}\n"
      ],
      "text/markdown": [
       "1. '27'\n",
       "2. 'rgis removed'\n",
       "3. '46'\n",
       "4. 'remaining'\n",
       "\n",
       "\n"
      ],
      "text/plain": [
       "[1] \"27\"           \"rgis removed\" \"46\"           \"remaining\"   "
      ]
     },
     "metadata": {},
     "output_type": "display_data"
    },
    {
     "name": "stderr",
     "output_type": "stream",
     "text": [
      "converting counts to integer mode\n",
      "\n",
      "estimating size factors\n",
      "\n",
      "estimating dispersions\n",
      "\n",
      "gene-wise dispersion estimates: 8 workers\n",
      "\n",
      "mean-dispersion relationship\n",
      "\n",
      "final dispersion estimates, fitting model and testing: 8 workers\n",
      "\n"
     ]
    }
   ],
   "source": [
    "# Extract and filter F0 samples\n",
    "rgi$cov.F0 <- rgi$cov[, rownames(info[info$Generation==\"F0\",])]\n",
    "## PARAMS ##\n",
    "# Percentage of samples in which features must have >0 sum\n",
    "rgi.F0.percent_occ <- 10\n",
    "# Quantile used for removing low abundance features\n",
    "rgi.F0.quantile_thresh <- 0.1\n",
    "\n",
    "## PREFILTERING ##\n",
    "# Remove zero sum features\n",
    "nz <- rownames(rgi$cov.F0[rowSums(rgi$cov.F0) > 0, ])\n",
    "rgi$nz.F0 <- rgi$cov.F0[rownames(rgi$cov.F0)%in%nz, ]\n",
    "\n",
    "# Filter low abundance features\n",
    "low_threshold = quantile(rowSums(rgi$nz.F0) / sum(rowSums(rgi$nz.F0)) * 100, probs = rgi.F0.quantile_thresh)\n",
    "#rgi$filtered.F0 <- low.count.removal(rgi$nz.F0, percent = low_threshold)$data.filter\n",
    "\n",
    "#rgi$occ.F0 <- rowSums(rgi$filtered.F0>0) / ncol(rgi$filtered.F0) * 100\n",
    "# Keep features occurring in defined percentage of samples\n",
    "#rgi$filtered.F0 <- rgi$filtered.F0[which(rgi$occ.F0 >= rgi.F0.percent_occ), ]\n",
    "\n",
    "rgi$filtered.F0 <- rgi$nz.F0\n",
    "paste0(c(dim(rgi$cov.F0)[1] - dim(rgi$filtered.F0)[1], \"rgis removed\", dim(rgi$filtered.F0)[1], \"remaining\"))\n",
    "\n",
    "\n",
    "rgi$filtered.F0 <- ceiling(rgi$filtered.F0)\n",
    "\n",
    "\n",
    "info.F0 <- info[colnames(rgi$filtered.F0), c(\"run\",\"sample\",\"Treatment\")]\n",
    "\n",
    "# Create DESeq dataset\n",
    "dds.rgi.F0 <- DESeqDataSetFromMatrix(countData = rgi$filtered.F0,\n",
    "                                    colData = info.F0,\n",
    "                                    design = ~ 1 + Treatment)\n",
    "\n",
    "# Add information in case of collapsing technical replicates\n",
    "dds.rgi.F0$sample <- info.F0$sample\n",
    "dds.rgi.F0$run <- info.F0$run\n",
    "#dds.rgi.F0 <- collapseReplicates(dds.rgi.F0, dds.rgi.F0$sample, dds.rgi.F0$run)\n",
    "\n",
    "# Run DESeq2\n",
    "dds.rgi.F0 <- DESeq(dds.rgi.F0, sfType = \"poscounts\", parallel = TRUE)\n",
    "\n",
    "# Contrast H vs C\n",
    "res.rgi.F0.HvsC <- results(dds.rgi.F0, contrast = list(\"Treatment_H_vs_C\"))\n",
    "res.rgi.F0.HvsC <- res.rgi.F0.HvsC[order(res.rgi.F0.HvsC$padj),]\n",
    "save_results(res.rgi.F0.HvsC, \"res.rgi.F0_HvsF0_C\")\n",
    "\n",
    "# Contrast L vs C\n",
    "res.rgi.F0.LvsC <- results(dds.rgi.F0, contrast = list(\"Treatment_L_vs_C\"))\n",
    "res.rgi.F0.LvsC <- res.rgi.F0.LvsC[order(res.rgi.F0.LvsC$padj),]\n",
    "save_results(res.rgi.F0.LvsC, \"res.rgi.F0_LvsF0_C\")\n",
    "\n",
    "# Contrast H vs L\n",
    "res.rgi.F0.HvsL <- results(dds.rgi.F0, contrast = list(\"Treatment_H_vs_C\", \"Treatment_L_vs_C\"))\n",
    "res.rgi.F0.HvsL <- res.rgi.F0.HvsL[order(res.rgi.F0.HvsL$padj),]\n",
    "save_results(res.rgi.F0.HvsL, \"res.rgi.F0_HvsF0_L\")"
   ]
  },
  {
   "cell_type": "markdown",
   "id": "6b92df88",
   "metadata": {},
   "source": [
    "#### rgis - F0 generation (C+L vs H)"
   ]
  },
  {
   "cell_type": "code",
   "execution_count": 139,
   "id": "160ec46a",
   "metadata": {
    "vscode": {
     "languageId": "r"
    }
   },
   "outputs": [
    {
     "name": "stderr",
     "output_type": "stream",
     "text": [
      "converting counts to integer mode\n",
      "\n",
      "Warning message in DESeqDataSet(se, design = design, ignoreRank):\n",
      "“some variables in design formula are characters, converting to factors”\n",
      "estimating size factors\n",
      "\n",
      "estimating dispersions\n",
      "\n",
      "gene-wise dispersion estimates: 8 workers\n",
      "\n",
      "mean-dispersion relationship\n",
      "\n",
      "final dispersion estimates, fitting model and testing: 8 workers\n",
      "\n",
      "-- replacing outliers and refitting for 1 genes\n",
      "-- DESeq argument 'minReplicatesForReplace' = 7 \n",
      "-- original counts are preserved in counts(dds)\n",
      "\n",
      "estimating dispersions\n",
      "\n",
      "fitting model and testing\n",
      "\n"
     ]
    }
   ],
   "source": [
    "info.F0_2 <- info.F0\n",
    "info.F0_2$Treatment <- gsub(x = info.F0_2$Treatment, pattern = \"[CL]\", replacement = \"CL\")\n",
    "# Create DESeq dataset\n",
    "dds.rgi.F0_2 <- DESeqDataSetFromMatrix(countData = rgi$filtered.F0,\n",
    "                                    colData = info.F0_2,\n",
    "                                    design = ~ 1 + Treatment)\n",
    "\n",
    "\n",
    "# Run DESeq2\n",
    "dds.rgi.F0_2 <- DESeq(dds.rgi.F0_2, sfType = \"poscounts\", parallel = TRUE)\n",
    "\n",
    "# Contrast H vs C+L\n",
    "res.rgi.F0.HvsCL <- results(dds.rgi.F0_2, contrast = list(\"Treatment_H_vs_CL\"))\n",
    "res.rgi.F0.HvsCL <- res.rgi.F0.HvsCL[order(res.rgi.F0.HvsCL$padj),]\n",
    "save_results(res.rgi.F0.HvsCL, \"res.rgi.F0_HvsF0_CL\")"
   ]
  },
  {
   "cell_type": "markdown",
   "id": "2cd69b10",
   "metadata": {},
   "source": [
    "#### rgis - F1 generation"
   ]
  },
  {
   "cell_type": "code",
   "execution_count": 140,
   "id": "ac33fc12",
   "metadata": {
    "vscode": {
     "languageId": "r"
    }
   },
   "outputs": [
    {
     "data": {
      "text/html": [
       "<style>\n",
       ".list-inline {list-style: none; margin:0; padding: 0}\n",
       ".list-inline>li {display: inline-block}\n",
       ".list-inline>li:not(:last-child)::after {content: \"\\00b7\"; padding: 0 .5ex}\n",
       "</style>\n",
       "<ol class=list-inline><li>'31'</li><li>'rgis removed'</li><li>'42'</li><li>'remaining'</li></ol>\n"
      ],
      "text/latex": [
       "\\begin{enumerate*}\n",
       "\\item '31'\n",
       "\\item 'rgis removed'\n",
       "\\item '42'\n",
       "\\item 'remaining'\n",
       "\\end{enumerate*}\n"
      ],
      "text/markdown": [
       "1. '31'\n",
       "2. 'rgis removed'\n",
       "3. '42'\n",
       "4. 'remaining'\n",
       "\n",
       "\n"
      ],
      "text/plain": [
       "[1] \"31\"           \"rgis removed\" \"42\"           \"remaining\"   "
      ]
     },
     "metadata": {},
     "output_type": "display_data"
    },
    {
     "name": "stderr",
     "output_type": "stream",
     "text": [
      "converting counts to integer mode\n",
      "\n",
      "estimating size factors\n",
      "\n",
      "estimating dispersions\n",
      "\n",
      "gene-wise dispersion estimates: 8 workers\n",
      "\n",
      "mean-dispersion relationship\n",
      "\n",
      "final dispersion estimates, fitting model and testing: 8 workers\n",
      "\n"
     ]
    }
   ],
   "source": [
    "# Extract and filter F1 samples\n",
    "rgi$cov.F1 <- rgi$cov[, rownames(info[info$Generation==\"F1\",])]\n",
    "## PARAMS ##\n",
    "# Percentage of samples in which features must have >0 sum\n",
    "rgi.F1.percent_occ <- 10\n",
    "# Quantile used for removing low abundance features\n",
    "rgi.F1.quantile_thresh <- 0.1\n",
    "\n",
    "## PREFILTERING ##\n",
    "# Remove zero sum features\n",
    "nz <- rownames(rgi$cov.F1[rowSums(rgi$cov.F1) > 0, ])\n",
    "rgi$nz.F1 <- rgi$cov.F1[rownames(rgi$cov.F1)%in%nz, ]\n",
    "\n",
    "# Filter low abundance features\n",
    "low_threshold = quantile(rowSums(rgi$nz.F1) / sum(rowSums(rgi$nz.F1)) * 100, probs = rgi.F1.quantile_thresh)\n",
    "#rgi$filtered.F1 <- low.count.removal(rgi$nz.F1, percent = low_threshold)$data.filter\n",
    "\n",
    "#rgi$occ.F1 <- rowSums(rgi$filtered.F1>0) / ncol(rgi$filtered.F1) * 100\n",
    "# Keep features occurring in defined percentage of samples\n",
    "#rgi$filtered.F1 <- rgi$filtered.F1[which(rgi$occ.F1 >= rgi.F1.percent_occ), ]\n",
    "\n",
    "rgi$filtered.F1 <- rgi$nz.F1\n",
    "paste0(c(dim(rgi$cov.F1)[1] - dim(rgi$filtered.F1)[1], \"rgis removed\", dim(rgi$filtered.F1)[1], \"remaining\"))\n",
    "\n",
    "\n",
    "rgi$filtered.F1 <- ceiling(rgi$filtered.F1)\n",
    "\n",
    "\n",
    "info.F1 <- info[colnames(rgi$filtered.F1), c(\"run\",\"sample\",\"Treatment\")]\n",
    "\n",
    "# Create DESeq dataset\n",
    "dds.rgi.F1 <- DESeqDataSetFromMatrix(countData = rgi$filtered.F1,\n",
    "                                    colData = info.F1,\n",
    "                                    design = ~ 1 + Treatment)\n",
    "\n",
    "# Add information in case of collapsing technical replicates\n",
    "dds.rgi.F1$sample <- info.F1$sample\n",
    "dds.rgi.F1$run <- info.F1$run\n",
    "#dds.rgi.F1 <- collapseReplicates(dds.rgi.F1, dds.rgi.F1$sample, dds.rgi.F1$run)\n",
    "\n",
    "# Run DESeq2\n",
    "dds.rgi.F1 <- DESeq(dds.rgi.F1, sfType = \"poscounts\", parallel = TRUE)\n",
    "\n",
    "# Contrast H vs C\n",
    "res.rgi.F1.HvsC <- results(dds.rgi.F1, contrast = list(\"Treatment_H_vs_C\"))\n",
    "res.rgi.F1.HvsC <- res.rgi.F1.HvsC[order(res.rgi.F1.HvsC$padj),]\n",
    "save_results(res.rgi.F1.HvsC, \"res.rgi.F1_HvsF1_C\")\n",
    "\n",
    "# Contrast L vs C\n",
    "res.rgi.F1.LvsC <- results(dds.rgi.F1, contrast = list(\"Treatment_L_vs_C\"))\n",
    "res.rgi.F1.LvsC <- res.rgi.F1.LvsC[order(res.rgi.F1.LvsC$padj),]\n",
    "save_results(res.rgi.F1.LvsC, \"res.rgi.F1_LvsF1_C\")\n",
    "\n",
    "# Contrast H vs L\n",
    "res.rgi.F1.HvsL <- results(dds.rgi.F1, contrast = list(\"Treatment_H_vs_C\", \"Treatment_L_vs_C\"))\n",
    "res.rgi.F1.HvsL <- res.rgi.F1.HvsL[order(res.rgi.F1.HvsL$padj),]\n",
    "save_results(res.rgi.F1.HvsL, \"res.rgi.F1_HvsF1_L\")"
   ]
  },
  {
   "cell_type": "markdown",
   "id": "120ccbb9",
   "metadata": {},
   "source": [
    "#### rgis - F1 generation (C+L vs H)"
   ]
  },
  {
   "cell_type": "code",
   "execution_count": 141,
   "id": "de7d0ad3",
   "metadata": {
    "vscode": {
     "languageId": "r"
    }
   },
   "outputs": [
    {
     "name": "stderr",
     "output_type": "stream",
     "text": [
      "converting counts to integer mode\n",
      "\n",
      "Warning message in DESeqDataSet(se, design = design, ignoreRank):\n",
      "“some variables in design formula are characters, converting to factors”\n",
      "estimating size factors\n",
      "\n",
      "estimating dispersions\n",
      "\n",
      "gene-wise dispersion estimates: 8 workers\n",
      "\n",
      "mean-dispersion relationship\n",
      "\n",
      "final dispersion estimates, fitting model and testing: 8 workers\n",
      "\n",
      "-- replacing outliers and refitting for 1 genes\n",
      "-- DESeq argument 'minReplicatesForReplace' = 7 \n",
      "-- original counts are preserved in counts(dds)\n",
      "\n",
      "estimating dispersions\n",
      "\n",
      "fitting model and testing\n",
      "\n"
     ]
    }
   ],
   "source": [
    "info.F1_2 <- info.F1\n",
    "info.F1_2$Treatment <- gsub(x = info.F1_2$Treatment, pattern = \"[CL]\", replacement = \"CL\")\n",
    "# Create DESeq dataset\n",
    "dds.rgi.F1_2 <- DESeqDataSetFromMatrix(countData = rgi$filtered.F1,\n",
    "                                    colData = info.F1_2,\n",
    "                                    design = ~ 1 + Treatment)\n",
    "\n",
    "\n",
    "# Run DESeq2\n",
    "dds.rgi.F1_2 <- DESeq(dds.rgi.F1_2, sfType = \"poscounts\", parallel = TRUE)\n",
    "\n",
    "# Contrast H vs C+L\n",
    "res.rgi.F1.HvsCL <- results(dds.rgi.F1_2, contrast = list(\"Treatment_H_vs_CL\"))\n",
    "res.rgi.F1.HvsCL <- res.rgi.F1.HvsCL[order(res.rgi.F1.HvsCL$padj),]\n",
    "save_results(res.rgi.F1.HvsCL, \"res.rgi.F1_HvsF1_CL\")"
   ]
  },
  {
   "cell_type": "markdown",
   "id": "9375b4fd",
   "metadata": {},
   "source": [
    "#### rgis - F2 generation"
   ]
  },
  {
   "cell_type": "code",
   "execution_count": 142,
   "id": "f5582827",
   "metadata": {
    "vscode": {
     "languageId": "r"
    }
   },
   "outputs": [
    {
     "data": {
      "text/html": [
       "<style>\n",
       ".list-inline {list-style: none; margin:0; padding: 0}\n",
       ".list-inline>li {display: inline-block}\n",
       ".list-inline>li:not(:last-child)::after {content: \"\\00b7\"; padding: 0 .5ex}\n",
       "</style>\n",
       "<ol class=list-inline><li>'9'</li><li>'rgis removed'</li><li>'64'</li><li>'remaining'</li></ol>\n"
      ],
      "text/latex": [
       "\\begin{enumerate*}\n",
       "\\item '9'\n",
       "\\item 'rgis removed'\n",
       "\\item '64'\n",
       "\\item 'remaining'\n",
       "\\end{enumerate*}\n"
      ],
      "text/markdown": [
       "1. '9'\n",
       "2. 'rgis removed'\n",
       "3. '64'\n",
       "4. 'remaining'\n",
       "\n",
       "\n"
      ],
      "text/plain": [
       "[1] \"9\"            \"rgis removed\" \"64\"           \"remaining\"   "
      ]
     },
     "metadata": {},
     "output_type": "display_data"
    },
    {
     "name": "stderr",
     "output_type": "stream",
     "text": [
      "converting counts to integer mode\n",
      "\n",
      "estimating size factors\n",
      "\n",
      "estimating dispersions\n",
      "\n",
      "gene-wise dispersion estimates: 8 workers\n",
      "\n",
      "mean-dispersion relationship\n",
      "\n",
      "final dispersion estimates, fitting model and testing: 8 workers\n",
      "\n",
      "-- replacing outliers and refitting for 1 genes\n",
      "-- DESeq argument 'minReplicatesForReplace' = 7 \n",
      "-- original counts are preserved in counts(dds)\n",
      "\n",
      "estimating dispersions\n",
      "\n",
      "fitting model and testing\n",
      "\n"
     ]
    }
   ],
   "source": [
    "# Extract and filter F2 samples\n",
    "rgi$cov.F2 <- rgi$cov[, rownames(info[info$Generation==\"F2\",])]\n",
    "## PARAMS ##\n",
    "# Percentage of samples in which features must have >0 sum\n",
    "rgi.F2.percent_occ <- 10\n",
    "# Quantile used for removing low abundance features\n",
    "rgi.F2.quantile_thresh <- 0.1\n",
    "\n",
    "## PREFILTERING ##\n",
    "# Remove zero sum features\n",
    "nz <- rownames(rgi$cov.F2[rowSums(rgi$cov.F2) > 0, ])\n",
    "rgi$nz.F2 <- rgi$cov.F2[rownames(rgi$cov.F2)%in%nz, ]\n",
    "\n",
    "# Filter low abundance features\n",
    "low_threshold = quantile(rowSums(rgi$nz.F2) / sum(rowSums(rgi$nz.F2)) * 100, probs = rgi.F2.quantile_thresh)\n",
    "#rgi$filtered.F2 <- low.count.removal(rgi$nz.F2, percent = low_threshold)$data.filter\n",
    "\n",
    "#rgi$occ.F2 <- rowSums(rgi$filtered.F2>0) / ncol(rgi$filtered.F2) * 100\n",
    "# Keep features occurring in defined percentage of samples\n",
    "#rgi$filtered.F2 <- rgi$filtered.F2[which(rgi$occ.F2 >= rgi.F2.percent_occ), ]\n",
    "\n",
    "rgi$filtered.F2 <- rgi$nz.F2\n",
    "paste0(c(dim(rgi$cov.F2)[1] - dim(rgi$filtered.F2)[1], \"rgis removed\", dim(rgi$filtered.F2)[1], \"remaining\"))\n",
    "\n",
    "\n",
    "rgi$filtered.F2 <- ceiling(rgi$filtered.F2)\n",
    "\n",
    "\n",
    "info.F2 <- info[colnames(rgi$filtered.F2), c(\"run\",\"sample\",\"Treatment\")]\n",
    "\n",
    "# Create DESeq dataset\n",
    "dds.rgi.F2 <- DESeqDataSetFromMatrix(countData = rgi$filtered.F2,\n",
    "                                    colData = info.F2,\n",
    "                                    design = ~ 1 + Treatment)\n",
    "\n",
    "# Add information in case of collapsing technical replicates\n",
    "dds.rgi.F2$sample <- info.F2$sample\n",
    "dds.rgi.F2$run <- info.F2$run\n",
    "#dds.rgi.F2 <- collapseReplicates(dds.rgi.F2, dds.rgi.F2$sample, dds.rgi.F2$run)\n",
    "\n",
    "# Run DESeq2\n",
    "dds.rgi.F2 <- DESeq(dds.rgi.F2, sfType = \"poscounts\", parallel = TRUE)\n",
    "\n",
    "# Contrast H vs C\n",
    "res.rgi.F2.HvsC <- results(dds.rgi.F2, contrast = list(\"Treatment_H_vs_C\"))\n",
    "res.rgi.F2.HvsC <- res.rgi.F2.HvsC[order(res.rgi.F2.HvsC$padj),]\n",
    "save_results(res.rgi.F2.HvsC, \"res.rgi.F2_HvsF2_C\")\n",
    "\n",
    "# Contrast L vs C\n",
    "res.rgi.F2.LvsC <- results(dds.rgi.F2, contrast = list(\"Treatment_L_vs_C\"))\n",
    "res.rgi.F2.LvsC <- res.rgi.F2.LvsC[order(res.rgi.F2.LvsC$padj),]\n",
    "save_results(res.rgi.F2.LvsC, \"res.rgi.F2_LvsF2_C\")\n",
    "\n",
    "# Contrast H vs L\n",
    "res.rgi.F2.HvsL <- results(dds.rgi.F2, contrast = list(\"Treatment_H_vs_C\", \"Treatment_L_vs_C\"))\n",
    "res.rgi.F2.HvsL <- res.rgi.F2.HvsL[order(res.rgi.F2.HvsL$padj),]\n",
    "save_results(res.rgi.F2.HvsL, \"res.rgi.F2_HvsF2_L\")"
   ]
  },
  {
   "cell_type": "markdown",
   "id": "ce0a0823",
   "metadata": {},
   "source": [
    "#### rgis - F2 generation (C+L vs H)"
   ]
  },
  {
   "cell_type": "code",
   "execution_count": 143,
   "id": "f58ff3e1",
   "metadata": {
    "vscode": {
     "languageId": "r"
    }
   },
   "outputs": [
    {
     "name": "stderr",
     "output_type": "stream",
     "text": [
      "converting counts to integer mode\n",
      "\n",
      "Warning message in DESeqDataSet(se, design = design, ignoreRank):\n",
      "“some variables in design formula are characters, converting to factors”\n",
      "estimating size factors\n",
      "\n",
      "estimating dispersions\n",
      "\n",
      "gene-wise dispersion estimates: 8 workers\n",
      "\n",
      "mean-dispersion relationship\n",
      "\n",
      "final dispersion estimates, fitting model and testing: 8 workers\n",
      "\n",
      "-- replacing outliers and refitting for 1 genes\n",
      "-- DESeq argument 'minReplicatesForReplace' = 7 \n",
      "-- original counts are preserved in counts(dds)\n",
      "\n",
      "estimating dispersions\n",
      "\n",
      "fitting model and testing\n",
      "\n"
     ]
    }
   ],
   "source": [
    "info.F2_2 <- info.F2\n",
    "info.F2_2$Treatment <- gsub(x = info.F2_2$Treatment, pattern = \"[CL]\", replacement = \"CL\")\n",
    "# Create DESeq dataset\n",
    "dds.rgi.F2_2 <- DESeqDataSetFromMatrix(countData = rgi$filtered.F2,\n",
    "                                    colData = info.F2_2,\n",
    "                                    design = ~ 1 + Treatment)\n",
    "\n",
    "\n",
    "# Run DESeq2\n",
    "dds.rgi.F2_2 <- DESeq(dds.rgi.F2_2, sfType = \"poscounts\", parallel = TRUE)\n",
    "\n",
    "# Contrast H vs C+L\n",
    "res.rgi.F2.HvsCL <- results(dds.rgi.F2_2, contrast = list(\"Treatment_H_vs_CL\"))\n",
    "res.rgi.F2.HvsCL <- res.rgi.F2.HvsCL[order(res.rgi.F2.HvsCL$padj),]\n",
    "save_results(res.rgi.F2.HvsCL, \"res.rgi.F2_HvsF2_CL\")"
   ]
  }
 ],
 "metadata": {
  "kernelspec": {
   "display_name": "R",
   "language": "R",
   "name": "ir"
  },
  "language_info": {
   "codemirror_mode": "r",
   "file_extension": ".r",
   "mimetype": "text/x-r-source",
   "name": "R",
   "pygments_lexer": "r",
   "version": "4.2.3"
  }
 },
 "nbformat": 4,
 "nbformat_minor": 5
}
