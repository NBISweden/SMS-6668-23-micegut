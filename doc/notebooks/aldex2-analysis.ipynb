{
 "cells": [
  {
   "cell_type": "markdown",
   "id": "822f6073",
   "metadata": {},
   "source": [
    "---\n",
    "title: ALDEx2 analysis\n",
    "format:\n",
    "    confluence-html:\n",
    "        code-fold: true\n",
    "---"
   ]
  },
  {
   "cell_type": "markdown",
   "id": "276e1235",
   "metadata": {},
   "source": [
    "[ALDEx2](https://microbiomejournal.biomedcentral.com/articles/10.1186/2049-2618-2-15) is a software package for differential relative abundance analysis of high-throughput data. It uses log ratio transformation of counts and Monte-Carlo sampling to estimate technical variation in samples and outputs effect-sizes of features given the model design. The authors recommend an effect-size cutoff of 1 for HTS datasets. Further, for studies with more than two conditions (*e.g.* 'control', 'low' and 'high' as in the current study), the `aldex.glm` function is recommended which uses a generalized linear model.\n",
    "\n",
    "Here we use the inter-quartile log-ratio or 'iqlr' method to transform the counts. This approach is recommended for asymmetric datasets."
   ]
  },
  {
   "cell_type": "code",
   "execution_count": 1,
   "id": "ff77b3ac",
   "metadata": {
    "scrolled": true,
    "vscode": {
     "languageId": "r"
    }
   },
   "outputs": [
    {
     "name": "stderr",
     "output_type": "stream",
     "text": [
      "Loading required package: zCompositions\n",
      "\n",
      "Loading required package: MASS\n",
      "\n",
      "Loading required package: NADA\n",
      "\n",
      "Loading required package: survival\n",
      "\n",
      "\n",
      "Attaching package: ‘NADA’\n",
      "\n",
      "\n",
      "The following object is masked from ‘package:stats’:\n",
      "\n",
      "    cor\n",
      "\n",
      "\n",
      "Loading required package: truncnorm\n",
      "\n",
      "\n",
      "Attaching package: ‘arrow’\n",
      "\n",
      "\n",
      "The following object is masked from ‘package:utils’:\n",
      "\n",
      "    timestamp\n",
      "\n",
      "\n",
      "\n",
      "Attaching package: ‘dplyr’\n",
      "\n",
      "\n",
      "The following object is masked from ‘package:MASS’:\n",
      "\n",
      "    select\n",
      "\n",
      "\n",
      "The following objects are masked from ‘package:stats’:\n",
      "\n",
      "    filter, lag\n",
      "\n",
      "\n",
      "The following objects are masked from ‘package:base’:\n",
      "\n",
      "    intersect, setdiff, setequal, union\n",
      "\n",
      "\n"
     ]
    }
   ],
   "source": [
    "library(ALDEx2)\n",
    "library(arrow)\n",
    "library(tibble)\n",
    "library(stringr)\n",
    "library(dplyr)"
   ]
  },
  {
   "cell_type": "code",
   "execution_count": 25,
   "id": "a54cd5a3",
   "metadata": {
    "vscode": {
     "languageId": "r"
    }
   },
   "outputs": [],
   "source": [
    "save_results <- function(e, name) {\n",
    "    f = paste0(\"../atlas/stats/ALDEx2/\", name, \".tsv\")\n",
    "    data <- as.data.frame(e)\n",
    "    data$feature <- rownames(data)\n",
    "    data <- data[, c(\"feature\",colnames(data)[colnames(data)!=\"feature\"])]\n",
    "    write.table(file = f, x = data, sep = \"\\t\", quote = FALSE, row.names = FALSE)\n",
    "}"
   ]
  },
  {
   "cell_type": "code",
   "execution_count": 26,
   "id": "562011d3",
   "metadata": {
    "vscode": {
     "languageId": "r"
    }
   },
   "outputs": [],
   "source": [
    "low.count.removal <- function(\n",
    "                        data, # feature count df of size n (sample) x p (feature)\n",
    "                        percent=0.01 # cutoff chosen\n",
    "                        ) \n",
    "  {\n",
    "    keep.feat = which(rowSums(data)*100/(sum(rowSums(data))) > percent)\n",
    "    data.filter = data[keep.feat, ]\n",
    "    return(list(data.filter = data.filter, keep.feat = keep.feat))\n",
    "}"
   ]
  },
  {
   "cell_type": "markdown",
   "id": "e8926537",
   "metadata": {},
   "source": [
    "# Read data"
   ]
  },
  {
   "cell_type": "code",
   "execution_count": 27,
   "id": "74978962",
   "metadata": {
    "vscode": {
     "languageId": "r"
    }
   },
   "outputs": [],
   "source": [
    "#set.seed(5249)\n",
    "cpus <- 10"
   ]
  },
  {
   "cell_type": "markdown",
   "id": "3a697996",
   "metadata": {},
   "source": [
    "**MAG coverage**"
   ]
  },
  {
   "cell_type": "code",
   "execution_count": 28,
   "id": "f48e852c",
   "metadata": {
    "vscode": {
     "languageId": "r"
    }
   },
   "outputs": [],
   "source": [
    "mag <- list()\n",
    "mag_data <- as.matrix(\n",
    "    column_to_rownames(\n",
    "        read_parquet(\"../atlas/genomes/counts//median_coverage_genomes.parquet\"), \n",
    "        var=\"index\")\n",
    "    )\n",
    "mag$cov <- t(mag_data)"
   ]
  },
  {
   "cell_type": "markdown",
   "id": "17eb4d61",
   "metadata": {},
   "source": [
    "**PFAMs**"
   ]
  },
  {
   "cell_type": "code",
   "execution_count": 29,
   "id": "396162ea",
   "metadata": {
    "vscode": {
     "languageId": "r"
    }
   },
   "outputs": [],
   "source": [
    "pfam <- list()\n",
    "pfam_data <- read.csv(\"../atlas/Genecatalog/counts/PFAMs.median_coverage.tsv\", sep = \"\\t\", header = TRUE, row.names=1)\n",
    "colnames(pfam_data) <- gsub(\".t.r\", \"-t.r\", colnames(pfam_data))\n",
    "pfam$cov <- pfam_data"
   ]
  },
  {
   "cell_type": "markdown",
   "id": "01e58030",
   "metadata": {},
   "source": [
    "**Kegg orthologs (KOs)**"
   ]
  },
  {
   "cell_type": "code",
   "execution_count": 30,
   "id": "6d391715",
   "metadata": {
    "vscode": {
     "languageId": "r"
    }
   },
   "outputs": [],
   "source": [
    "ko <- list()\n",
    "ko_data <- read.csv(\"../atlas/Genecatalog/counts/KO.median_coverage.tsv\", sep = \"\\t\", header = TRUE, row.names=1)\n",
    "colnames(ko_data) <- gsub(\".t.r\", \"-t.r\", colnames(ko_data))\n",
    "ko$cov <- ko_data"
   ]
  },
  {
   "cell_type": "markdown",
   "id": "aba8926b",
   "metadata": {},
   "source": [
    "**CAZY**"
   ]
  },
  {
   "cell_type": "code",
   "execution_count": 31,
   "id": "b308bf59",
   "metadata": {
    "vscode": {
     "languageId": "r"
    }
   },
   "outputs": [],
   "source": [
    "cazy <- list()\n",
    "cazy_data <- read.csv(\"../atlas/Genecatalog/counts/CAZy.median_coverage.tsv\", sep = \"\\t\", header = TRUE, row.names=1)\n",
    "colnames(cazy_data) <- gsub(\".t.r\", \"-t.r\", colnames(cazy_data))\n",
    "cazy$cov <- cazy_data"
   ]
  },
  {
   "cell_type": "markdown",
   "id": "ddcd32bd",
   "metadata": {},
   "source": [
    "**UniRef100 taxonomy**"
   ]
  },
  {
   "cell_type": "code",
   "execution_count": 32,
   "id": "785a1907",
   "metadata": {
    "vscode": {
     "languageId": "r"
    }
   },
   "outputs": [],
   "source": [
    "uniref <- list()\n",
    "uniref_data <- read.csv(\"../atlas/taxonomy/UniRef100.median_fold.species.allsamples.tsv\", sep = \"\\t\", header = TRUE, row.names = 1)\n",
    "uniref_taxonomy <- read.csv(\"../atlas/taxonomy/UniRef100.median_fold.tsv\", sep=\"\\t\", header = TRUE)\n",
    "colnames(uniref_data) <- gsub(\".t.r\", \"-t.r\", colnames(uniref_data))\n",
    "# Remove unclassified and unknown\n",
    "uc <- rownames(uniref_data)[grep(\"^uc_\", rownames(uniref_data))]\n",
    "# Remove uncultured\n",
    "unc <- rownames(uniref_data)[grep(\"^uncultured\", rownames(uniref_data))]\n",
    "# Remove species with unknown phylum\n",
    "unk <- uniref_taxonomy[uniref_taxonomy$phylum==\"unknown\",\"species\"]\n",
    "uniref_data_filt <- uniref_data[!c(rownames(uniref_data)%in%c(unc, unk, uc)),]\n",
    "uniref_data_filt <- uniref_data_filt[!c(rownames(uniref_data_filt)%in%c(\"unknown\")), ]\n",
    "# Keep species with proper name\n",
    "keep <- grep(\"^[A-Z][a-z]+ \", rownames(uniref_data_filt))\n",
    "uniref_data_filt <- uniref_data_filt[keep,]\n",
    "uniref$cov <- uniref_data_filt"
   ]
  },
  {
   "cell_type": "code",
   "execution_count": 33,
   "id": "7a6d906f",
   "metadata": {
    "vscode": {
     "languageId": "r"
    }
   },
   "outputs": [],
   "source": [
    "uniref.genus <- list()\n",
    "uniref_genus_data <- read.csv(\"../atlas/taxonomy//UniRef100.median_fold.genus.tsv\", sep=\"\\t\", header = TRUE, row.names = 1)\n",
    "colnames(uniref_genus_data) <- gsub(\".t.r\", \"-t.r\", colnames(uniref_genus_data))\n",
    "# Remove unclassified and unknown\n",
    "uc <- rownames(uniref_genus_data)[grep(\"^uc_\", rownames(uniref_genus_data))]\n",
    "# Remove uncultured\n",
    "unc <- rownames(uniref_genus_data)[grep(\"^uncultured\", rownames(uniref_genus_data))]\n",
    "# Remove genera with unknown phylum\n",
    "unk <- uniref_taxonomy[uniref_taxonomy$phylum==\"unknown\",\"genus\"]\n",
    "uniref_genus_filt <- uniref_genus_data[!c(rownames(uniref_genus_data)%in%c(unc, unk, uc)),]\n",
    "uniref_genus_filt <- uniref_genus_filt[!c(rownames(uniref_genus_filt)%in%c(\"unknown\")), ]\n",
    "uniref.genus$cov <- uniref_genus_filt"
   ]
  },
  {
   "cell_type": "code",
   "execution_count": 34,
   "id": "2247487a",
   "metadata": {
    "vscode": {
     "languageId": "r"
    }
   },
   "outputs": [
    {
     "data": {
      "text/html": [
       "<table class=\"dataframe\">\n",
       "<caption>A matrix: 2 × 5 of type int</caption>\n",
       "<tbody>\n",
       "\t<tr><td>262</td><td>7363</td><td>5926</td><td> 89</td><td>4060</td></tr>\n",
       "\t<tr><td>105</td><td> 105</td><td> 105</td><td>105</td><td> 105</td></tr>\n",
       "</tbody>\n",
       "</table>\n"
      ],
      "text/latex": [
       "A matrix: 2 × 5 of type int\n",
       "\\begin{tabular}{lllll}\n",
       "\t 262 & 7363 & 5926 &  89 & 4060\\\\\n",
       "\t 105 &  105 &  105 & 105 &  105\\\\\n",
       "\\end{tabular}\n"
      ],
      "text/markdown": [
       "\n",
       "A matrix: 2 × 5 of type int\n",
       "\n",
       "| 262 | 7363 | 5926 |  89 | 4060 |\n",
       "| 105 |  105 |  105 | 105 |  105 |\n",
       "\n"
      ],
      "text/plain": [
       "     [,1] [,2] [,3] [,4] [,5]\n",
       "[1,] 262  7363 5926  89  4060\n",
       "[2,] 105   105  105 105   105"
      ]
     },
     "metadata": {},
     "output_type": "display_data"
    }
   ],
   "source": [
    "cbind(dim(mag$cov),\n",
    "dim(pfam$cov),\n",
    "dim(ko$cov),\n",
    "dim(cazy$cov),\n",
    "dim(uniref$cov))"
   ]
  },
  {
   "cell_type": "markdown",
   "id": "90e57b09",
   "metadata": {},
   "source": [
    "Drop replicates"
   ]
  },
  {
   "cell_type": "code",
   "execution_count": 35,
   "id": "5c0a0c8b",
   "metadata": {
    "vscode": {
     "languageId": "r"
    }
   },
   "outputs": [],
   "source": [
    "drop_reps <- c(\"C11-t.r\", \"C12\", \"C19-t.r\", \"H10\", \"H13-t.r\", \"H32\", \"L11-t.r\", \"L29\", \"L6\")\n",
    "samples <- colnames(mag$cov)[!colnames(mag$cov)%in%drop_reps]\n",
    "mag$cov <- mag$cov[,samples]\n",
    "pfam$cov <- pfam$cov[,samples]\n",
    "ko$cov <- ko$cov[,samples]\n",
    "cazy$cov <- cazy$cov[,samples]\n",
    "uniref$cov <- uniref$cov[,samples]\n",
    "uniref.genus$cov <- uniref.genus$cov[,!c(colnames(uniref.genus$cov)%in%drop_reps)]"
   ]
  },
  {
   "cell_type": "code",
   "execution_count": 36,
   "id": "af038bf7",
   "metadata": {
    "vscode": {
     "languageId": "r"
    }
   },
   "outputs": [
    {
     "data": {
      "text/html": [
       "<table class=\"dataframe\">\n",
       "<caption>A matrix: 2 × 6 of type int</caption>\n",
       "<tbody>\n",
       "\t<tr><td>262</td><td>7363</td><td>5926</td><td>89</td><td>4060</td><td>1396</td></tr>\n",
       "\t<tr><td> 96</td><td>  96</td><td>  96</td><td>96</td><td>  96</td><td>  96</td></tr>\n",
       "</tbody>\n",
       "</table>\n"
      ],
      "text/latex": [
       "A matrix: 2 × 6 of type int\n",
       "\\begin{tabular}{llllll}\n",
       "\t 262 & 7363 & 5926 & 89 & 4060 & 1396\\\\\n",
       "\t  96 &   96 &   96 & 96 &   96 &   96\\\\\n",
       "\\end{tabular}\n"
      ],
      "text/markdown": [
       "\n",
       "A matrix: 2 × 6 of type int\n",
       "\n",
       "| 262 | 7363 | 5926 | 89 | 4060 | 1396 |\n",
       "|  96 |   96 |   96 | 96 |   96 |   96 |\n",
       "\n"
      ],
      "text/plain": [
       "     [,1] [,2] [,3] [,4] [,5] [,6]\n",
       "[1,] 262  7363 5926 89   4060 1396\n",
       "[2,]  96    96   96 96     96   96"
      ]
     },
     "metadata": {},
     "output_type": "display_data"
    }
   ],
   "source": [
    "cbind(dim(mag$cov),\n",
    "dim(pfam$cov),\n",
    "dim(ko$cov),\n",
    "dim(cazy$cov),\n",
    "dim(uniref$cov),\n",
    "dim(uniref.genus$cov))"
   ]
  },
  {
   "cell_type": "markdown",
   "id": "eba34c76",
   "metadata": {},
   "source": [
    "Make all dataframes line up"
   ]
  },
  {
   "cell_type": "code",
   "execution_count": 37,
   "id": "43bffaab",
   "metadata": {
    "vscode": {
     "languageId": "r"
    }
   },
   "outputs": [],
   "source": [
    "# Make all dataframes line up\n",
    "samples <- colnames(mag$cov)\n",
    "mag$cov <- mag$cov[, samples]\n",
    "pfam$cov <- pfam$cov[, samples]\n",
    "ko$cov <- ko$cov[, samples]\n",
    "cazy$cov <- cazy$cov[, samples]\n",
    "uniref$cov <- uniref$cov[, samples]\n",
    "uniref.genus$cov <- uniref.genus$cov[, samples]"
   ]
  },
  {
   "cell_type": "code",
   "execution_count": 38,
   "id": "70ea14e1",
   "metadata": {
    "vscode": {
     "languageId": "r"
    }
   },
   "outputs": [
    {
     "data": {
      "text/html": [
       "<table class=\"dataframe\">\n",
       "<caption>A matrix: 2 × 6 of type int</caption>\n",
       "<tbody>\n",
       "\t<tr><td>262</td><td>7363</td><td>5926</td><td>89</td><td>4060</td><td>1396</td></tr>\n",
       "\t<tr><td> 96</td><td>  96</td><td>  96</td><td>96</td><td>  96</td><td>  96</td></tr>\n",
       "</tbody>\n",
       "</table>\n"
      ],
      "text/latex": [
       "A matrix: 2 × 6 of type int\n",
       "\\begin{tabular}{llllll}\n",
       "\t 262 & 7363 & 5926 & 89 & 4060 & 1396\\\\\n",
       "\t  96 &   96 &   96 & 96 &   96 &   96\\\\\n",
       "\\end{tabular}\n"
      ],
      "text/markdown": [
       "\n",
       "A matrix: 2 × 6 of type int\n",
       "\n",
       "| 262 | 7363 | 5926 | 89 | 4060 | 1396 |\n",
       "|  96 |   96 |   96 | 96 |   96 |   96 |\n",
       "\n"
      ],
      "text/plain": [
       "     [,1] [,2] [,3] [,4] [,5] [,6]\n",
       "[1,] 262  7363 5926 89   4060 1396\n",
       "[2,]  96    96   96 96     96   96"
      ]
     },
     "metadata": {},
     "output_type": "display_data"
    }
   ],
   "source": [
    "cbind(dim(mag$cov),\n",
    "dim(pfam$cov),\n",
    "dim(ko$cov),\n",
    "dim(cazy$cov),\n",
    "dim(uniref$cov),\n",
    "dim(uniref.genus$cov))"
   ]
  },
  {
   "cell_type": "code",
   "execution_count": 39,
   "id": "59b8f506",
   "metadata": {
    "vscode": {
     "languageId": "r"
    }
   },
   "outputs": [],
   "source": [
    "# Read sample info and set up the relevant columns\n",
    "info <- read.csv(\"../data/sample_groups.csv\", header = T, row.names = 1)\n",
    "# Reorder the metadata\n",
    "info <- info[colnames(mag$cov), ]\n",
    "info$group <- factor(info$group)\n",
    "info$generation <- factor(info$generation)\n",
    "info$treatment <- factor(info$treatment)\n",
    "mm.generation <- model.matrix(~ generation, info)\n",
    "mm.generation.treatment <- model.matrix(~ generation + treatment, info)\n",
    "mm.F0.treatment <- model.matrix(~ treatment, info[info$generation == \"F0\", ])\n",
    "mm.F1.treatment <- model.matrix(~ treatment, info[info$generation == \"F1\", ])\n",
    "mm.F2.treatment <- model.matrix(~ treatment, info[info$generation == \"F2\", ])"
   ]
  },
  {
   "cell_type": "code",
   "execution_count": 40,
   "id": "1d3d1318",
   "metadata": {
    "vscode": {
     "languageId": "r"
    }
   },
   "outputs": [
    {
     "data": {
      "text/html": [
       "TRUE"
      ],
      "text/latex": [
       "TRUE"
      ],
      "text/markdown": [
       "TRUE"
      ],
      "text/plain": [
       "[1] TRUE"
      ]
     },
     "metadata": {},
     "output_type": "display_data"
    }
   ],
   "source": [
    "all(all(rownames(info) == colnames(mag$cov)),\n",
    "all(rownames(info) == colnames(pfam$cov)),\n",
    "all(rownames(info) == colnames(ko$cov)),\n",
    "all(rownames(info) == colnames(cazy$cov)),\n",
    "all(rownames(info) == colnames(uniref$cov)),\n",
    "all(rownames(info) == colnames(uniref.genus$cov)))"
   ]
  },
  {
   "cell_type": "markdown",
   "id": "6c5d8b83",
   "metadata": {},
   "source": [
    "## ALDEX2 analysis"
   ]
  },
  {
   "cell_type": "markdown",
   "id": "07102f9d",
   "metadata": {},
   "source": [
    "### MAGs"
   ]
  },
  {
   "cell_type": "markdown",
   "id": "c67be30b",
   "metadata": {},
   "source": [
    "#### MAGs - generational differences"
   ]
  },
  {
   "cell_type": "code",
   "execution_count": 25,
   "id": "66e75a16",
   "metadata": {
    "vscode": {
     "languageId": "r"
    }
   },
   "outputs": [
    {
     "data": {
      "text/html": [
       "<style>\n",
       ".list-inline {list-style: none; margin:0; padding: 0}\n",
       ".list-inline>li {display: inline-block}\n",
       ".list-inline>li:not(:last-child)::after {content: \"\\00b7\"; padding: 0 .5ex}\n",
       "</style>\n",
       "<ol class=list-inline><li>'30'</li><li>'MAGs removed'</li><li>'232'</li><li>'remaining'</li></ol>\n"
      ],
      "text/latex": [
       "\\begin{enumerate*}\n",
       "\\item '30'\n",
       "\\item 'MAGs removed'\n",
       "\\item '232'\n",
       "\\item 'remaining'\n",
       "\\end{enumerate*}\n"
      ],
      "text/markdown": [
       "1. '30'\n",
       "2. 'MAGs removed'\n",
       "3. '232'\n",
       "4. 'remaining'\n",
       "\n",
       "\n"
      ],
      "text/plain": [
       "[1] \"30\"           \"MAGs removed\" \"232\"          \"remaining\"   "
      ]
     },
     "metadata": {},
     "output_type": "display_data"
    },
    {
     "name": "stderr",
     "output_type": "stream",
     "text": [
      "computing iqlr centering\n",
      "\n",
      "checking for condition length disabled!\n",
      "\n",
      "user-defined denominator used\n",
      "\n",
      "multicore environment is is OK -- using the BiocParallel package\n",
      "\n",
      "removed rows with sums equal to zero\n",
      "\n",
      "data format is OK\n",
      "\n",
      "dirichlet samples complete\n",
      "\n",
      "transformation complete\n",
      "\n",
      "running tests for each MC instance:\n",
      "\n"
     ]
    },
    {
     "name": "stdout",
     "output_type": "stream",
     "text": [
      "|------------(25%)----------(50%)----------(75%)----------|\n"
     ]
    },
    {
     "name": "stderr",
     "output_type": "stream",
     "text": [
      "operating in serial mode\n",
      "\n",
      "sanity check complete\n",
      "\n",
      "rab.all  complete\n",
      "\n",
      "rab.win  complete\n",
      "\n",
      "rab of samples complete\n",
      "\n",
      "within sample difference calculated\n",
      "\n",
      "between group difference calculated\n",
      "\n",
      "group summaries calculated\n",
      "\n",
      "unpaired effect size calculated\n",
      "\n",
      "summarizing output\n",
      "\n",
      "operating in serial mode\n",
      "\n",
      "sanity check complete\n",
      "\n",
      "rab.all  complete\n",
      "\n",
      "rab.win  complete\n",
      "\n",
      "rab of samples complete\n",
      "\n",
      "within sample difference calculated\n",
      "\n",
      "between group difference calculated\n",
      "\n",
      "group summaries calculated\n",
      "\n",
      "unpaired effect size calculated\n",
      "\n",
      "summarizing output\n",
      "\n"
     ]
    }
   ],
   "source": [
    "## PARAMS ##\n",
    "# Percentage of samples in which features must have >0 sum\n",
    "mag.percent_occ <- 10\n",
    "# Quantile used for removing low abundance features\n",
    "mag.quantile_thresh <- 0.1\n",
    "mc.samples <- 128\n",
    "\n",
    "## PREFILTERING ##\n",
    "# Remove zero sum features\n",
    "nz <- rownames(mag$cov[rowSums(mag$cov) > 0, ])\n",
    "mag$nz <- mag$cov[rownames(mag$cov)%in%nz, ]\n",
    "\n",
    "# Filter low abundance features\n",
    "low_threshold = quantile(rowSums(mag$nz) / sum(rowSums(mag$nz)) * 100, probs = mag.quantile_thresh)\n",
    "mag$filtered <- low.count.removal(mag$nz, percent = low_threshold)$data.filter\n",
    "\n",
    "mag$occ <- rowSums(mag$filtered>0) / ncol(mag$filtered) * 100\n",
    "# Keep features occurring in defined percentage of samples\n",
    "mag$filtered <- mag$filtered[which(mag$occ >= mag.percent_occ), ]\n",
    "paste0(c(dim(mag$cov)[1] - dim(mag$filtered)[1], \"MAGs removed\", dim(mag$filtered)[1], \"remaining\"))\n",
    "\n",
    "mag$filtered <- ceiling(mag$filtered)\n",
    "\n",
    "denoms <- aldex.set.mode(ceiling(mag$filtered), info[colnames(mag$filtered),\"generation\"], denom=\"iqlr\")\n",
    "\n",
    "x.mag <- aldex.clr(ceiling(mag$filtered), mm.generation, mc.samples=mc.samples, denom=denoms, verbose=TRUE, useMC = TRUE)\n",
    "glm.test.mag <- aldex.glm(x.mag, mm.generation)\n",
    "save_results(glm.test.mag, \"glm.test.mag\")\n",
    "glm.effect.mag <- aldex.glm.effect(x.mag)\n",
    "save_results(glm.effect.mag, \"glm.effect.mag\")"
   ]
  },
  {
   "cell_type": "markdown",
   "id": "d6ae2ece",
   "metadata": {},
   "source": [
    "#### MAGs - treatment with generation as covariate"
   ]
  },
  {
   "cell_type": "code",
   "execution_count": 37,
   "id": "82b992d0",
   "metadata": {
    "vscode": {
     "languageId": "r"
    }
   },
   "outputs": [
    {
     "name": "stderr",
     "output_type": "stream",
     "text": [
      "checking for condition length disabled!\n",
      "\n",
      "using all features for denominator\n",
      "\n",
      "multicore environment is is OK -- using the BiocParallel package\n",
      "\n",
      "removed rows with sums equal to zero\n",
      "\n",
      "computing center with all features\n",
      "\n",
      "data format is OK\n",
      "\n",
      "dirichlet samples complete\n",
      "\n",
      "transformation complete\n",
      "\n",
      "running tests for each MC instance:\n",
      "\n"
     ]
    },
    {
     "name": "stdout",
     "output_type": "stream",
     "text": [
      "|------------(25%)----------(50%)----------(75%)----------|\n"
     ]
    },
    {
     "name": "stderr",
     "output_type": "stream",
     "text": [
      "operating in serial mode\n",
      "\n",
      "sanity check complete\n",
      "\n",
      "rab.all  complete\n",
      "\n",
      "rab.win  complete\n",
      "\n",
      "rab of samples complete\n",
      "\n",
      "within sample difference calculated\n",
      "\n",
      "between group difference calculated\n",
      "\n",
      "group summaries calculated\n",
      "\n",
      "unpaired effect size calculated\n",
      "\n",
      "summarizing output\n",
      "\n",
      "operating in serial mode\n",
      "\n",
      "sanity check complete\n",
      "\n",
      "rab.all  complete\n",
      "\n",
      "rab.win  complete\n",
      "\n",
      "rab of samples complete\n",
      "\n",
      "within sample difference calculated\n",
      "\n",
      "between group difference calculated\n",
      "\n",
      "group summaries calculated\n",
      "\n",
      "unpaired effect size calculated\n",
      "\n",
      "summarizing output\n",
      "\n"
     ]
    }
   ],
   "source": [
    "x.mag.co <- aldex.clr(ceiling(mag$filtered), mm.generation, mc.samples=mc.samples, denom=\"all\", verbose=TRUE, useMC = TRUE)\n",
    "glm.test.mag.co <- aldex.glm(x.mag.co, mm.generation.treatment)\n",
    "save_results(glm.test.mag.co, \"glm.test.mag.co\")\n",
    "glm.effect.mag.co <- aldex.glm.effect(x.mag.co)\n",
    "save_results(glm.effect.mag.co, \"glm.effect.mag.co\")"
   ]
  },
  {
   "cell_type": "markdown",
   "id": "24515219",
   "metadata": {},
   "source": [
    "#### MAGs - F0"
   ]
  },
  {
   "cell_type": "code",
   "execution_count": 87,
   "id": "f742492c",
   "metadata": {
    "vscode": {
     "languageId": "r"
    }
   },
   "outputs": [
    {
     "data": {
      "text/html": [
       "<table class=\"dataframe\">\n",
       "<caption>A data.frame: 3 × 2</caption>\n",
       "<thead>\n",
       "\t<tr><th scope=col>treatment</th><th scope=col>n</th></tr>\n",
       "\t<tr><th scope=col>&lt;fct&gt;</th><th scope=col>&lt;int&gt;</th></tr>\n",
       "</thead>\n",
       "<tbody>\n",
       "\t<tr><td>C</td><td>11</td></tr>\n",
       "\t<tr><td>H</td><td>11</td></tr>\n",
       "\t<tr><td>L</td><td> 9</td></tr>\n",
       "</tbody>\n",
       "</table>\n"
      ],
      "text/latex": [
       "A data.frame: 3 × 2\n",
       "\\begin{tabular}{ll}\n",
       " treatment & n\\\\\n",
       " <fct> & <int>\\\\\n",
       "\\hline\n",
       "\t C & 11\\\\\n",
       "\t H & 11\\\\\n",
       "\t L &  9\\\\\n",
       "\\end{tabular}\n"
      ],
      "text/markdown": [
       "\n",
       "A data.frame: 3 × 2\n",
       "\n",
       "| treatment &lt;fct&gt; | n &lt;int&gt; |\n",
       "|---|---|\n",
       "| C | 11 |\n",
       "| H | 11 |\n",
       "| L |  9 |\n",
       "\n"
      ],
      "text/plain": [
       "  treatment n \n",
       "1 C         11\n",
       "2 H         11\n",
       "3 L          9"
      ]
     },
     "metadata": {},
     "output_type": "display_data"
    },
    {
     "data": {
      "text/html": [
       "112"
      ],
      "text/latex": [
       "112"
      ],
      "text/markdown": [
       "112"
      ],
      "text/plain": [
       "[1] 112"
      ]
     },
     "metadata": {},
     "output_type": "display_data"
    }
   ],
   "source": [
    "info[info$generation == \"F0\",] %>% count(treatment)\n",
    "ceiling(1000 / 9)"
   ]
  },
  {
   "cell_type": "code",
   "execution_count": 88,
   "id": "ed46f516",
   "metadata": {
    "vscode": {
     "languageId": "r"
    }
   },
   "outputs": [
    {
     "data": {
      "text/html": [
       "<style>\n",
       ".list-inline {list-style: none; margin:0; padding: 0}\n",
       ".list-inline>li {display: inline-block}\n",
       ".list-inline>li:not(:last-child)::after {content: \"\\00b7\"; padding: 0 .5ex}\n",
       "</style>\n",
       "<ol class=list-inline><li>'66'</li><li>'MAGs removed'</li><li>'196'</li><li>'remaining'</li></ol>\n"
      ],
      "text/latex": [
       "\\begin{enumerate*}\n",
       "\\item '66'\n",
       "\\item 'MAGs removed'\n",
       "\\item '196'\n",
       "\\item 'remaining'\n",
       "\\end{enumerate*}\n"
      ],
      "text/markdown": [
       "1. '66'\n",
       "2. 'MAGs removed'\n",
       "3. '196'\n",
       "4. 'remaining'\n",
       "\n",
       "\n"
      ],
      "text/plain": [
       "[1] \"66\"           \"MAGs removed\" \"196\"          \"remaining\"   "
      ]
     },
     "metadata": {},
     "output_type": "display_data"
    },
    {
     "name": "stderr",
     "output_type": "stream",
     "text": [
      "computing iqlr centering\n",
      "\n",
      "checking for condition length disabled!\n",
      "\n",
      "user-defined denominator used\n",
      "\n",
      "multicore environment is is OK -- using the BiocParallel package\n",
      "\n",
      "removed rows with sums equal to zero\n",
      "\n",
      "data format is OK\n",
      "\n",
      "dirichlet samples complete\n",
      "\n",
      "transformation complete\n",
      "\n",
      "running tests for each MC instance:\n",
      "\n"
     ]
    },
    {
     "name": "stdout",
     "output_type": "stream",
     "text": [
      "|------------(25%)----------(50%)----------(75%)----------|\n"
     ]
    },
    {
     "name": "stderr",
     "output_type": "stream",
     "text": [
      "operating in serial mode\n",
      "\n",
      "sanity check complete\n",
      "\n",
      "rab.all  complete\n",
      "\n",
      "rab.win  complete\n",
      "\n",
      "rab of samples complete\n",
      "\n",
      "within sample difference calculated\n",
      "\n",
      "between group difference calculated\n",
      "\n",
      "group summaries calculated\n",
      "\n",
      "unpaired effect size calculated\n",
      "\n",
      "summarizing output\n",
      "\n",
      "operating in serial mode\n",
      "\n",
      "sanity check complete\n",
      "\n",
      "rab.all  complete\n",
      "\n",
      "rab.win  complete\n",
      "\n",
      "rab of samples complete\n",
      "\n",
      "within sample difference calculated\n",
      "\n",
      "between group difference calculated\n",
      "\n",
      "group summaries calculated\n",
      "\n",
      "unpaired effect size calculated\n",
      "\n",
      "summarizing output\n",
      "\n"
     ]
    }
   ],
   "source": [
    "# Extract and filter F0 samples\n",
    "mag$cov.F0 <- mag$cov[, rownames(info[info$generation==\"F0\",])]\n",
    "## PARAMS ##\n",
    "# Percentage of samples in which features must have >0 sum\n",
    "mag.F0.percent_occ <- 10\n",
    "# Quantile used for removing low abundance features\n",
    "mag.F0.quantile_thresh <- 0.1\n",
    "mc.samples <- 128\n",
    "\n",
    "## PREFILTERING ##\n",
    "# Remove zero sum features\n",
    "nz <- rownames(mag$cov.F0[rowSums(mag$cov.F0) > 0, ])\n",
    "mag$nz.F0 <- mag$cov.F0[rownames(mag$cov.F0)%in%nz, ]\n",
    "\n",
    "# Filter low abundance features\n",
    "low_threshold = quantile(rowSums(mag$nz.F0) / sum(rowSums(mag$nz.F0)) * 100, probs = mag.F0.quantile_thresh)\n",
    "mag$filtered.F0 <- low.count.removal(mag$nz.F0, percent = low_threshold)$data.filter\n",
    "\n",
    "mag$occ.F0 <- rowSums(mag$filtered.F0>0) / ncol(mag$filtered.F0) * 100\n",
    "# Keep features occurring in defined percentage of samples\n",
    "mag$filtered.F0 <- mag$filtered.F0[which(mag$occ.F0 >= mag.F0.percent_occ), ]\n",
    "paste0(c(dim(mag$cov.F0)[1] - dim(mag$filtered.F0)[1], \"MAGs removed\", dim(mag$filtered.F0)[1], \"remaining\"))\n",
    "\n",
    "# Get denominators from IQLR transformation\n",
    "denoms <- aldex.set.mode(ceiling(mag$filtered.F0), info[colnames(mag$filtered.F0),\"treatment\"], denom=\"iqlr\")\n",
    "\n",
    "x.mag.F0 <- aldex.clr(ceiling(mag$filtered.F0), mm.F0.treatment, mc.samples=mc.samples, denom=denoms, verbose=TRUE, useMC = TRUE)\n",
    "glm.test.mag.F0 <- aldex.glm(x.mag.F0, mm.F0.treatment)\n",
    "save_results(glm.test.mag.F0, \"glm.test.mag.F0\")\n",
    "glm.effect.mag.F0 <- aldex.glm.effect(x.mag.F0)\n",
    "save_results(glm.effect.mag.F0, \"glm.effect.mag.F0\")"
   ]
  },
  {
   "cell_type": "markdown",
   "id": "0e31ca73",
   "metadata": {},
   "source": [
    "#### MAGs - F0 generation (C+L vs H)"
   ]
  },
  {
   "cell_type": "code",
   "execution_count": 90,
   "id": "20c32e50",
   "metadata": {
    "vscode": {
     "languageId": "r"
    }
   },
   "outputs": [
    {
     "data": {
      "text/html": [
       "<table class=\"dataframe\">\n",
       "<caption>A data.frame: 2 × 2</caption>\n",
       "<thead>\n",
       "\t<tr><th scope=col>treatment</th><th scope=col>n</th></tr>\n",
       "\t<tr><th scope=col>&lt;fct&gt;</th><th scope=col>&lt;int&gt;</th></tr>\n",
       "</thead>\n",
       "<tbody>\n",
       "\t<tr><td>CL</td><td>20</td></tr>\n",
       "\t<tr><td>H </td><td>11</td></tr>\n",
       "</tbody>\n",
       "</table>\n"
      ],
      "text/latex": [
       "A data.frame: 2 × 2\n",
       "\\begin{tabular}{ll}\n",
       " treatment & n\\\\\n",
       " <fct> & <int>\\\\\n",
       "\\hline\n",
       "\t CL & 20\\\\\n",
       "\t H  & 11\\\\\n",
       "\\end{tabular}\n"
      ],
      "text/markdown": [
       "\n",
       "A data.frame: 2 × 2\n",
       "\n",
       "| treatment &lt;fct&gt; | n &lt;int&gt; |\n",
       "|---|---|\n",
       "| CL | 20 |\n",
       "| H  | 11 |\n",
       "\n"
      ],
      "text/plain": [
       "  treatment n \n",
       "1 CL        20\n",
       "2 H         11"
      ]
     },
     "metadata": {},
     "output_type": "display_data"
    },
    {
     "data": {
      "text/html": [
       "91"
      ],
      "text/latex": [
       "91"
      ],
      "text/markdown": [
       "91"
      ],
      "text/plain": [
       "[1] 91"
      ]
     },
     "metadata": {},
     "output_type": "display_data"
    }
   ],
   "source": [
    "#info.F0_2 %>% count(treatment)\n",
    "#ceiling(1000 / 11)"
   ]
  },
  {
   "cell_type": "code",
   "execution_count": 91,
   "id": "9d643f2b",
   "metadata": {
    "vscode": {
     "languageId": "r"
    }
   },
   "outputs": [
    {
     "name": "stderr",
     "output_type": "stream",
     "text": [
      "computing iqlr centering\n",
      "\n",
      "aldex.clr: generating Monte-Carlo instances and clr values\n",
      "\n",
      "operating in serial mode\n",
      "\n",
      "removed rows with sums equal to zero\n",
      "\n",
      "data format is OK\n",
      "\n",
      "dirichlet samples complete\n",
      "\n",
      "transformation complete\n",
      "\n",
      "aldex.ttest: doing t-test\n",
      "\n",
      "running tests for each MC instance:\n",
      "\n"
     ]
    },
    {
     "name": "stdout",
     "output_type": "stream",
     "text": [
      "|------------(25%)----------(50%)----------(75%)----------|\n"
     ]
    },
    {
     "name": "stderr",
     "output_type": "stream",
     "text": [
      "aldex.effect: calculating effect sizes\n",
      "\n",
      "operating in serial mode\n",
      "\n",
      "sanity check complete\n",
      "\n",
      "rab.all  complete\n",
      "\n",
      "rab.win  complete\n",
      "\n",
      "rab of samples complete\n",
      "\n",
      "within sample difference calculated\n",
      "\n",
      "between group difference calculated\n",
      "\n",
      "group summaries calculated\n",
      "\n",
      "unpaired effect size calculated\n",
      "\n",
      "summarizing output\n",
      "\n"
     ]
    }
   ],
   "source": [
    "info.F0 <- info[info$generation==\"F0\",]\n",
    "info.F0_2 <- info.F0\n",
    "info.F0_2$treatment <- gsub(x = info.F0_2$treatment, pattern = \"[CL]\", replacement = \"CL\")\n",
    "info.F0_2$treatment <- factor(info.F0_2$treatment)\n",
    "mm.F0_2.treatment <- model.matrix(~ treatment, info.F0_2)\n",
    "mc.samples <- 128\n",
    "\n",
    "denoms <- aldex.set.mode(ceiling(mag$filtered.F0), info[colnames(mag$filtered.F0),\"treatment\"], denom=\"iqlr\")\n",
    "conds <- info.F0_2[colnames(mag$filtered.F0),\"treatment\"]\n",
    "x.mag.F0_2 <- aldex(ceiling(mag$filtered.F0), conds, mc.samples=mc.samples, denom=denoms, test=\"t\", effect=TRUE,\n",
    "     include.sample.summary=FALSE, verbose=TRUE, paired.test=FALSE)\n",
    "save_results(x.mag.F0_2[order(x.mag.F0_2$effect, decreasing = TRUE),], \"mag.F0_2\")"
   ]
  },
  {
   "cell_type": "code",
   "execution_count": 65,
   "id": "2a9316c6",
   "metadata": {
    "vscode": {
     "languageId": "r"
    }
   },
   "outputs": [
    {
     "data": {
      "text/html": [
       "<style>\n",
       ".list-inline {list-style: none; margin:0; padding: 0}\n",
       ".list-inline>li {display: inline-block}\n",
       ".list-inline>li:not(:last-child)::after {content: \"\\00b7\"; padding: 0 .5ex}\n",
       "</style>\n",
       "<ol class=list-inline><li>'64'</li><li>'MAGs removed'</li><li>'198'</li><li>'remaining'</li></ol>\n"
      ],
      "text/latex": [
       "\\begin{enumerate*}\n",
       "\\item '64'\n",
       "\\item 'MAGs removed'\n",
       "\\item '198'\n",
       "\\item 'remaining'\n",
       "\\end{enumerate*}\n"
      ],
      "text/markdown": [
       "1. '64'\n",
       "2. 'MAGs removed'\n",
       "3. '198'\n",
       "4. 'remaining'\n",
       "\n",
       "\n"
      ],
      "text/plain": [
       "[1] \"64\"           \"MAGs removed\" \"198\"          \"remaining\"   "
      ]
     },
     "metadata": {},
     "output_type": "display_data"
    }
   ],
   "source": [
    "## PARAMS ##\n",
    "# Percentage of samples in which features must have >0 sum\n",
    "mag.F0_HC.percent_occ <- 10\n",
    "# Quantile used for removing low abundance features\n",
    "mag.F0_HC.quantile_thresh <- 0.1\n",
    "mc.samples <- 128\n",
    "\n",
    "## PREFILTERING ##\n",
    "# Remove zero sum features\n",
    "nz <- rownames(mag$cov.F0_HC[rowSums(mag$cov.F0_HC) > 0, ])\n",
    "mag$nz.F0_HC <- mag$cov.F0_HC[rownames(mag$cov.F0_HC)%in%nz, ]\n",
    "\n",
    "# Filter low abundance features\n",
    "low_threshold = quantile(rowSums(mag$nz.F0_HC) / sum(rowSums(mag$nz.F0_HC)) * 100, probs = mag.F0_HC.quantile_thresh)\n",
    "mag$filtered.F0_HC <- low.count.removal(mag$nz.F0_HC, percent = low_threshold)$data.filter\n",
    "\n",
    "mag$occ.F0_HC <- rowSums(mag$filtered.F0_HC>0) / ncol(mag$filtered.F0_HC) * 100\n",
    "# Keep features occurring in defined percentage of samples\n",
    "mag$filtered.F0_HC <- mag$filtered.F0_HC[which(mag$occ.F0_HC >= mag.F0_HC.percent_occ), ]\n",
    "paste0(c(dim(mag$cov.F0_HC)[1] - dim(mag$filtered.F0_HC)[1], \"MAGs removed\", dim(mag$filtered.F0_HC)[1], \"remaining\"))\n"
   ]
  },
  {
   "cell_type": "markdown",
   "id": "5ff21840",
   "metadata": {},
   "source": [
    "#### MAGs - F0 generation (H vs C)"
   ]
  },
  {
   "cell_type": "code",
   "execution_count": 71,
   "id": "79edb0c1",
   "metadata": {
    "vscode": {
     "languageId": "r"
    }
   },
   "outputs": [
    {
     "data": {
      "text/html": [
       "<table class=\"dataframe\">\n",
       "<caption>A data.frame: 2 × 2</caption>\n",
       "<thead>\n",
       "\t<tr><th scope=col>treatment</th><th scope=col>n</th></tr>\n",
       "\t<tr><th scope=col>&lt;fct&gt;</th><th scope=col>&lt;int&gt;</th></tr>\n",
       "</thead>\n",
       "<tbody>\n",
       "\t<tr><td>C</td><td>11</td></tr>\n",
       "\t<tr><td>H</td><td>11</td></tr>\n",
       "</tbody>\n",
       "</table>\n"
      ],
      "text/latex": [
       "A data.frame: 2 × 2\n",
       "\\begin{tabular}{ll}\n",
       " treatment & n\\\\\n",
       " <fct> & <int>\\\\\n",
       "\\hline\n",
       "\t C & 11\\\\\n",
       "\t H & 11\\\\\n",
       "\\end{tabular}\n"
      ],
      "text/markdown": [
       "\n",
       "A data.frame: 2 × 2\n",
       "\n",
       "| treatment &lt;fct&gt; | n &lt;int&gt; |\n",
       "|---|---|\n",
       "| C | 11 |\n",
       "| H | 11 |\n",
       "\n"
      ],
      "text/plain": [
       "  treatment n \n",
       "1 C         11\n",
       "2 H         11"
      ]
     },
     "metadata": {},
     "output_type": "display_data"
    },
    {
     "data": {
      "text/html": [
       "90.9090909090909"
      ],
      "text/latex": [
       "90.9090909090909"
      ],
      "text/markdown": [
       "90.9090909090909"
      ],
      "text/plain": [
       "[1] 90.90909"
      ]
     },
     "metadata": {},
     "output_type": "display_data"
    }
   ],
   "source": [
    "#info.F0_HC %>% count(treatment)\n",
    "#1000 / 11"
   ]
  },
  {
   "cell_type": "code",
   "execution_count": 66,
   "id": "ff20d1c9",
   "metadata": {
    "vscode": {
     "languageId": "r"
    }
   },
   "outputs": [
    {
     "data": {
      "text/html": [
       "<style>\n",
       ".list-inline {list-style: none; margin:0; padding: 0}\n",
       ".list-inline>li {display: inline-block}\n",
       ".list-inline>li:not(:last-child)::after {content: \"\\00b7\"; padding: 0 .5ex}\n",
       "</style>\n",
       "<ol class=list-inline><li>'64'</li><li>'MAGs removed'</li><li>'198'</li><li>'remaining'</li></ol>\n"
      ],
      "text/latex": [
       "\\begin{enumerate*}\n",
       "\\item '64'\n",
       "\\item 'MAGs removed'\n",
       "\\item '198'\n",
       "\\item 'remaining'\n",
       "\\end{enumerate*}\n"
      ],
      "text/markdown": [
       "1. '64'\n",
       "2. 'MAGs removed'\n",
       "3. '198'\n",
       "4. 'remaining'\n",
       "\n",
       "\n"
      ],
      "text/plain": [
       "[1] \"64\"           \"MAGs removed\" \"198\"          \"remaining\"   "
      ]
     },
     "metadata": {},
     "output_type": "display_data"
    },
    {
     "name": "stderr",
     "output_type": "stream",
     "text": [
      "computing iqlr centering\n",
      "\n",
      "aldex.clr: generating Monte-Carlo instances and clr values\n",
      "\n",
      "operating in serial mode\n",
      "\n",
      "removed rows with sums equal to zero\n",
      "\n",
      "data format is OK\n",
      "\n",
      "dirichlet samples complete\n",
      "\n",
      "transformation complete\n",
      "\n",
      "aldex.ttest: doing t-test\n",
      "\n",
      "running tests for each MC instance:\n",
      "\n"
     ]
    },
    {
     "name": "stdout",
     "output_type": "stream",
     "text": [
      "|------------(25%)----------(50%)----------(75%)----------|\n"
     ]
    },
    {
     "name": "stderr",
     "output_type": "stream",
     "text": [
      "aldex.effect: calculating effect sizes\n",
      "\n",
      "operating in serial mode\n",
      "\n",
      "sanity check complete\n",
      "\n",
      "rab.all  complete\n",
      "\n",
      "rab.win  complete\n",
      "\n",
      "rab of samples complete\n",
      "\n",
      "within sample difference calculated\n",
      "\n",
      "between group difference calculated\n",
      "\n",
      "group summaries calculated\n",
      "\n",
      "unpaired effect size calculated\n",
      "\n",
      "summarizing output\n",
      "\n"
     ]
    }
   ],
   "source": [
    "info.F0_HC <- info[info$generation==\"F0\",]\n",
    "info.F0_HC <- info.F0_HC[rownames(info.F0_HC)[info.F0_HC$treatment%in%c(\"C\",\"H\")],]\n",
    "mc.samples <- 128\n",
    "mag$cov.F0_HC <- mag$cov[, rownames(info.F0_HC)]\n",
    "\n",
    "## PARAMS ##\n",
    "# Percentage of samples in which features must have >0 sum\n",
    "mag.F0_HC.percent_occ <- 10\n",
    "# Quantile used for removing low abundance features\n",
    "mag.F0_HC.quantile_thresh <- 0.1\n",
    "mc.samples <- 128\n",
    "\n",
    "## PREFILTERING ##\n",
    "# Remove zero sum features\n",
    "nz <- rownames(mag$cov.F0_HC[rowSums(mag$cov.F0_HC) > 0, ])\n",
    "mag$nz.F0_HC <- mag$cov.F0_HC[rownames(mag$cov.F0_HC)%in%nz, ]\n",
    "\n",
    "# Filter low abundance features\n",
    "low_threshold = quantile(rowSums(mag$nz.F0_HC) / sum(rowSums(mag$nz.F0_HC)) * 100, probs = mag.F0_HC.quantile_thresh)\n",
    "mag$filtered.F0_HC <- low.count.removal(mag$nz.F0_HC, percent = low_threshold)$data.filter\n",
    "\n",
    "mag$occ.F0_HC <- rowSums(mag$filtered.F0_HC>0) / ncol(mag$filtered.F0_HC) * 100\n",
    "# Keep features occurring in defined percentage of samples\n",
    "mag$filtered.F0_HC <- mag$filtered.F0_HC[which(mag$occ.F0_HC >= mag.F0_HC.percent_occ), ]\n",
    "paste0(c(dim(mag$cov.F0_HC)[1] - dim(mag$filtered.F0_HC)[1], \"MAGs removed\", dim(mag$filtered.F0_HC)[1], \"remaining\"))\n",
    "\n",
    "X <- mag$filtered.F0_HC\n",
    "Y <- info.F0_HC\n",
    "\n",
    "denoms <- aldex.set.mode(ceiling(X), Y[colnames(X),\"treatment\"], denom=\"iqlr\")\n",
    "conds <- factor(Y[colnames(X),\"treatment\"])\n",
    "x.mag.F0_HC <- aldex(ceiling(X), conds, mc.samples=mc.samples, denom=denoms, test=\"t\", effect=TRUE,\n",
    "     include.sample.summary=FALSE, verbose=TRUE, paired.test=FALSE)\n",
    "save_results(x.mag.F0_HC[order(x.mag.F0_HC$effect, decreasing = TRUE),], \"mag.F0_HC\")"
   ]
  },
  {
   "cell_type": "markdown",
   "id": "2b865345",
   "metadata": {},
   "source": [
    "#### MAGs - F0 generation (L vs C)"
   ]
  },
  {
   "cell_type": "code",
   "execution_count": 73,
   "id": "b73951f2",
   "metadata": {
    "vscode": {
     "languageId": "r"
    }
   },
   "outputs": [
    {
     "data": {
      "text/html": [
       "<table class=\"dataframe\">\n",
       "<caption>A data.frame: 2 × 2</caption>\n",
       "<thead>\n",
       "\t<tr><th scope=col>treatment</th><th scope=col>n</th></tr>\n",
       "\t<tr><th scope=col>&lt;fct&gt;</th><th scope=col>&lt;int&gt;</th></tr>\n",
       "</thead>\n",
       "<tbody>\n",
       "\t<tr><td>C</td><td>11</td></tr>\n",
       "\t<tr><td>L</td><td> 9</td></tr>\n",
       "</tbody>\n",
       "</table>\n"
      ],
      "text/latex": [
       "A data.frame: 2 × 2\n",
       "\\begin{tabular}{ll}\n",
       " treatment & n\\\\\n",
       " <fct> & <int>\\\\\n",
       "\\hline\n",
       "\t C & 11\\\\\n",
       "\t L &  9\\\\\n",
       "\\end{tabular}\n"
      ],
      "text/markdown": [
       "\n",
       "A data.frame: 2 × 2\n",
       "\n",
       "| treatment &lt;fct&gt; | n &lt;int&gt; |\n",
       "|---|---|\n",
       "| C | 11 |\n",
       "| L |  9 |\n",
       "\n"
      ],
      "text/plain": [
       "  treatment n \n",
       "1 C         11\n",
       "2 L          9"
      ]
     },
     "metadata": {},
     "output_type": "display_data"
    },
    {
     "data": {
      "text/html": [
       "111.111111111111"
      ],
      "text/latex": [
       "111.111111111111"
      ],
      "text/markdown": [
       "111.111111111111"
      ],
      "text/plain": [
       "[1] 111.1111"
      ]
     },
     "metadata": {},
     "output_type": "display_data"
    }
   ],
   "source": [
    "#info.F0_LC %>% count(treatment)\n",
    "#1000 / 9"
   ]
  },
  {
   "cell_type": "code",
   "execution_count": 69,
   "id": "6a395cee",
   "metadata": {
    "vscode": {
     "languageId": "r"
    }
   },
   "outputs": [
    {
     "data": {
      "text/html": [
       "<style>\n",
       ".list-inline {list-style: none; margin:0; padding: 0}\n",
       ".list-inline>li {display: inline-block}\n",
       ".list-inline>li:not(:last-child)::after {content: \"\\00b7\"; padding: 0 .5ex}\n",
       "</style>\n",
       "<ol class=list-inline><li>'67'</li><li>'MAGs removed'</li><li>'195'</li><li>'remaining'</li></ol>\n"
      ],
      "text/latex": [
       "\\begin{enumerate*}\n",
       "\\item '67'\n",
       "\\item 'MAGs removed'\n",
       "\\item '195'\n",
       "\\item 'remaining'\n",
       "\\end{enumerate*}\n"
      ],
      "text/markdown": [
       "1. '67'\n",
       "2. 'MAGs removed'\n",
       "3. '195'\n",
       "4. 'remaining'\n",
       "\n",
       "\n"
      ],
      "text/plain": [
       "[1] \"67\"           \"MAGs removed\" \"195\"          \"remaining\"   "
      ]
     },
     "metadata": {},
     "output_type": "display_data"
    },
    {
     "name": "stderr",
     "output_type": "stream",
     "text": [
      "computing iqlr centering\n",
      "\n",
      "aldex.clr: generating Monte-Carlo instances and clr values\n",
      "\n",
      "operating in serial mode\n",
      "\n",
      "removed rows with sums equal to zero\n",
      "\n",
      "data format is OK\n",
      "\n",
      "dirichlet samples complete\n",
      "\n",
      "transformation complete\n",
      "\n",
      "aldex.ttest: doing t-test\n",
      "\n",
      "running tests for each MC instance:\n",
      "\n"
     ]
    },
    {
     "name": "stdout",
     "output_type": "stream",
     "text": [
      "|------------(25%)----------(50%)----------(75%)----------|\n"
     ]
    },
    {
     "name": "stderr",
     "output_type": "stream",
     "text": [
      "aldex.effect: calculating effect sizes\n",
      "\n",
      "operating in serial mode\n",
      "\n",
      "sanity check complete\n",
      "\n",
      "rab.all  complete\n",
      "\n",
      "rab.win  complete\n",
      "\n",
      "rab of samples complete\n",
      "\n",
      "within sample difference calculated\n",
      "\n",
      "between group difference calculated\n",
      "\n",
      "group summaries calculated\n",
      "\n",
      "unpaired effect size calculated\n",
      "\n",
      "summarizing output\n",
      "\n"
     ]
    }
   ],
   "source": [
    "info.F0_LC <- info[info$generation==\"F0\",]\n",
    "info.F0_LC <- info.F0_LC[rownames(info.F0_LC)[info.F0_LC$treatment%in%c(\"C\",\"L\")],]\n",
    "mc.samples <- 128\n",
    "mag$cov.F0_LC <- mag$cov[, rownames(info.F0_LC)]\n",
    "\n",
    "## PARAMS ##\n",
    "# Percentage of samples in which features must have >0 sum\n",
    "mag.F0_LC.percent_occ <- 10\n",
    "# Quantile used for removing low abundance features\n",
    "mag.F0_LC.quantile_thresh <- 0.1\n",
    "mc.samples <- 128\n",
    "\n",
    "## PREFILTERING ##\n",
    "# Remove zero sum features\n",
    "nz <- rownames(mag$cov.F0_LC[rowSums(mag$cov.F0_LC) > 0, ])\n",
    "mag$nz.F0_LC <- mag$cov.F0_LC[rownames(mag$cov.F0_LC)%in%nz, ]\n",
    "\n",
    "# Filter low abundance features\n",
    "low_threshold = quantile(rowSums(mag$nz.F0_LC) / sum(rowSums(mag$nz.F0_LC)) * 100, probs = mag.F0_LC.quantile_thresh)\n",
    "mag$filtered.F0_LC <- low.count.removal(mag$nz.F0_LC, percent = low_threshold)$data.filter\n",
    "\n",
    "mag$occ.F0_LC <- rowSums(mag$filtered.F0_LC>0) / ncol(mag$filtered.F0_LC) * 100\n",
    "# Keep features occurring in defined percentage of samples\n",
    "mag$filtered.F0_LC <- mag$filtered.F0_LC[which(mag$occ.F0_LC >= mag.F0_LC.percent_occ), ]\n",
    "paste0(c(dim(mag$cov.F0_LC)[1] - dim(mag$filtered.F0_LC)[1], \"MAGs removed\", dim(mag$filtered.F0_LC)[1], \"remaining\"))\n",
    "\n",
    "X <- mag$filtered.F0_LC\n",
    "Y <- info.F0_LC\n",
    "\n",
    "denoms <- aldex.set.mode(ceiling(X), Y[colnames(X),\"treatment\"], denom=\"iqlr\")\n",
    "conds <- factor(Y[colnames(X),\"treatment\"])\n",
    "x.mag.F0_LC <- aldex(ceiling(X), conds, mc.samples=mc.samples, denom=denoms, test=\"t\", effect=TRUE,\n",
    "     include.sample.summary=FALSE, verbose=TRUE, paired.test=FALSE)\n",
    "save_results(x.mag.F0_LC[order(x.mag.F0_LC$effect, decreasing = TRUE),], \"mag.F0_LC\")"
   ]
  },
  {
   "cell_type": "markdown",
   "id": "d0c10f1d",
   "metadata": {},
   "source": [
    "#### MAGs - F1 generation"
   ]
  },
  {
   "cell_type": "code",
   "execution_count": 92,
   "id": "a2b6c127",
   "metadata": {
    "vscode": {
     "languageId": "r"
    }
   },
   "outputs": [
    {
     "data": {
      "text/html": [
       "<table class=\"dataframe\">\n",
       "<caption>A data.frame: 3 × 2</caption>\n",
       "<thead>\n",
       "\t<tr><th scope=col>treatment</th><th scope=col>n</th></tr>\n",
       "\t<tr><th scope=col>&lt;fct&gt;</th><th scope=col>&lt;int&gt;</th></tr>\n",
       "</thead>\n",
       "<tbody>\n",
       "\t<tr><td>C</td><td>7</td></tr>\n",
       "\t<tr><td>H</td><td>7</td></tr>\n",
       "\t<tr><td>L</td><td>5</td></tr>\n",
       "</tbody>\n",
       "</table>\n"
      ],
      "text/latex": [
       "A data.frame: 3 × 2\n",
       "\\begin{tabular}{ll}\n",
       " treatment & n\\\\\n",
       " <fct> & <int>\\\\\n",
       "\\hline\n",
       "\t C & 7\\\\\n",
       "\t H & 7\\\\\n",
       "\t L & 5\\\\\n",
       "\\end{tabular}\n"
      ],
      "text/markdown": [
       "\n",
       "A data.frame: 3 × 2\n",
       "\n",
       "| treatment &lt;fct&gt; | n &lt;int&gt; |\n",
       "|---|---|\n",
       "| C | 7 |\n",
       "| H | 7 |\n",
       "| L | 5 |\n",
       "\n"
      ],
      "text/plain": [
       "  treatment n\n",
       "1 C         7\n",
       "2 H         7\n",
       "3 L         5"
      ]
     },
     "metadata": {},
     "output_type": "display_data"
    },
    {
     "data": {
      "text/html": [
       "200"
      ],
      "text/latex": [
       "200"
      ],
      "text/markdown": [
       "200"
      ],
      "text/plain": [
       "[1] 200"
      ]
     },
     "metadata": {},
     "output_type": "display_data"
    }
   ],
   "source": [
    "#info[info$generation == \"F1\",] %>% count(treatment)\n",
    "#ceiling(1000 / 5)"
   ]
  },
  {
   "cell_type": "code",
   "execution_count": 115,
   "id": "f3873e70",
   "metadata": {
    "vscode": {
     "languageId": "r"
    }
   },
   "outputs": [
    {
     "data": {
      "text/html": [
       "<style>\n",
       ".list-inline {list-style: none; margin:0; padding: 0}\n",
       ".list-inline>li {display: inline-block}\n",
       ".list-inline>li:not(:last-child)::after {content: \"\\00b7\"; padding: 0 .5ex}\n",
       "</style>\n",
       "<ol class=list-inline><li>'70'</li><li>'MAGs removed'</li><li>'192'</li><li>'remaining'</li></ol>\n"
      ],
      "text/latex": [
       "\\begin{enumerate*}\n",
       "\\item '70'\n",
       "\\item 'MAGs removed'\n",
       "\\item '192'\n",
       "\\item 'remaining'\n",
       "\\end{enumerate*}\n"
      ],
      "text/markdown": [
       "1. '70'\n",
       "2. 'MAGs removed'\n",
       "3. '192'\n",
       "4. 'remaining'\n",
       "\n",
       "\n"
      ],
      "text/plain": [
       "[1] \"70\"           \"MAGs removed\" \"192\"          \"remaining\"   "
      ]
     },
     "metadata": {},
     "output_type": "display_data"
    },
    {
     "name": "stderr",
     "output_type": "stream",
     "text": [
      "computing iqlr centering\n",
      "\n",
      "checking for condition length disabled!\n",
      "\n",
      "user-defined denominator used\n",
      "\n",
      "multicore environment is is OK -- using the BiocParallel package\n",
      "\n",
      "removed rows with sums equal to zero\n",
      "\n",
      "data format is OK\n",
      "\n",
      "dirichlet samples complete\n",
      "\n",
      "transformation complete\n",
      "\n",
      "running tests for each MC instance:\n",
      "\n"
     ]
    },
    {
     "name": "stdout",
     "output_type": "stream",
     "text": [
      "|------------(25%)----------(50%)----------(75%)----------|\n"
     ]
    },
    {
     "name": "stderr",
     "output_type": "stream",
     "text": [
      "operating in serial mode\n",
      "\n",
      "sanity check complete\n",
      "\n",
      "rab.all  complete\n",
      "\n",
      "rab.win  complete\n",
      "\n",
      "rab of samples complete\n",
      "\n",
      "within sample difference calculated\n",
      "\n",
      "between group difference calculated\n",
      "\n",
      "group summaries calculated\n",
      "\n",
      "unpaired effect size calculated\n",
      "\n",
      "summarizing output\n",
      "\n",
      "operating in serial mode\n",
      "\n",
      "sanity check complete\n",
      "\n",
      "rab.all  complete\n",
      "\n",
      "rab.win  complete\n",
      "\n",
      "rab of samples complete\n",
      "\n",
      "within sample difference calculated\n",
      "\n",
      "between group difference calculated\n",
      "\n",
      "group summaries calculated\n",
      "\n",
      "unpaired effect size calculated\n",
      "\n",
      "summarizing output\n",
      "\n"
     ]
    }
   ],
   "source": [
    "# Extract and filter F1 samples\n",
    "mag$cov.F1 <- mag$cov[, rownames(info[info$generation==\"F1\",])]\n",
    "## PARAMS ##\n",
    "# Percentage of samples in which features must have >0 sum\n",
    "mag.F1.percent_occ <- 10\n",
    "# Quantile used for removing low abundance features\n",
    "mag.F1.quantile_thresh <- 0.1\n",
    "mc.samples <- 200\n",
    "\n",
    "## PREFILTERING ##\n",
    "# Remove zero sum features\n",
    "nz <- rownames(mag$cov.F1[rowSums(mag$cov.F1) > 0, ])\n",
    "mag$nz.F1 <- mag$cov.F1[rownames(mag$cov.F1)%in%nz, ]\n",
    "\n",
    "# Filter low abundance features\n",
    "low_threshold = quantile(rowSums(mag$nz.F1) / sum(rowSums(mag$nz.F1)) * 100, probs = mag.F1.quantile_thresh)\n",
    "mag$filtered.F1 <- low.count.removal(mag$nz.F1, percent = low_threshold)$data.filter\n",
    "\n",
    "mag$occ.F1 <- rowSums(mag$filtered.F1>0) / ncol(mag$filtered.F1) * 100\n",
    "# Keep features occurring in defined percentage of samples\n",
    "mag$filtered.F1 <- mag$filtered.F1[which(mag$occ.F1 >= mag.F1.percent_occ), ]\n",
    "paste0(c(dim(mag$cov.F1)[1] - dim(mag$filtered.F1)[1], \"MAGs removed\", dim(mag$filtered.F1)[1], \"remaining\"))\n",
    "\n",
    "# Get denominators from IQLR transformation\n",
    "denoms <- aldex.set.mode(ceiling(mag$filtered.F1), info[colnames(mag$filtered.F1),\"treatment\"], denom=\"iqlr\")\n",
    "\n",
    "x.mag.F1 <- aldex.clr(ceiling(mag$filtered.F1), mm.F1.treatment, mc.samples=mc.samples, denom=denoms, verbose=TRUE, useMC = TRUE)\n",
    "glm.test.mag.F1 <- aldex.glm(x.mag.F1, mm.F1.treatment)\n",
    "save_results(glm.test.mag.F1, \"glm.test.mag.F1\")\n",
    "glm.effect.mag.F1 <- aldex.glm.effect(x.mag.F1)\n",
    "save_results(glm.effect.mag.F1, \"glm.effect.mag.F1\")"
   ]
  },
  {
   "cell_type": "markdown",
   "id": "f786d003",
   "metadata": {},
   "source": [
    "#### MAGs - F1 generation (C+L vs H)"
   ]
  },
  {
   "cell_type": "code",
   "execution_count": 97,
   "id": "2ab8224a",
   "metadata": {
    "vscode": {
     "languageId": "r"
    }
   },
   "outputs": [
    {
     "data": {
      "text/html": [
       "<table class=\"dataframe\">\n",
       "<caption>A data.frame: 2 × 2</caption>\n",
       "<thead>\n",
       "\t<tr><th scope=col>treatment</th><th scope=col>n</th></tr>\n",
       "\t<tr><th scope=col>&lt;fct&gt;</th><th scope=col>&lt;int&gt;</th></tr>\n",
       "</thead>\n",
       "<tbody>\n",
       "\t<tr><td>CL</td><td>12</td></tr>\n",
       "\t<tr><td>H </td><td> 7</td></tr>\n",
       "</tbody>\n",
       "</table>\n"
      ],
      "text/latex": [
       "A data.frame: 2 × 2\n",
       "\\begin{tabular}{ll}\n",
       " treatment & n\\\\\n",
       " <fct> & <int>\\\\\n",
       "\\hline\n",
       "\t CL & 12\\\\\n",
       "\t H  &  7\\\\\n",
       "\\end{tabular}\n"
      ],
      "text/markdown": [
       "\n",
       "A data.frame: 2 × 2\n",
       "\n",
       "| treatment &lt;fct&gt; | n &lt;int&gt; |\n",
       "|---|---|\n",
       "| CL | 12 |\n",
       "| H  |  7 |\n",
       "\n"
      ],
      "text/plain": [
       "  treatment n \n",
       "1 CL        12\n",
       "2 H          7"
      ]
     },
     "metadata": {},
     "output_type": "display_data"
    },
    {
     "data": {
      "text/html": [
       "143"
      ],
      "text/latex": [
       "143"
      ],
      "text/markdown": [
       "143"
      ],
      "text/plain": [
       "[1] 143"
      ]
     },
     "metadata": {},
     "output_type": "display_data"
    }
   ],
   "source": [
    "#info.F1_2 %>% count(treatment)\n",
    "#ceiling(1000 / 7)"
   ]
  },
  {
   "cell_type": "code",
   "execution_count": 116,
   "id": "cbd580f0",
   "metadata": {
    "vscode": {
     "languageId": "r"
    }
   },
   "outputs": [
    {
     "name": "stderr",
     "output_type": "stream",
     "text": [
      "computing iqlr centering\n",
      "\n",
      "aldex.clr: generating Monte-Carlo instances and clr values\n",
      "\n",
      "operating in serial mode\n",
      "\n",
      "removed rows with sums equal to zero\n",
      "\n",
      "data format is OK\n",
      "\n",
      "dirichlet samples complete\n",
      "\n",
      "transformation complete\n",
      "\n",
      "aldex.ttest: doing t-test\n",
      "\n",
      "running tests for each MC instance:\n",
      "\n"
     ]
    },
    {
     "name": "stdout",
     "output_type": "stream",
     "text": [
      "|------------(25%)----------(50%)----------(75%)----------|\n"
     ]
    },
    {
     "name": "stderr",
     "output_type": "stream",
     "text": [
      "aldex.effect: calculating effect sizes\n",
      "\n",
      "operating in serial mode\n",
      "\n",
      "sanity check complete\n",
      "\n",
      "rab.all  complete\n",
      "\n",
      "rab.win  complete\n",
      "\n",
      "rab of samples complete\n",
      "\n",
      "within sample difference calculated\n",
      "\n",
      "between group difference calculated\n",
      "\n",
      "group summaries calculated\n",
      "\n",
      "unpaired effect size calculated\n",
      "\n",
      "summarizing output\n",
      "\n"
     ]
    }
   ],
   "source": [
    "info.F1 <- info[info$generation==\"F1\",]\n",
    "info.F1_2 <- info.F1\n",
    "info.F1_2$treatment <- gsub(x = info.F1_2$treatment, pattern = \"[CL]\", replacement = \"CL\")\n",
    "info.F1_2$treatment <- factor(info.F1_2$treatment)\n",
    "mm.F1_2.treatment <- model.matrix(~ treatment, info.F1_2)\n",
    "mc.samples <- 200\n",
    "\n",
    "denoms <- aldex.set.mode(ceiling(mag$filtered.F1), info[colnames(mag$filtered.F1),\"treatment\"], denom=\"iqlr\")\n",
    "conds <- info.F1_2[colnames(mag$filtered.F1),\"treatment\"]\n",
    "x.mag.F1_2 <- aldex(ceiling(mag$filtered.F1), conds, mc.samples=mc.samples, denom=denoms, test=\"t\", effect=TRUE,\n",
    "     include.sample.summary=FALSE, verbose=TRUE, paired.test=FALSE)\n",
    "save_results(x.mag.F1_2[order(x.mag.F1_2$effect, decreasing = TRUE),], \"mag.F1_2\")"
   ]
  },
  {
   "cell_type": "markdown",
   "id": "f06fbf30",
   "metadata": {},
   "source": [
    "#### MAGs - F1 generation (H vs C)"
   ]
  },
  {
   "cell_type": "code",
   "execution_count": 75,
   "id": "a1adfe46",
   "metadata": {
    "vscode": {
     "languageId": "r"
    }
   },
   "outputs": [
    {
     "data": {
      "text/html": [
       "<table class=\"dataframe\">\n",
       "<caption>A data.frame: 2 × 2</caption>\n",
       "<thead>\n",
       "\t<tr><th scope=col>treatment</th><th scope=col>n</th></tr>\n",
       "\t<tr><th scope=col>&lt;fct&gt;</th><th scope=col>&lt;int&gt;</th></tr>\n",
       "</thead>\n",
       "<tbody>\n",
       "\t<tr><td>C</td><td>7</td></tr>\n",
       "\t<tr><td>H</td><td>7</td></tr>\n",
       "</tbody>\n",
       "</table>\n"
      ],
      "text/latex": [
       "A data.frame: 2 × 2\n",
       "\\begin{tabular}{ll}\n",
       " treatment & n\\\\\n",
       " <fct> & <int>\\\\\n",
       "\\hline\n",
       "\t C & 7\\\\\n",
       "\t H & 7\\\\\n",
       "\\end{tabular}\n"
      ],
      "text/markdown": [
       "\n",
       "A data.frame: 2 × 2\n",
       "\n",
       "| treatment &lt;fct&gt; | n &lt;int&gt; |\n",
       "|---|---|\n",
       "| C | 7 |\n",
       "| H | 7 |\n",
       "\n"
      ],
      "text/plain": [
       "  treatment n\n",
       "1 C         7\n",
       "2 H         7"
      ]
     },
     "metadata": {},
     "output_type": "display_data"
    },
    {
     "data": {
      "text/html": [
       "143"
      ],
      "text/latex": [
       "143"
      ],
      "text/markdown": [
       "143"
      ],
      "text/plain": [
       "[1] 143"
      ]
     },
     "metadata": {},
     "output_type": "display_data"
    }
   ],
   "source": [
    "info.F1_HC <- info[info$generation==\"F1\",]\n",
    "info.F1_HC <- info.F1_HC[rownames(info.F1_HC)[info.F1_HC$treatment%in%c(\"C\",\"H\")],]\n",
    "info.F1_HC %>% count(treatment)\n",
    "ceiling(1000 / 7)"
   ]
  },
  {
   "cell_type": "code",
   "execution_count": 67,
   "id": "ab0183dc",
   "metadata": {
    "vscode": {
     "languageId": "r"
    }
   },
   "outputs": [
    {
     "data": {
      "text/html": [
       "<style>\n",
       ".list-inline {list-style: none; margin:0; padding: 0}\n",
       ".list-inline>li {display: inline-block}\n",
       ".list-inline>li:not(:last-child)::after {content: \"\\00b7\"; padding: 0 .5ex}\n",
       "</style>\n",
       "<ol class=list-inline><li>'70'</li><li>'MAGs removed'</li><li>'192'</li><li>'remaining'</li></ol>\n"
      ],
      "text/latex": [
       "\\begin{enumerate*}\n",
       "\\item '70'\n",
       "\\item 'MAGs removed'\n",
       "\\item '192'\n",
       "\\item 'remaining'\n",
       "\\end{enumerate*}\n"
      ],
      "text/markdown": [
       "1. '70'\n",
       "2. 'MAGs removed'\n",
       "3. '192'\n",
       "4. 'remaining'\n",
       "\n",
       "\n"
      ],
      "text/plain": [
       "[1] \"70\"           \"MAGs removed\" \"192\"          \"remaining\"   "
      ]
     },
     "metadata": {},
     "output_type": "display_data"
    },
    {
     "name": "stderr",
     "output_type": "stream",
     "text": [
      "computing iqlr centering\n",
      "\n",
      "aldex.clr: generating Monte-Carlo instances and clr values\n",
      "\n",
      "operating in serial mode\n",
      "\n",
      "removed rows with sums equal to zero\n",
      "\n",
      "data format is OK\n",
      "\n",
      "dirichlet samples complete\n",
      "\n",
      "transformation complete\n",
      "\n",
      "aldex.ttest: doing t-test\n",
      "\n",
      "running tests for each MC instance:\n",
      "\n"
     ]
    },
    {
     "name": "stdout",
     "output_type": "stream",
     "text": [
      "|------------(25%)----------(50%)----------(75%)----------|\n"
     ]
    },
    {
     "name": "stderr",
     "output_type": "stream",
     "text": [
      "aldex.effect: calculating effect sizes\n",
      "\n",
      "operating in serial mode\n",
      "\n",
      "sanity check complete\n",
      "\n",
      "rab.all  complete\n",
      "\n",
      "rab.win  complete\n",
      "\n",
      "rab of samples complete\n",
      "\n",
      "within sample difference calculated\n",
      "\n",
      "between group difference calculated\n",
      "\n",
      "group summaries calculated\n",
      "\n",
      "unpaired effect size calculated\n",
      "\n",
      "summarizing output\n",
      "\n"
     ]
    }
   ],
   "source": [
    "info.F1_HC <- info[info$generation==\"F1\",]\n",
    "info.F1_HC <- info.F1_HC[rownames(info.F1_HC)[info.F1_HC$treatment%in%c(\"C\",\"H\")],]\n",
    "mc.samples <- 200\n",
    "mag$cov.F1_HC <- mag$cov[, rownames(info.F1_HC)]\n",
    "\n",
    "## PARAMS ##\n",
    "# Percentage of samples in which features must have >0 sum\n",
    "mag.F1_HC.percent_occ <- 10\n",
    "# Quantile used for removing low abundance features\n",
    "mag.F1_HC.quantile_thresh <- 0.1\n",
    "mc.samples <- 128\n",
    "\n",
    "## PREFILTERING ##\n",
    "# Remove zero sum features\n",
    "nz <- rownames(mag$cov.F1_HC[rowSums(mag$cov.F1_HC) > 0, ])\n",
    "mag$nz.F1_HC <- mag$cov.F1_HC[rownames(mag$cov.F1_HC)%in%nz, ]\n",
    "\n",
    "# Filter low abundance features\n",
    "low_threshold = quantile(rowSums(mag$nz.F1_HC) / sum(rowSums(mag$nz.F1_HC)) * 100, probs = mag.F1_HC.quantile_thresh)\n",
    "mag$filtered.F1_HC <- low.count.removal(mag$nz.F1_HC, percent = low_threshold)$data.filter\n",
    "\n",
    "mag$occ.F1_HC <- rowSums(mag$filtered.F1_HC>0) / ncol(mag$filtered.F1_HC) * 100\n",
    "# Keep features occurring in defined percentage of samples\n",
    "mag$filtered.F1_HC <- mag$filtered.F1_HC[which(mag$occ.F1_HC >= mag.F1_HC.percent_occ), ]\n",
    "paste0(c(dim(mag$cov.F1_HC)[1] - dim(mag$filtered.F1_HC)[1], \"MAGs removed\", dim(mag$filtered.F1_HC)[1], \"remaining\"))\n",
    "\n",
    "X <- mag$filtered.F1_HC\n",
    "Y <- info.F1_HC\n",
    "\n",
    "denoms <- aldex.set.mode(ceiling(X), Y[colnames(X),\"treatment\"], denom=\"iqlr\")\n",
    "conds <- factor(Y[colnames(X),\"treatment\"])\n",
    "x.mag.F1_HC <- aldex(ceiling(X), conds, mc.samples=mc.samples, denom=denoms, test=\"t\", effect=TRUE,\n",
    "     include.sample.summary=FALSE, verbose=TRUE, paired.test=FALSE)\n",
    "save_results(x.mag.F1_HC[order(x.mag.F1_HC$effect, decreasing = TRUE),], \"mag.F1_HC\")"
   ]
  },
  {
   "cell_type": "markdown",
   "id": "214fc726",
   "metadata": {},
   "source": [
    "#### MAGs - F1 generation (L vs C)"
   ]
  },
  {
   "cell_type": "code",
   "execution_count": 77,
   "id": "379b1ca8",
   "metadata": {
    "vscode": {
     "languageId": "r"
    }
   },
   "outputs": [
    {
     "data": {
      "text/html": [
       "<table class=\"dataframe\">\n",
       "<caption>A data.frame: 2 × 2</caption>\n",
       "<thead>\n",
       "\t<tr><th scope=col>treatment</th><th scope=col>n</th></tr>\n",
       "\t<tr><th scope=col>&lt;fct&gt;</th><th scope=col>&lt;int&gt;</th></tr>\n",
       "</thead>\n",
       "<tbody>\n",
       "\t<tr><td>C</td><td>7</td></tr>\n",
       "\t<tr><td>L</td><td>5</td></tr>\n",
       "</tbody>\n",
       "</table>\n"
      ],
      "text/latex": [
       "A data.frame: 2 × 2\n",
       "\\begin{tabular}{ll}\n",
       " treatment & n\\\\\n",
       " <fct> & <int>\\\\\n",
       "\\hline\n",
       "\t C & 7\\\\\n",
       "\t L & 5\\\\\n",
       "\\end{tabular}\n"
      ],
      "text/markdown": [
       "\n",
       "A data.frame: 2 × 2\n",
       "\n",
       "| treatment &lt;fct&gt; | n &lt;int&gt; |\n",
       "|---|---|\n",
       "| C | 7 |\n",
       "| L | 5 |\n",
       "\n"
      ],
      "text/plain": [
       "  treatment n\n",
       "1 C         7\n",
       "2 L         5"
      ]
     },
     "metadata": {},
     "output_type": "display_data"
    },
    {
     "data": {
      "text/html": [
       "200"
      ],
      "text/latex": [
       "200"
      ],
      "text/markdown": [
       "200"
      ],
      "text/plain": [
       "[1] 200"
      ]
     },
     "metadata": {},
     "output_type": "display_data"
    }
   ],
   "source": [
    "info.F1_LC <- info[info$generation==\"F1\",]\n",
    "info.F1_LC <- info.F1_LC[rownames(info.F1_LC)[info.F1_LC$treatment%in%c(\"C\",\"L\")],]\n",
    "info.F1_LC %>% count(treatment)\n",
    "ceiling(1000 / 5)"
   ]
  },
  {
   "cell_type": "code",
   "execution_count": 78,
   "id": "647b0520",
   "metadata": {
    "vscode": {
     "languageId": "r"
    }
   },
   "outputs": [
    {
     "data": {
      "text/html": [
       "<style>\n",
       ".list-inline {list-style: none; margin:0; padding: 0}\n",
       ".list-inline>li {display: inline-block}\n",
       ".list-inline>li:not(:last-child)::after {content: \"\\00b7\"; padding: 0 .5ex}\n",
       "</style>\n",
       "<ol class=list-inline><li>'82'</li><li>'MAGs removed'</li><li>'180'</li><li>'remaining'</li></ol>\n"
      ],
      "text/latex": [
       "\\begin{enumerate*}\n",
       "\\item '82'\n",
       "\\item 'MAGs removed'\n",
       "\\item '180'\n",
       "\\item 'remaining'\n",
       "\\end{enumerate*}\n"
      ],
      "text/markdown": [
       "1. '82'\n",
       "2. 'MAGs removed'\n",
       "3. '180'\n",
       "4. 'remaining'\n",
       "\n",
       "\n"
      ],
      "text/plain": [
       "[1] \"82\"           \"MAGs removed\" \"180\"          \"remaining\"   "
      ]
     },
     "metadata": {},
     "output_type": "display_data"
    },
    {
     "name": "stderr",
     "output_type": "stream",
     "text": [
      "computing iqlr centering\n",
      "\n",
      "aldex.clr: generating Monte-Carlo instances and clr values\n",
      "\n",
      "operating in serial mode\n",
      "\n",
      "removed rows with sums equal to zero\n",
      "\n",
      "data format is OK\n",
      "\n",
      "dirichlet samples complete\n",
      "\n",
      "transformation complete\n",
      "\n",
      "aldex.ttest: doing t-test\n",
      "\n",
      "running tests for each MC instance:\n",
      "\n"
     ]
    },
    {
     "name": "stdout",
     "output_type": "stream",
     "text": [
      "|------------(25%)----------(50%)----------(75%)----------|\n"
     ]
    },
    {
     "name": "stderr",
     "output_type": "stream",
     "text": [
      "aldex.effect: calculating effect sizes\n",
      "\n",
      "operating in serial mode\n",
      "\n",
      "sanity check complete\n",
      "\n",
      "rab.all  complete\n",
      "\n",
      "rab.win  complete\n",
      "\n",
      "rab of samples complete\n",
      "\n",
      "within sample difference calculated\n",
      "\n",
      "between group difference calculated\n",
      "\n",
      "group summaries calculated\n",
      "\n",
      "unpaired effect size calculated\n",
      "\n",
      "summarizing output\n",
      "\n"
     ]
    }
   ],
   "source": [
    "info.F1_LC <- info[info$generation==\"F1\",]\n",
    "info.F1_LC <- info.F1_LC[rownames(info.F1_LC)[info.F1_LC$treatment%in%c(\"C\",\"L\")],]\n",
    "mc.samples <- 200\n",
    "mag$cov.F1_LC <- mag$cov[, rownames(info.F1_LC)]\n",
    "\n",
    "## PARAMS ##\n",
    "# Percentage of samples in which features must have >0 sum\n",
    "mag.F1_LC.percent_occ <- 10\n",
    "# Quantile used for removing low abundance features\n",
    "mag.F1_LC.quantile_thresh <- 0.1\n",
    "mc.samples <- 128\n",
    "\n",
    "## PREFILTERING ##\n",
    "# Remove zero sum features\n",
    "nz <- rownames(mag$cov.F1_LC[rowSums(mag$cov.F1_LC) > 0, ])\n",
    "mag$nz.F1_LC <- mag$cov.F1_LC[rownames(mag$cov.F1_LC)%in%nz, ]\n",
    "\n",
    "# Filter low abundance features\n",
    "low_threshold = quantile(rowSums(mag$nz.F1_LC) / sum(rowSums(mag$nz.F1_LC)) * 100, probs = mag.F1_LC.quantile_thresh)\n",
    "mag$filtered.F1_LC <- low.count.removal(mag$nz.F1_LC, percent = low_threshold)$data.filter\n",
    "\n",
    "mag$occ.F1_LC <- rowSums(mag$filtered.F1_LC>0) / ncol(mag$filtered.F1_LC) * 100\n",
    "# Keep features occurring in defined percentage of samples\n",
    "mag$filtered.F1_LC <- mag$filtered.F1_LC[which(mag$occ.F1_LC >= mag.F1_LC.percent_occ), ]\n",
    "paste0(c(dim(mag$cov.F1_LC)[1] - dim(mag$filtered.F1_LC)[1], \"MAGs removed\", dim(mag$filtered.F1_LC)[1], \"remaining\"))\n",
    "\n",
    "X <- mag$filtered.F1_LC\n",
    "Y <- info.F1_LC\n",
    "\n",
    "denoms <- aldex.set.mode(ceiling(X), Y[colnames(X),\"treatment\"], denom=\"iqlr\")\n",
    "conds <- factor(Y[colnames(X),\"treatment\"])\n",
    "x.mag.F1_LC <- aldex(ceiling(X), conds, mc.samples=mc.samples, denom=denoms, test=\"t\", effect=TRUE,\n",
    "     include.sample.summary=FALSE, verbose=TRUE, paired.test=FALSE)\n",
    "save_results(x.mag.F1_LC[order(x.mag.F1_LC$effect, decreasing = TRUE),], \"mag.F1_LC\")"
   ]
  },
  {
   "cell_type": "markdown",
   "id": "160a0b89",
   "metadata": {},
   "source": [
    "#### MAGs - F2 generation"
   ]
  },
  {
   "cell_type": "code",
   "execution_count": 103,
   "id": "5cef52f7",
   "metadata": {
    "vscode": {
     "languageId": "r"
    }
   },
   "outputs": [
    {
     "data": {
      "text/html": [
       "<table class=\"dataframe\">\n",
       "<caption>A data.frame: 3 × 2</caption>\n",
       "<thead>\n",
       "\t<tr><th scope=col>treatment</th><th scope=col>n</th></tr>\n",
       "\t<tr><th scope=col>&lt;fct&gt;</th><th scope=col>&lt;int&gt;</th></tr>\n",
       "</thead>\n",
       "<tbody>\n",
       "\t<tr><td>C</td><td>15</td></tr>\n",
       "\t<tr><td>H</td><td>15</td></tr>\n",
       "\t<tr><td>L</td><td>16</td></tr>\n",
       "</tbody>\n",
       "</table>\n"
      ],
      "text/latex": [
       "A data.frame: 3 × 2\n",
       "\\begin{tabular}{ll}\n",
       " treatment & n\\\\\n",
       " <fct> & <int>\\\\\n",
       "\\hline\n",
       "\t C & 15\\\\\n",
       "\t H & 15\\\\\n",
       "\t L & 16\\\\\n",
       "\\end{tabular}\n"
      ],
      "text/markdown": [
       "\n",
       "A data.frame: 3 × 2\n",
       "\n",
       "| treatment &lt;fct&gt; | n &lt;int&gt; |\n",
       "|---|---|\n",
       "| C | 15 |\n",
       "| H | 15 |\n",
       "| L | 16 |\n",
       "\n"
      ],
      "text/plain": [
       "  treatment n \n",
       "1 C         15\n",
       "2 H         15\n",
       "3 L         16"
      ]
     },
     "metadata": {},
     "output_type": "display_data"
    },
    {
     "data": {
      "text/html": [
       "67"
      ],
      "text/latex": [
       "67"
      ],
      "text/markdown": [
       "67"
      ],
      "text/plain": [
       "[1] 67"
      ]
     },
     "metadata": {},
     "output_type": "display_data"
    }
   ],
   "source": [
    "#info[info$generation == \"F2\",] %>% count(treatment)\n",
    "#ceiling(1000 / 15)"
   ]
  },
  {
   "cell_type": "code",
   "execution_count": 117,
   "id": "53bea6b3",
   "metadata": {
    "vscode": {
     "languageId": "r"
    }
   },
   "outputs": [
    {
     "data": {
      "text/html": [
       "<style>\n",
       ".list-inline {list-style: none; margin:0; padding: 0}\n",
       ".list-inline>li {display: inline-block}\n",
       ".list-inline>li:not(:last-child)::after {content: \"\\00b7\"; padding: 0 .5ex}\n",
       "</style>\n",
       "<ol class=list-inline><li>'50'</li><li>'MAGs removed'</li><li>'212'</li><li>'remaining'</li></ol>\n"
      ],
      "text/latex": [
       "\\begin{enumerate*}\n",
       "\\item '50'\n",
       "\\item 'MAGs removed'\n",
       "\\item '212'\n",
       "\\item 'remaining'\n",
       "\\end{enumerate*}\n"
      ],
      "text/markdown": [
       "1. '50'\n",
       "2. 'MAGs removed'\n",
       "3. '212'\n",
       "4. 'remaining'\n",
       "\n",
       "\n"
      ],
      "text/plain": [
       "[1] \"50\"           \"MAGs removed\" \"212\"          \"remaining\"   "
      ]
     },
     "metadata": {},
     "output_type": "display_data"
    },
    {
     "name": "stderr",
     "output_type": "stream",
     "text": [
      "computing iqlr centering\n",
      "\n",
      "checking for condition length disabled!\n",
      "\n",
      "user-defined denominator used\n",
      "\n",
      "multicore environment is is OK -- using the BiocParallel package\n",
      "\n",
      "removed rows with sums equal to zero\n",
      "\n",
      "data format is OK\n",
      "\n",
      "dirichlet samples complete\n",
      "\n",
      "transformation complete\n",
      "\n",
      "running tests for each MC instance:\n",
      "\n"
     ]
    },
    {
     "name": "stdout",
     "output_type": "stream",
     "text": [
      "|------------(25%)----------(50%)----------(75%)----------|\n"
     ]
    },
    {
     "name": "stderr",
     "output_type": "stream",
     "text": [
      "operating in serial mode\n",
      "\n",
      "sanity check complete\n",
      "\n",
      "rab.all  complete\n",
      "\n",
      "rab.win  complete\n",
      "\n",
      "rab of samples complete\n",
      "\n",
      "within sample difference calculated\n",
      "\n",
      "between group difference calculated\n",
      "\n",
      "group summaries calculated\n",
      "\n",
      "unpaired effect size calculated\n",
      "\n",
      "summarizing output\n",
      "\n",
      "operating in serial mode\n",
      "\n",
      "sanity check complete\n",
      "\n",
      "rab.all  complete\n",
      "\n",
      "rab.win  complete\n",
      "\n",
      "rab of samples complete\n",
      "\n",
      "within sample difference calculated\n",
      "\n",
      "between group difference calculated\n",
      "\n",
      "group summaries calculated\n",
      "\n",
      "unpaired effect size calculated\n",
      "\n",
      "summarizing output\n",
      "\n"
     ]
    }
   ],
   "source": [
    "# Extract and filter F2 samples\n",
    "mag$cov.F2 <- mag$cov[, rownames(info[info$generation==\"F2\",])]\n",
    "## PARAMS ##\n",
    "# Percentage of samples in which features must have >0 sum\n",
    "mag.F2.percent_occ <- 10\n",
    "# Quantile used for removing low abundance features\n",
    "mag.F2.quantile_thresh <- 0.1\n",
    "mc.samples <- 128\n",
    "\n",
    "## PREFILTERING ##\n",
    "# Remove zero sum features\n",
    "nz <- rownames(mag$cov.F2[rowSums(mag$cov.F2) > 0, ])\n",
    "mag$nz.F2 <- mag$cov.F2[rownames(mag$cov.F2)%in%nz, ]\n",
    "\n",
    "# Filter low abundance features\n",
    "low_threshold = quantile(rowSums(mag$nz.F2) / sum(rowSums(mag$nz.F2)) * 100, probs = mag.F2.quantile_thresh)\n",
    "mag$filtered.F2 <- low.count.removal(mag$nz.F2, percent = low_threshold)$data.filter\n",
    "\n",
    "mag$occ.F2 <- rowSums(mag$filtered.F2>0) / ncol(mag$filtered.F2) * 100\n",
    "# Keep features occurring in defined percentage of samples\n",
    "mag$filtered.F2 <- mag$filtered.F2[which(mag$occ.F2 >= mag.F2.percent_occ), ]\n",
    "paste0(c(dim(mag$cov.F2)[1] - dim(mag$filtered.F2)[1], \"MAGs removed\", dim(mag$filtered.F2)[1], \"remaining\"))\n",
    "\n",
    "# Get denominators from IQLR transformation\n",
    "denoms <- aldex.set.mode(ceiling(mag$filtered.F2), info[colnames(mag$filtered.F2),\"treatment\"], denom=\"iqlr\")\n",
    "\n",
    "x.mag.F2 <- aldex.clr(ceiling(mag$filtered.F2), mm.F2.treatment, mc.samples=mc.samples, denom=denoms, verbose=TRUE, useMC = TRUE)\n",
    "glm.test.mag.F2 <- aldex.glm(x.mag.F2, mm.F2.treatment)\n",
    "save_results(glm.test.mag.F2, \"glm.test.mag.F2\")\n",
    "glm.effect.mag.F2 <- aldex.glm.effect(x.mag.F2)\n",
    "save_results(glm.effect.mag.F2, \"glm.effect.mag.F2\")"
   ]
  },
  {
   "cell_type": "markdown",
   "id": "a6b6ae7f",
   "metadata": {},
   "source": [
    "#### MAGs - F2 generation (C+L vs H)"
   ]
  },
  {
   "cell_type": "code",
   "execution_count": 107,
   "id": "7758320a",
   "metadata": {
    "vscode": {
     "languageId": "r"
    }
   },
   "outputs": [
    {
     "data": {
      "text/html": [
       "<table class=\"dataframe\">\n",
       "<caption>A data.frame: 2 × 2</caption>\n",
       "<thead>\n",
       "\t<tr><th scope=col>treatment</th><th scope=col>n</th></tr>\n",
       "\t<tr><th scope=col>&lt;fct&gt;</th><th scope=col>&lt;int&gt;</th></tr>\n",
       "</thead>\n",
       "<tbody>\n",
       "\t<tr><td>CL</td><td>31</td></tr>\n",
       "\t<tr><td>H </td><td>15</td></tr>\n",
       "</tbody>\n",
       "</table>\n"
      ],
      "text/latex": [
       "A data.frame: 2 × 2\n",
       "\\begin{tabular}{ll}\n",
       " treatment & n\\\\\n",
       " <fct> & <int>\\\\\n",
       "\\hline\n",
       "\t CL & 31\\\\\n",
       "\t H  & 15\\\\\n",
       "\\end{tabular}\n"
      ],
      "text/markdown": [
       "\n",
       "A data.frame: 2 × 2\n",
       "\n",
       "| treatment &lt;fct&gt; | n &lt;int&gt; |\n",
       "|---|---|\n",
       "| CL | 31 |\n",
       "| H  | 15 |\n",
       "\n"
      ],
      "text/plain": [
       "  treatment n \n",
       "1 CL        31\n",
       "2 H         15"
      ]
     },
     "metadata": {},
     "output_type": "display_data"
    },
    {
     "data": {
      "text/html": [
       "67"
      ],
      "text/latex": [
       "67"
      ],
      "text/markdown": [
       "67"
      ],
      "text/plain": [
       "[1] 67"
      ]
     },
     "metadata": {},
     "output_type": "display_data"
    }
   ],
   "source": [
    "#info.F2_2 %>% count(treatment)\n",
    "#ceiling(1000 / 15)"
   ]
  },
  {
   "cell_type": "code",
   "execution_count": 118,
   "id": "b98b86bd",
   "metadata": {
    "vscode": {
     "languageId": "r"
    }
   },
   "outputs": [
    {
     "name": "stderr",
     "output_type": "stream",
     "text": [
      "computing iqlr centering\n",
      "\n",
      "aldex.clr: generating Monte-Carlo instances and clr values\n",
      "\n",
      "operating in serial mode\n",
      "\n",
      "removed rows with sums equal to zero\n",
      "\n",
      "data format is OK\n",
      "\n",
      "dirichlet samples complete\n",
      "\n",
      "transformation complete\n",
      "\n",
      "aldex.ttest: doing t-test\n",
      "\n",
      "running tests for each MC instance:\n",
      "\n"
     ]
    },
    {
     "name": "stdout",
     "output_type": "stream",
     "text": [
      "|------------(25%)----------(50%)----------(75%)----------|\n"
     ]
    },
    {
     "name": "stderr",
     "output_type": "stream",
     "text": [
      "aldex.effect: calculating effect sizes\n",
      "\n",
      "operating in serial mode\n",
      "\n",
      "sanity check complete\n",
      "\n",
      "rab.all  complete\n",
      "\n",
      "rab.win  complete\n",
      "\n",
      "rab of samples complete\n",
      "\n",
      "within sample difference calculated\n",
      "\n",
      "between group difference calculated\n",
      "\n",
      "group summaries calculated\n",
      "\n",
      "unpaired effect size calculated\n",
      "\n",
      "summarizing output\n",
      "\n"
     ]
    }
   ],
   "source": [
    "info.F2 <- info[info$generation==\"F2\",]\n",
    "info.F2_2 <- info.F2\n",
    "info.F2_2$treatment <- gsub(x = info.F2_2$treatment, pattern = \"[CL]\", replacement = \"CL\")\n",
    "info.F2_2$treatment <- factor(info.F2_2$treatment)\n",
    "mm.F2_2.treatment <- model.matrix(~ treatment, info.F2_2)\n",
    "mc.samples <- 128\n",
    "\n",
    "denoms <- aldex.set.mode(ceiling(mag$filtered.F2), info[colnames(mag$filtered.F2),\"treatment\"], denom=\"iqlr\")\n",
    "conds <- info.F2_2[colnames(mag$filtered.F2),\"treatment\"]\n",
    "x.mag.F2_2 <- aldex(ceiling(mag$filtered.F2), conds, mc.samples=mc.samples, denom=denoms, test=\"t\", effect=TRUE,\n",
    "     include.sample.summary=FALSE, verbose=TRUE, paired.test=FALSE)\n",
    "save_results(x.mag.F2_2[order(x.mag.F2_2$effect, decreasing = TRUE),], \"mag.F2_2\")"
   ]
  },
  {
   "cell_type": "markdown",
   "id": "481530f4",
   "metadata": {},
   "source": [
    "#### MAGs - F2 generation (H vs C)"
   ]
  },
  {
   "cell_type": "code",
   "execution_count": 80,
   "id": "234b1e75",
   "metadata": {
    "vscode": {
     "languageId": "r"
    }
   },
   "outputs": [
    {
     "data": {
      "text/html": [
       "<table class=\"dataframe\">\n",
       "<caption>A data.frame: 2 × 2</caption>\n",
       "<thead>\n",
       "\t<tr><th scope=col>treatment</th><th scope=col>n</th></tr>\n",
       "\t<tr><th scope=col>&lt;fct&gt;</th><th scope=col>&lt;int&gt;</th></tr>\n",
       "</thead>\n",
       "<tbody>\n",
       "\t<tr><td>C</td><td>15</td></tr>\n",
       "\t<tr><td>L</td><td>16</td></tr>\n",
       "</tbody>\n",
       "</table>\n"
      ],
      "text/latex": [
       "A data.frame: 2 × 2\n",
       "\\begin{tabular}{ll}\n",
       " treatment & n\\\\\n",
       " <fct> & <int>\\\\\n",
       "\\hline\n",
       "\t C & 15\\\\\n",
       "\t L & 16\\\\\n",
       "\\end{tabular}\n"
      ],
      "text/markdown": [
       "\n",
       "A data.frame: 2 × 2\n",
       "\n",
       "| treatment &lt;fct&gt; | n &lt;int&gt; |\n",
       "|---|---|\n",
       "| C | 15 |\n",
       "| L | 16 |\n",
       "\n"
      ],
      "text/plain": [
       "  treatment n \n",
       "1 C         15\n",
       "2 L         16"
      ]
     },
     "metadata": {},
     "output_type": "display_data"
    },
    {
     "data": {
      "text/html": [
       "67"
      ],
      "text/latex": [
       "67"
      ],
      "text/markdown": [
       "67"
      ],
      "text/plain": [
       "[1] 67"
      ]
     },
     "metadata": {},
     "output_type": "display_data"
    }
   ],
   "source": [
    "info.F2_HC <- info[info$generation==\"F2\",]\n",
    "info.F2_HC <- info.F2_HC[rownames(info.F2_HC)[info.F2_HC$treatment%in%c(\"C\",\"L\")],]\n",
    "info.F2_HC %>% count(treatment)\n",
    "ceiling(1000 / 15)"
   ]
  },
  {
   "cell_type": "code",
   "execution_count": 81,
   "id": "08ccc94a",
   "metadata": {
    "vscode": {
     "languageId": "r"
    }
   },
   "outputs": [
    {
     "data": {
      "text/html": [
       "<style>\n",
       ".list-inline {list-style: none; margin:0; padding: 0}\n",
       ".list-inline>li {display: inline-block}\n",
       ".list-inline>li:not(:last-child)::after {content: \"\\00b7\"; padding: 0 .5ex}\n",
       "</style>\n",
       "<ol class=list-inline><li>'53'</li><li>'MAGs removed'</li><li>'209'</li><li>'remaining'</li></ol>\n"
      ],
      "text/latex": [
       "\\begin{enumerate*}\n",
       "\\item '53'\n",
       "\\item 'MAGs removed'\n",
       "\\item '209'\n",
       "\\item 'remaining'\n",
       "\\end{enumerate*}\n"
      ],
      "text/markdown": [
       "1. '53'\n",
       "2. 'MAGs removed'\n",
       "3. '209'\n",
       "4. 'remaining'\n",
       "\n",
       "\n"
      ],
      "text/plain": [
       "[1] \"53\"           \"MAGs removed\" \"209\"          \"remaining\"   "
      ]
     },
     "metadata": {},
     "output_type": "display_data"
    },
    {
     "name": "stderr",
     "output_type": "stream",
     "text": [
      "computing iqlr centering\n",
      "\n",
      "aldex.clr: generating Monte-Carlo instances and clr values\n",
      "\n",
      "operating in serial mode\n",
      "\n",
      "removed rows with sums equal to zero\n",
      "\n",
      "data format is OK\n",
      "\n",
      "dirichlet samples complete\n",
      "\n",
      "transformation complete\n",
      "\n",
      "aldex.ttest: doing t-test\n",
      "\n",
      "running tests for each MC instance:\n",
      "\n"
     ]
    },
    {
     "name": "stdout",
     "output_type": "stream",
     "text": [
      "|------------(25%)----------(50%)----------(75%)----------|\n"
     ]
    },
    {
     "name": "stderr",
     "output_type": "stream",
     "text": [
      "aldex.effect: calculating effect sizes\n",
      "\n",
      "operating in serial mode\n",
      "\n",
      "sanity check complete\n",
      "\n",
      "rab.all  complete\n",
      "\n",
      "rab.win  complete\n",
      "\n",
      "rab of samples complete\n",
      "\n",
      "within sample difference calculated\n",
      "\n",
      "between group difference calculated\n",
      "\n",
      "group summaries calculated\n",
      "\n",
      "unpaired effect size calculated\n",
      "\n",
      "summarizing output\n",
      "\n"
     ]
    }
   ],
   "source": [
    "info.F2_HC <- info[info$generation==\"F2\",]\n",
    "info.F2_HC <- info.F2_HC[rownames(info.F2_HC)[info.F2_HC$treatment%in%c(\"C\",\"H\")],]\n",
    "mc.samples <- 128\n",
    "mag$cov.F2_HC <- mag$cov[, rownames(info.F2_HC)]\n",
    "\n",
    "## PARAMS ##\n",
    "# Percentage of samples in which features must have >0 sum\n",
    "mag.F2_HC.percent_occ <- 10\n",
    "# Quantile used for removing low abundance features\n",
    "mag.F2_HC.quantile_thresh <- 0.1\n",
    "mc.samples <- 128\n",
    "\n",
    "## PREFILTERING ##\n",
    "# Remove zero sum features\n",
    "nz <- rownames(mag$cov.F2_HC[rowSums(mag$cov.F2_HC) > 0, ])\n",
    "mag$nz.F2_HC <- mag$cov.F2_HC[rownames(mag$cov.F2_HC)%in%nz, ]\n",
    "\n",
    "# Filter low abundance features\n",
    "low_threshold = quantile(rowSums(mag$nz.F2_HC) / sum(rowSums(mag$nz.F2_HC)) * 100, probs = mag.F2_HC.quantile_thresh)\n",
    "mag$filtered.F2_HC <- low.count.removal(mag$nz.F2_HC, percent = low_threshold)$data.filter\n",
    "\n",
    "mag$occ.F2_HC <- rowSums(mag$filtered.F2_HC>0) / ncol(mag$filtered.F2_HC) * 100\n",
    "# Keep features occurring in defined percentage of samples\n",
    "mag$filtered.F2_HC <- mag$filtered.F2_HC[which(mag$occ.F2_HC >= mag.F2_HC.percent_occ), ]\n",
    "paste0(c(dim(mag$cov.F2_HC)[1] - dim(mag$filtered.F2_HC)[1], \"MAGs removed\", dim(mag$filtered.F2_HC)[1], \"remaining\"))\n",
    "\n",
    "X <- mag$filtered.F2_HC\n",
    "Y <- info.F2_HC\n",
    "\n",
    "denoms <- aldex.set.mode(ceiling(X), Y[colnames(X),\"treatment\"], denom=\"iqlr\")\n",
    "conds <- factor(Y[colnames(X),\"treatment\"])\n",
    "x.mag.F2_HC <- aldex(ceiling(X), conds, mc.samples=mc.samples, denom=denoms, test=\"t\", effect=TRUE,\n",
    "     include.sample.summary=FALSE, verbose=TRUE, paired.test=FALSE)\n",
    "save_results(x.mag.F2_HC[order(x.mag.F2_HC$effect, decreasing = TRUE),], \"mag.F2_HC\")"
   ]
  },
  {
   "cell_type": "markdown",
   "id": "a3ccac9c",
   "metadata": {},
   "source": [
    "#### MAGs - F2 generation (L vs C)"
   ]
  },
  {
   "cell_type": "code",
   "execution_count": 82,
   "id": "4720fe88",
   "metadata": {
    "vscode": {
     "languageId": "r"
    }
   },
   "outputs": [
    {
     "data": {
      "text/html": [
       "<table class=\"dataframe\">\n",
       "<caption>A data.frame: 2 × 2</caption>\n",
       "<thead>\n",
       "\t<tr><th scope=col>treatment</th><th scope=col>n</th></tr>\n",
       "\t<tr><th scope=col>&lt;fct&gt;</th><th scope=col>&lt;int&gt;</th></tr>\n",
       "</thead>\n",
       "<tbody>\n",
       "\t<tr><td>C</td><td>15</td></tr>\n",
       "\t<tr><td>H</td><td>15</td></tr>\n",
       "</tbody>\n",
       "</table>\n"
      ],
      "text/latex": [
       "A data.frame: 2 × 2\n",
       "\\begin{tabular}{ll}\n",
       " treatment & n\\\\\n",
       " <fct> & <int>\\\\\n",
       "\\hline\n",
       "\t C & 15\\\\\n",
       "\t H & 15\\\\\n",
       "\\end{tabular}\n"
      ],
      "text/markdown": [
       "\n",
       "A data.frame: 2 × 2\n",
       "\n",
       "| treatment &lt;fct&gt; | n &lt;int&gt; |\n",
       "|---|---|\n",
       "| C | 15 |\n",
       "| H | 15 |\n",
       "\n"
      ],
      "text/plain": [
       "  treatment n \n",
       "1 C         15\n",
       "2 H         15"
      ]
     },
     "metadata": {},
     "output_type": "display_data"
    },
    {
     "data": {
      "text/html": [
       "67"
      ],
      "text/latex": [
       "67"
      ],
      "text/markdown": [
       "67"
      ],
      "text/plain": [
       "[1] 67"
      ]
     },
     "metadata": {},
     "output_type": "display_data"
    }
   ],
   "source": [
    "info.F2_LC <- info[info$generation==\"F2\",]\n",
    "info.F2_LC <- info.F2_LC[rownames(info.F2_LC)[info.F2_LC$treatment%in%c(\"C\",\"H\")],]\n",
    "info.F2_LC %>% count(treatment)\n",
    "ceiling(1000 / 15)"
   ]
  },
  {
   "cell_type": "code",
   "execution_count": 83,
   "id": "2647c10c",
   "metadata": {
    "vscode": {
     "languageId": "r"
    }
   },
   "outputs": [
    {
     "data": {
      "text/html": [
       "<style>\n",
       ".list-inline {list-style: none; margin:0; padding: 0}\n",
       ".list-inline>li {display: inline-block}\n",
       ".list-inline>li:not(:last-child)::after {content: \"\\00b7\"; padding: 0 .5ex}\n",
       "</style>\n",
       "<ol class=list-inline><li>'52'</li><li>'MAGs removed'</li><li>'210'</li><li>'remaining'</li></ol>\n"
      ],
      "text/latex": [
       "\\begin{enumerate*}\n",
       "\\item '52'\n",
       "\\item 'MAGs removed'\n",
       "\\item '210'\n",
       "\\item 'remaining'\n",
       "\\end{enumerate*}\n"
      ],
      "text/markdown": [
       "1. '52'\n",
       "2. 'MAGs removed'\n",
       "3. '210'\n",
       "4. 'remaining'\n",
       "\n",
       "\n"
      ],
      "text/plain": [
       "[1] \"52\"           \"MAGs removed\" \"210\"          \"remaining\"   "
      ]
     },
     "metadata": {},
     "output_type": "display_data"
    },
    {
     "name": "stderr",
     "output_type": "stream",
     "text": [
      "computing iqlr centering\n",
      "\n",
      "aldex.clr: generating Monte-Carlo instances and clr values\n",
      "\n",
      "operating in serial mode\n",
      "\n",
      "removed rows with sums equal to zero\n",
      "\n",
      "data format is OK\n",
      "\n",
      "dirichlet samples complete\n",
      "\n",
      "transformation complete\n",
      "\n",
      "aldex.ttest: doing t-test\n",
      "\n",
      "running tests for each MC instance:\n",
      "\n"
     ]
    },
    {
     "name": "stdout",
     "output_type": "stream",
     "text": [
      "|------------(25%)----------(50%)----------(75%)----------|\n"
     ]
    },
    {
     "name": "stderr",
     "output_type": "stream",
     "text": [
      "aldex.effect: calculating effect sizes\n",
      "\n",
      "operating in serial mode\n",
      "\n",
      "sanity check complete\n",
      "\n",
      "rab.all  complete\n",
      "\n",
      "rab.win  complete\n",
      "\n",
      "rab of samples complete\n",
      "\n",
      "within sample difference calculated\n",
      "\n",
      "between group difference calculated\n",
      "\n",
      "group summaries calculated\n",
      "\n",
      "unpaired effect size calculated\n",
      "\n",
      "summarizing output\n",
      "\n"
     ]
    }
   ],
   "source": [
    "info.F2_LC <- info[info$generation==\"F2\",]\n",
    "info.F2_LC <- info.F2_LC[rownames(info.F2_LC)[info.F2_LC$treatment%in%c(\"C\",\"L\")],]\n",
    "mc.samples <- 128\n",
    "mag$cov.F2_LC <- mag$cov[, rownames(info.F2_LC)]\n",
    "\n",
    "## PARAMS ##\n",
    "# Percentage of samples in which features must have >0 sum\n",
    "mag.F2_LC.percent_occ <- 10\n",
    "# Quantile used for removing low abundance features\n",
    "mag.F2_LC.quantile_thresh <- 0.1\n",
    "mc.samples <- 128\n",
    "\n",
    "## PREFILTERING ##\n",
    "# Remove zero sum features\n",
    "nz <- rownames(mag$cov.F2_LC[rowSums(mag$cov.F2_LC) > 0, ])\n",
    "mag$nz.F2_LC <- mag$cov.F2_LC[rownames(mag$cov.F2_LC)%in%nz, ]\n",
    "\n",
    "# Filter low abundance features\n",
    "low_threshold = quantile(rowSums(mag$nz.F2_LC) / sum(rowSums(mag$nz.F2_LC)) * 100, probs = mag.F2_LC.quantile_thresh)\n",
    "mag$filtered.F2_LC <- low.count.removal(mag$nz.F2_LC, percent = low_threshold)$data.filter\n",
    "\n",
    "mag$occ.F2_LC <- rowSums(mag$filtered.F2_LC>0) / ncol(mag$filtered.F2_LC) * 100\n",
    "# Keep features occurring in defined percentage of samples\n",
    "mag$filtered.F2_LC <- mag$filtered.F2_LC[which(mag$occ.F2_LC >= mag.F2_LC.percent_occ), ]\n",
    "paste0(c(dim(mag$cov.F2_LC)[1] - dim(mag$filtered.F2_LC)[1], \"MAGs removed\", dim(mag$filtered.F2_LC)[1], \"remaining\"))\n",
    "\n",
    "X <- mag$filtered.F2_LC\n",
    "Y <- info.F2_LC\n",
    "\n",
    "denoms <- aldex.set.mode(ceiling(X), Y[colnames(X),\"treatment\"], denom=\"iqlr\")\n",
    "conds <- factor(Y[colnames(X),\"treatment\"])\n",
    "x.mag.F2_LC <- aldex(ceiling(X), conds, mc.samples=mc.samples, denom=denoms, test=\"t\", effect=TRUE,\n",
    "     include.sample.summary=FALSE, verbose=TRUE, paired.test=FALSE)\n",
    "save_results(x.mag.F2_LC[order(x.mag.F2_LC$effect, decreasing = TRUE),], \"mag.F2_LC\")"
   ]
  },
  {
   "cell_type": "markdown",
   "id": "d8082af4",
   "metadata": {},
   "source": [
    "### UniRef species"
   ]
  },
  {
   "cell_type": "markdown",
   "id": "ca3805ea",
   "metadata": {},
   "source": [
    "#### UniRef species - Generational differences"
   ]
  },
  {
   "cell_type": "code",
   "execution_count": 18,
   "id": "ccdb0382",
   "metadata": {
    "vscode": {
     "languageId": "r"
    }
   },
   "outputs": [
    {
     "data": {
      "text/html": [
       "<style>\n",
       ".list-inline {list-style: none; margin:0; padding: 0}\n",
       ".list-inline>li {display: inline-block}\n",
       ".list-inline>li:not(:last-child)::after {content: \"\\00b7\"; padding: 0 .5ex}\n",
       "</style>\n",
       "<ol class=list-inline><li>'3521'</li><li>'species removed'</li><li>'539'</li><li>'remaining'</li></ol>\n"
      ],
      "text/latex": [
       "\\begin{enumerate*}\n",
       "\\item '3521'\n",
       "\\item 'species removed'\n",
       "\\item '539'\n",
       "\\item 'remaining'\n",
       "\\end{enumerate*}\n"
      ],
      "text/markdown": [
       "1. '3521'\n",
       "2. 'species removed'\n",
       "3. '539'\n",
       "4. 'remaining'\n",
       "\n",
       "\n"
      ],
      "text/plain": [
       "[1] \"3521\"            \"species removed\" \"539\"             \"remaining\"      "
      ]
     },
     "metadata": {},
     "output_type": "display_data"
    },
    {
     "name": "stderr",
     "output_type": "stream",
     "text": [
      "computing iqlr centering\n",
      "\n",
      "checking for condition length disabled!\n",
      "\n",
      "user-defined denominator used\n",
      "\n",
      "multicore environment is is OK -- using the BiocParallel package\n",
      "\n",
      "removed rows with sums equal to zero\n",
      "\n",
      "data format is OK\n",
      "\n",
      "dirichlet samples complete\n",
      "\n",
      "transformation complete\n",
      "\n",
      "running tests for each MC instance:\n",
      "\n"
     ]
    },
    {
     "name": "stdout",
     "output_type": "stream",
     "text": [
      "|------------(25%)----------(50%)----------(75%)----------|\n"
     ]
    },
    {
     "name": "stderr",
     "output_type": "stream",
     "text": [
      "operating in serial mode\n",
      "\n",
      "sanity check complete\n",
      "\n",
      "rab.all  complete\n",
      "\n",
      "rab.win  complete\n",
      "\n",
      "rab of samples complete\n",
      "\n",
      "within sample difference calculated\n",
      "\n",
      "between group difference calculated\n",
      "\n",
      "group summaries calculated\n",
      "\n",
      "unpaired effect size calculated\n",
      "\n",
      "summarizing output\n",
      "\n",
      "operating in serial mode\n",
      "\n",
      "sanity check complete\n",
      "\n",
      "rab.all  complete\n",
      "\n",
      "rab.win  complete\n",
      "\n",
      "rab of samples complete\n",
      "\n",
      "within sample difference calculated\n",
      "\n",
      "between group difference calculated\n",
      "\n",
      "group summaries calculated\n",
      "\n",
      "unpaired effect size calculated\n",
      "\n",
      "summarizing output\n",
      "\n"
     ]
    }
   ],
   "source": [
    "## PARAMS ##\n",
    "# Percentage of samples in which features must have >0 sum\n",
    "uniref.percent_occ <- 10\n",
    "# Quantile used for removing low abundance features\n",
    "uniref.quantile_thresh <- 0.1\n",
    "mc.samples <- 128\n",
    "\n",
    "## PREFILTERING ##\n",
    "# Remove zero sum features\n",
    "nz <- rownames(uniref$cov[rowSums(uniref$cov) > 0, ])\n",
    "uniref$nz <- uniref$cov[rownames(uniref$cov)%in%nz, ]\n",
    "\n",
    "# Filter low abundance features\n",
    "low_threshold = quantile(rowSums(uniref$nz) / sum(rowSums(uniref$nz)) * 100, probs = uniref.quantile_thresh)\n",
    "uniref$filtered <- low.count.removal(uniref$nz, percent = low_threshold)$data.filter\n",
    "\n",
    "uniref$occ <- rowSums(uniref$filtered>0) / ncol(uniref$filtered) * 100\n",
    "# Keep features occurring in defined percentage of samples\n",
    "uniref$filtered <- uniref$filtered[which(uniref$occ >= uniref.percent_occ), ]\n",
    "paste0(c(dim(uniref$cov)[1] - dim(uniref$filtered)[1], \"species removed\", dim(uniref$filtered)[1], \"remaining\"))\n",
    "\n",
    "uniref$filtered <- ceiling(uniref$filtered)\n",
    "\n",
    "denoms <- aldex.set.mode(ceiling(uniref$filtered), info[colnames(uniref$filtered),\"generation\"], denom=\"iqlr\")\n",
    "\n",
    "x.uniref <- aldex.clr(ceiling(uniref$filtered), mm.generation, mc.samples=mc.samples, denom=denoms, verbose=TRUE, useMC = TRUE)\n",
    "glm.test.uniref <- aldex.glm(x.uniref, mm.generation)\n",
    "save_results(glm.test.uniref, \"glm.test.uniref\")\n",
    "glm.effect.uniref <- aldex.glm.effect(x.uniref)\n",
    "save_results(glm.effect.uniref, \"glm.effect.uniref\")"
   ]
  },
  {
   "cell_type": "markdown",
   "id": "4371a0b7",
   "metadata": {},
   "source": [
    "#### UniRef species - F0"
   ]
  },
  {
   "cell_type": "code",
   "execution_count": 19,
   "id": "bd01c2d4",
   "metadata": {
    "vscode": {
     "languageId": "r"
    }
   },
   "outputs": [
    {
     "data": {
      "text/html": [
       "<style>\n",
       ".list-inline {list-style: none; margin:0; padding: 0}\n",
       ".list-inline>li {display: inline-block}\n",
       ".list-inline>li:not(:last-child)::after {content: \"\\00b7\"; padding: 0 .5ex}\n",
       "</style>\n",
       "<ol class=list-inline><li>'3480'</li><li>'species removed'</li><li>'580'</li><li>'remaining'</li></ol>\n"
      ],
      "text/latex": [
       "\\begin{enumerate*}\n",
       "\\item '3480'\n",
       "\\item 'species removed'\n",
       "\\item '580'\n",
       "\\item 'remaining'\n",
       "\\end{enumerate*}\n"
      ],
      "text/markdown": [
       "1. '3480'\n",
       "2. 'species removed'\n",
       "3. '580'\n",
       "4. 'remaining'\n",
       "\n",
       "\n"
      ],
      "text/plain": [
       "[1] \"3480\"            \"species removed\" \"580\"             \"remaining\"      "
      ]
     },
     "metadata": {},
     "output_type": "display_data"
    },
    {
     "name": "stderr",
     "output_type": "stream",
     "text": [
      "computing iqlr centering\n",
      "\n",
      "checking for condition length disabled!\n",
      "\n",
      "user-defined denominator used\n",
      "\n",
      "multicore environment is is OK -- using the BiocParallel package\n",
      "\n",
      "removed rows with sums equal to zero\n",
      "\n",
      "data format is OK\n",
      "\n",
      "dirichlet samples complete\n",
      "\n",
      "transformation complete\n",
      "\n",
      "running tests for each MC instance:\n",
      "\n"
     ]
    },
    {
     "name": "stdout",
     "output_type": "stream",
     "text": [
      "|------------(25%)----------(50%)----------(75%)----------|\n"
     ]
    },
    {
     "name": "stderr",
     "output_type": "stream",
     "text": [
      "operating in serial mode\n",
      "\n",
      "sanity check complete\n",
      "\n",
      "rab.all  complete\n",
      "\n",
      "rab.win  complete\n",
      "\n",
      "rab of samples complete\n",
      "\n",
      "within sample difference calculated\n",
      "\n",
      "between group difference calculated\n",
      "\n",
      "group summaries calculated\n",
      "\n",
      "unpaired effect size calculated\n",
      "\n",
      "summarizing output\n",
      "\n",
      "operating in serial mode\n",
      "\n",
      "sanity check complete\n",
      "\n",
      "rab.all  complete\n",
      "\n",
      "rab.win  complete\n",
      "\n",
      "rab of samples complete\n",
      "\n",
      "within sample difference calculated\n",
      "\n",
      "between group difference calculated\n",
      "\n",
      "group summaries calculated\n",
      "\n",
      "unpaired effect size calculated\n",
      "\n",
      "summarizing output\n",
      "\n"
     ]
    }
   ],
   "source": [
    "# Extract and filter F0 samples\n",
    "uniref$cov.F0 <- uniref$cov[, rownames(info[info$generation==\"F0\",])]\n",
    "## PARAMS ##\n",
    "# Percentage of samples in which features must have >0 sum\n",
    "uniref.F0.percent_occ <- 10\n",
    "# Quantile used for removing low abundance features\n",
    "uniref.F0.quantile_thresh <- 0.1\n",
    "mc.samples <- 128\n",
    "\n",
    "## PREFILTERING ##\n",
    "# Remove zero sum features\n",
    "nz <- rownames(uniref$cov.F0[rowSums(uniref$cov.F0) > 0, ])\n",
    "uniref$nz.F0 <- uniref$cov.F0[rownames(uniref$cov.F0)%in%nz, ]\n",
    "\n",
    "# Filter low abundance features\n",
    "low_threshold = quantile(rowSums(uniref$nz.F0) / sum(rowSums(uniref$nz.F0)) * 100, probs = uniref.F0.quantile_thresh)\n",
    "uniref$filtered.F0 <- low.count.removal(uniref$nz.F0, percent = low_threshold)$data.filter\n",
    "\n",
    "uniref$occ.F0 <- rowSums(uniref$filtered.F0>0) / ncol(uniref$filtered.F0) * 100\n",
    "# Keep features occurring in defined percentage of samples\n",
    "uniref$filtered.F0 <- uniref$filtered.F0[which(uniref$occ.F0 >= uniref.F0.percent_occ), ]\n",
    "paste0(c(dim(uniref$cov.F0)[1] - dim(uniref$filtered.F0)[1], \"species removed\", dim(uniref$filtered.F0)[1], \"remaining\"))\n",
    "\n",
    "# Get denominators from IQLR transformation\n",
    "denoms <- aldex.set.mode(ceiling(uniref$filtered.F0), info[colnames(uniref$filtered.F0),\"treatment\"], denom=\"iqlr\")\n",
    "\n",
    "x.uniref.F0 <- aldex.clr(ceiling(uniref$filtered.F0), mm.F0.treatment, mc.samples=mc.samples, denom=denoms, verbose=TRUE, useMC = TRUE)\n",
    "glm.test.uniref.F0 <- aldex.glm(x.uniref.F0, mm.F0.treatment)\n",
    "save_results(glm.test.uniref.F0, \"glm.test.uniref.F0\")\n",
    "glm.effect.uniref.F0 <- aldex.glm.effect(x.uniref.F0)\n",
    "save_results(glm.effect.uniref.F0, \"glm.effect.uniref.F0\")"
   ]
  },
  {
   "cell_type": "markdown",
   "id": "18ce0a4a",
   "metadata": {},
   "source": [
    "#### UniRef species - F0 generation (C+L vs H)"
   ]
  },
  {
   "cell_type": "code",
   "execution_count": 20,
   "id": "c2e279e4",
   "metadata": {
    "vscode": {
     "languageId": "r"
    }
   },
   "outputs": [
    {
     "name": "stderr",
     "output_type": "stream",
     "text": [
      "computing iqlr centering\n",
      "\n",
      "aldex.clr: generating Monte-Carlo instances and clr values\n",
      "\n",
      "operating in serial mode\n",
      "\n",
      "removed rows with sums equal to zero\n",
      "\n",
      "data format is OK\n",
      "\n",
      "dirichlet samples complete\n",
      "\n",
      "transformation complete\n",
      "\n",
      "aldex.ttest: doing t-test\n",
      "\n",
      "running tests for each MC instance:\n",
      "\n"
     ]
    },
    {
     "name": "stdout",
     "output_type": "stream",
     "text": [
      "|------------(25%)----------(50%)----------(75%)----------|\n"
     ]
    },
    {
     "name": "stderr",
     "output_type": "stream",
     "text": [
      "aldex.effect: calculating effect sizes\n",
      "\n",
      "operating in serial mode\n",
      "\n",
      "sanity check complete\n",
      "\n",
      "rab.all  complete\n",
      "\n",
      "rab.win  complete\n",
      "\n",
      "rab of samples complete\n",
      "\n",
      "within sample difference calculated\n",
      "\n",
      "between group difference calculated\n",
      "\n",
      "group summaries calculated\n",
      "\n",
      "unpaired effect size calculated\n",
      "\n",
      "summarizing output\n",
      "\n"
     ]
    }
   ],
   "source": [
    "info.F0 <- info[info$generation==\"F0\",]\n",
    "info.F0_2 <- info.F0\n",
    "info.F0_2$treatment <- gsub(x = info.F0_2$treatment, pattern = \"[CL]\", replacement = \"CL\")\n",
    "info.F0_2$treatment <- factor(info.F0_2$treatment)\n",
    "mm.F0_2.treatment <- model.matrix(~ treatment, info.F0_2)\n",
    "mc.samples <- 128\n",
    "\n",
    "denoms <- aldex.set.mode(ceiling(uniref$filtered.F0), info[colnames(uniref$filtered.F0),\"treatment\"], denom=\"iqlr\")\n",
    "conds <- info.F0_2[colnames(uniref$filtered.F0),\"treatment\"]\n",
    "x.uniref.F0_2 <- aldex(ceiling(uniref$filtered.F0), conds, mc.samples=mc.samples, denom=denoms, test=\"t\", effect=TRUE,\n",
    "     include.sample.summary=FALSE, verbose=TRUE, paired.test=FALSE)\n",
    "save_results(x.uniref.F0_2[order(x.uniref.F0_2$effect, decreasing = TRUE),], \"uniref.F0_2\")"
   ]
  },
  {
   "cell_type": "markdown",
   "id": "c5b4c0bc",
   "metadata": {},
   "source": [
    "#### UniRef species - F0 generation (H vs C)"
   ]
  },
  {
   "cell_type": "code",
   "execution_count": 84,
   "id": "fed3879d",
   "metadata": {
    "vscode": {
     "languageId": "r"
    }
   },
   "outputs": [
    {
     "data": {
      "text/html": [
       "<style>\n",
       ".list-inline {list-style: none; margin:0; padding: 0}\n",
       ".list-inline>li {display: inline-block}\n",
       ".list-inline>li:not(:last-child)::after {content: \"\\00b7\"; padding: 0 .5ex}\n",
       "</style>\n",
       "<ol class=list-inline><li>'3441'</li><li>'species removed'</li><li>'619'</li><li>'remaining'</li></ol>\n"
      ],
      "text/latex": [
       "\\begin{enumerate*}\n",
       "\\item '3441'\n",
       "\\item 'species removed'\n",
       "\\item '619'\n",
       "\\item 'remaining'\n",
       "\\end{enumerate*}\n"
      ],
      "text/markdown": [
       "1. '3441'\n",
       "2. 'species removed'\n",
       "3. '619'\n",
       "4. 'remaining'\n",
       "\n",
       "\n"
      ],
      "text/plain": [
       "[1] \"3441\"            \"species removed\" \"619\"             \"remaining\"      "
      ]
     },
     "metadata": {},
     "output_type": "display_data"
    },
    {
     "name": "stderr",
     "output_type": "stream",
     "text": [
      "computing iqlr centering\n",
      "\n",
      "aldex.clr: generating Monte-Carlo instances and clr values\n",
      "\n",
      "operating in serial mode\n",
      "\n",
      "removed rows with sums equal to zero\n",
      "\n",
      "data format is OK\n",
      "\n",
      "dirichlet samples complete\n",
      "\n",
      "transformation complete\n",
      "\n",
      "aldex.ttest: doing t-test\n",
      "\n",
      "running tests for each MC instance:\n",
      "\n"
     ]
    },
    {
     "name": "stdout",
     "output_type": "stream",
     "text": [
      "|------------(25%)----------(50%)----------(75%)----------|\n"
     ]
    },
    {
     "name": "stderr",
     "output_type": "stream",
     "text": [
      "aldex.effect: calculating effect sizes\n",
      "\n",
      "operating in serial mode\n",
      "\n",
      "sanity check complete\n",
      "\n",
      "rab.all  complete\n",
      "\n",
      "rab.win  complete\n",
      "\n",
      "rab of samples complete\n",
      "\n",
      "within sample difference calculated\n",
      "\n",
      "between group difference calculated\n",
      "\n",
      "group summaries calculated\n",
      "\n",
      "unpaired effect size calculated\n",
      "\n",
      "summarizing output\n",
      "\n"
     ]
    }
   ],
   "source": [
    "info.F0_HC <- info[info$generation==\"F0\",]\n",
    "info.F0_HC <- info.F0_HC[rownames(info.F0_HC)[info.F0_HC$treatment%in%c(\"C\",\"H\")],]\n",
    "mc.samples <- 128\n",
    "uniref$cov.F0_HC <- uniref$cov[, rownames(info.F0_HC)]\n",
    "\n",
    "## PARAMS ##\n",
    "# Percentage of samples in which features must have >0 sum\n",
    "uniref.F0_HC.percent_occ <- 10\n",
    "# Quantile used for removing low abundance features\n",
    "uniref.F0_HC.quantile_thresh <- 0.1\n",
    "mc.samples <- 128\n",
    "\n",
    "## PREFILTERING ##\n",
    "# Remove zero sum features\n",
    "nz <- rownames(uniref$cov.F0_HC[rowSums(uniref$cov.F0_HC) > 0, ])\n",
    "uniref$nz.F0_HC <- uniref$cov.F0_HC[rownames(uniref$cov.F0_HC)%in%nz, ]\n",
    "\n",
    "# Filter low abundance features\n",
    "low_threshold = quantile(rowSums(uniref$nz.F0_HC) / sum(rowSums(uniref$nz.F0_HC)) * 100, probs = uniref.F0_HC.quantile_thresh)\n",
    "uniref$filtered.F0_HC <- low.count.removal(uniref$nz.F0_HC, percent = low_threshold)$data.filter\n",
    "\n",
    "uniref$occ.F0_HC <- rowSums(uniref$filtered.F0_HC>0) / ncol(uniref$filtered.F0_HC) * 100\n",
    "# Keep features occurring in defined percentage of samples\n",
    "uniref$filtered.F0_HC <- uniref$filtered.F0_HC[which(uniref$occ.F0_HC >= uniref.F0_HC.percent_occ), ]\n",
    "paste0(c(dim(uniref$cov.F0_HC)[1] - dim(uniref$filtered.F0_HC)[1], \"species removed\", dim(uniref$filtered.F0_HC)[1], \"remaining\"))\n",
    "\n",
    "X <- uniref$filtered.F0_HC\n",
    "Y <- info.F0_HC\n",
    "\n",
    "denoms <- aldex.set.mode(ceiling(X), Y[colnames(X),\"treatment\"], denom=\"iqlr\")\n",
    "conds <- factor(Y[colnames(X),\"treatment\"])\n",
    "x.uniref.F0_HC <- aldex(ceiling(X), conds, mc.samples=mc.samples, denom=denoms, test=\"t\", effect=TRUE,\n",
    "     include.sample.summary=FALSE, verbose=TRUE, paired.test=FALSE)\n",
    "save_results(x.uniref.F0_HC[order(x.uniref.F0_HC$effect, decreasing = TRUE),], \"uniref.F0_HC\")"
   ]
  },
  {
   "cell_type": "markdown",
   "id": "bb621d53",
   "metadata": {},
   "source": [
    "#### UniRef species - F0 generation (L vs C)"
   ]
  },
  {
   "cell_type": "code",
   "execution_count": 85,
   "id": "4da5b481",
   "metadata": {
    "vscode": {
     "languageId": "r"
    }
   },
   "outputs": [
    {
     "data": {
      "text/html": [
       "<style>\n",
       ".list-inline {list-style: none; margin:0; padding: 0}\n",
       ".list-inline>li {display: inline-block}\n",
       ".list-inline>li:not(:last-child)::after {content: \"\\00b7\"; padding: 0 .5ex}\n",
       "</style>\n",
       "<ol class=list-inline><li>'3261'</li><li>'species removed'</li><li>'799'</li><li>'remaining'</li></ol>\n"
      ],
      "text/latex": [
       "\\begin{enumerate*}\n",
       "\\item '3261'\n",
       "\\item 'species removed'\n",
       "\\item '799'\n",
       "\\item 'remaining'\n",
       "\\end{enumerate*}\n"
      ],
      "text/markdown": [
       "1. '3261'\n",
       "2. 'species removed'\n",
       "3. '799'\n",
       "4. 'remaining'\n",
       "\n",
       "\n"
      ],
      "text/plain": [
       "[1] \"3261\"            \"species removed\" \"799\"             \"remaining\"      "
      ]
     },
     "metadata": {},
     "output_type": "display_data"
    },
    {
     "name": "stderr",
     "output_type": "stream",
     "text": [
      "computing iqlr centering\n",
      "\n",
      "aldex.clr: generating Monte-Carlo instances and clr values\n",
      "\n",
      "operating in serial mode\n",
      "\n",
      "removed rows with sums equal to zero\n",
      "\n",
      "data format is OK\n",
      "\n",
      "dirichlet samples complete\n",
      "\n",
      "transformation complete\n",
      "\n",
      "aldex.ttest: doing t-test\n",
      "\n",
      "running tests for each MC instance:\n",
      "\n"
     ]
    },
    {
     "name": "stdout",
     "output_type": "stream",
     "text": [
      "|------------(25%)----------(50%)----------(75%)----------|\n"
     ]
    },
    {
     "name": "stderr",
     "output_type": "stream",
     "text": [
      "aldex.effect: calculating effect sizes\n",
      "\n",
      "operating in serial mode\n",
      "\n",
      "sanity check complete\n",
      "\n",
      "rab.all  complete\n",
      "\n",
      "rab.win  complete\n",
      "\n",
      "rab of samples complete\n",
      "\n",
      "within sample difference calculated\n",
      "\n",
      "between group difference calculated\n",
      "\n",
      "group summaries calculated\n",
      "\n",
      "unpaired effect size calculated\n",
      "\n",
      "summarizing output\n",
      "\n"
     ]
    }
   ],
   "source": [
    "info.F0_LC <- info[info$generation==\"F0\",]\n",
    "info.F0_LC <- info.F0_LC[rownames(info.F0_LC)[info.F0_LC$treatment%in%c(\"C\",\"L\")],]\n",
    "mc.samples <- 128\n",
    "uniref$cov.F0_LC <- uniref$cov[, rownames(info.F0_LC)]\n",
    "\n",
    "## PARAMS ##\n",
    "# Percentage of samples in which features must have >0 sum\n",
    "uniref.F0_LC.percent_occ <- 10\n",
    "# Quantile used for removing low abundance features\n",
    "uniref.F0_LC.quantile_thresh <- 0.1\n",
    "mc.samples <- 128\n",
    "\n",
    "## PREFILTERING ##\n",
    "# Remove zero sum features\n",
    "nz <- rownames(uniref$cov.F0_LC[rowSums(uniref$cov.F0_LC) > 0, ])\n",
    "uniref$nz.F0_LC <- uniref$cov.F0_LC[rownames(uniref$cov.F0_LC)%in%nz, ]\n",
    "\n",
    "# Filter low abundance features\n",
    "low_threshold = quantile(rowSums(uniref$nz.F0_LC) / sum(rowSums(uniref$nz.F0_LC)) * 100, probs = uniref.F0_LC.quantile_thresh)\n",
    "uniref$filtered.F0_LC <- low.count.removal(uniref$nz.F0_LC, percent = low_threshold)$data.filter\n",
    "\n",
    "uniref$occ.F0_LC <- rowSums(uniref$filtered.F0_LC>0) / ncol(uniref$filtered.F0_LC) * 100\n",
    "# Keep features occurring in defined percentage of samples\n",
    "uniref$filtered.F0_LC <- uniref$filtered.F0_LC[which(uniref$occ.F0_LC >= uniref.F0_LC.percent_occ), ]\n",
    "paste0(c(dim(uniref$cov.F0_LC)[1] - dim(uniref$filtered.F0_LC)[1], \"species removed\", dim(uniref$filtered.F0_LC)[1], \"remaining\"))\n",
    "\n",
    "X <- uniref$filtered.F0_LC\n",
    "Y <- info.F0_LC\n",
    "\n",
    "denoms <- aldex.set.mode(ceiling(X), Y[colnames(X),\"treatment\"], denom=\"iqlr\")\n",
    "conds <- factor(Y[colnames(X),\"treatment\"])\n",
    "x.uniref.F0_LC <- aldex(ceiling(X), conds, mc.samples=mc.samples, denom=denoms, test=\"t\", effect=TRUE,\n",
    "     include.sample.summary=FALSE, verbose=TRUE, paired.test=FALSE)\n",
    "save_results(x.uniref.F0_LC[order(x.uniref.F0_LC$effect, decreasing = TRUE),], \"uniref.F0_LC\")"
   ]
  },
  {
   "cell_type": "markdown",
   "id": "f43da4e7",
   "metadata": {},
   "source": [
    "#### UniRef species - F1 generation"
   ]
  },
  {
   "cell_type": "code",
   "execution_count": 21,
   "id": "86130c55",
   "metadata": {
    "vscode": {
     "languageId": "r"
    }
   },
   "outputs": [
    {
     "data": {
      "text/html": [
       "<style>\n",
       ".list-inline {list-style: none; margin:0; padding: 0}\n",
       ".list-inline>li {display: inline-block}\n",
       ".list-inline>li:not(:last-child)::after {content: \"\\00b7\"; padding: 0 .5ex}\n",
       "</style>\n",
       "<ol class=list-inline><li>'3518'</li><li>'species removed'</li><li>'542'</li><li>'remaining'</li></ol>\n"
      ],
      "text/latex": [
       "\\begin{enumerate*}\n",
       "\\item '3518'\n",
       "\\item 'species removed'\n",
       "\\item '542'\n",
       "\\item 'remaining'\n",
       "\\end{enumerate*}\n"
      ],
      "text/markdown": [
       "1. '3518'\n",
       "2. 'species removed'\n",
       "3. '542'\n",
       "4. 'remaining'\n",
       "\n",
       "\n"
      ],
      "text/plain": [
       "[1] \"3518\"            \"species removed\" \"542\"             \"remaining\"      "
      ]
     },
     "metadata": {},
     "output_type": "display_data"
    },
    {
     "name": "stderr",
     "output_type": "stream",
     "text": [
      "computing iqlr centering\n",
      "\n",
      "checking for condition length disabled!\n",
      "\n",
      "user-defined denominator used\n",
      "\n",
      "multicore environment is is OK -- using the BiocParallel package\n",
      "\n",
      "removed rows with sums equal to zero\n",
      "\n",
      "data format is OK\n",
      "\n",
      "dirichlet samples complete\n",
      "\n",
      "transformation complete\n",
      "\n",
      "running tests for each MC instance:\n",
      "\n"
     ]
    },
    {
     "name": "stdout",
     "output_type": "stream",
     "text": [
      "|------------(25%)----------(50%)----------(75%)----------|\n"
     ]
    },
    {
     "name": "stderr",
     "output_type": "stream",
     "text": [
      "operating in serial mode\n",
      "\n",
      "sanity check complete\n",
      "\n",
      "rab.all  complete\n",
      "\n",
      "rab.win  complete\n",
      "\n",
      "rab of samples complete\n",
      "\n",
      "within sample difference calculated\n",
      "\n",
      "between group difference calculated\n",
      "\n",
      "group summaries calculated\n",
      "\n",
      "unpaired effect size calculated\n",
      "\n",
      "summarizing output\n",
      "\n",
      "operating in serial mode\n",
      "\n",
      "sanity check complete\n",
      "\n",
      "rab.all  complete\n",
      "\n",
      "rab.win  complete\n",
      "\n",
      "rab of samples complete\n",
      "\n",
      "within sample difference calculated\n",
      "\n",
      "between group difference calculated\n",
      "\n",
      "group summaries calculated\n",
      "\n",
      "unpaired effect size calculated\n",
      "\n",
      "summarizing output\n",
      "\n"
     ]
    }
   ],
   "source": [
    "# Extract and filter F1 samples\n",
    "uniref$cov.F1 <- uniref$cov[, rownames(info[info$generation==\"F1\",])]\n",
    "## PARAMS ##\n",
    "# Percentage of samples in which features must have >0 sum\n",
    "uniref.F1.percent_occ <- 10\n",
    "# Quantile used for removing low abundance features\n",
    "uniref.F1.quantile_thresh <- 0.1\n",
    "mc.samples <- 200\n",
    "\n",
    "## PREFILTERING ##\n",
    "# Remove zero sum features\n",
    "nz <- rownames(uniref$cov.F1[rowSums(uniref$cov.F1) > 0, ])\n",
    "uniref$nz.F1 <- uniref$cov.F1[rownames(uniref$cov.F1)%in%nz, ]\n",
    "\n",
    "# Filter low abundance features\n",
    "low_threshold = quantile(rowSums(uniref$nz.F1) / sum(rowSums(uniref$nz.F1)) * 100, probs = uniref.F1.quantile_thresh)\n",
    "uniref$filtered.F1 <- low.count.removal(uniref$nz.F1, percent = low_threshold)$data.filter\n",
    "\n",
    "uniref$occ.F1 <- rowSums(uniref$filtered.F1>0) / ncol(uniref$filtered.F1) * 100\n",
    "# Keep features occurring in defined percentage of samples\n",
    "uniref$filtered.F1 <- uniref$filtered.F1[which(uniref$occ.F1 >= uniref.F1.percent_occ), ]\n",
    "paste0(c(dim(uniref$cov.F1)[1] - dim(uniref$filtered.F1)[1], \"species removed\", dim(uniref$filtered.F1)[1], \"remaining\"))\n",
    "\n",
    "# Get denominators from IQLR transformation\n",
    "denoms <- aldex.set.mode(ceiling(uniref$filtered.F1), info[colnames(uniref$filtered.F1),\"treatment\"], denom=\"iqlr\")\n",
    "\n",
    "x.uniref.F1 <- aldex.clr(ceiling(uniref$filtered.F1), mm.F1.treatment, mc.samples=mc.samples, denom=denoms, verbose=TRUE, useMC = TRUE)\n",
    "glm.test.uniref.F1 <- aldex.glm(x.uniref.F1, mm.F1.treatment)\n",
    "save_results(glm.test.uniref.F1, \"glm.test.uniref.F1\")\n",
    "glm.effect.uniref.F1 <- aldex.glm.effect(x.uniref.F1)\n",
    "save_results(glm.effect.uniref.F1, \"glm.effect.uniref.F1\")"
   ]
  },
  {
   "cell_type": "markdown",
   "id": "1f57658d",
   "metadata": {},
   "source": [
    "#### UniRef species - F1 generation (C+L vs H)"
   ]
  },
  {
   "cell_type": "code",
   "execution_count": 22,
   "id": "9a374e8d",
   "metadata": {
    "vscode": {
     "languageId": "r"
    }
   },
   "outputs": [
    {
     "name": "stderr",
     "output_type": "stream",
     "text": [
      "computing iqlr centering\n",
      "\n",
      "aldex.clr: generating Monte-Carlo instances and clr values\n",
      "\n",
      "operating in serial mode\n",
      "\n",
      "removed rows with sums equal to zero\n",
      "\n",
      "data format is OK\n",
      "\n",
      "dirichlet samples complete\n",
      "\n",
      "transformation complete\n",
      "\n",
      "aldex.ttest: doing t-test\n",
      "\n",
      "running tests for each MC instance:\n",
      "\n"
     ]
    },
    {
     "name": "stdout",
     "output_type": "stream",
     "text": [
      "|------------(25%)----------(50%)----------(75%)----------|\n"
     ]
    },
    {
     "name": "stderr",
     "output_type": "stream",
     "text": [
      "aldex.effect: calculating effect sizes\n",
      "\n",
      "operating in serial mode\n",
      "\n",
      "sanity check complete\n",
      "\n",
      "rab.all  complete\n",
      "\n",
      "rab.win  complete\n",
      "\n",
      "rab of samples complete\n",
      "\n",
      "within sample difference calculated\n",
      "\n",
      "between group difference calculated\n",
      "\n",
      "group summaries calculated\n",
      "\n",
      "unpaired effect size calculated\n",
      "\n",
      "summarizing output\n",
      "\n"
     ]
    }
   ],
   "source": [
    "info.F1 <- info[info$generation==\"F1\",]\n",
    "info.F1_2 <- info.F1\n",
    "info.F1_2$treatment <- gsub(x = info.F1_2$treatment, pattern = \"[CL]\", replacement = \"CL\")\n",
    "info.F1_2$treatment <- factor(info.F1_2$treatment)\n",
    "mm.F1_2.treatment <- model.matrix(~ treatment, info.F1_2)\n",
    "mc.samples <- 200\n",
    "\n",
    "denoms <- aldex.set.mode(ceiling(uniref$filtered.F1), info[colnames(uniref$filtered.F1),\"treatment\"], denom=\"iqlr\")\n",
    "conds <- info.F1_2[colnames(uniref$filtered.F1),\"treatment\"]\n",
    "x.uniref.F1_2 <- aldex(ceiling(uniref$filtered.F1), conds, mc.samples=mc.samples, denom=denoms, test=\"t\", effect=TRUE,\n",
    "     include.sample.summary=FALSE, verbose=TRUE, paired.test=FALSE)\n",
    "save_results(x.uniref.F1_2[order(x.uniref.F1_2$effect, decreasing = TRUE),], \"uniref.F1_2\")"
   ]
  },
  {
   "cell_type": "markdown",
   "id": "dc1b853f",
   "metadata": {},
   "source": [
    "#### UniRef species - F1 generation (H vs C)"
   ]
  },
  {
   "cell_type": "code",
   "execution_count": 86,
   "id": "275bf1a4",
   "metadata": {
    "vscode": {
     "languageId": "r"
    }
   },
   "outputs": [
    {
     "data": {
      "text/html": [
       "<style>\n",
       ".list-inline {list-style: none; margin:0; padding: 0}\n",
       ".list-inline>li {display: inline-block}\n",
       ".list-inline>li:not(:last-child)::after {content: \"\\00b7\"; padding: 0 .5ex}\n",
       "</style>\n",
       "<ol class=list-inline><li>'3590'</li><li>'unirefs removed'</li><li>'470'</li><li>'remaining'</li></ol>\n"
      ],
      "text/latex": [
       "\\begin{enumerate*}\n",
       "\\item '3590'\n",
       "\\item 'unirefs removed'\n",
       "\\item '470'\n",
       "\\item 'remaining'\n",
       "\\end{enumerate*}\n"
      ],
      "text/markdown": [
       "1. '3590'\n",
       "2. 'unirefs removed'\n",
       "3. '470'\n",
       "4. 'remaining'\n",
       "\n",
       "\n"
      ],
      "text/plain": [
       "[1] \"3590\"            \"unirefs removed\" \"470\"             \"remaining\"      "
      ]
     },
     "metadata": {},
     "output_type": "display_data"
    },
    {
     "name": "stderr",
     "output_type": "stream",
     "text": [
      "computing iqlr centering\n",
      "\n",
      "aldex.clr: generating Monte-Carlo instances and clr values\n",
      "\n",
      "operating in serial mode\n",
      "\n",
      "removed rows with sums equal to zero\n",
      "\n",
      "data format is OK\n",
      "\n",
      "dirichlet samples complete\n",
      "\n",
      "transformation complete\n",
      "\n",
      "aldex.ttest: doing t-test\n",
      "\n",
      "running tests for each MC instance:\n",
      "\n"
     ]
    },
    {
     "name": "stdout",
     "output_type": "stream",
     "text": [
      "|------------(25%)----------(50%)----------(75%)----------|\n"
     ]
    },
    {
     "name": "stderr",
     "output_type": "stream",
     "text": [
      "aldex.effect: calculating effect sizes\n",
      "\n",
      "operating in serial mode\n",
      "\n",
      "sanity check complete\n",
      "\n",
      "rab.all  complete\n",
      "\n",
      "rab.win  complete\n",
      "\n",
      "rab of samples complete\n",
      "\n",
      "within sample difference calculated\n",
      "\n",
      "between group difference calculated\n",
      "\n",
      "group summaries calculated\n",
      "\n",
      "unpaired effect size calculated\n",
      "\n",
      "summarizing output\n",
      "\n"
     ]
    }
   ],
   "source": [
    "info.F1_HC <- info[info$generation==\"F1\",]\n",
    "info.F1_HC <- info.F1_HC[rownames(info.F1_HC)[info.F1_HC$treatment%in%c(\"C\",\"H\")],]\n",
    "mc.samples <- 200\n",
    "uniref$cov.F1_HC <- uniref$cov[, rownames(info.F1_HC)]\n",
    "\n",
    "## PARAMS ##\n",
    "# Percentage of samples in which features must have >0 sum\n",
    "uniref.F1_HC.percent_occ <- 10\n",
    "# Quantile used for removing low abundance features\n",
    "uniref.F1_HC.quantile_thresh <- 0.1\n",
    "mc.samples <- 128\n",
    "\n",
    "## PREFILTERING ##\n",
    "# Remove zero sum features\n",
    "nz <- rownames(uniref$cov.F1_HC[rowSums(uniref$cov.F1_HC) > 0, ])\n",
    "uniref$nz.F1_HC <- uniref$cov.F1_HC[rownames(uniref$cov.F1_HC)%in%nz, ]\n",
    "\n",
    "# Filter low abundance features\n",
    "low_threshold = quantile(rowSums(uniref$nz.F1_HC) / sum(rowSums(uniref$nz.F1_HC)) * 100, probs = uniref.F1_HC.quantile_thresh)\n",
    "uniref$filtered.F1_HC <- low.count.removal(uniref$nz.F1_HC, percent = low_threshold)$data.filter\n",
    "\n",
    "uniref$occ.F1_HC <- rowSums(uniref$filtered.F1_HC>0) / ncol(uniref$filtered.F1_HC) * 100\n",
    "# Keep features occurring in defined percentage of samples\n",
    "uniref$filtered.F1_HC <- uniref$filtered.F1_HC[which(uniref$occ.F1_HC >= uniref.F1_HC.percent_occ), ]\n",
    "paste0(c(dim(uniref$cov.F1_HC)[1] - dim(uniref$filtered.F1_HC)[1], \"unirefs removed\", dim(uniref$filtered.F1_HC)[1], \"remaining\"))\n",
    "\n",
    "X <- uniref$filtered.F1_HC\n",
    "Y <- info.F1_HC\n",
    "\n",
    "denoms <- aldex.set.mode(ceiling(X), Y[colnames(X),\"treatment\"], denom=\"iqlr\")\n",
    "conds <- factor(Y[colnames(X),\"treatment\"])\n",
    "x.uniref.F1_HC <- aldex(ceiling(X), conds, mc.samples=mc.samples, denom=denoms, test=\"t\", effect=TRUE,\n",
    "     include.sample.summary=FALSE, verbose=TRUE, paired.test=FALSE)\n",
    "save_results(x.uniref.F1_HC[order(x.uniref.F1_HC$effect, decreasing = TRUE),], \"uniref.F1_HC\")"
   ]
  },
  {
   "cell_type": "markdown",
   "id": "a0000591",
   "metadata": {},
   "source": [
    "#### UniRef species - F1 generation (L vs C)"
   ]
  },
  {
   "cell_type": "code",
   "execution_count": 87,
   "id": "1899e2f9",
   "metadata": {
    "vscode": {
     "languageId": "r"
    }
   },
   "outputs": [
    {
     "data": {
      "text/html": [
       "<style>\n",
       ".list-inline {list-style: none; margin:0; padding: 0}\n",
       ".list-inline>li {display: inline-block}\n",
       ".list-inline>li:not(:last-child)::after {content: \"\\00b7\"; padding: 0 .5ex}\n",
       "</style>\n",
       "<ol class=list-inline><li>'3718'</li><li>'unirefs removed'</li><li>'342'</li><li>'remaining'</li></ol>\n"
      ],
      "text/latex": [
       "\\begin{enumerate*}\n",
       "\\item '3718'\n",
       "\\item 'unirefs removed'\n",
       "\\item '342'\n",
       "\\item 'remaining'\n",
       "\\end{enumerate*}\n"
      ],
      "text/markdown": [
       "1. '3718'\n",
       "2. 'unirefs removed'\n",
       "3. '342'\n",
       "4. 'remaining'\n",
       "\n",
       "\n"
      ],
      "text/plain": [
       "[1] \"3718\"            \"unirefs removed\" \"342\"             \"remaining\"      "
      ]
     },
     "metadata": {},
     "output_type": "display_data"
    },
    {
     "name": "stderr",
     "output_type": "stream",
     "text": [
      "computing iqlr centering\n",
      "\n",
      "aldex.clr: generating Monte-Carlo instances and clr values\n",
      "\n",
      "operating in serial mode\n",
      "\n",
      "removed rows with sums equal to zero\n",
      "\n",
      "data format is OK\n",
      "\n",
      "dirichlet samples complete\n",
      "\n",
      "transformation complete\n",
      "\n",
      "aldex.ttest: doing t-test\n",
      "\n",
      "running tests for each MC instance:\n",
      "\n"
     ]
    },
    {
     "name": "stdout",
     "output_type": "stream",
     "text": [
      "|------------(25%)----------(50%)----------(75%)----------|\n"
     ]
    },
    {
     "name": "stderr",
     "output_type": "stream",
     "text": [
      "aldex.effect: calculating effect sizes\n",
      "\n",
      "operating in serial mode\n",
      "\n",
      "sanity check complete\n",
      "\n",
      "rab.all  complete\n",
      "\n",
      "rab.win  complete\n",
      "\n",
      "rab of samples complete\n",
      "\n",
      "within sample difference calculated\n",
      "\n",
      "between group difference calculated\n",
      "\n",
      "group summaries calculated\n",
      "\n",
      "unpaired effect size calculated\n",
      "\n",
      "summarizing output\n",
      "\n"
     ]
    }
   ],
   "source": [
    "info.F1_LC <- info[info$generation==\"F1\",]\n",
    "info.F1_LC <- info.F1_LC[rownames(info.F1_LC)[info.F1_LC$treatment%in%c(\"C\",\"L\")],]\n",
    "mc.samples <- 200\n",
    "uniref$cov.F1_LC <- uniref$cov[, rownames(info.F1_LC)]\n",
    "\n",
    "## PARAMS ##\n",
    "# Percentage of samples in which features must have >0 sum\n",
    "uniref.F1_LC.percent_occ <- 10\n",
    "# Quantile used for removing low abundance features\n",
    "uniref.F1_LC.quantile_thresh <- 0.1\n",
    "mc.samples <- 128\n",
    "\n",
    "## PREFILTERING ##\n",
    "# Remove zero sum features\n",
    "nz <- rownames(uniref$cov.F1_LC[rowSums(uniref$cov.F1_LC) > 0, ])\n",
    "uniref$nz.F1_LC <- uniref$cov.F1_LC[rownames(uniref$cov.F1_LC)%in%nz, ]\n",
    "\n",
    "# Filter low abundance features\n",
    "low_threshold = quantile(rowSums(uniref$nz.F1_LC) / sum(rowSums(uniref$nz.F1_LC)) * 100, probs = uniref.F1_LC.quantile_thresh)\n",
    "uniref$filtered.F1_LC <- low.count.removal(uniref$nz.F1_LC, percent = low_threshold)$data.filter\n",
    "\n",
    "uniref$occ.F1_LC <- rowSums(uniref$filtered.F1_LC>0) / ncol(uniref$filtered.F1_LC) * 100\n",
    "# Keep features occurring in defined percentage of samples\n",
    "uniref$filtered.F1_LC <- uniref$filtered.F1_LC[which(uniref$occ.F1_LC >= uniref.F1_LC.percent_occ), ]\n",
    "paste0(c(dim(uniref$cov.F1_LC)[1] - dim(uniref$filtered.F1_LC)[1], \"unirefs removed\", dim(uniref$filtered.F1_LC)[1], \"remaining\"))\n",
    "\n",
    "X <- uniref$filtered.F1_LC\n",
    "Y <- info.F1_LC\n",
    "\n",
    "denoms <- aldex.set.mode(ceiling(X), Y[colnames(X),\"treatment\"], denom=\"iqlr\")\n",
    "conds <- factor(Y[colnames(X),\"treatment\"])\n",
    "x.uniref.F1_LC <- aldex(ceiling(X), conds, mc.samples=mc.samples, denom=denoms, test=\"t\", effect=TRUE,\n",
    "     include.sample.summary=FALSE, verbose=TRUE, paired.test=FALSE)\n",
    "save_results(x.uniref.F1_LC[order(x.uniref.F1_LC$effect, decreasing = TRUE),], \"uniref.F1_LC\")"
   ]
  },
  {
   "cell_type": "markdown",
   "id": "610a453e",
   "metadata": {},
   "source": [
    "#### UniRef species - F2 generation"
   ]
  },
  {
   "cell_type": "code",
   "execution_count": 23,
   "id": "e7e2f093",
   "metadata": {
    "vscode": {
     "languageId": "r"
    }
   },
   "outputs": [
    {
     "data": {
      "text/html": [
       "<style>\n",
       ".list-inline {list-style: none; margin:0; padding: 0}\n",
       ".list-inline>li {display: inline-block}\n",
       ".list-inline>li:not(:last-child)::after {content: \"\\00b7\"; padding: 0 .5ex}\n",
       "</style>\n",
       "<ol class=list-inline><li>'3535'</li><li>'species removed'</li><li>'525'</li><li>'remaining'</li></ol>\n"
      ],
      "text/latex": [
       "\\begin{enumerate*}\n",
       "\\item '3535'\n",
       "\\item 'species removed'\n",
       "\\item '525'\n",
       "\\item 'remaining'\n",
       "\\end{enumerate*}\n"
      ],
      "text/markdown": [
       "1. '3535'\n",
       "2. 'species removed'\n",
       "3. '525'\n",
       "4. 'remaining'\n",
       "\n",
       "\n"
      ],
      "text/plain": [
       "[1] \"3535\"            \"species removed\" \"525\"             \"remaining\"      "
      ]
     },
     "metadata": {},
     "output_type": "display_data"
    },
    {
     "name": "stderr",
     "output_type": "stream",
     "text": [
      "computing iqlr centering\n",
      "\n",
      "checking for condition length disabled!\n",
      "\n",
      "user-defined denominator used\n",
      "\n",
      "multicore environment is is OK -- using the BiocParallel package\n",
      "\n",
      "removed rows with sums equal to zero\n",
      "\n",
      "data format is OK\n",
      "\n",
      "dirichlet samples complete\n",
      "\n",
      "transformation complete\n",
      "\n",
      "running tests for each MC instance:\n",
      "\n"
     ]
    },
    {
     "name": "stdout",
     "output_type": "stream",
     "text": [
      "|------------(25%)----------(50%)----------(75%)----------|\n"
     ]
    },
    {
     "name": "stderr",
     "output_type": "stream",
     "text": [
      "operating in serial mode\n",
      "\n",
      "sanity check complete\n",
      "\n",
      "rab.all  complete\n",
      "\n",
      "rab.win  complete\n",
      "\n",
      "rab of samples complete\n",
      "\n",
      "within sample difference calculated\n",
      "\n",
      "between group difference calculated\n",
      "\n",
      "group summaries calculated\n",
      "\n",
      "unpaired effect size calculated\n",
      "\n",
      "summarizing output\n",
      "\n",
      "operating in serial mode\n",
      "\n",
      "sanity check complete\n",
      "\n",
      "rab.all  complete\n",
      "\n",
      "rab.win  complete\n",
      "\n",
      "rab of samples complete\n",
      "\n",
      "within sample difference calculated\n",
      "\n",
      "between group difference calculated\n",
      "\n",
      "group summaries calculated\n",
      "\n",
      "unpaired effect size calculated\n",
      "\n",
      "summarizing output\n",
      "\n"
     ]
    }
   ],
   "source": [
    "# Extract and filter F2 samples\n",
    "uniref$cov.F2 <- uniref$cov[, rownames(info[info$generation==\"F2\",])]\n",
    "## PARAMS ##\n",
    "# Percentage of samples in which features must have >0 sum\n",
    "uniref.F2.percent_occ <- 10\n",
    "# Quantile used for removing low abundance features\n",
    "uniref.F2.quantile_thresh <- 0.1\n",
    "mc.samples <- 128\n",
    "\n",
    "## PREFILTERING ##\n",
    "# Remove zero sum features\n",
    "nz <- rownames(uniref$cov.F2[rowSums(uniref$cov.F2) > 0, ])\n",
    "uniref$nz.F2 <- uniref$cov.F2[rownames(uniref$cov.F2)%in%nz, ]\n",
    "\n",
    "# Filter low abundance features\n",
    "low_threshold = quantile(rowSums(uniref$nz.F2) / sum(rowSums(uniref$nz.F2)) * 100, probs = uniref.F2.quantile_thresh)\n",
    "uniref$filtered.F2 <- low.count.removal(uniref$nz.F2, percent = low_threshold)$data.filter\n",
    "\n",
    "uniref$occ.F2 <- rowSums(uniref$filtered.F2>0) / ncol(uniref$filtered.F2) * 100\n",
    "# Keep features occurring in defined percentage of samples\n",
    "uniref$filtered.F2 <- uniref$filtered.F2[which(uniref$occ.F2 >= uniref.F2.percent_occ), ]\n",
    "paste0(c(dim(uniref$cov.F2)[1] - dim(uniref$filtered.F2)[1], \"species removed\", dim(uniref$filtered.F2)[1], \"remaining\"))\n",
    "\n",
    "# Get denominators from IQLR transformation\n",
    "denoms <- aldex.set.mode(ceiling(uniref$filtered.F2), info[colnames(uniref$filtered.F2),\"treatment\"], denom=\"iqlr\")\n",
    "\n",
    "x.uniref.F2 <- aldex.clr(ceiling(uniref$filtered.F2), mm.F2.treatment, mc.samples=128, denom=denoms, verbose=TRUE, useMC = TRUE)\n",
    "glm.test.uniref.F2 <- aldex.glm(x.uniref.F2, mm.F2.treatment)\n",
    "save_results(glm.test.uniref.F2, \"glm.test.uniref.F2\")\n",
    "glm.effect.uniref.F2 <- aldex.glm.effect(x.uniref.F2)\n",
    "save_results(glm.effect.uniref.F2, \"glm.effect.uniref.F2\")"
   ]
  },
  {
   "cell_type": "markdown",
   "id": "40baa40d",
   "metadata": {},
   "source": [
    "#### UniRef species - F2 generation (C+L vs H)"
   ]
  },
  {
   "cell_type": "code",
   "execution_count": 24,
   "id": "51db429d",
   "metadata": {
    "vscode": {
     "languageId": "r"
    }
   },
   "outputs": [
    {
     "name": "stderr",
     "output_type": "stream",
     "text": [
      "computing iqlr centering\n",
      "\n",
      "aldex.clr: generating Monte-Carlo instances and clr values\n",
      "\n",
      "operating in serial mode\n",
      "\n",
      "removed rows with sums equal to zero\n",
      "\n",
      "data format is OK\n",
      "\n",
      "dirichlet samples complete\n",
      "\n",
      "transformation complete\n",
      "\n",
      "aldex.ttest: doing t-test\n",
      "\n",
      "running tests for each MC instance:\n",
      "\n"
     ]
    },
    {
     "name": "stdout",
     "output_type": "stream",
     "text": [
      "|------------(25%)----------(50%)----------(75%)----------|\n"
     ]
    },
    {
     "name": "stderr",
     "output_type": "stream",
     "text": [
      "aldex.effect: calculating effect sizes\n",
      "\n",
      "operating in serial mode\n",
      "\n",
      "sanity check complete\n",
      "\n",
      "rab.all  complete\n",
      "\n",
      "rab.win  complete\n",
      "\n",
      "rab of samples complete\n",
      "\n",
      "within sample difference calculated\n",
      "\n",
      "between group difference calculated\n",
      "\n",
      "group summaries calculated\n",
      "\n",
      "unpaired effect size calculated\n",
      "\n",
      "summarizing output\n",
      "\n"
     ]
    }
   ],
   "source": [
    "info.F2 <- info[info$generation==\"F2\",]\n",
    "info.F2_2 <- info.F2\n",
    "info.F2_2$treatment <- gsub(x = info.F2_2$treatment, pattern = \"[CL]\", replacement = \"CL\")\n",
    "info.F2_2$treatment <- factor(info.F2_2$treatment)\n",
    "mm.F2_2.treatment <- model.matrix(~ treatment, info.F2_2)\n",
    "mc.samples <- 128\n",
    "\n",
    "denoms <- aldex.set.mode(ceiling(uniref$filtered.F2), info[colnames(uniref$filtered.F2),\"treatment\"], denom=\"iqlr\")\n",
    "conds <- info.F2_2[colnames(uniref$filtered.F2),\"treatment\"]\n",
    "x.uniref.F2_2 <- aldex(ceiling(uniref$filtered.F2), conds, mc.samples=mc.samples, denom=denoms, test=\"t\", effect=TRUE,\n",
    "     include.sample.summary=FALSE, verbose=TRUE, paired.test=FALSE)\n",
    "save_results(x.uniref.F2_2[order(x.uniref.F2_2$effect, decreasing = TRUE),], \"uniref.F2_2\")"
   ]
  },
  {
   "cell_type": "markdown",
   "id": "fcff470d",
   "metadata": {},
   "source": [
    "#### UniRef species - F2 generation (H vs C)"
   ]
  },
  {
   "cell_type": "code",
   "execution_count": 88,
   "id": "2b665bd0",
   "metadata": {
    "vscode": {
     "languageId": "r"
    }
   },
   "outputs": [
    {
     "data": {
      "text/html": [
       "<style>\n",
       ".list-inline {list-style: none; margin:0; padding: 0}\n",
       ".list-inline>li {display: inline-block}\n",
       ".list-inline>li:not(:last-child)::after {content: \"\\00b7\"; padding: 0 .5ex}\n",
       "</style>\n",
       "<ol class=list-inline><li>'3479'</li><li>'species removed'</li><li>'581'</li><li>'remaining'</li></ol>\n"
      ],
      "text/latex": [
       "\\begin{enumerate*}\n",
       "\\item '3479'\n",
       "\\item 'species removed'\n",
       "\\item '581'\n",
       "\\item 'remaining'\n",
       "\\end{enumerate*}\n"
      ],
      "text/markdown": [
       "1. '3479'\n",
       "2. 'species removed'\n",
       "3. '581'\n",
       "4. 'remaining'\n",
       "\n",
       "\n"
      ],
      "text/plain": [
       "[1] \"3479\"            \"species removed\" \"581\"             \"remaining\"      "
      ]
     },
     "metadata": {},
     "output_type": "display_data"
    },
    {
     "name": "stderr",
     "output_type": "stream",
     "text": [
      "computing iqlr centering\n",
      "\n",
      "aldex.clr: generating Monte-Carlo instances and clr values\n",
      "\n",
      "operating in serial mode\n",
      "\n",
      "removed rows with sums equal to zero\n",
      "\n",
      "data format is OK\n",
      "\n",
      "dirichlet samples complete\n",
      "\n",
      "transformation complete\n",
      "\n",
      "aldex.ttest: doing t-test\n",
      "\n",
      "running tests for each MC instance:\n",
      "\n"
     ]
    },
    {
     "name": "stdout",
     "output_type": "stream",
     "text": [
      "|------------(25%)----------(50%)----------(75%)----------|\n"
     ]
    },
    {
     "name": "stderr",
     "output_type": "stream",
     "text": [
      "aldex.effect: calculating effect sizes\n",
      "\n",
      "operating in serial mode\n",
      "\n",
      "sanity check complete\n",
      "\n",
      "rab.all  complete\n",
      "\n",
      "rab.win  complete\n",
      "\n",
      "rab of samples complete\n",
      "\n",
      "within sample difference calculated\n",
      "\n",
      "between group difference calculated\n",
      "\n",
      "group summaries calculated\n",
      "\n",
      "unpaired effect size calculated\n",
      "\n",
      "summarizing output\n",
      "\n"
     ]
    }
   ],
   "source": [
    "info.F2_HC <- info[info$generation==\"F2\",]\n",
    "info.F2_HC <- info.F2_HC[rownames(info.F2_HC)[info.F2_HC$treatment%in%c(\"C\",\"H\")],]\n",
    "mc.samples <- 128\n",
    "uniref$cov.F2_HC <- uniref$cov[, rownames(info.F2_HC)]\n",
    "\n",
    "## PARAMS ##\n",
    "# Percentage of samples in which features must have >0 sum\n",
    "uniref.F2_HC.percent_occ <- 10\n",
    "# Quantile used for removing low abundance features\n",
    "uniref.F2_HC.quantile_thresh <- 0.1\n",
    "mc.samples <- 128\n",
    "\n",
    "## PREFILTERING ##\n",
    "# Remove zero sum features\n",
    "nz <- rownames(uniref$cov.F2_HC[rowSums(uniref$cov.F2_HC) > 0, ])\n",
    "uniref$nz.F2_HC <- uniref$cov.F2_HC[rownames(uniref$cov.F2_HC)%in%nz, ]\n",
    "\n",
    "# Filter low abundance features\n",
    "low_threshold = quantile(rowSums(uniref$nz.F2_HC) / sum(rowSums(uniref$nz.F2_HC)) * 100, probs = uniref.F2_HC.quantile_thresh)\n",
    "uniref$filtered.F2_HC <- low.count.removal(uniref$nz.F2_HC, percent = low_threshold)$data.filter\n",
    "\n",
    "uniref$occ.F2_HC <- rowSums(uniref$filtered.F2_HC>0) / ncol(uniref$filtered.F2_HC) * 100\n",
    "# Keep features occurring in defined percentage of samples\n",
    "uniref$filtered.F2_HC <- uniref$filtered.F2_HC[which(uniref$occ.F2_HC >= uniref.F2_HC.percent_occ), ]\n",
    "paste0(c(dim(uniref$cov.F2_HC)[1] - dim(uniref$filtered.F2_HC)[1], \"species removed\", dim(uniref$filtered.F2_HC)[1], \"remaining\"))\n",
    "\n",
    "X <- uniref$filtered.F2_HC\n",
    "Y <- info.F2_HC\n",
    "\n",
    "denoms <- aldex.set.mode(ceiling(X), Y[colnames(X),\"treatment\"], denom=\"iqlr\")\n",
    "conds <- factor(Y[colnames(X),\"treatment\"])\n",
    "x.uniref.F2_HC <- aldex(ceiling(X), conds, mc.samples=mc.samples, denom=denoms, test=\"t\", effect=TRUE,\n",
    "     include.sample.summary=FALSE, verbose=TRUE, paired.test=FALSE)\n",
    "save_results(x.uniref.F2_HC[order(x.uniref.F2_HC$effect, decreasing = TRUE),], \"uniref.F2_HC\")"
   ]
  },
  {
   "cell_type": "markdown",
   "id": "dcd539b4",
   "metadata": {},
   "source": [
    "#### UniRef species - F2 generation (L vs C)"
   ]
  },
  {
   "cell_type": "code",
   "execution_count": 89,
   "id": "683ad0cb",
   "metadata": {
    "vscode": {
     "languageId": "r"
    }
   },
   "outputs": [
    {
     "data": {
      "text/html": [
       "<style>\n",
       ".list-inline {list-style: none; margin:0; padding: 0}\n",
       ".list-inline>li {display: inline-block}\n",
       ".list-inline>li:not(:last-child)::after {content: \"\\00b7\"; padding: 0 .5ex}\n",
       "</style>\n",
       "<ol class=list-inline><li>'3578'</li><li>'species removed'</li><li>'482'</li><li>'remaining'</li></ol>\n"
      ],
      "text/latex": [
       "\\begin{enumerate*}\n",
       "\\item '3578'\n",
       "\\item 'species removed'\n",
       "\\item '482'\n",
       "\\item 'remaining'\n",
       "\\end{enumerate*}\n"
      ],
      "text/markdown": [
       "1. '3578'\n",
       "2. 'species removed'\n",
       "3. '482'\n",
       "4. 'remaining'\n",
       "\n",
       "\n"
      ],
      "text/plain": [
       "[1] \"3578\"            \"species removed\" \"482\"             \"remaining\"      "
      ]
     },
     "metadata": {},
     "output_type": "display_data"
    },
    {
     "name": "stderr",
     "output_type": "stream",
     "text": [
      "computing iqlr centering\n",
      "\n",
      "aldex.clr: generating Monte-Carlo instances and clr values\n",
      "\n",
      "operating in serial mode\n",
      "\n",
      "removed rows with sums equal to zero\n",
      "\n",
      "data format is OK\n",
      "\n",
      "dirichlet samples complete\n",
      "\n",
      "transformation complete\n",
      "\n",
      "aldex.ttest: doing t-test\n",
      "\n",
      "running tests for each MC instance:\n",
      "\n"
     ]
    },
    {
     "name": "stdout",
     "output_type": "stream",
     "text": [
      "|------------(25%)----------(50%)----------(75%)----------|\n"
     ]
    },
    {
     "name": "stderr",
     "output_type": "stream",
     "text": [
      "aldex.effect: calculating effect sizes\n",
      "\n",
      "operating in serial mode\n",
      "\n",
      "sanity check complete\n",
      "\n",
      "rab.all  complete\n",
      "\n",
      "rab.win  complete\n",
      "\n",
      "rab of samples complete\n",
      "\n",
      "within sample difference calculated\n",
      "\n",
      "between group difference calculated\n",
      "\n",
      "group summaries calculated\n",
      "\n",
      "unpaired effect size calculated\n",
      "\n",
      "summarizing output\n",
      "\n"
     ]
    }
   ],
   "source": [
    "info.F2_LC <- info[info$generation==\"F2\",]\n",
    "info.F2_LC <- info.F2_LC[rownames(info.F2_LC)[info.F2_LC$treatment%in%c(\"C\",\"L\")],]\n",
    "mc.samples <- 128\n",
    "uniref$cov.F2_LC <- uniref$cov[, rownames(info.F2_LC)]\n",
    "\n",
    "## PARAMS ##\n",
    "# Percentage of samples in which features must have >0 sum\n",
    "uniref.F2_LC.percent_occ <- 10\n",
    "# Quantile used for removing low abundance features\n",
    "uniref.F2_LC.quantile_thresh <- 0.1\n",
    "mc.samples <- 128\n",
    "\n",
    "## PREFILTERING ##\n",
    "# Remove zero sum features\n",
    "nz <- rownames(uniref$cov.F2_LC[rowSums(uniref$cov.F2_LC) > 0, ])\n",
    "uniref$nz.F2_LC <- uniref$cov.F2_LC[rownames(uniref$cov.F2_LC)%in%nz, ]\n",
    "\n",
    "# Filter low abundance features\n",
    "low_threshold = quantile(rowSums(uniref$nz.F2_LC) / sum(rowSums(uniref$nz.F2_LC)) * 100, probs = uniref.F2_LC.quantile_thresh)\n",
    "uniref$filtered.F2_LC <- low.count.removal(uniref$nz.F2_LC, percent = low_threshold)$data.filter\n",
    "\n",
    "uniref$occ.F2_LC <- rowSums(uniref$filtered.F2_LC>0) / ncol(uniref$filtered.F2_LC) * 100\n",
    "# Keep features occurring in defined percentage of samples\n",
    "uniref$filtered.F2_LC <- uniref$filtered.F2_LC[which(uniref$occ.F2_LC >= uniref.F2_LC.percent_occ), ]\n",
    "paste0(c(dim(uniref$cov.F2_LC)[1] - dim(uniref$filtered.F2_LC)[1], \"species removed\", dim(uniref$filtered.F2_LC)[1], \"remaining\"))\n",
    "\n",
    "X <- uniref$filtered.F2_LC\n",
    "Y <- info.F2_LC\n",
    "\n",
    "denoms <- aldex.set.mode(ceiling(X), Y[colnames(X),\"treatment\"], denom=\"iqlr\")\n",
    "conds <- factor(Y[colnames(X),\"treatment\"])\n",
    "x.uniref.F2_LC <- aldex(ceiling(X), conds, mc.samples=mc.samples, denom=denoms, test=\"t\", effect=TRUE,\n",
    "     include.sample.summary=FALSE, verbose=TRUE, paired.test=FALSE)\n",
    "save_results(x.uniref.F2_LC[order(x.uniref.F2_LC$effect, decreasing = TRUE),], \"uniref.F2_LC\")"
   ]
  },
  {
   "cell_type": "markdown",
   "id": "ec504082",
   "metadata": {},
   "source": [
    "### UniRef genera"
   ]
  },
  {
   "cell_type": "markdown",
   "id": "10ecd0b2",
   "metadata": {},
   "source": [
    "#### UniRef genera - Generational differences"
   ]
  },
  {
   "cell_type": "code",
   "execution_count": 25,
   "id": "eedab48a",
   "metadata": {
    "vscode": {
     "languageId": "r"
    }
   },
   "outputs": [
    {
     "data": {
      "text/html": [
       "<style>\n",
       ".list-inline {list-style: none; margin:0; padding: 0}\n",
       ".list-inline>li {display: inline-block}\n",
       ".list-inline>li:not(:last-child)::after {content: \"\\00b7\"; padding: 0 .5ex}\n",
       "</style>\n",
       "<ol class=list-inline><li>'1180'</li><li>'species removed'</li><li>'216'</li><li>'remaining'</li></ol>\n"
      ],
      "text/latex": [
       "\\begin{enumerate*}\n",
       "\\item '1180'\n",
       "\\item 'species removed'\n",
       "\\item '216'\n",
       "\\item 'remaining'\n",
       "\\end{enumerate*}\n"
      ],
      "text/markdown": [
       "1. '1180'\n",
       "2. 'species removed'\n",
       "3. '216'\n",
       "4. 'remaining'\n",
       "\n",
       "\n"
      ],
      "text/plain": [
       "[1] \"1180\"            \"species removed\" \"216\"             \"remaining\"      "
      ]
     },
     "metadata": {},
     "output_type": "display_data"
    },
    {
     "name": "stderr",
     "output_type": "stream",
     "text": [
      "computing iqlr centering\n",
      "\n",
      "checking for condition length disabled!\n",
      "\n",
      "user-defined denominator used\n",
      "\n",
      "multicore environment is is OK -- using the BiocParallel package\n",
      "\n",
      "removed rows with sums equal to zero\n",
      "\n",
      "data format is OK\n",
      "\n",
      "dirichlet samples complete\n",
      "\n",
      "transformation complete\n",
      "\n",
      "running tests for each MC instance:\n",
      "\n"
     ]
    },
    {
     "name": "stdout",
     "output_type": "stream",
     "text": [
      "|------------(25%)----------(50%)----------(75%)----------|\n"
     ]
    },
    {
     "name": "stderr",
     "output_type": "stream",
     "text": [
      "operating in serial mode\n",
      "\n",
      "sanity check complete\n",
      "\n",
      "rab.all  complete\n",
      "\n",
      "rab.win  complete\n",
      "\n",
      "rab of samples complete\n",
      "\n",
      "within sample difference calculated\n",
      "\n",
      "between group difference calculated\n",
      "\n",
      "group summaries calculated\n",
      "\n",
      "unpaired effect size calculated\n",
      "\n",
      "summarizing output\n",
      "\n",
      "operating in serial mode\n",
      "\n",
      "sanity check complete\n",
      "\n",
      "rab.all  complete\n",
      "\n",
      "rab.win  complete\n",
      "\n",
      "rab of samples complete\n",
      "\n",
      "within sample difference calculated\n",
      "\n",
      "between group difference calculated\n",
      "\n",
      "group summaries calculated\n",
      "\n",
      "unpaired effect size calculated\n",
      "\n",
      "summarizing output\n",
      "\n"
     ]
    }
   ],
   "source": [
    "## PARAMS ##\n",
    "# Percentage of samples in which features must have >0 sum\n",
    "uniref.genus.percent_occ <- 10\n",
    "# Quantile used for removing low abundance features\n",
    "uniref.genus.quantile_thresh <- 0.1\n",
    "mc.samples <- 128\n",
    "\n",
    "## PREFILTERING ##\n",
    "# Remove zero sum features\n",
    "nz <- rownames(uniref.genus$cov[rowSums(uniref.genus$cov) > 0, ])\n",
    "uniref.genus$nz <- uniref.genus$cov[rownames(uniref.genus$cov)%in%nz, ]\n",
    "\n",
    "# Filter low abundance features\n",
    "low_threshold = quantile(rowSums(uniref.genus$nz) / sum(rowSums(uniref.genus$nz)) * 100, probs = uniref.genus.quantile_thresh)\n",
    "uniref.genus$filtered <- low.count.removal(uniref.genus$nz, percent = low_threshold)$data.filter\n",
    "\n",
    "uniref.genus$occ <- rowSums(uniref.genus$filtered>0) / ncol(uniref.genus$filtered) * 100\n",
    "# Keep features occurring in defined percentage of samples\n",
    "uniref.genus$filtered <- uniref.genus$filtered[which(uniref.genus$occ >= uniref.genus.percent_occ), ]\n",
    "paste0(c(dim(uniref.genus$cov)[1] - dim(uniref.genus$filtered)[1], \"species removed\", dim(uniref.genus$filtered)[1], \"remaining\"))\n",
    "\n",
    "uniref.genus$filtered <- ceiling(uniref.genus$filtered)\n",
    "\n",
    "denoms <- aldex.set.mode(ceiling(uniref.genus$filtered), info[colnames(uniref.genus$filtered),\"generation\"], denom=\"iqlr\")\n",
    "\n",
    "x.uniref.genus <- aldex.clr(ceiling(uniref.genus$filtered), mm.generation, mc.samples=mc.samples, denom=denoms, verbose=TRUE, useMC = TRUE)\n",
    "glm.test.uniref.genus <- aldex.glm(x.uniref.genus, mm.generation)\n",
    "save_results(glm.test.uniref.genus, \"glm.test.uniref.genus\")\n",
    "glm.effect.uniref.genus <- aldex.glm.effect(x.uniref.genus)\n",
    "save_results(glm.effect.uniref.genus, \"glm.effect.uniref.genus\")"
   ]
  },
  {
   "cell_type": "markdown",
   "id": "7df22623",
   "metadata": {},
   "source": [
    "#### UniRef genera - F0"
   ]
  },
  {
   "cell_type": "code",
   "execution_count": 26,
   "id": "4ed6e2d6",
   "metadata": {
    "vscode": {
     "languageId": "r"
    }
   },
   "outputs": [
    {
     "data": {
      "text/html": [
       "<style>\n",
       ".list-inline {list-style: none; margin:0; padding: 0}\n",
       ".list-inline>li {display: inline-block}\n",
       ".list-inline>li:not(:last-child)::after {content: \"\\00b7\"; padding: 0 .5ex}\n",
       "</style>\n",
       "<ol class=list-inline><li>'1163'</li><li>'species removed'</li><li>'233'</li><li>'remaining'</li></ol>\n"
      ],
      "text/latex": [
       "\\begin{enumerate*}\n",
       "\\item '1163'\n",
       "\\item 'species removed'\n",
       "\\item '233'\n",
       "\\item 'remaining'\n",
       "\\end{enumerate*}\n"
      ],
      "text/markdown": [
       "1. '1163'\n",
       "2. 'species removed'\n",
       "3. '233'\n",
       "4. 'remaining'\n",
       "\n",
       "\n"
      ],
      "text/plain": [
       "[1] \"1163\"            \"species removed\" \"233\"             \"remaining\"      "
      ]
     },
     "metadata": {},
     "output_type": "display_data"
    },
    {
     "name": "stderr",
     "output_type": "stream",
     "text": [
      "computing iqlr centering\n",
      "\n",
      "checking for condition length disabled!\n",
      "\n",
      "user-defined denominator used\n",
      "\n",
      "multicore environment is is OK -- using the BiocParallel package\n",
      "\n",
      "removed rows with sums equal to zero\n",
      "\n",
      "data format is OK\n",
      "\n",
      "dirichlet samples complete\n",
      "\n",
      "transformation complete\n",
      "\n",
      "running tests for each MC instance:\n",
      "\n"
     ]
    },
    {
     "name": "stdout",
     "output_type": "stream",
     "text": [
      "|------------(25%)----------(50%)----------(75%)----------|\n"
     ]
    },
    {
     "name": "stderr",
     "output_type": "stream",
     "text": [
      "operating in serial mode\n",
      "\n",
      "sanity check complete\n",
      "\n",
      "rab.all  complete\n",
      "\n",
      "rab.win  complete\n",
      "\n",
      "rab of samples complete\n",
      "\n",
      "within sample difference calculated\n",
      "\n",
      "between group difference calculated\n",
      "\n",
      "group summaries calculated\n",
      "\n",
      "unpaired effect size calculated\n",
      "\n",
      "summarizing output\n",
      "\n",
      "operating in serial mode\n",
      "\n",
      "sanity check complete\n",
      "\n",
      "rab.all  complete\n",
      "\n",
      "rab.win  complete\n",
      "\n",
      "rab of samples complete\n",
      "\n",
      "within sample difference calculated\n",
      "\n",
      "between group difference calculated\n",
      "\n",
      "group summaries calculated\n",
      "\n",
      "unpaired effect size calculated\n",
      "\n",
      "summarizing output\n",
      "\n"
     ]
    }
   ],
   "source": [
    "# Extract and filter F0 samples\n",
    "uniref.genus$cov.F0 <- uniref.genus$cov[, rownames(info[info$generation==\"F0\",])]\n",
    "## PARAMS ##\n",
    "# Percentage of samples in which features must have >0 sum\n",
    "uniref.genus.F0.percent_occ <- 10\n",
    "# Quantile used for removing low abundance features\n",
    "uniref.genus.F0.quantile_thresh <- 0.1\n",
    "mc.samples <- 128\n",
    "\n",
    "## PREFILTERING ##\n",
    "# Remove zero sum features\n",
    "nz <- rownames(uniref.genus$cov.F0[rowSums(uniref.genus$cov.F0) > 0, ])\n",
    "uniref.genus$nz.F0 <- uniref.genus$cov.F0[rownames(uniref.genus$cov.F0)%in%nz, ]\n",
    "\n",
    "# Filter low abundance features\n",
    "low_threshold = quantile(rowSums(uniref.genus$nz.F0) / sum(rowSums(uniref.genus$nz.F0)) * 100, probs = uniref.genus.F0.quantile_thresh)\n",
    "uniref.genus$filtered.F0 <- low.count.removal(uniref.genus$nz.F0, percent = low_threshold)$data.filter\n",
    "\n",
    "uniref.genus$occ.F0 <- rowSums(uniref.genus$filtered.F0>0) / ncol(uniref.genus$filtered.F0) * 100\n",
    "# Keep features occurring in defined percentage of samples\n",
    "uniref.genus$filtered.F0 <- uniref.genus$filtered.F0[which(uniref.genus$occ.F0 >= uniref.genus.F0.percent_occ), ]\n",
    "paste0(c(dim(uniref.genus$cov.F0)[1] - dim(uniref.genus$filtered.F0)[1], \"species removed\", dim(uniref.genus$filtered.F0)[1], \"remaining\"))\n",
    "\n",
    "# Get denominators from IQLR transformation\n",
    "denoms <- aldex.set.mode(ceiling(uniref.genus$filtered.F0), info[colnames(uniref.genus$filtered.F0),\"treatment\"], denom=\"iqlr\")\n",
    "\n",
    "x.uniref.genus.F0 <- aldex.clr(ceiling(uniref.genus$filtered.F0), mm.F0.treatment, mc.samples=mc.samples, denom=denoms, verbose=TRUE, useMC = TRUE)\n",
    "glm.test.uniref.genus.F0 <- aldex.glm(x.uniref.genus.F0, mm.F0.treatment)\n",
    "save_results(glm.test.uniref.genus.F0, \"glm.test.uniref.genus.F0\")\n",
    "glm.effect.uniref.genus.F0 <- aldex.glm.effect(x.uniref.genus.F0)\n",
    "save_results(glm.effect.uniref.genus.F0, \"glm.effect.uniref.genus.F0\")"
   ]
  },
  {
   "cell_type": "markdown",
   "id": "bcd8c938",
   "metadata": {},
   "source": [
    "#### UniRef genera - F0 generation (C+L vs H)"
   ]
  },
  {
   "cell_type": "code",
   "execution_count": 27,
   "id": "741a38c4",
   "metadata": {
    "vscode": {
     "languageId": "r"
    }
   },
   "outputs": [
    {
     "name": "stderr",
     "output_type": "stream",
     "text": [
      "computing iqlr centering\n",
      "\n",
      "aldex.clr: generating Monte-Carlo instances and clr values\n",
      "\n",
      "operating in serial mode\n",
      "\n",
      "removed rows with sums equal to zero\n",
      "\n",
      "data format is OK\n",
      "\n",
      "dirichlet samples complete\n",
      "\n",
      "transformation complete\n",
      "\n",
      "aldex.ttest: doing t-test\n",
      "\n",
      "running tests for each MC instance:\n",
      "\n"
     ]
    },
    {
     "name": "stdout",
     "output_type": "stream",
     "text": [
      "|------------(25%)----------(50%)----------(75%)----------|\n"
     ]
    },
    {
     "name": "stderr",
     "output_type": "stream",
     "text": [
      "aldex.effect: calculating effect sizes\n",
      "\n",
      "operating in serial mode\n",
      "\n",
      "sanity check complete\n",
      "\n",
      "rab.all  complete\n",
      "\n",
      "rab.win  complete\n",
      "\n",
      "rab of samples complete\n",
      "\n",
      "within sample difference calculated\n",
      "\n",
      "between group difference calculated\n",
      "\n",
      "group summaries calculated\n",
      "\n",
      "unpaired effect size calculated\n",
      "\n",
      "summarizing output\n",
      "\n"
     ]
    }
   ],
   "source": [
    "info.F0 <- info[info$generation==\"F0\",]\n",
    "info.F0_2 <- info.F0\n",
    "info.F0_2$treatment <- gsub(x = info.F0_2$treatment, pattern = \"[CL]\", replacement = \"CL\")\n",
    "info.F0_2$treatment <- factor(info.F0_2$treatment)\n",
    "mm.F0_2.treatment <- model.matrix(~ treatment, info.F0_2)\n",
    "mc.samples <- 128\n",
    "\n",
    "denoms <- aldex.set.mode(ceiling(uniref.genus$filtered.F0), info[colnames(uniref.genus$filtered.F0),\"treatment\"], denom=\"iqlr\")\n",
    "conds <- info.F0_2[colnames(uniref.genus$filtered.F0),\"treatment\"]\n",
    "x.uniref.genus.F0_2 <- aldex(ceiling(uniref.genus$filtered.F0), conds, mc.samples=mc.samples, denom=denoms, test=\"t\", effect=TRUE,\n",
    "     include.sample.summary=FALSE, verbose=TRUE, paired.test=FALSE)\n",
    "save_results(x.uniref.genus.F0_2[order(x.uniref.genus.F0_2$effect, decreasing = TRUE),], \"uniref.genus.F0_2\")"
   ]
  },
  {
   "cell_type": "markdown",
   "id": "dc43915b",
   "metadata": {},
   "source": [
    "#### UniRef genera - F0 generation (H vs C)"
   ]
  },
  {
   "cell_type": "code",
   "execution_count": 90,
   "id": "3bc9fae7",
   "metadata": {
    "vscode": {
     "languageId": "r"
    }
   },
   "outputs": [
    {
     "data": {
      "text/html": [
       "<style>\n",
       ".list-inline {list-style: none; margin:0; padding: 0}\n",
       ".list-inline>li {display: inline-block}\n",
       ".list-inline>li:not(:last-child)::after {content: \"\\00b7\"; padding: 0 .5ex}\n",
       "</style>\n",
       "<ol class=list-inline><li>'1149'</li><li>'genera removed'</li><li>'247'</li><li>'remaining'</li></ol>\n"
      ],
      "text/latex": [
       "\\begin{enumerate*}\n",
       "\\item '1149'\n",
       "\\item 'genera removed'\n",
       "\\item '247'\n",
       "\\item 'remaining'\n",
       "\\end{enumerate*}\n"
      ],
      "text/markdown": [
       "1. '1149'\n",
       "2. 'genera removed'\n",
       "3. '247'\n",
       "4. 'remaining'\n",
       "\n",
       "\n"
      ],
      "text/plain": [
       "[1] \"1149\"           \"genera removed\" \"247\"            \"remaining\"     "
      ]
     },
     "metadata": {},
     "output_type": "display_data"
    },
    {
     "name": "stderr",
     "output_type": "stream",
     "text": [
      "computing iqlr centering\n",
      "\n",
      "aldex.clr: generating Monte-Carlo instances and clr values\n",
      "\n",
      "operating in serial mode\n",
      "\n",
      "removed rows with sums equal to zero\n",
      "\n",
      "data format is OK\n",
      "\n",
      "dirichlet samples complete\n",
      "\n",
      "transformation complete\n",
      "\n",
      "aldex.ttest: doing t-test\n",
      "\n",
      "running tests for each MC instance:\n",
      "\n"
     ]
    },
    {
     "name": "stdout",
     "output_type": "stream",
     "text": [
      "|------------(25%)----------(50%)----------(75%)----------|\n"
     ]
    },
    {
     "name": "stderr",
     "output_type": "stream",
     "text": [
      "aldex.effect: calculating effect sizes\n",
      "\n",
      "operating in serial mode\n",
      "\n",
      "sanity check complete\n",
      "\n",
      "rab.all  complete\n",
      "\n",
      "rab.win  complete\n",
      "\n",
      "rab of samples complete\n",
      "\n",
      "within sample difference calculated\n",
      "\n",
      "between group difference calculated\n",
      "\n",
      "group summaries calculated\n",
      "\n",
      "unpaired effect size calculated\n",
      "\n",
      "summarizing output\n",
      "\n"
     ]
    }
   ],
   "source": [
    "info.F0_HC <- info[info$generation==\"F0\",]\n",
    "info.F0_HC <- info.F0_HC[rownames(info.F0_HC)[info.F0_HC$treatment%in%c(\"C\",\"H\")],]\n",
    "mc.samples <- 128\n",
    "uniref.genus$cov.F0_HC <- uniref.genus$cov[, rownames(info.F0_HC)]\n",
    "\n",
    "## PARAMS ##\n",
    "# Percentage of samples in which features must have >0 sum\n",
    "uniref.genus.F0_HC.percent_occ <- 10\n",
    "# Quantile used for removing low abundance features\n",
    "uniref.genus.F0_HC.quantile_thresh <- 0.1\n",
    "mc.samples <- 128\n",
    "\n",
    "## PREFILTERING ##\n",
    "# Remove zero sum features\n",
    "nz <- rownames(uniref.genus$cov.F0_HC[rowSums(uniref.genus$cov.F0_HC) > 0, ])\n",
    "uniref.genus$nz.F0_HC <- uniref.genus$cov.F0_HC[rownames(uniref.genus$cov.F0_HC)%in%nz, ]\n",
    "\n",
    "# Filter low abundance features\n",
    "low_threshold = quantile(rowSums(uniref.genus$nz.F0_HC) / sum(rowSums(uniref.genus$nz.F0_HC)) * 100, probs = uniref.genus.F0_HC.quantile_thresh)\n",
    "uniref.genus$filtered.F0_HC <- low.count.removal(uniref.genus$nz.F0_HC, percent = low_threshold)$data.filter\n",
    "\n",
    "uniref.genus$occ.F0_HC <- rowSums(uniref.genus$filtered.F0_HC>0) / ncol(uniref.genus$filtered.F0_HC) * 100\n",
    "# Keep features occurring in defined percentage of samples\n",
    "uniref.genus$filtered.F0_HC <- uniref.genus$filtered.F0_HC[which(uniref.genus$occ.F0_HC >= uniref.genus.F0_HC.percent_occ), ]\n",
    "paste0(c(dim(uniref.genus$cov.F0_HC)[1] - dim(uniref.genus$filtered.F0_HC)[1], \"genera removed\", dim(uniref.genus$filtered.F0_HC)[1], \"remaining\"))\n",
    "\n",
    "X <- uniref.genus$filtered.F0_HC\n",
    "Y <- info.F0_HC\n",
    "\n",
    "denoms <- aldex.set.mode(ceiling(X), Y[colnames(X),\"treatment\"], denom=\"iqlr\")\n",
    "conds <- factor(Y[colnames(X),\"treatment\"])\n",
    "x.uniref.genus.F0_HC <- aldex(ceiling(X), conds, mc.samples=mc.samples, denom=denoms, test=\"t\", effect=TRUE,\n",
    "     include.sample.summary=FALSE, verbose=TRUE, paired.test=FALSE)\n",
    "save_results(x.uniref.genus.F0_HC[order(x.uniref.genus.F0_HC$effect, decreasing = TRUE),], \"uniref.genus.F0_HC\")"
   ]
  },
  {
   "cell_type": "markdown",
   "id": "69aaaf59",
   "metadata": {},
   "source": [
    "#### UniRef genera - F0 generation (L vs C)"
   ]
  },
  {
   "cell_type": "code",
   "execution_count": 91,
   "id": "c4aef04f",
   "metadata": {
    "vscode": {
     "languageId": "r"
    }
   },
   "outputs": [
    {
     "data": {
      "text/html": [
       "<style>\n",
       ".list-inline {list-style: none; margin:0; padding: 0}\n",
       ".list-inline>li {display: inline-block}\n",
       ".list-inline>li:not(:last-child)::after {content: \"\\00b7\"; padding: 0 .5ex}\n",
       "</style>\n",
       "<ol class=list-inline><li>'1077'</li><li>'genera removed'</li><li>'319'</li><li>'remaining'</li></ol>\n"
      ],
      "text/latex": [
       "\\begin{enumerate*}\n",
       "\\item '1077'\n",
       "\\item 'genera removed'\n",
       "\\item '319'\n",
       "\\item 'remaining'\n",
       "\\end{enumerate*}\n"
      ],
      "text/markdown": [
       "1. '1077'\n",
       "2. 'genera removed'\n",
       "3. '319'\n",
       "4. 'remaining'\n",
       "\n",
       "\n"
      ],
      "text/plain": [
       "[1] \"1077\"           \"genera removed\" \"319\"            \"remaining\"     "
      ]
     },
     "metadata": {},
     "output_type": "display_data"
    },
    {
     "name": "stderr",
     "output_type": "stream",
     "text": [
      "computing iqlr centering\n",
      "\n",
      "aldex.clr: generating Monte-Carlo instances and clr values\n",
      "\n",
      "operating in serial mode\n",
      "\n",
      "removed rows with sums equal to zero\n",
      "\n",
      "data format is OK\n",
      "\n",
      "dirichlet samples complete\n",
      "\n",
      "transformation complete\n",
      "\n",
      "aldex.ttest: doing t-test\n",
      "\n",
      "running tests for each MC instance:\n",
      "\n"
     ]
    },
    {
     "name": "stdout",
     "output_type": "stream",
     "text": [
      "|------------(25%)----------(50%)----------(75%)----------|\n"
     ]
    },
    {
     "name": "stderr",
     "output_type": "stream",
     "text": [
      "aldex.effect: calculating effect sizes\n",
      "\n",
      "operating in serial mode\n",
      "\n",
      "sanity check complete\n",
      "\n",
      "rab.all  complete\n",
      "\n",
      "rab.win  complete\n",
      "\n",
      "rab of samples complete\n",
      "\n",
      "within sample difference calculated\n",
      "\n",
      "between group difference calculated\n",
      "\n",
      "group summaries calculated\n",
      "\n",
      "unpaired effect size calculated\n",
      "\n",
      "summarizing output\n",
      "\n"
     ]
    }
   ],
   "source": [
    "info.F0_LC <- info[info$generation==\"F0\",]\n",
    "info.F0_LC <- info.F0_LC[rownames(info.F0_LC)[info.F0_LC$treatment%in%c(\"C\",\"L\")],]\n",
    "mc.samples <- 128\n",
    "uniref.genus$cov.F0_LC <- uniref.genus$cov[, rownames(info.F0_LC)]\n",
    "\n",
    "## PARAMS ##\n",
    "# Percentage of samples in which features must have >0 sum\n",
    "uniref.genus.F0_LC.percent_occ <- 10\n",
    "# Quantile used for removing low abundance features\n",
    "uniref.genus.F0_LC.quantile_thresh <- 0.1\n",
    "mc.samples <- 128\n",
    "\n",
    "## PREFILTERING ##\n",
    "# Remove zero sum features\n",
    "nz <- rownames(uniref.genus$cov.F0_LC[rowSums(uniref.genus$cov.F0_LC) > 0, ])\n",
    "uniref.genus$nz.F0_LC <- uniref.genus$cov.F0_LC[rownames(uniref.genus$cov.F0_LC)%in%nz, ]\n",
    "\n",
    "# Filter low abundance features\n",
    "low_threshold = quantile(rowSums(uniref.genus$nz.F0_LC) / sum(rowSums(uniref.genus$nz.F0_LC)) * 100, probs = uniref.genus.F0_LC.quantile_thresh)\n",
    "uniref.genus$filtered.F0_LC <- low.count.removal(uniref.genus$nz.F0_LC, percent = low_threshold)$data.filter\n",
    "\n",
    "uniref.genus$occ.F0_LC <- rowSums(uniref.genus$filtered.F0_LC>0) / ncol(uniref.genus$filtered.F0_LC) * 100\n",
    "# Keep features occurring in defined percentage of samples\n",
    "uniref.genus$filtered.F0_LC <- uniref.genus$filtered.F0_LC[which(uniref.genus$occ.F0_LC >= uniref.genus.F0_LC.percent_occ), ]\n",
    "paste0(c(dim(uniref.genus$cov.F0_LC)[1] - dim(uniref.genus$filtered.F0_LC)[1], \"genera removed\", dim(uniref.genus$filtered.F0_LC)[1], \"remaining\"))\n",
    "\n",
    "X <- uniref.genus$filtered.F0_LC\n",
    "Y <- info.F0_LC\n",
    "\n",
    "denoms <- aldex.set.mode(ceiling(X), Y[colnames(X),\"treatment\"], denom=\"iqlr\")\n",
    "conds <- factor(Y[colnames(X),\"treatment\"])\n",
    "x.uniref.genus.F0_LC <- aldex(ceiling(X), conds, mc.samples=mc.samples, denom=denoms, test=\"t\", effect=TRUE,\n",
    "     include.sample.summary=FALSE, verbose=TRUE, paired.test=FALSE)\n",
    "save_results(x.uniref.genus.F0_LC[order(x.uniref.genus.F0_LC$effect, decreasing = TRUE),], \"uniref.genus.F0_LC\")"
   ]
  },
  {
   "cell_type": "markdown",
   "id": "02a3914d",
   "metadata": {},
   "source": [
    "#### UniRef genera - F1 generation"
   ]
  },
  {
   "cell_type": "code",
   "execution_count": 28,
   "id": "401815aa",
   "metadata": {
    "vscode": {
     "languageId": "r"
    }
   },
   "outputs": [
    {
     "data": {
      "text/html": [
       "<style>\n",
       ".list-inline {list-style: none; margin:0; padding: 0}\n",
       ".list-inline>li {display: inline-block}\n",
       ".list-inline>li:not(:last-child)::after {content: \"\\00b7\"; padding: 0 .5ex}\n",
       "</style>\n",
       "<ol class=list-inline><li>'1171'</li><li>'species removed'</li><li>'225'</li><li>'remaining'</li></ol>\n"
      ],
      "text/latex": [
       "\\begin{enumerate*}\n",
       "\\item '1171'\n",
       "\\item 'species removed'\n",
       "\\item '225'\n",
       "\\item 'remaining'\n",
       "\\end{enumerate*}\n"
      ],
      "text/markdown": [
       "1. '1171'\n",
       "2. 'species removed'\n",
       "3. '225'\n",
       "4. 'remaining'\n",
       "\n",
       "\n"
      ],
      "text/plain": [
       "[1] \"1171\"            \"species removed\" \"225\"             \"remaining\"      "
      ]
     },
     "metadata": {},
     "output_type": "display_data"
    },
    {
     "name": "stderr",
     "output_type": "stream",
     "text": [
      "computing iqlr centering\n",
      "\n",
      "checking for condition length disabled!\n",
      "\n",
      "user-defined denominator used\n",
      "\n",
      "multicore environment is is OK -- using the BiocParallel package\n",
      "\n",
      "removed rows with sums equal to zero\n",
      "\n",
      "data format is OK\n",
      "\n",
      "dirichlet samples complete\n",
      "\n",
      "transformation complete\n",
      "\n",
      "running tests for each MC instance:\n",
      "\n"
     ]
    },
    {
     "name": "stdout",
     "output_type": "stream",
     "text": [
      "|------------(25%)----------(50%)----------(75%)----------|\n"
     ]
    },
    {
     "name": "stderr",
     "output_type": "stream",
     "text": [
      "operating in serial mode\n",
      "\n",
      "sanity check complete\n",
      "\n",
      "rab.all  complete\n",
      "\n",
      "rab.win  complete\n",
      "\n",
      "rab of samples complete\n",
      "\n",
      "within sample difference calculated\n",
      "\n",
      "between group difference calculated\n",
      "\n",
      "group summaries calculated\n",
      "\n",
      "unpaired effect size calculated\n",
      "\n",
      "summarizing output\n",
      "\n",
      "operating in serial mode\n",
      "\n",
      "sanity check complete\n",
      "\n",
      "rab.all  complete\n",
      "\n",
      "rab.win  complete\n",
      "\n",
      "rab of samples complete\n",
      "\n",
      "within sample difference calculated\n",
      "\n",
      "between group difference calculated\n",
      "\n",
      "group summaries calculated\n",
      "\n",
      "unpaired effect size calculated\n",
      "\n",
      "summarizing output\n",
      "\n"
     ]
    }
   ],
   "source": [
    "# Extract and filter F1 samples\n",
    "uniref.genus$cov.F1 <- uniref.genus$cov[, rownames(info[info$generation==\"F1\",])]\n",
    "## PARAMS ##\n",
    "# Percentage of samples in which features must have >0 sum\n",
    "uniref.genus.F1.percent_occ <- 10\n",
    "# Quantile used for removing low abundance features\n",
    "uniref.genus.F1.quantile_thresh <- 0.1\n",
    "mc.samples <- 200\n",
    "\n",
    "## PREFILTERING ##\n",
    "# Remove zero sum features\n",
    "nz <- rownames(uniref.genus$cov.F1[rowSums(uniref.genus$cov.F1) > 0, ])\n",
    "uniref.genus$nz.F1 <- uniref.genus$cov.F1[rownames(uniref.genus$cov.F1)%in%nz, ]\n",
    "\n",
    "# Filter low abundance features\n",
    "low_threshold = quantile(rowSums(uniref.genus$nz.F1) / sum(rowSums(uniref.genus$nz.F1)) * 100, probs = uniref.genus.F1.quantile_thresh)\n",
    "uniref.genus$filtered.F1 <- low.count.removal(uniref.genus$nz.F1, percent = low_threshold)$data.filter\n",
    "\n",
    "uniref.genus$occ.F1 <- rowSums(uniref.genus$filtered.F1>0) / ncol(uniref.genus$filtered.F1) * 100\n",
    "# Keep features occurring in defined percentage of samples\n",
    "uniref.genus$filtered.F1 <- uniref.genus$filtered.F1[which(uniref.genus$occ.F1 >= uniref.genus.F1.percent_occ), ]\n",
    "paste0(c(dim(uniref.genus$cov.F1)[1] - dim(uniref.genus$filtered.F1)[1], \"species removed\", dim(uniref.genus$filtered.F1)[1], \"remaining\"))\n",
    "\n",
    "# Get denominators from IQLR transformation\n",
    "denoms <- aldex.set.mode(ceiling(uniref.genus$filtered.F1), info[colnames(uniref.genus$filtered.F1),\"treatment\"], denom=\"iqlr\")\n",
    "\n",
    "x.uniref.genus.F1 <- aldex.clr(ceiling(uniref.genus$filtered.F1), mm.F1.treatment, mc.samples=mc.samples, denom=denoms, verbose=TRUE, useMC = TRUE)\n",
    "glm.test.uniref.genus.F1 <- aldex.glm(x.uniref.genus.F1, mm.F1.treatment)\n",
    "save_results(glm.test.uniref.genus.F1, \"glm.test.uniref.genus.F1\")\n",
    "glm.effect.uniref.genus.F1 <- aldex.glm.effect(x.uniref.genus.F1)\n",
    "save_results(glm.effect.uniref.genus.F1, \"glm.effect.uniref.genus.F1\")"
   ]
  },
  {
   "cell_type": "markdown",
   "id": "b17b979a",
   "metadata": {},
   "source": [
    "#### UniRef genera - F1 generation (C+L vs H)"
   ]
  },
  {
   "cell_type": "code",
   "execution_count": 29,
   "id": "347acf5b",
   "metadata": {
    "vscode": {
     "languageId": "r"
    }
   },
   "outputs": [
    {
     "name": "stderr",
     "output_type": "stream",
     "text": [
      "computing iqlr centering\n",
      "\n",
      "aldex.clr: generating Monte-Carlo instances and clr values\n",
      "\n",
      "operating in serial mode\n",
      "\n",
      "removed rows with sums equal to zero\n",
      "\n",
      "data format is OK\n",
      "\n",
      "dirichlet samples complete\n",
      "\n",
      "transformation complete\n",
      "\n",
      "aldex.ttest: doing t-test\n",
      "\n",
      "running tests for each MC instance:\n",
      "\n"
     ]
    },
    {
     "name": "stdout",
     "output_type": "stream",
     "text": [
      "|------------(25%)----------(50%)----------(75%)----------|\n"
     ]
    },
    {
     "name": "stderr",
     "output_type": "stream",
     "text": [
      "aldex.effect: calculating effect sizes\n",
      "\n",
      "operating in serial mode\n",
      "\n",
      "sanity check complete\n",
      "\n",
      "rab.all  complete\n",
      "\n",
      "rab.win  complete\n",
      "\n",
      "rab of samples complete\n",
      "\n",
      "within sample difference calculated\n",
      "\n",
      "between group difference calculated\n",
      "\n",
      "group summaries calculated\n",
      "\n",
      "unpaired effect size calculated\n",
      "\n",
      "summarizing output\n",
      "\n"
     ]
    }
   ],
   "source": [
    "info.F1 <- info[info$generation==\"F1\",]\n",
    "info.F1_2 <- info.F1\n",
    "info.F1_2$treatment <- gsub(x = info.F1_2$treatment, pattern = \"[CL]\", replacement = \"CL\")\n",
    "info.F1_2$treatment <- factor(info.F1_2$treatment)\n",
    "mm.F1_2.treatment <- model.matrix(~ treatment, info.F1_2)\n",
    "mc.samples <- 200\n",
    "\n",
    "denoms <- aldex.set.mode(ceiling(uniref.genus$filtered.F1), info[colnames(uniref.genus$filtered.F1),\"treatment\"], denom=\"iqlr\")\n",
    "conds <- info.F1_2[colnames(uniref.genus$filtered.F1),\"treatment\"]\n",
    "x.uniref.genus.F1_2 <- aldex(ceiling(uniref.genus$filtered.F1), conds, mc.samples=mc.samples, denom=denoms, test=\"t\", effect=TRUE,\n",
    "     include.sample.summary=FALSE, verbose=TRUE, paired.test=FALSE)\n",
    "save_results(x.uniref.genus.F1_2[order(x.uniref.genus.F1_2$effect, decreasing = TRUE),], \"uniref.genus.F1_2\")"
   ]
  },
  {
   "cell_type": "markdown",
   "id": "6e293b62",
   "metadata": {},
   "source": [
    "#### UniRef genera - F1 generation (H vs C)"
   ]
  },
  {
   "cell_type": "code",
   "execution_count": 92,
   "id": "5ce8f473",
   "metadata": {
    "vscode": {
     "languageId": "r"
    }
   },
   "outputs": [
    {
     "data": {
      "text/html": [
       "<style>\n",
       ".list-inline {list-style: none; margin:0; padding: 0}\n",
       ".list-inline>li {display: inline-block}\n",
       ".list-inline>li:not(:last-child)::after {content: \"\\00b7\"; padding: 0 .5ex}\n",
       "</style>\n",
       "<ol class=list-inline><li>'1202'</li><li>'genera removed'</li><li>'194'</li><li>'remaining'</li></ol>\n"
      ],
      "text/latex": [
       "\\begin{enumerate*}\n",
       "\\item '1202'\n",
       "\\item 'genera removed'\n",
       "\\item '194'\n",
       "\\item 'remaining'\n",
       "\\end{enumerate*}\n"
      ],
      "text/markdown": [
       "1. '1202'\n",
       "2. 'genera removed'\n",
       "3. '194'\n",
       "4. 'remaining'\n",
       "\n",
       "\n"
      ],
      "text/plain": [
       "[1] \"1202\"           \"genera removed\" \"194\"            \"remaining\"     "
      ]
     },
     "metadata": {},
     "output_type": "display_data"
    },
    {
     "name": "stderr",
     "output_type": "stream",
     "text": [
      "computing iqlr centering\n",
      "\n",
      "aldex.clr: generating Monte-Carlo instances and clr values\n",
      "\n",
      "operating in serial mode\n",
      "\n",
      "removed rows with sums equal to zero\n",
      "\n",
      "data format is OK\n",
      "\n",
      "dirichlet samples complete\n",
      "\n",
      "transformation complete\n",
      "\n",
      "aldex.ttest: doing t-test\n",
      "\n",
      "running tests for each MC instance:\n",
      "\n"
     ]
    },
    {
     "name": "stdout",
     "output_type": "stream",
     "text": [
      "|------------(25%)----------(50%)----------(75%)----------|\n"
     ]
    },
    {
     "name": "stderr",
     "output_type": "stream",
     "text": [
      "aldex.effect: calculating effect sizes\n",
      "\n",
      "operating in serial mode\n",
      "\n",
      "sanity check complete\n",
      "\n",
      "rab.all  complete\n",
      "\n",
      "rab.win  complete\n",
      "\n",
      "rab of samples complete\n",
      "\n",
      "within sample difference calculated\n",
      "\n",
      "between group difference calculated\n",
      "\n",
      "group summaries calculated\n",
      "\n",
      "unpaired effect size calculated\n",
      "\n",
      "summarizing output\n",
      "\n"
     ]
    }
   ],
   "source": [
    "info.F1_HC <- info[info$generation==\"F1\",]\n",
    "info.F1_HC <- info.F1_HC[rownames(info.F1_HC)[info.F1_HC$treatment%in%c(\"C\",\"H\")],]\n",
    "mc.samples <- 200\n",
    "uniref.genus$cov.F1_HC <- uniref.genus$cov[, rownames(info.F1_HC)]\n",
    "\n",
    "## PARAMS ##\n",
    "# Percentage of samples in which features must have >0 sum\n",
    "uniref.genus.F1_HC.percent_occ <- 10\n",
    "# Quantile used for removing low abundance features\n",
    "uniref.genus.F1_HC.quantile_thresh <- 0.1\n",
    "mc.samples <- 128\n",
    "\n",
    "## PREFILTERING ##\n",
    "# Remove zero sum features\n",
    "nz <- rownames(uniref.genus$cov.F1_HC[rowSums(uniref.genus$cov.F1_HC) > 0, ])\n",
    "uniref.genus$nz.F1_HC <- uniref.genus$cov.F1_HC[rownames(uniref.genus$cov.F1_HC)%in%nz, ]\n",
    "\n",
    "# Filter low abundance features\n",
    "low_threshold = quantile(rowSums(uniref.genus$nz.F1_HC) / sum(rowSums(uniref.genus$nz.F1_HC)) * 100, probs = uniref.genus.F1_HC.quantile_thresh)\n",
    "uniref.genus$filtered.F1_HC <- low.count.removal(uniref.genus$nz.F1_HC, percent = low_threshold)$data.filter\n",
    "\n",
    "uniref.genus$occ.F1_HC <- rowSums(uniref.genus$filtered.F1_HC>0) / ncol(uniref.genus$filtered.F1_HC) * 100\n",
    "# Keep features occurring in defined percentage of samples\n",
    "uniref.genus$filtered.F1_HC <- uniref.genus$filtered.F1_HC[which(uniref.genus$occ.F1_HC >= uniref.genus.F1_HC.percent_occ), ]\n",
    "paste0(c(dim(uniref.genus$cov.F1_HC)[1] - dim(uniref.genus$filtered.F1_HC)[1], \"genera removed\", dim(uniref.genus$filtered.F1_HC)[1], \"remaining\"))\n",
    "\n",
    "X <- uniref.genus$filtered.F1_HC\n",
    "Y <- info.F1_HC\n",
    "\n",
    "denoms <- aldex.set.mode(ceiling(X), Y[colnames(X),\"treatment\"], denom=\"iqlr\")\n",
    "conds <- factor(Y[colnames(X),\"treatment\"])\n",
    "x.uniref.genus.F1_HC <- aldex(ceiling(X), conds, mc.samples=mc.samples, denom=denoms, test=\"t\", effect=TRUE,\n",
    "     include.sample.summary=FALSE, verbose=TRUE, paired.test=FALSE)\n",
    "save_results(x.uniref.genus.F1_HC[order(x.uniref.genus.F1_HC$effect, decreasing = TRUE),], \"uniref.genus.F1_HC\")"
   ]
  },
  {
   "cell_type": "markdown",
   "id": "65013b8c",
   "metadata": {},
   "source": [
    "#### UniRef genera - F1 generation (L vs C)"
   ]
  },
  {
   "cell_type": "code",
   "execution_count": 93,
   "id": "c067eb54",
   "metadata": {
    "vscode": {
     "languageId": "r"
    }
   },
   "outputs": [
    {
     "data": {
      "text/html": [
       "<style>\n",
       ".list-inline {list-style: none; margin:0; padding: 0}\n",
       ".list-inline>li {display: inline-block}\n",
       ".list-inline>li:not(:last-child)::after {content: \"\\00b7\"; padding: 0 .5ex}\n",
       "</style>\n",
       "<ol class=list-inline><li>'1238'</li><li>'genera removed'</li><li>'158'</li><li>'remaining'</li></ol>\n"
      ],
      "text/latex": [
       "\\begin{enumerate*}\n",
       "\\item '1238'\n",
       "\\item 'genera removed'\n",
       "\\item '158'\n",
       "\\item 'remaining'\n",
       "\\end{enumerate*}\n"
      ],
      "text/markdown": [
       "1. '1238'\n",
       "2. 'genera removed'\n",
       "3. '158'\n",
       "4. 'remaining'\n",
       "\n",
       "\n"
      ],
      "text/plain": [
       "[1] \"1238\"           \"genera removed\" \"158\"            \"remaining\"     "
      ]
     },
     "metadata": {},
     "output_type": "display_data"
    },
    {
     "name": "stderr",
     "output_type": "stream",
     "text": [
      "computing iqlr centering\n",
      "\n",
      "aldex.clr: generating Monte-Carlo instances and clr values\n",
      "\n",
      "operating in serial mode\n",
      "\n",
      "removed rows with sums equal to zero\n",
      "\n",
      "data format is OK\n",
      "\n",
      "dirichlet samples complete\n",
      "\n",
      "transformation complete\n",
      "\n",
      "aldex.ttest: doing t-test\n",
      "\n",
      "running tests for each MC instance:\n",
      "\n"
     ]
    },
    {
     "name": "stdout",
     "output_type": "stream",
     "text": [
      "|------------(25%)----------(50%)----------(75%)----------|\n"
     ]
    },
    {
     "name": "stderr",
     "output_type": "stream",
     "text": [
      "aldex.effect: calculating effect sizes\n",
      "\n",
      "operating in serial mode\n",
      "\n",
      "sanity check complete\n",
      "\n",
      "rab.all  complete\n",
      "\n",
      "rab.win  complete\n",
      "\n",
      "rab of samples complete\n",
      "\n",
      "within sample difference calculated\n",
      "\n",
      "between group difference calculated\n",
      "\n",
      "group summaries calculated\n",
      "\n",
      "unpaired effect size calculated\n",
      "\n",
      "summarizing output\n",
      "\n"
     ]
    }
   ],
   "source": [
    "info.F1_LC <- info[info$generation==\"F1\",]\n",
    "info.F1_LC <- info.F1_LC[rownames(info.F1_LC)[info.F1_LC$treatment%in%c(\"C\",\"L\")],]\n",
    "mc.samples <- 200\n",
    "uniref.genus$cov.F1_LC <- uniref.genus$cov[, rownames(info.F1_LC)]\n",
    "\n",
    "## PARAMS ##\n",
    "# Percentage of samples in which features must have >0 sum\n",
    "uniref.genus.F1_LC.percent_occ <- 10\n",
    "# Quantile used for removing low abundance features\n",
    "uniref.genus.F1_LC.quantile_thresh <- 0.1\n",
    "mc.samples <- 128\n",
    "\n",
    "## PREFILTERING ##\n",
    "# Remove zero sum features\n",
    "nz <- rownames(uniref.genus$cov.F1_LC[rowSums(uniref.genus$cov.F1_LC) > 0, ])\n",
    "uniref.genus$nz.F1_LC <- uniref.genus$cov.F1_LC[rownames(uniref.genus$cov.F1_LC)%in%nz, ]\n",
    "\n",
    "# Filter low abundance features\n",
    "low_threshold = quantile(rowSums(uniref.genus$nz.F1_LC) / sum(rowSums(uniref.genus$nz.F1_LC)) * 100, probs = uniref.genus.F1_LC.quantile_thresh)\n",
    "uniref.genus$filtered.F1_LC <- low.count.removal(uniref.genus$nz.F1_LC, percent = low_threshold)$data.filter\n",
    "\n",
    "uniref.genus$occ.F1_LC <- rowSums(uniref.genus$filtered.F1_LC>0) / ncol(uniref.genus$filtered.F1_LC) * 100\n",
    "# Keep features occurring in defined percentage of samples\n",
    "uniref.genus$filtered.F1_LC <- uniref.genus$filtered.F1_LC[which(uniref.genus$occ.F1_LC >= uniref.genus.F1_LC.percent_occ), ]\n",
    "paste0(c(dim(uniref.genus$cov.F1_LC)[1] - dim(uniref.genus$filtered.F1_LC)[1], \"genera removed\", dim(uniref.genus$filtered.F1_LC)[1], \"remaining\"))\n",
    "\n",
    "X <- uniref.genus$filtered.F1_LC\n",
    "Y <- info.F1_LC\n",
    "\n",
    "denoms <- aldex.set.mode(ceiling(X), Y[colnames(X),\"treatment\"], denom=\"iqlr\")\n",
    "conds <- factor(Y[colnames(X),\"treatment\"])\n",
    "x.uniref.genus.F1_LC <- aldex(ceiling(X), conds, mc.samples=mc.samples, denom=denoms, test=\"t\", effect=TRUE,\n",
    "     include.sample.summary=FALSE, verbose=TRUE, paired.test=FALSE)\n",
    "save_results(x.uniref.genus.F1_LC[order(x.uniref.genus.F1_LC$effect, decreasing = TRUE),], \"uniref.genus.F1_LC\")"
   ]
  },
  {
   "cell_type": "markdown",
   "id": "cd9971ef",
   "metadata": {},
   "source": [
    "#### UniRef genera - F2 generation"
   ]
  },
  {
   "cell_type": "code",
   "execution_count": 30,
   "id": "9a56d04f",
   "metadata": {
    "vscode": {
     "languageId": "r"
    }
   },
   "outputs": [
    {
     "data": {
      "text/html": [
       "<style>\n",
       ".list-inline {list-style: none; margin:0; padding: 0}\n",
       ".list-inline>li {display: inline-block}\n",
       ".list-inline>li:not(:last-child)::after {content: \"\\00b7\"; padding: 0 .5ex}\n",
       "</style>\n",
       "<ol class=list-inline><li>'1185'</li><li>'species removed'</li><li>'211'</li><li>'remaining'</li></ol>\n"
      ],
      "text/latex": [
       "\\begin{enumerate*}\n",
       "\\item '1185'\n",
       "\\item 'species removed'\n",
       "\\item '211'\n",
       "\\item 'remaining'\n",
       "\\end{enumerate*}\n"
      ],
      "text/markdown": [
       "1. '1185'\n",
       "2. 'species removed'\n",
       "3. '211'\n",
       "4. 'remaining'\n",
       "\n",
       "\n"
      ],
      "text/plain": [
       "[1] \"1185\"            \"species removed\" \"211\"             \"remaining\"      "
      ]
     },
     "metadata": {},
     "output_type": "display_data"
    },
    {
     "name": "stderr",
     "output_type": "stream",
     "text": [
      "computing iqlr centering\n",
      "\n",
      "checking for condition length disabled!\n",
      "\n",
      "user-defined denominator used\n",
      "\n",
      "multicore environment is is OK -- using the BiocParallel package\n",
      "\n",
      "removed rows with sums equal to zero\n",
      "\n",
      "data format is OK\n",
      "\n",
      "dirichlet samples complete\n",
      "\n",
      "transformation complete\n",
      "\n",
      "running tests for each MC instance:\n",
      "\n"
     ]
    },
    {
     "name": "stdout",
     "output_type": "stream",
     "text": [
      "|------------(25%)----------(50%)----------(75%)----------|\n"
     ]
    },
    {
     "name": "stderr",
     "output_type": "stream",
     "text": [
      "operating in serial mode\n",
      "\n",
      "sanity check complete\n",
      "\n",
      "rab.all  complete\n",
      "\n",
      "rab.win  complete\n",
      "\n",
      "rab of samples complete\n",
      "\n",
      "within sample difference calculated\n",
      "\n",
      "between group difference calculated\n",
      "\n",
      "group summaries calculated\n",
      "\n",
      "unpaired effect size calculated\n",
      "\n",
      "summarizing output\n",
      "\n",
      "operating in serial mode\n",
      "\n",
      "sanity check complete\n",
      "\n",
      "rab.all  complete\n",
      "\n",
      "rab.win  complete\n",
      "\n",
      "rab of samples complete\n",
      "\n",
      "within sample difference calculated\n",
      "\n",
      "between group difference calculated\n",
      "\n",
      "group summaries calculated\n",
      "\n",
      "unpaired effect size calculated\n",
      "\n",
      "summarizing output\n",
      "\n"
     ]
    }
   ],
   "source": [
    "# Extract and filter F2 samples\n",
    "uniref.genus$cov.F2 <- uniref.genus$cov[, rownames(info[info$generation==\"F2\",])]\n",
    "## PARAMS ##\n",
    "# Percentage of samples in which features must have >0 sum\n",
    "uniref.genus.F2.percent_occ <- 10\n",
    "# Quantile used for removing low abundance features\n",
    "uniref.genus.F2.quantile_thresh <- 0.1\n",
    "mc.samples <- 128\n",
    "\n",
    "## PREFILTERING ##\n",
    "# Remove zero sum features\n",
    "nz <- rownames(uniref.genus$cov.F2[rowSums(uniref.genus$cov.F2) > 0, ])\n",
    "uniref.genus$nz.F2 <- uniref.genus$cov.F2[rownames(uniref.genus$cov.F2)%in%nz, ]\n",
    "\n",
    "# Filter low abundance features\n",
    "low_threshold = quantile(rowSums(uniref.genus$nz.F2) / sum(rowSums(uniref.genus$nz.F2)) * 100, probs = uniref.genus.F2.quantile_thresh)\n",
    "uniref.genus$filtered.F2 <- low.count.removal(uniref.genus$nz.F2, percent = low_threshold)$data.filter\n",
    "\n",
    "uniref.genus$occ.F2 <- rowSums(uniref.genus$filtered.F2>0) / ncol(uniref.genus$filtered.F2) * 100\n",
    "# Keep features occurring in defined percentage of samples\n",
    "uniref.genus$filtered.F2 <- uniref.genus$filtered.F2[which(uniref.genus$occ.F2 >= uniref.genus.F2.percent_occ), ]\n",
    "paste0(c(dim(uniref.genus$cov.F2)[1] - dim(uniref.genus$filtered.F2)[1], \"species removed\", dim(uniref.genus$filtered.F2)[1], \"remaining\"))\n",
    "\n",
    "# Get denominators from IQLR transformation\n",
    "denoms <- aldex.set.mode(ceiling(uniref.genus$filtered.F2), info[colnames(uniref.genus$filtered.F2),\"treatment\"], denom=\"iqlr\")\n",
    "\n",
    "x.uniref.genus.F2 <- aldex.clr(ceiling(uniref.genus$filtered.F2), mm.F2.treatment, mc.samples=128, denom=denoms, verbose=TRUE, useMC = TRUE)\n",
    "glm.test.uniref.genus.F2 <- aldex.glm(x.uniref.genus.F2, mm.F2.treatment)\n",
    "save_results(glm.test.uniref.genus.F2, \"glm.test.uniref.genus.F2\")\n",
    "glm.effect.uniref.genus.F2 <- aldex.glm.effect(x.uniref.genus.F2)\n",
    "save_results(glm.effect.uniref.genus.F2, \"glm.effect.uniref.genus.F2\")"
   ]
  },
  {
   "cell_type": "markdown",
   "id": "41d7860b",
   "metadata": {},
   "source": [
    "#### UniRef genera - F2 generation (C+L vs H)"
   ]
  },
  {
   "cell_type": "code",
   "execution_count": 31,
   "id": "54ca6a39",
   "metadata": {
    "vscode": {
     "languageId": "r"
    }
   },
   "outputs": [
    {
     "name": "stderr",
     "output_type": "stream",
     "text": [
      "computing iqlr centering\n",
      "\n",
      "aldex.clr: generating Monte-Carlo instances and clr values\n",
      "\n",
      "operating in serial mode\n",
      "\n",
      "removed rows with sums equal to zero\n",
      "\n",
      "data format is OK\n",
      "\n",
      "dirichlet samples complete\n",
      "\n",
      "transformation complete\n",
      "\n",
      "aldex.ttest: doing t-test\n",
      "\n",
      "running tests for each MC instance:\n",
      "\n"
     ]
    },
    {
     "name": "stdout",
     "output_type": "stream",
     "text": [
      "|------------(25%)----------(50%)----------(75%)----------|\n"
     ]
    },
    {
     "name": "stderr",
     "output_type": "stream",
     "text": [
      "aldex.effect: calculating effect sizes\n",
      "\n",
      "operating in serial mode\n",
      "\n",
      "sanity check complete\n",
      "\n",
      "rab.all  complete\n",
      "\n",
      "rab.win  complete\n",
      "\n",
      "rab of samples complete\n",
      "\n",
      "within sample difference calculated\n",
      "\n",
      "between group difference calculated\n",
      "\n",
      "group summaries calculated\n",
      "\n",
      "unpaired effect size calculated\n",
      "\n",
      "summarizing output\n",
      "\n"
     ]
    }
   ],
   "source": [
    "info.F2 <- info[info$generation==\"F2\",]\n",
    "info.F2_2 <- info.F2\n",
    "info.F2_2$treatment <- gsub(x = info.F2_2$treatment, pattern = \"[CL]\", replacement = \"CL\")\n",
    "info.F2_2$treatment <- factor(info.F2_2$treatment)\n",
    "mm.F2_2.treatment <- model.matrix(~ treatment, info.F2_2)\n",
    "mc.samples <- 128\n",
    "\n",
    "denoms <- aldex.set.mode(ceiling(uniref.genus$filtered.F2), info[colnames(uniref.genus$filtered.F2),\"treatment\"], denom=\"iqlr\")\n",
    "conds <- info.F2_2[colnames(uniref.genus$filtered.F2),\"treatment\"]\n",
    "x.uniref.genus.F2_2 <- aldex(ceiling(uniref.genus$filtered.F2), conds, mc.samples=mc.samples, denom=denoms, test=\"t\", effect=TRUE,\n",
    "     include.sample.summary=FALSE, verbose=TRUE, paired.test=FALSE)\n",
    "save_results(x.uniref.genus.F2_2[order(x.uniref.genus.F2_2$effect, decreasing = TRUE),], \"uniref.genus.F2_2\")"
   ]
  },
  {
   "cell_type": "markdown",
   "id": "0970b98b",
   "metadata": {},
   "source": [
    "#### UniRef genera - F2 generation (H vs C)"
   ]
  },
  {
   "cell_type": "code",
   "execution_count": 94,
   "id": "def81e54",
   "metadata": {
    "vscode": {
     "languageId": "r"
    }
   },
   "outputs": [
    {
     "data": {
      "text/html": [
       "<style>\n",
       ".list-inline {list-style: none; margin:0; padding: 0}\n",
       ".list-inline>li {display: inline-block}\n",
       ".list-inline>li:not(:last-child)::after {content: \"\\00b7\"; padding: 0 .5ex}\n",
       "</style>\n",
       "<ol class=list-inline><li>'1164'</li><li>'genera removed'</li><li>'232'</li><li>'remaining'</li></ol>\n"
      ],
      "text/latex": [
       "\\begin{enumerate*}\n",
       "\\item '1164'\n",
       "\\item 'genera removed'\n",
       "\\item '232'\n",
       "\\item 'remaining'\n",
       "\\end{enumerate*}\n"
      ],
      "text/markdown": [
       "1. '1164'\n",
       "2. 'genera removed'\n",
       "3. '232'\n",
       "4. 'remaining'\n",
       "\n",
       "\n"
      ],
      "text/plain": [
       "[1] \"1164\"           \"genera removed\" \"232\"            \"remaining\"     "
      ]
     },
     "metadata": {},
     "output_type": "display_data"
    },
    {
     "name": "stderr",
     "output_type": "stream",
     "text": [
      "computing iqlr centering\n",
      "\n",
      "aldex.clr: generating Monte-Carlo instances and clr values\n",
      "\n",
      "operating in serial mode\n",
      "\n",
      "removed rows with sums equal to zero\n",
      "\n",
      "data format is OK\n",
      "\n",
      "dirichlet samples complete\n",
      "\n",
      "transformation complete\n",
      "\n",
      "aldex.ttest: doing t-test\n",
      "\n",
      "running tests for each MC instance:\n",
      "\n"
     ]
    },
    {
     "name": "stdout",
     "output_type": "stream",
     "text": [
      "|------------(25%)----------(50%)----------(75%)----------|\n"
     ]
    },
    {
     "name": "stderr",
     "output_type": "stream",
     "text": [
      "aldex.effect: calculating effect sizes\n",
      "\n",
      "operating in serial mode\n",
      "\n",
      "sanity check complete\n",
      "\n",
      "rab.all  complete\n",
      "\n",
      "rab.win  complete\n",
      "\n",
      "rab of samples complete\n",
      "\n",
      "within sample difference calculated\n",
      "\n",
      "between group difference calculated\n",
      "\n",
      "group summaries calculated\n",
      "\n",
      "unpaired effect size calculated\n",
      "\n",
      "summarizing output\n",
      "\n"
     ]
    }
   ],
   "source": [
    "info.F2_HC <- info[info$generation==\"F2\",]\n",
    "info.F2_HC <- info.F2_HC[rownames(info.F2_HC)[info.F2_HC$treatment%in%c(\"C\",\"H\")],]\n",
    "mc.samples <- 128\n",
    "uniref.genus$cov.F2_HC <- uniref.genus$cov[, rownames(info.F2_HC)]\n",
    "\n",
    "## PARAMS ##\n",
    "# Percentage of samples in which features must have >0 sum\n",
    "uniref.genus.F2_HC.percent_occ <- 10\n",
    "# Quantile used for removing low abundance features\n",
    "uniref.genus.F2_HC.quantile_thresh <- 0.1\n",
    "mc.samples <- 128\n",
    "\n",
    "## PREFILTERING ##\n",
    "# Remove zero sum features\n",
    "nz <- rownames(uniref.genus$cov.F2_HC[rowSums(uniref.genus$cov.F2_HC) > 0, ])\n",
    "uniref.genus$nz.F2_HC <- uniref.genus$cov.F2_HC[rownames(uniref.genus$cov.F2_HC)%in%nz, ]\n",
    "\n",
    "# Filter low abundance features\n",
    "low_threshold = quantile(rowSums(uniref.genus$nz.F2_HC) / sum(rowSums(uniref.genus$nz.F2_HC)) * 100, probs = uniref.genus.F2_HC.quantile_thresh)\n",
    "uniref.genus$filtered.F2_HC <- low.count.removal(uniref.genus$nz.F2_HC, percent = low_threshold)$data.filter\n",
    "\n",
    "uniref.genus$occ.F2_HC <- rowSums(uniref.genus$filtered.F2_HC>0) / ncol(uniref.genus$filtered.F2_HC) * 100\n",
    "# Keep features occurring in defined percentage of samples\n",
    "uniref.genus$filtered.F2_HC <- uniref.genus$filtered.F2_HC[which(uniref.genus$occ.F2_HC >= uniref.genus.F2_HC.percent_occ), ]\n",
    "paste0(c(dim(uniref.genus$cov.F2_HC)[1] - dim(uniref.genus$filtered.F2_HC)[1], \"genera removed\", dim(uniref.genus$filtered.F2_HC)[1], \"remaining\"))\n",
    "\n",
    "X <- uniref.genus$filtered.F2_HC\n",
    "Y <- info.F2_HC\n",
    "\n",
    "denoms <- aldex.set.mode(ceiling(X), Y[colnames(X),\"treatment\"], denom=\"iqlr\")\n",
    "conds <- factor(Y[colnames(X),\"treatment\"])\n",
    "x.uniref.genus.F2_HC <- aldex(ceiling(X), conds, mc.samples=mc.samples, denom=denoms, test=\"t\", effect=TRUE,\n",
    "     include.sample.summary=FALSE, verbose=TRUE, paired.test=FALSE)\n",
    "save_results(x.uniref.genus.F2_HC[order(x.uniref.genus.F2_HC$effect, decreasing = TRUE),], \"uniref.genus.F2_HC\")"
   ]
  },
  {
   "cell_type": "markdown",
   "id": "2b6012ec",
   "metadata": {},
   "source": [
    "#### UniRef genera - F2 generation (L vs C)"
   ]
  },
  {
   "cell_type": "code",
   "execution_count": 95,
   "id": "6de1c308",
   "metadata": {
    "vscode": {
     "languageId": "r"
    }
   },
   "outputs": [
    {
     "data": {
      "text/html": [
       "<style>\n",
       ".list-inline {list-style: none; margin:0; padding: 0}\n",
       ".list-inline>li {display: inline-block}\n",
       ".list-inline>li:not(:last-child)::after {content: \"\\00b7\"; padding: 0 .5ex}\n",
       "</style>\n",
       "<ol class=list-inline><li>'1199'</li><li>'genera removed'</li><li>'197'</li><li>'remaining'</li></ol>\n"
      ],
      "text/latex": [
       "\\begin{enumerate*}\n",
       "\\item '1199'\n",
       "\\item 'genera removed'\n",
       "\\item '197'\n",
       "\\item 'remaining'\n",
       "\\end{enumerate*}\n"
      ],
      "text/markdown": [
       "1. '1199'\n",
       "2. 'genera removed'\n",
       "3. '197'\n",
       "4. 'remaining'\n",
       "\n",
       "\n"
      ],
      "text/plain": [
       "[1] \"1199\"           \"genera removed\" \"197\"            \"remaining\"     "
      ]
     },
     "metadata": {},
     "output_type": "display_data"
    },
    {
     "name": "stderr",
     "output_type": "stream",
     "text": [
      "computing iqlr centering\n",
      "\n",
      "aldex.clr: generating Monte-Carlo instances and clr values\n",
      "\n",
      "operating in serial mode\n",
      "\n",
      "removed rows with sums equal to zero\n",
      "\n",
      "data format is OK\n",
      "\n",
      "dirichlet samples complete\n",
      "\n",
      "transformation complete\n",
      "\n",
      "aldex.ttest: doing t-test\n",
      "\n",
      "running tests for each MC instance:\n",
      "\n"
     ]
    },
    {
     "name": "stdout",
     "output_type": "stream",
     "text": [
      "|------------(25%)----------(50%)----------(75%)----------|\n"
     ]
    },
    {
     "name": "stderr",
     "output_type": "stream",
     "text": [
      "aldex.effect: calculating effect sizes\n",
      "\n",
      "operating in serial mode\n",
      "\n",
      "sanity check complete\n",
      "\n",
      "rab.all  complete\n",
      "\n",
      "rab.win  complete\n",
      "\n",
      "rab of samples complete\n",
      "\n",
      "within sample difference calculated\n",
      "\n",
      "between group difference calculated\n",
      "\n",
      "group summaries calculated\n",
      "\n",
      "unpaired effect size calculated\n",
      "\n",
      "summarizing output\n",
      "\n"
     ]
    }
   ],
   "source": [
    "info.F2_LC <- info[info$generation==\"F2\",]\n",
    "info.F2_LC <- info.F2_LC[rownames(info.F2_LC)[info.F2_LC$treatment%in%c(\"C\",\"L\")],]\n",
    "mc.samples <- 128\n",
    "uniref.genus$cov.F2_LC <- uniref.genus$cov[, rownames(info.F2_LC)]\n",
    "\n",
    "## PARAMS ##\n",
    "# Percentage of samples in which features must have >0 sum\n",
    "uniref.genus.F2_LC.percent_occ <- 10\n",
    "# Quantile used for removing low abundance features\n",
    "uniref.genus.F2_LC.quantile_thresh <- 0.1\n",
    "mc.samples <- 128\n",
    "\n",
    "## PREFILTERING ##\n",
    "# Remove zero sum features\n",
    "nz <- rownames(uniref.genus$cov.F2_LC[rowSums(uniref.genus$cov.F2_LC) > 0, ])\n",
    "uniref.genus$nz.F2_LC <- uniref.genus$cov.F2_LC[rownames(uniref.genus$cov.F2_LC)%in%nz, ]\n",
    "\n",
    "# Filter low abundance features\n",
    "low_threshold = quantile(rowSums(uniref.genus$nz.F2_LC) / sum(rowSums(uniref.genus$nz.F2_LC)) * 100, probs = uniref.genus.F2_LC.quantile_thresh)\n",
    "uniref.genus$filtered.F2_LC <- low.count.removal(uniref.genus$nz.F2_LC, percent = low_threshold)$data.filter\n",
    "\n",
    "uniref.genus$occ.F2_LC <- rowSums(uniref.genus$filtered.F2_LC>0) / ncol(uniref.genus$filtered.F2_LC) * 100\n",
    "# Keep features occurring in defined percentage of samples\n",
    "uniref.genus$filtered.F2_LC <- uniref.genus$filtered.F2_LC[which(uniref.genus$occ.F2_LC >= uniref.genus.F2_LC.percent_occ), ]\n",
    "paste0(c(dim(uniref.genus$cov.F2_LC)[1] - dim(uniref.genus$filtered.F2_LC)[1], \"genera removed\", dim(uniref.genus$filtered.F2_LC)[1], \"remaining\"))\n",
    "\n",
    "X <- uniref.genus$filtered.F2_LC\n",
    "Y <- info.F2_LC\n",
    "\n",
    "denoms <- aldex.set.mode(ceiling(X), Y[colnames(X),\"treatment\"], denom=\"iqlr\")\n",
    "conds <- factor(Y[colnames(X),\"treatment\"])\n",
    "x.uniref.genus.F2_LC <- aldex(ceiling(X), conds, mc.samples=mc.samples, denom=denoms, test=\"t\", effect=TRUE,\n",
    "     include.sample.summary=FALSE, verbose=TRUE, paired.test=FALSE)\n",
    "save_results(x.uniref.genus.F2_LC[order(x.uniref.genus.F2_LC$effect, decreasing = TRUE),], \"uniref.genus.F2_LC\")"
   ]
  },
  {
   "cell_type": "markdown",
   "id": "57648c4b",
   "metadata": {},
   "source": [
    "### PFAMs"
   ]
  },
  {
   "cell_type": "markdown",
   "id": "67631004",
   "metadata": {},
   "source": [
    "#### PFAMs - Generational differences"
   ]
  },
  {
   "cell_type": "code",
   "execution_count": null,
   "id": "d8c5c9b8",
   "metadata": {
    "vscode": {
     "languageId": "r"
    }
   },
   "outputs": [],
   "source": [
    "## PARAMS ##\n",
    "# Percentage of samples in which features must have >0 sum\n",
    "pfam.percent_occ <- 10\n",
    "# Quantile used for removing low abundance features\n",
    "pfam.quantile_thresh <- 0.1\n",
    "mc.samples <- 128\n",
    "\n",
    "## PREFILTERING ##\n",
    "# Remove zero sum features\n",
    "nz <- rownames(pfam$cov[rowSums(pfam$cov) > 0, ])\n",
    "pfam$nz <- pfam$cov[rownames(pfam$cov)%in%nz, ]\n",
    "\n",
    "# Filter low abundance features\n",
    "low_threshold = quantile(rowSums(pfam$nz) / sum(rowSums(pfam$nz)) * 100, probs = pfam.quantile_thresh)\n",
    "pfam$filtered <- low.count.removal(pfam$nz, percent = low_threshold)$data.filter\n",
    "\n",
    "pfam$occ <- rowSums(pfam$filtered>0) / ncol(pfam$filtered) * 100\n",
    "# Keep features occurring in defined percentage of samples\n",
    "pfam$filtered <- pfam$filtered[which(pfam$occ >= pfam.percent_occ), ]\n",
    "paste0(c(dim(pfam$cov)[1] - dim(pfam$filtered)[1], \"pfams removed\", dim(pfam$filtered)[1], \"remaining\"))\n",
    "\n",
    "pfam$filtered <- ceiling(pfam$filtered)\n",
    "\n",
    "denoms <- aldex.set.mode(ceiling(pfam$filtered), info[colnames(pfam$filtered),\"generation\"], denom=\"iqlr\")\n",
    "\n",
    "x.pfam <- aldex.clr(ceiling(pfam$filtered), mm.generation, mc.samples=mc.samples, denom=denoms, verbose=TRUE, useMC = TRUE)\n",
    "glm.test.pfam <- aldex.glm(x.pfam, mm.generation)\n",
    "save_results(glm.test.pfam, \"glm.test.pfam\")\n",
    "glm.effect.pfam <- aldex.glm.effect(x.pfam)\n",
    "save_results(glm.effect.pfam, \"glm.effect.pfam\")"
   ]
  },
  {
   "cell_type": "markdown",
   "id": "1544c29e",
   "metadata": {},
   "source": [
    "#### PFAM - F0"
   ]
  },
  {
   "cell_type": "code",
   "execution_count": 42,
   "id": "3207959e",
   "metadata": {
    "vscode": {
     "languageId": "r"
    }
   },
   "outputs": [
    {
     "data": {
      "text/html": [
       "<style>\n",
       ".list-inline {list-style: none; margin:0; padding: 0}\n",
       ".list-inline>li {display: inline-block}\n",
       ".list-inline>li:not(:last-child)::after {content: \"\\00b7\"; padding: 0 .5ex}\n",
       "</style>\n",
       "<ol class=list-inline><li>'1368'</li><li>'pfams removed'</li><li>'5995'</li><li>'remaining'</li></ol>\n"
      ],
      "text/latex": [
       "\\begin{enumerate*}\n",
       "\\item '1368'\n",
       "\\item 'pfams removed'\n",
       "\\item '5995'\n",
       "\\item 'remaining'\n",
       "\\end{enumerate*}\n"
      ],
      "text/markdown": [
       "1. '1368'\n",
       "2. 'pfams removed'\n",
       "3. '5995'\n",
       "4. 'remaining'\n",
       "\n",
       "\n"
      ],
      "text/plain": [
       "[1] \"1368\"          \"pfams removed\" \"5995\"          \"remaining\"    "
      ]
     },
     "metadata": {},
     "output_type": "display_data"
    },
    {
     "name": "stderr",
     "output_type": "stream",
     "text": [
      "computing iqlr centering\n",
      "\n",
      "checking for condition length disabled!\n",
      "\n",
      "user-defined denominator used\n",
      "\n",
      "multicore environment is is OK -- using the BiocParallel package\n",
      "\n",
      "removed rows with sums equal to zero\n",
      "\n",
      "data format is OK\n",
      "\n",
      "dirichlet samples complete\n",
      "\n",
      "transformation complete\n",
      "\n",
      "running tests for each MC instance:\n",
      "\n"
     ]
    },
    {
     "name": "stdout",
     "output_type": "stream",
     "text": [
      "|------------(25%)----------(50%)----------(75%)----------|\n"
     ]
    },
    {
     "name": "stderr",
     "output_type": "stream",
     "text": [
      "operating in serial mode\n",
      "\n",
      "sanity check complete\n",
      "\n",
      "rab.all  complete\n",
      "\n",
      "rab.win  complete\n",
      "\n",
      "rab of samples complete\n",
      "\n",
      "within sample difference calculated\n",
      "\n",
      "between group difference calculated\n",
      "\n",
      "group summaries calculated\n",
      "\n",
      "unpaired effect size calculated\n",
      "\n",
      "summarizing output\n",
      "\n",
      "operating in serial mode\n",
      "\n",
      "sanity check complete\n",
      "\n",
      "rab.all  complete\n",
      "\n",
      "rab.win  complete\n",
      "\n",
      "rab of samples complete\n",
      "\n",
      "within sample difference calculated\n",
      "\n",
      "between group difference calculated\n",
      "\n",
      "group summaries calculated\n",
      "\n",
      "unpaired effect size calculated\n",
      "\n",
      "summarizing output\n",
      "\n"
     ]
    }
   ],
   "source": [
    "# Extract and filter F0 samples\n",
    "pfam$cov.F0 <- pfam$cov[, rownames(info[info$generation==\"F0\",])]\n",
    "## PARAMS ##\n",
    "# Percentage of samples in which features must have >0 sum\n",
    "pfam.F0.percent_occ <- 10\n",
    "# Quantile used for removing low abundance features\n",
    "pfam.F0.quantile_thresh <- 0.1\n",
    "mc.samples <- 128\n",
    "\n",
    "## PREFILTERING ##\n",
    "# Remove zero sum features\n",
    "nz <- rownames(pfam$cov.F0[rowSums(pfam$cov.F0) > 0, ])\n",
    "pfam$nz.F0 <- pfam$cov.F0[rownames(pfam$cov.F0)%in%nz, ]\n",
    "\n",
    "# Filter low abundance features\n",
    "low_threshold = quantile(rowSums(pfam$nz.F0) / sum(rowSums(pfam$nz.F0)) * 100, probs = pfam.F0.quantile_thresh)\n",
    "pfam$filtered.F0 <- low.count.removal(pfam$nz.F0, percent = low_threshold)$data.filter\n",
    "\n",
    "pfam$occ.F0 <- rowSums(pfam$filtered.F0>0) / ncol(pfam$filtered.F0) * 100\n",
    "# Keep features occurring in defined percentage of samples\n",
    "pfam$filtered.F0 <- pfam$filtered.F0[which(pfam$occ.F0 >= pfam.F0.percent_occ), ]\n",
    "paste0(c(dim(pfam$cov.F0)[1] - dim(pfam$filtered.F0)[1], \"pfams removed\", dim(pfam$filtered.F0)[1], \"remaining\"))\n",
    "\n",
    "# Get denominators from IQLR transformation\n",
    "denoms <- aldex.set.mode(ceiling(pfam$filtered.F0), info[colnames(pfam$filtered.F0),\"treatment\"], denom=\"iqlr\")\n",
    "\n",
    "x.pfam.F0 <- aldex.clr(ceiling(pfam$filtered.F0), mm.F0.treatment, mc.samples=mc.samples, denom=denoms, verbose=TRUE, useMC = TRUE)\n",
    "glm.test.pfam.F0 <- aldex.glm(x.pfam.F0, mm.F0.treatment)\n",
    "save_results(glm.test.pfam.F0, \"glm.test.pfam.F0\")\n",
    "glm.effect.pfam.F0 <- aldex.glm.effect(x.pfam.F0)\n",
    "save_results(glm.effect.pfam.F0, \"glm.effect.pfam.F0\")"
   ]
  },
  {
   "cell_type": "markdown",
   "id": "15ee952b",
   "metadata": {},
   "source": [
    "#### PFAM - F0 generation (C+L vs H)"
   ]
  },
  {
   "cell_type": "code",
   "execution_count": 43,
   "id": "12222031",
   "metadata": {
    "vscode": {
     "languageId": "r"
    }
   },
   "outputs": [
    {
     "name": "stderr",
     "output_type": "stream",
     "text": [
      "computing iqlr centering\n",
      "\n",
      "aldex.clr: generating Monte-Carlo instances and clr values\n",
      "\n",
      "operating in serial mode\n",
      "\n",
      "removed rows with sums equal to zero\n",
      "\n",
      "data format is OK\n",
      "\n",
      "dirichlet samples complete\n",
      "\n",
      "transformation complete\n",
      "\n",
      "aldex.ttest: doing t-test\n",
      "\n",
      "running tests for each MC instance:\n",
      "\n"
     ]
    },
    {
     "name": "stdout",
     "output_type": "stream",
     "text": [
      "|------------(25%)----------(50%)----------(75%)----------|\n"
     ]
    },
    {
     "name": "stderr",
     "output_type": "stream",
     "text": [
      "aldex.effect: calculating effect sizes\n",
      "\n",
      "operating in serial mode\n",
      "\n",
      "sanity check complete\n",
      "\n",
      "rab.all  complete\n",
      "\n",
      "rab.win  complete\n",
      "\n",
      "rab of samples complete\n",
      "\n",
      "within sample difference calculated\n",
      "\n",
      "between group difference calculated\n",
      "\n",
      "group summaries calculated\n",
      "\n",
      "unpaired effect size calculated\n",
      "\n",
      "summarizing output\n",
      "\n"
     ]
    }
   ],
   "source": [
    "info.F0 <- info[info$generation==\"F0\",]\n",
    "info.F0_2 <- info.F0\n",
    "info.F0_2$treatment <- gsub(x = info.F0_2$treatment, pattern = \"[CL]\", replacement = \"CL\")\n",
    "info.F0_2$treatment <- factor(info.F0_2$treatment)\n",
    "mm.F0_2.treatment <- model.matrix(~ treatment, info.F0_2)\n",
    "mc.samples <- 128\n",
    "\n",
    "denoms <- aldex.set.mode(ceiling(pfam$filtered.F0), info[colnames(pfam$filtered.F0),\"treatment\"], denom=\"iqlr\")\n",
    "conds <- info.F0_2[colnames(pfam$filtered.F0),\"treatment\"]\n",
    "x.pfam.F0_2 <- aldex(ceiling(pfam$filtered.F0), conds, mc.samples=mc.samples, denom=denoms, test=\"t\", effect=TRUE,\n",
    "     include.sample.summary=FALSE, verbose=TRUE, paired.test=FALSE)\n",
    "save_results(x.pfam.F0_2[order(x.pfam.F0_2$effect, decreasing = TRUE),], \"pfam.F0_2\")"
   ]
  },
  {
   "cell_type": "markdown",
   "id": "dafe96e0",
   "metadata": {},
   "source": [
    "#### PFAM - F0 generation (H vs C)"
   ]
  },
  {
   "cell_type": "code",
   "execution_count": 96,
   "id": "e2b29cf7",
   "metadata": {
    "vscode": {
     "languageId": "r"
    }
   },
   "outputs": [
    {
     "data": {
      "text/html": [
       "<style>\n",
       ".list-inline {list-style: none; margin:0; padding: 0}\n",
       ".list-inline>li {display: inline-block}\n",
       ".list-inline>li:not(:last-child)::after {content: \"\\00b7\"; padding: 0 .5ex}\n",
       "</style>\n",
       "<ol class=list-inline><li>'1380'</li><li>'pfams removed'</li><li>'5983'</li><li>'remaining'</li></ol>\n"
      ],
      "text/latex": [
       "\\begin{enumerate*}\n",
       "\\item '1380'\n",
       "\\item 'pfams removed'\n",
       "\\item '5983'\n",
       "\\item 'remaining'\n",
       "\\end{enumerate*}\n"
      ],
      "text/markdown": [
       "1. '1380'\n",
       "2. 'pfams removed'\n",
       "3. '5983'\n",
       "4. 'remaining'\n",
       "\n",
       "\n"
      ],
      "text/plain": [
       "[1] \"1380\"          \"pfams removed\" \"5983\"          \"remaining\"    "
      ]
     },
     "metadata": {},
     "output_type": "display_data"
    },
    {
     "name": "stderr",
     "output_type": "stream",
     "text": [
      "computing iqlr centering\n",
      "\n",
      "aldex.clr: generating Monte-Carlo instances and clr values\n",
      "\n",
      "operating in serial mode\n",
      "\n",
      "removed rows with sums equal to zero\n",
      "\n",
      "data format is OK\n",
      "\n",
      "dirichlet samples complete\n",
      "\n",
      "transformation complete\n",
      "\n",
      "aldex.ttest: doing t-test\n",
      "\n",
      "running tests for each MC instance:\n",
      "\n"
     ]
    },
    {
     "name": "stdout",
     "output_type": "stream",
     "text": [
      "|------------(25%)----------(50%)----------(75%)----------|\n"
     ]
    },
    {
     "name": "stderr",
     "output_type": "stream",
     "text": [
      "aldex.effect: calculating effect sizes\n",
      "\n",
      "operating in serial mode\n",
      "\n",
      "sanity check complete\n",
      "\n",
      "rab.all  complete\n",
      "\n",
      "rab.win  complete\n",
      "\n",
      "rab of samples complete\n",
      "\n",
      "within sample difference calculated\n",
      "\n",
      "between group difference calculated\n",
      "\n",
      "group summaries calculated\n",
      "\n",
      "unpaired effect size calculated\n",
      "\n",
      "summarizing output\n",
      "\n"
     ]
    }
   ],
   "source": [
    "info.F0_HC <- info[info$generation==\"F0\",]\n",
    "info.F0_HC <- info.F0_HC[rownames(info.F0_HC)[info.F0_HC$treatment%in%c(\"C\",\"H\")],]\n",
    "mc.samples <- 128\n",
    "pfam$cov.F0_HC <- pfam$cov[, rownames(info.F0_HC)]\n",
    "\n",
    "## PARAMS ##\n",
    "# Percentage of samples in which features must have >0 sum\n",
    "pfam.F0_HC.percent_occ <- 10\n",
    "# Quantile used for removing low abundance features\n",
    "pfam.F0_HC.quantile_thresh <- 0.1\n",
    "mc.samples <- 128\n",
    "\n",
    "## PREFILTERING ##\n",
    "# Remove zero sum features\n",
    "nz <- rownames(pfam$cov.F0_HC[rowSums(pfam$cov.F0_HC) > 0, ])\n",
    "pfam$nz.F0_HC <- pfam$cov.F0_HC[rownames(pfam$cov.F0_HC)%in%nz, ]\n",
    "\n",
    "# Filter low abundance features\n",
    "low_threshold = quantile(rowSums(pfam$nz.F0_HC) / sum(rowSums(pfam$nz.F0_HC)) * 100, probs = pfam.F0_HC.quantile_thresh)\n",
    "pfam$filtered.F0_HC <- low.count.removal(pfam$nz.F0_HC, percent = low_threshold)$data.filter\n",
    "\n",
    "pfam$occ.F0_HC <- rowSums(pfam$filtered.F0_HC>0) / ncol(pfam$filtered.F0_HC) * 100\n",
    "# Keep features occurring in defined percentage of samples\n",
    "pfam$filtered.F0_HC <- pfam$filtered.F0_HC[which(pfam$occ.F0_HC >= pfam.F0_HC.percent_occ), ]\n",
    "paste0(c(dim(pfam$cov.F0_HC)[1] - dim(pfam$filtered.F0_HC)[1], \"pfams removed\", dim(pfam$filtered.F0_HC)[1], \"remaining\"))\n",
    "\n",
    "X <- pfam$filtered.F0_HC\n",
    "Y <- info.F0_HC\n",
    "\n",
    "denoms <- aldex.set.mode(ceiling(X), Y[colnames(X),\"treatment\"], denom=\"iqlr\")\n",
    "conds <- factor(Y[colnames(X),\"treatment\"])\n",
    "x.pfam.F0_HC <- aldex(ceiling(X), conds, mc.samples=mc.samples, denom=denoms, test=\"t\", effect=TRUE,\n",
    "     include.sample.summary=FALSE, verbose=TRUE, paired.test=FALSE)\n",
    "save_results(x.pfam.F0_HC[order(x.pfam.F0_HC$effect, decreasing = TRUE),], \"pfam.F0_HC\")"
   ]
  },
  {
   "cell_type": "markdown",
   "id": "6a886a6e",
   "metadata": {},
   "source": [
    "#### PFAM - F0 generation (L vs C)"
   ]
  },
  {
   "cell_type": "code",
   "execution_count": 97,
   "id": "76f5c4a0",
   "metadata": {
    "vscode": {
     "languageId": "r"
    }
   },
   "outputs": [
    {
     "data": {
      "text/html": [
       "<style>\n",
       ".list-inline {list-style: none; margin:0; padding: 0}\n",
       ".list-inline>li {display: inline-block}\n",
       ".list-inline>li:not(:last-child)::after {content: \"\\00b7\"; padding: 0 .5ex}\n",
       "</style>\n",
       "<ol class=list-inline><li>'1414'</li><li>'pfams removed'</li><li>'5949'</li><li>'remaining'</li></ol>\n"
      ],
      "text/latex": [
       "\\begin{enumerate*}\n",
       "\\item '1414'\n",
       "\\item 'pfams removed'\n",
       "\\item '5949'\n",
       "\\item 'remaining'\n",
       "\\end{enumerate*}\n"
      ],
      "text/markdown": [
       "1. '1414'\n",
       "2. 'pfams removed'\n",
       "3. '5949'\n",
       "4. 'remaining'\n",
       "\n",
       "\n"
      ],
      "text/plain": [
       "[1] \"1414\"          \"pfams removed\" \"5949\"          \"remaining\"    "
      ]
     },
     "metadata": {},
     "output_type": "display_data"
    },
    {
     "name": "stderr",
     "output_type": "stream",
     "text": [
      "computing iqlr centering\n",
      "\n",
      "aldex.clr: generating Monte-Carlo instances and clr values\n",
      "\n",
      "operating in serial mode\n",
      "\n",
      "removed rows with sums equal to zero\n",
      "\n",
      "data format is OK\n",
      "\n",
      "dirichlet samples complete\n",
      "\n",
      "transformation complete\n",
      "\n",
      "aldex.ttest: doing t-test\n",
      "\n",
      "running tests for each MC instance:\n",
      "\n"
     ]
    },
    {
     "name": "stdout",
     "output_type": "stream",
     "text": [
      "|------------(25%)----------(50%)----------(75%)----------|\n"
     ]
    },
    {
     "name": "stderr",
     "output_type": "stream",
     "text": [
      "aldex.effect: calculating effect sizes\n",
      "\n",
      "operating in serial mode\n",
      "\n",
      "sanity check complete\n",
      "\n",
      "rab.all  complete\n",
      "\n",
      "rab.win  complete\n",
      "\n",
      "rab of samples complete\n",
      "\n",
      "within sample difference calculated\n",
      "\n",
      "between group difference calculated\n",
      "\n",
      "group summaries calculated\n",
      "\n",
      "unpaired effect size calculated\n",
      "\n",
      "summarizing output\n",
      "\n"
     ]
    }
   ],
   "source": [
    "info.F0_LC <- info[info$generation==\"F0\",]\n",
    "info.F0_LC <- info.F0_LC[rownames(info.F0_LC)[info.F0_LC$treatment%in%c(\"C\",\"L\")],]\n",
    "mc.samples <- 128\n",
    "pfam$cov.F0_LC <- pfam$cov[, rownames(info.F0_LC)]\n",
    "\n",
    "## PARAMS ##\n",
    "# Percentage of samples in which features must have >0 sum\n",
    "pfam.F0_LC.percent_occ <- 10\n",
    "# Quantile used for removing low abundance features\n",
    "pfam.F0_LC.quantile_thresh <- 0.1\n",
    "mc.samples <- 128\n",
    "\n",
    "## PREFILTERING ##\n",
    "# Remove zero sum features\n",
    "nz <- rownames(pfam$cov.F0_LC[rowSums(pfam$cov.F0_LC) > 0, ])\n",
    "pfam$nz.F0_LC <- pfam$cov.F0_LC[rownames(pfam$cov.F0_LC)%in%nz, ]\n",
    "\n",
    "# Filter low abundance features\n",
    "low_threshold = quantile(rowSums(pfam$nz.F0_LC) / sum(rowSums(pfam$nz.F0_LC)) * 100, probs = pfam.F0_LC.quantile_thresh)\n",
    "pfam$filtered.F0_LC <- low.count.removal(pfam$nz.F0_LC, percent = low_threshold)$data.filter\n",
    "\n",
    "pfam$occ.F0_LC <- rowSums(pfam$filtered.F0_LC>0) / ncol(pfam$filtered.F0_LC) * 100\n",
    "# Keep features occurring in defined percentage of samples\n",
    "pfam$filtered.F0_LC <- pfam$filtered.F0_LC[which(pfam$occ.F0_LC >= pfam.F0_LC.percent_occ), ]\n",
    "paste0(c(dim(pfam$cov.F0_LC)[1] - dim(pfam$filtered.F0_LC)[1], \"pfams removed\", dim(pfam$filtered.F0_LC)[1], \"remaining\"))\n",
    "\n",
    "X <- pfam$filtered.F0_LC\n",
    "Y <- info.F0_LC\n",
    "\n",
    "denoms <- aldex.set.mode(ceiling(X), Y[colnames(X),\"treatment\"], denom=\"iqlr\")\n",
    "conds <- factor(Y[colnames(X),\"treatment\"])\n",
    "x.pfam.F0_LC <- aldex(ceiling(X), conds, mc.samples=mc.samples, denom=denoms, test=\"t\", effect=TRUE,\n",
    "     include.sample.summary=FALSE, verbose=TRUE, paired.test=FALSE)\n",
    "save_results(x.pfam.F0_LC[order(x.pfam.F0_LC$effect, decreasing = TRUE),], \"pfam.F0_LC\")"
   ]
  },
  {
   "cell_type": "markdown",
   "id": "6fe3fcea",
   "metadata": {},
   "source": [
    "#### PFAM - F1 generation"
   ]
  },
  {
   "cell_type": "code",
   "execution_count": 44,
   "id": "f3aa494a",
   "metadata": {
    "vscode": {
     "languageId": "r"
    }
   },
   "outputs": [
    {
     "data": {
      "text/html": [
       "<style>\n",
       ".list-inline {list-style: none; margin:0; padding: 0}\n",
       ".list-inline>li {display: inline-block}\n",
       ".list-inline>li:not(:last-child)::after {content: \"\\00b7\"; padding: 0 .5ex}\n",
       "</style>\n",
       "<ol class=list-inline><li>'1454'</li><li>'species removed'</li><li>'5909'</li><li>'remaining'</li></ol>\n"
      ],
      "text/latex": [
       "\\begin{enumerate*}\n",
       "\\item '1454'\n",
       "\\item 'species removed'\n",
       "\\item '5909'\n",
       "\\item 'remaining'\n",
       "\\end{enumerate*}\n"
      ],
      "text/markdown": [
       "1. '1454'\n",
       "2. 'species removed'\n",
       "3. '5909'\n",
       "4. 'remaining'\n",
       "\n",
       "\n"
      ],
      "text/plain": [
       "[1] \"1454\"            \"species removed\" \"5909\"            \"remaining\"      "
      ]
     },
     "metadata": {},
     "output_type": "display_data"
    },
    {
     "name": "stderr",
     "output_type": "stream",
     "text": [
      "computing iqlr centering\n",
      "\n",
      "checking for condition length disabled!\n",
      "\n",
      "user-defined denominator used\n",
      "\n",
      "multicore environment is is OK -- using the BiocParallel package\n",
      "\n",
      "removed rows with sums equal to zero\n",
      "\n",
      "data format is OK\n",
      "\n",
      "dirichlet samples complete\n",
      "\n",
      "transformation complete\n",
      "\n",
      "running tests for each MC instance:\n",
      "\n"
     ]
    },
    {
     "name": "stdout",
     "output_type": "stream",
     "text": [
      "|------------(25%)----------(50%)----------(75%)----------|\n"
     ]
    },
    {
     "name": "stderr",
     "output_type": "stream",
     "text": [
      "operating in serial mode\n",
      "\n",
      "sanity check complete\n",
      "\n",
      "rab.all  complete\n",
      "\n",
      "rab.win  complete\n",
      "\n",
      "rab of samples complete\n",
      "\n",
      "within sample difference calculated\n",
      "\n",
      "between group difference calculated\n",
      "\n",
      "group summaries calculated\n",
      "\n",
      "unpaired effect size calculated\n",
      "\n",
      "summarizing output\n",
      "\n",
      "operating in serial mode\n",
      "\n",
      "sanity check complete\n",
      "\n",
      "rab.all  complete\n",
      "\n",
      "rab.win  complete\n",
      "\n",
      "rab of samples complete\n",
      "\n",
      "within sample difference calculated\n",
      "\n",
      "between group difference calculated\n",
      "\n",
      "group summaries calculated\n",
      "\n",
      "unpaired effect size calculated\n",
      "\n",
      "summarizing output\n",
      "\n"
     ]
    }
   ],
   "source": [
    "# Extract and filter F1 samples\n",
    "pfam$cov.F1 <- pfam$cov[, rownames(info[info$generation==\"F1\",])]\n",
    "## PARAMS ##\n",
    "# Percentage of samples in which features must have >0 sum\n",
    "pfam.F1.percent_occ <- 10\n",
    "# Quantile used for removing low abundance features\n",
    "pfam.F1.quantile_thresh <- 0.1\n",
    "mc.samples <- 200\n",
    "\n",
    "## PREFILTERING ##\n",
    "# Remove zero sum features\n",
    "nz <- rownames(pfam$cov.F1[rowSums(pfam$cov.F1) > 0, ])\n",
    "pfam$nz.F1 <- pfam$cov.F1[rownames(pfam$cov.F1)%in%nz, ]\n",
    "\n",
    "# Filter low abundance features\n",
    "low_threshold = quantile(rowSums(pfam$nz.F1) / sum(rowSums(pfam$nz.F1)) * 100, probs = pfam.F1.quantile_thresh)\n",
    "pfam$filtered.F1 <- low.count.removal(pfam$nz.F1, percent = low_threshold)$data.filter\n",
    "\n",
    "pfam$occ.F1 <- rowSums(pfam$filtered.F1>0) / ncol(pfam$filtered.F1) * 100\n",
    "# Keep features occurring in defined percentage of samples\n",
    "pfam$filtered.F1 <- pfam$filtered.F1[which(pfam$occ.F1 >= pfam.F1.percent_occ), ]\n",
    "paste0(c(dim(pfam$cov.F1)[1] - dim(pfam$filtered.F1)[1], \"pfams removed\", dim(pfam$filtered.F1)[1], \"remaining\"))\n",
    "\n",
    "# Get denominators from IQLR transformation\n",
    "denoms <- aldex.set.mode(ceiling(pfam$filtered.F1), info[colnames(pfam$filtered.F1),\"treatment\"], denom=\"iqlr\")\n",
    "\n",
    "x.pfam.F1 <- aldex.clr(ceiling(pfam$filtered.F1), mm.F1.treatment, mc.samples=mc.samples, denom=denoms, verbose=TRUE, useMC = TRUE)\n",
    "glm.test.pfam.F1 <- aldex.glm(x.pfam.F1, mm.F1.treatment)\n",
    "save_results(glm.test.pfam.F1, \"glm.test.pfam.F1\")\n",
    "glm.effect.pfam.F1 <- aldex.glm.effect(x.pfam.F1)\n",
    "save_results(glm.effect.pfam.F1, \"glm.effect.pfam.F1\")"
   ]
  },
  {
   "cell_type": "markdown",
   "id": "401c3007",
   "metadata": {},
   "source": [
    "#### PFAM - F1 generation (C+L vs H)"
   ]
  },
  {
   "cell_type": "code",
   "execution_count": 45,
   "id": "65b844db",
   "metadata": {
    "vscode": {
     "languageId": "r"
    }
   },
   "outputs": [
    {
     "name": "stderr",
     "output_type": "stream",
     "text": [
      "computing iqlr centering\n",
      "\n",
      "aldex.clr: generating Monte-Carlo instances and clr values\n",
      "\n",
      "operating in serial mode\n",
      "\n",
      "removed rows with sums equal to zero\n",
      "\n",
      "data format is OK\n",
      "\n",
      "dirichlet samples complete\n",
      "\n",
      "transformation complete\n",
      "\n",
      "aldex.ttest: doing t-test\n",
      "\n",
      "running tests for each MC instance:\n",
      "\n"
     ]
    },
    {
     "name": "stdout",
     "output_type": "stream",
     "text": [
      "|------------(25%)----------(50%)----------(75%)----------|\n"
     ]
    },
    {
     "name": "stderr",
     "output_type": "stream",
     "text": [
      "aldex.effect: calculating effect sizes\n",
      "\n",
      "operating in serial mode\n",
      "\n",
      "sanity check complete\n",
      "\n",
      "rab.all  complete\n",
      "\n",
      "rab.win  complete\n",
      "\n",
      "rab of samples complete\n",
      "\n",
      "within sample difference calculated\n",
      "\n",
      "between group difference calculated\n",
      "\n",
      "group summaries calculated\n",
      "\n",
      "unpaired effect size calculated\n",
      "\n",
      "summarizing output\n",
      "\n"
     ]
    }
   ],
   "source": [
    "info.F1 <- info[info$generation==\"F1\",]\n",
    "info.F1_2 <- info.F1\n",
    "info.F1_2$treatment <- gsub(x = info.F1_2$treatment, pattern = \"[CL]\", replacement = \"CL\")\n",
    "info.F1_2$treatment <- factor(info.F1_2$treatment)\n",
    "mm.F1_2.treatment <- model.matrix(~ treatment, info.F1_2)\n",
    "mc.samples <- 200\n",
    "\n",
    "denoms <- aldex.set.mode(ceiling(pfam$filtered.F1), info[colnames(pfam$filtered.F1),\"treatment\"], denom=\"iqlr\")\n",
    "conds <- info.F1_2[colnames(pfam$filtered.F1),\"treatment\"]\n",
    "x.pfam.F1_2 <- aldex(ceiling(pfam$filtered.F1), conds, mc.samples=mc.samples, denom=denoms, test=\"t\", effect=TRUE,\n",
    "     include.sample.summary=FALSE, verbose=TRUE, paired.test=FALSE)\n",
    "save_results(x.pfam.F1_2[order(x.pfam.F1_2$effect, decreasing = TRUE),], \"pfam.F1_2\")"
   ]
  },
  {
   "cell_type": "markdown",
   "id": "839c1e41",
   "metadata": {},
   "source": [
    "#### PFAM - F1 generation (H vs C)"
   ]
  },
  {
   "cell_type": "code",
   "execution_count": 102,
   "id": "13ec263f",
   "metadata": {
    "vscode": {
     "languageId": "r"
    }
   },
   "outputs": [
    {
     "data": {
      "text/html": [
       "<style>\n",
       ".list-inline {list-style: none; margin:0; padding: 0}\n",
       ".list-inline>li {display: inline-block}\n",
       ".list-inline>li:not(:last-child)::after {content: \"\\00b7\"; padding: 0 .5ex}\n",
       "</style>\n",
       "<ol class=list-inline><li>'1491'</li><li>'pfams removed'</li><li>'5872'</li><li>'remaining'</li></ol>\n"
      ],
      "text/latex": [
       "\\begin{enumerate*}\n",
       "\\item '1491'\n",
       "\\item 'pfams removed'\n",
       "\\item '5872'\n",
       "\\item 'remaining'\n",
       "\\end{enumerate*}\n"
      ],
      "text/markdown": [
       "1. '1491'\n",
       "2. 'pfams removed'\n",
       "3. '5872'\n",
       "4. 'remaining'\n",
       "\n",
       "\n"
      ],
      "text/plain": [
       "[1] \"1491\"          \"pfams removed\" \"5872\"          \"remaining\"    "
      ]
     },
     "metadata": {},
     "output_type": "display_data"
    },
    {
     "name": "stderr",
     "output_type": "stream",
     "text": [
      "computing iqlr centering\n",
      "\n",
      "aldex.clr: generating Monte-Carlo instances and clr values\n",
      "\n",
      "operating in serial mode\n",
      "\n",
      "removed rows with sums equal to zero\n",
      "\n",
      "data format is OK\n",
      "\n",
      "dirichlet samples complete\n",
      "\n",
      "transformation complete\n",
      "\n",
      "aldex.ttest: doing t-test\n",
      "\n",
      "running tests for each MC instance:\n",
      "\n"
     ]
    },
    {
     "name": "stdout",
     "output_type": "stream",
     "text": [
      "|------------(25%)----------(50%)----------(75%)----------|\n"
     ]
    },
    {
     "name": "stderr",
     "output_type": "stream",
     "text": [
      "aldex.effect: calculating effect sizes\n",
      "\n",
      "operating in serial mode\n",
      "\n",
      "sanity check complete\n",
      "\n",
      "rab.all  complete\n",
      "\n",
      "rab.win  complete\n",
      "\n",
      "rab of samples complete\n",
      "\n",
      "within sample difference calculated\n",
      "\n",
      "between group difference calculated\n",
      "\n",
      "group summaries calculated\n",
      "\n",
      "unpaired effect size calculated\n",
      "\n",
      "summarizing output\n",
      "\n"
     ]
    }
   ],
   "source": [
    "info.F1_HC <- info[info$generation==\"F1\",]\n",
    "info.F1_HC <- info.F1_HC[rownames(info.F1_HC)[info.F1_HC$treatment%in%c(\"C\",\"H\")],]\n",
    "pfam$cov.F1_HC <- pfam$cov[, rownames(info.F1_HC)]\n",
    "\n",
    "## PARAMS ##\n",
    "# Percentage of samples in which features must have >0 sum\n",
    "pfam.F1_HC.percent_occ <- 10\n",
    "# Quantile used for removing low abundance features\n",
    "pfam.F1_HC.quantile_thresh <- 0.1\n",
    "mc.samples <- 200\n",
    "\n",
    "## PREFILTERING ##\n",
    "# Remove zero sum features\n",
    "nz <- rownames(pfam$cov.F1_HC[rowSums(pfam$cov.F1_HC) > 0, ])\n",
    "pfam$nz.F1_HC <- pfam$cov.F1_HC[rownames(pfam$cov.F1_HC)%in%nz, ]\n",
    "\n",
    "# Filter low abundance features\n",
    "low_threshold = quantile(rowSums(pfam$nz.F1_HC) / sum(rowSums(pfam$nz.F1_HC)) * 100, probs = pfam.F1_HC.quantile_thresh)\n",
    "pfam$filtered.F1_HC <- low.count.removal(pfam$nz.F1_HC, percent = low_threshold)$data.filter\n",
    "\n",
    "pfam$occ.F1_HC <- rowSums(pfam$filtered.F1_HC>0) / ncol(pfam$filtered.F1_HC) * 100\n",
    "# Keep features occurring in defined percentage of samples\n",
    "pfam$filtered.F1_HC <- pfam$filtered.F1_HC[which(pfam$occ.F1_HC >= pfam.F1_HC.percent_occ), ]\n",
    "paste0(c(dim(pfam$cov.F1_HC)[1] - dim(pfam$filtered.F1_HC)[1], \"pfams removed\", dim(pfam$filtered.F1_HC)[1], \"remaining\"))\n",
    "\n",
    "X <- pfam$filtered.F1_HC\n",
    "Y <- info.F1_HC\n",
    "\n",
    "denoms <- aldex.set.mode(ceiling(X), Y[colnames(X),\"treatment\"], denom=\"iqlr\")\n",
    "conds <- factor(Y[colnames(X),\"treatment\"])\n",
    "x.pfam.F1_HC <- aldex(ceiling(X), conds, mc.samples=mc.samples, denom=denoms, test=\"t\", effect=TRUE,\n",
    "     include.sample.summary=FALSE, verbose=TRUE, paired.test=FALSE)\n",
    "save_results(x.pfam.F1_HC[order(x.pfam.F1_HC$effect, decreasing = TRUE),], \"pfam.F1_HC\")"
   ]
  },
  {
   "cell_type": "markdown",
   "id": "821720ec",
   "metadata": {},
   "source": [
    "#### PFAM - F1 generation (L vs C)"
   ]
  },
  {
   "cell_type": "code",
   "execution_count": 103,
   "id": "08433564",
   "metadata": {
    "vscode": {
     "languageId": "r"
    }
   },
   "outputs": [
    {
     "data": {
      "text/html": [
       "<style>\n",
       ".list-inline {list-style: none; margin:0; padding: 0}\n",
       ".list-inline>li {display: inline-block}\n",
       ".list-inline>li:not(:last-child)::after {content: \"\\00b7\"; padding: 0 .5ex}\n",
       "</style>\n",
       "<ol class=list-inline><li>'1499'</li><li>'pfams removed'</li><li>'5864'</li><li>'remaining'</li></ol>\n"
      ],
      "text/latex": [
       "\\begin{enumerate*}\n",
       "\\item '1499'\n",
       "\\item 'pfams removed'\n",
       "\\item '5864'\n",
       "\\item 'remaining'\n",
       "\\end{enumerate*}\n"
      ],
      "text/markdown": [
       "1. '1499'\n",
       "2. 'pfams removed'\n",
       "3. '5864'\n",
       "4. 'remaining'\n",
       "\n",
       "\n"
      ],
      "text/plain": [
       "[1] \"1499\"          \"pfams removed\" \"5864\"          \"remaining\"    "
      ]
     },
     "metadata": {},
     "output_type": "display_data"
    },
    {
     "name": "stderr",
     "output_type": "stream",
     "text": [
      "computing iqlr centering\n",
      "\n",
      "aldex.clr: generating Monte-Carlo instances and clr values\n",
      "\n",
      "operating in serial mode\n",
      "\n",
      "removed rows with sums equal to zero\n",
      "\n",
      "data format is OK\n",
      "\n",
      "dirichlet samples complete\n",
      "\n",
      "transformation complete\n",
      "\n",
      "aldex.ttest: doing t-test\n",
      "\n",
      "running tests for each MC instance:\n",
      "\n"
     ]
    },
    {
     "name": "stdout",
     "output_type": "stream",
     "text": [
      "|------------(25%)----------(50%)----------(75%)----------|\n"
     ]
    },
    {
     "name": "stderr",
     "output_type": "stream",
     "text": [
      "aldex.effect: calculating effect sizes\n",
      "\n",
      "operating in serial mode\n",
      "\n",
      "sanity check complete\n",
      "\n",
      "rab.all  complete\n",
      "\n",
      "rab.win  complete\n",
      "\n",
      "rab of samples complete\n",
      "\n",
      "within sample difference calculated\n",
      "\n",
      "between group difference calculated\n",
      "\n",
      "group summaries calculated\n",
      "\n",
      "unpaired effect size calculated\n",
      "\n",
      "summarizing output\n",
      "\n"
     ]
    }
   ],
   "source": [
    "info.F1_LC <- info[info$generation==\"F1\",]\n",
    "info.F1_LC <- info.F1_LC[rownames(info.F1_LC)[info.F1_LC$treatment%in%c(\"C\",\"L\")],]\n",
    "mc.samples <- 200\n",
    "pfam$cov.F1_LC <- pfam$cov[, rownames(info.F1_LC)]\n",
    "\n",
    "## PARAMS ##\n",
    "# Percentage of samples in which features must have >0 sum\n",
    "pfam.F1_LC.percent_occ <- 10\n",
    "# Quantile used for removing low abundance features\n",
    "pfam.F1_LC.quantile_thresh <- 0.1\n",
    "\n",
    "## PREFILTERING ##\n",
    "# Remove zero sum features\n",
    "nz <- rownames(pfam$cov.F1_LC[rowSums(pfam$cov.F1_LC) > 0, ])\n",
    "pfam$nz.F1_LC <- pfam$cov.F1_LC[rownames(pfam$cov.F1_LC)%in%nz, ]\n",
    "\n",
    "# Filter low abundance features\n",
    "low_threshold = quantile(rowSums(pfam$nz.F1_LC) / sum(rowSums(pfam$nz.F1_LC)) * 100, probs = pfam.F1_LC.quantile_thresh)\n",
    "pfam$filtered.F1_LC <- low.count.removal(pfam$nz.F1_LC, percent = low_threshold)$data.filter\n",
    "\n",
    "pfam$occ.F1_LC <- rowSums(pfam$filtered.F1_LC>0) / ncol(pfam$filtered.F1_LC) * 100\n",
    "# Keep features occurring in defined percentage of samples\n",
    "pfam$filtered.F1_LC <- pfam$filtered.F1_LC[which(pfam$occ.F1_LC >= pfam.F1_LC.percent_occ), ]\n",
    "paste0(c(dim(pfam$cov.F1_LC)[1] - dim(pfam$filtered.F1_LC)[1], \"pfams removed\", dim(pfam$filtered.F1_LC)[1], \"remaining\"))\n",
    "\n",
    "X <- pfam$filtered.F1_LC\n",
    "Y <- info.F1_LC\n",
    "\n",
    "denoms <- aldex.set.mode(ceiling(X), Y[colnames(X),\"treatment\"], denom=\"iqlr\")\n",
    "conds <- factor(Y[colnames(X),\"treatment\"])\n",
    "x.pfam.F1_LC <- aldex(ceiling(X), conds, mc.samples=mc.samples, denom=denoms, test=\"t\", effect=TRUE,\n",
    "     include.sample.summary=FALSE, verbose=TRUE, paired.test=FALSE)\n",
    "save_results(x.pfam.F1_LC[order(x.pfam.F1_LC$effect, decreasing = TRUE),], \"pfam.F1_LC\")"
   ]
  },
  {
   "cell_type": "markdown",
   "id": "52f96314",
   "metadata": {},
   "source": [
    "#### PFAM - F2 generation"
   ]
  },
  {
   "cell_type": "code",
   "execution_count": 18,
   "id": "98052cd9",
   "metadata": {
    "vscode": {
     "languageId": "r"
    }
   },
   "outputs": [
    {
     "data": {
      "text/html": [
       "<style>\n",
       ".list-inline {list-style: none; margin:0; padding: 0}\n",
       ".list-inline>li {display: inline-block}\n",
       ".list-inline>li:not(:last-child)::after {content: \"\\00b7\"; padding: 0 .5ex}\n",
       "</style>\n",
       "<ol class=list-inline><li>'934'</li><li>'species removed'</li><li>'6429'</li><li>'remaining'</li></ol>\n"
      ],
      "text/latex": [
       "\\begin{enumerate*}\n",
       "\\item '934'\n",
       "\\item 'species removed'\n",
       "\\item '6429'\n",
       "\\item 'remaining'\n",
       "\\end{enumerate*}\n"
      ],
      "text/markdown": [
       "1. '934'\n",
       "2. 'species removed'\n",
       "3. '6429'\n",
       "4. 'remaining'\n",
       "\n",
       "\n"
      ],
      "text/plain": [
       "[1] \"934\"             \"species removed\" \"6429\"            \"remaining\"      "
      ]
     },
     "metadata": {},
     "output_type": "display_data"
    },
    {
     "name": "stderr",
     "output_type": "stream",
     "text": [
      "computing iqlr centering\n",
      "\n",
      "checking for condition length disabled!\n",
      "\n",
      "user-defined denominator used\n",
      "\n",
      "multicore environment is is OK -- using the BiocParallel package\n",
      "\n",
      "removed rows with sums equal to zero\n",
      "\n",
      "data format is OK\n",
      "\n",
      "dirichlet samples complete\n",
      "\n",
      "transformation complete\n",
      "\n",
      "running tests for each MC instance:\n",
      "\n"
     ]
    },
    {
     "name": "stdout",
     "output_type": "stream",
     "text": [
      "|------------(25%)----------(50%)----------(75%)----------|\n"
     ]
    },
    {
     "name": "stderr",
     "output_type": "stream",
     "text": [
      "operating in serial mode\n",
      "\n",
      "sanity check complete\n",
      "\n",
      "rab.all  complete\n",
      "\n",
      "rab.win  complete\n",
      "\n",
      "rab of samples complete\n",
      "\n",
      "within sample difference calculated\n",
      "\n",
      "between group difference calculated\n",
      "\n",
      "group summaries calculated\n",
      "\n",
      "unpaired effect size calculated\n",
      "\n",
      "summarizing output\n",
      "\n",
      "operating in serial mode\n",
      "\n",
      "sanity check complete\n",
      "\n",
      "rab.all  complete\n",
      "\n",
      "rab.win  complete\n",
      "\n",
      "rab of samples complete\n",
      "\n",
      "within sample difference calculated\n",
      "\n",
      "between group difference calculated\n",
      "\n",
      "group summaries calculated\n",
      "\n",
      "unpaired effect size calculated\n",
      "\n",
      "summarizing output\n",
      "\n"
     ]
    }
   ],
   "source": [
    "# Extract and filter F2 samples\n",
    "pfam$cov.F2 <- pfam$cov[, rownames(info[info$generation==\"F2\",])]\n",
    "## PARAMS ##\n",
    "# Percentage of samples in which features must have >0 sum\n",
    "pfam.F2.percent_occ <- 10\n",
    "# Quantile used for removing low abundance features\n",
    "pfam.F2.quantile_thresh <- 0.1\n",
    "mc.samples <- 128\n",
    "\n",
    "## PREFILTERING ##\n",
    "# Remove zero sum features\n",
    "nz <- rownames(pfam$cov.F2[rowSums(pfam$cov.F2) > 0, ])\n",
    "pfam$nz.F2 <- pfam$cov.F2[rownames(pfam$cov.F2)%in%nz, ]\n",
    "\n",
    "# Filter low abundance features\n",
    "low_threshold = quantile(rowSums(pfam$nz.F2) / sum(rowSums(pfam$nz.F2)) * 100, probs = pfam.F2.quantile_thresh)\n",
    "pfam$filtered.F2 <- low.count.removal(pfam$nz.F2, percent = low_threshold)$data.filter\n",
    "\n",
    "pfam$occ.F2 <- rowSums(pfam$filtered.F2>0) / ncol(pfam$filtered.F2) * 100\n",
    "# Keep features occurring in defined percentage of samples\n",
    "pfam$filtered.F2 <- pfam$filtered.F2[which(pfam$occ.F2 >= pfam.F2.percent_occ), ]\n",
    "paste0(c(dim(pfam$cov.F2)[1] - dim(pfam$filtered.F2)[1], \"pfams removed\", dim(pfam$filtered.F2)[1], \"remaining\"))\n",
    "\n",
    "# Get denominators from IQLR transformation\n",
    "denoms <- aldex.set.mode(ceiling(pfam$filtered.F2), info[colnames(pfam$filtered.F2),\"treatment\"], denom=\"iqlr\")\n",
    "\n",
    "x.pfam.F2 <- aldex.clr(ceiling(pfam$filtered.F2), mm.F2.treatment, mc.samples=128, denom=denoms, verbose=TRUE, useMC = TRUE)\n",
    "glm.test.pfam.F2 <- aldex.glm(x.pfam.F2, mm.F2.treatment)\n",
    "save_results(glm.test.pfam.F2, \"glm.test.pfam.F2\")\n",
    "glm.effect.pfam.F2 <- aldex.glm.effect(x.pfam.F2)\n",
    "save_results(glm.effect.pfam.F2, \"glm.effect.pfam.F2\")"
   ]
  },
  {
   "cell_type": "markdown",
   "id": "a4d103a9",
   "metadata": {},
   "source": [
    "#### PFAM - F2 generation (C+L vs H)"
   ]
  },
  {
   "cell_type": "code",
   "execution_count": 19,
   "id": "693c16e6",
   "metadata": {
    "vscode": {
     "languageId": "r"
    }
   },
   "outputs": [
    {
     "name": "stderr",
     "output_type": "stream",
     "text": [
      "computing iqlr centering\n",
      "\n",
      "aldex.clr: generating Monte-Carlo instances and clr values\n",
      "\n",
      "operating in serial mode\n",
      "\n",
      "removed rows with sums equal to zero\n",
      "\n",
      "data format is OK\n",
      "\n",
      "dirichlet samples complete\n",
      "\n",
      "transformation complete\n",
      "\n",
      "aldex.ttest: doing t-test\n",
      "\n",
      "running tests for each MC instance:\n",
      "\n"
     ]
    },
    {
     "name": "stdout",
     "output_type": "stream",
     "text": [
      "|------------(25%)----------(50%)----------(75%)----------|\n"
     ]
    },
    {
     "name": "stderr",
     "output_type": "stream",
     "text": [
      "aldex.effect: calculating effect sizes\n",
      "\n",
      "operating in serial mode\n",
      "\n",
      "sanity check complete\n",
      "\n",
      "rab.all  complete\n",
      "\n",
      "rab.win  complete\n",
      "\n",
      "rab of samples complete\n",
      "\n",
      "within sample difference calculated\n",
      "\n",
      "between group difference calculated\n",
      "\n",
      "group summaries calculated\n",
      "\n",
      "unpaired effect size calculated\n",
      "\n",
      "summarizing output\n",
      "\n"
     ]
    }
   ],
   "source": [
    "info.F2 <- info[info$generation==\"F2\",]\n",
    "info.F2_2 <- info.F2\n",
    "info.F2_2$treatment <- gsub(x = info.F2_2$treatment, pattern = \"[CL]\", replacement = \"CL\")\n",
    "info.F2_2$treatment <- factor(info.F2_2$treatment)\n",
    "mm.F2_2.treatment <- model.matrix(~ treatment, info.F2_2)\n",
    "mc.samples <- 128\n",
    "\n",
    "denoms <- aldex.set.mode(ceiling(pfam$filtered.F2), info[colnames(pfam$filtered.F2),\"treatment\"], denom=\"iqlr\")\n",
    "conds <- info.F2_2[colnames(pfam$filtered.F2),\"treatment\"]\n",
    "x.pfam.F2_2 <- aldex(ceiling(pfam$filtered.F2), conds, mc.samples=mc.samples, denom=denoms, test=\"t\", effect=TRUE,\n",
    "     include.sample.summary=FALSE, verbose=TRUE, paired.test=FALSE)\n",
    "save_results(x.pfam.F2_2[order(x.pfam.F2_2$effect, decreasing = TRUE),], \"pfam.F2_2\")"
   ]
  },
  {
   "cell_type": "markdown",
   "id": "9a352488",
   "metadata": {},
   "source": [
    "#### PFAM - F2 generation (H vs C)"
   ]
  },
  {
   "cell_type": "code",
   "execution_count": 100,
   "id": "a2ae4054",
   "metadata": {
    "vscode": {
     "languageId": "r"
    }
   },
   "outputs": [
    {
     "data": {
      "text/html": [
       "<style>\n",
       ".list-inline {list-style: none; margin:0; padding: 0}\n",
       ".list-inline>li {display: inline-block}\n",
       ".list-inline>li:not(:last-child)::after {content: \"\\00b7\"; padding: 0 .5ex}\n",
       "</style>\n",
       "<ol class=list-inline><li>'964'</li><li>'pfams removed'</li><li>'6399'</li><li>'remaining'</li></ol>\n"
      ],
      "text/latex": [
       "\\begin{enumerate*}\n",
       "\\item '964'\n",
       "\\item 'pfams removed'\n",
       "\\item '6399'\n",
       "\\item 'remaining'\n",
       "\\end{enumerate*}\n"
      ],
      "text/markdown": [
       "1. '964'\n",
       "2. 'pfams removed'\n",
       "3. '6399'\n",
       "4. 'remaining'\n",
       "\n",
       "\n"
      ],
      "text/plain": [
       "[1] \"964\"           \"pfams removed\" \"6399\"          \"remaining\"    "
      ]
     },
     "metadata": {},
     "output_type": "display_data"
    },
    {
     "name": "stderr",
     "output_type": "stream",
     "text": [
      "computing iqlr centering\n",
      "\n",
      "aldex.clr: generating Monte-Carlo instances and clr values\n",
      "\n",
      "operating in serial mode\n",
      "\n",
      "removed rows with sums equal to zero\n",
      "\n",
      "data format is OK\n",
      "\n",
      "dirichlet samples complete\n",
      "\n",
      "transformation complete\n",
      "\n",
      "aldex.ttest: doing t-test\n",
      "\n",
      "running tests for each MC instance:\n",
      "\n"
     ]
    },
    {
     "name": "stdout",
     "output_type": "stream",
     "text": [
      "|------------(25%)----------(50%)----------(75%)----------|\n"
     ]
    },
    {
     "name": "stderr",
     "output_type": "stream",
     "text": [
      "aldex.effect: calculating effect sizes\n",
      "\n",
      "operating in serial mode\n",
      "\n",
      "sanity check complete\n",
      "\n",
      "rab.all  complete\n",
      "\n",
      "rab.win  complete\n",
      "\n",
      "rab of samples complete\n",
      "\n",
      "within sample difference calculated\n",
      "\n",
      "between group difference calculated\n",
      "\n",
      "group summaries calculated\n",
      "\n",
      "unpaired effect size calculated\n",
      "\n",
      "summarizing output\n",
      "\n"
     ]
    }
   ],
   "source": [
    "info.F2_HC <- info[info$generation==\"F2\",]\n",
    "info.F2_HC <- info.F2_HC[rownames(info.F2_HC)[info.F2_HC$treatment%in%c(\"C\",\"H\")],]\n",
    "mc.samples <- 128\n",
    "pfam$cov.F2_HC <- pfam$cov[, rownames(info.F2_HC)]\n",
    "\n",
    "## PARAMS ##\n",
    "# Percentage of samples in which features must have >0 sum\n",
    "pfam.F2_HC.percent_occ <- 10\n",
    "# Quantile used for removing low abundance features\n",
    "pfam.F2_HC.quantile_thresh <- 0.1\n",
    "mc.samples <- 128\n",
    "\n",
    "## PREFILTERING ##\n",
    "# Remove zero sum features\n",
    "nz <- rownames(pfam$cov.F2_HC[rowSums(pfam$cov.F2_HC) > 0, ])\n",
    "pfam$nz.F2_HC <- pfam$cov.F2_HC[rownames(pfam$cov.F2_HC)%in%nz, ]\n",
    "\n",
    "# Filter low abundance features\n",
    "low_threshold = quantile(rowSums(pfam$nz.F2_HC) / sum(rowSums(pfam$nz.F2_HC)) * 100, probs = pfam.F2_HC.quantile_thresh)\n",
    "pfam$filtered.F2_HC <- low.count.removal(pfam$nz.F2_HC, percent = low_threshold)$data.filter\n",
    "\n",
    "pfam$occ.F2_HC <- rowSums(pfam$filtered.F2_HC>0) / ncol(pfam$filtered.F2_HC) * 100\n",
    "# Keep features occurring in defined percentage of samples\n",
    "pfam$filtered.F2_HC <- pfam$filtered.F2_HC[which(pfam$occ.F2_HC >= pfam.F2_HC.percent_occ), ]\n",
    "paste0(c(dim(pfam$cov.F2_HC)[1] - dim(pfam$filtered.F2_HC)[1], \"pfams removed\", dim(pfam$filtered.F2_HC)[1], \"remaining\"))\n",
    "\n",
    "X <- pfam$filtered.F2_HC\n",
    "Y <- info.F2_HC\n",
    "\n",
    "denoms <- aldex.set.mode(ceiling(X), Y[colnames(X),\"treatment\"], denom=\"iqlr\")\n",
    "conds <- factor(Y[colnames(X),\"treatment\"])\n",
    "x.pfam.F2_HC <- aldex(ceiling(X), conds, mc.samples=mc.samples, denom=denoms, test=\"t\", effect=TRUE,\n",
    "     include.sample.summary=FALSE, verbose=TRUE, paired.test=FALSE)\n",
    "save_results(x.pfam.F2_HC[order(x.pfam.F2_HC$effect, decreasing = TRUE),], \"pfam.F2_HC\")"
   ]
  },
  {
   "cell_type": "markdown",
   "id": "1517cc25",
   "metadata": {},
   "source": [
    "#### PFAM - F2 generation (L vs C)"
   ]
  },
  {
   "cell_type": "code",
   "execution_count": 101,
   "id": "70dab747",
   "metadata": {
    "vscode": {
     "languageId": "r"
    }
   },
   "outputs": [
    {
     "data": {
      "text/html": [
       "<style>\n",
       ".list-inline {list-style: none; margin:0; padding: 0}\n",
       ".list-inline>li {display: inline-block}\n",
       ".list-inline>li:not(:last-child)::after {content: \"\\00b7\"; padding: 0 .5ex}\n",
       "</style>\n",
       "<ol class=list-inline><li>'985'</li><li>'pfams removed'</li><li>'6378'</li><li>'remaining'</li></ol>\n"
      ],
      "text/latex": [
       "\\begin{enumerate*}\n",
       "\\item '985'\n",
       "\\item 'pfams removed'\n",
       "\\item '6378'\n",
       "\\item 'remaining'\n",
       "\\end{enumerate*}\n"
      ],
      "text/markdown": [
       "1. '985'\n",
       "2. 'pfams removed'\n",
       "3. '6378'\n",
       "4. 'remaining'\n",
       "\n",
       "\n"
      ],
      "text/plain": [
       "[1] \"985\"           \"pfams removed\" \"6378\"          \"remaining\"    "
      ]
     },
     "metadata": {},
     "output_type": "display_data"
    },
    {
     "name": "stderr",
     "output_type": "stream",
     "text": [
      "computing iqlr centering\n",
      "\n",
      "aldex.clr: generating Monte-Carlo instances and clr values\n",
      "\n",
      "operating in serial mode\n",
      "\n",
      "removed rows with sums equal to zero\n",
      "\n",
      "data format is OK\n",
      "\n",
      "dirichlet samples complete\n",
      "\n",
      "transformation complete\n",
      "\n",
      "aldex.ttest: doing t-test\n",
      "\n",
      "running tests for each MC instance:\n",
      "\n"
     ]
    },
    {
     "name": "stdout",
     "output_type": "stream",
     "text": [
      "|------------(25%)----------(50%)----------(75%)----------|\n"
     ]
    },
    {
     "name": "stderr",
     "output_type": "stream",
     "text": [
      "aldex.effect: calculating effect sizes\n",
      "\n",
      "operating in serial mode\n",
      "\n",
      "sanity check complete\n",
      "\n",
      "rab.all  complete\n",
      "\n",
      "rab.win  complete\n",
      "\n",
      "rab of samples complete\n",
      "\n",
      "within sample difference calculated\n",
      "\n",
      "between group difference calculated\n",
      "\n",
      "group summaries calculated\n",
      "\n",
      "unpaired effect size calculated\n",
      "\n",
      "summarizing output\n",
      "\n"
     ]
    }
   ],
   "source": [
    "info.F2_LC <- info[info$generation==\"F2\",]\n",
    "info.F2_LC <- info.F2_LC[rownames(info.F2_LC)[info.F2_LC$treatment%in%c(\"C\",\"L\")],]\n",
    "mc.samples <- 128\n",
    "pfam$cov.F2_LC <- pfam$cov[, rownames(info.F2_LC)]\n",
    "\n",
    "## PARAMS ##\n",
    "# Percentage of samples in which features must have >0 sum\n",
    "pfam.F2_LC.percent_occ <- 10\n",
    "# Quantile used for removing low abundance features\n",
    "pfam.F2_LC.quantile_thresh <- 0.1\n",
    "mc.samples <- 128\n",
    "\n",
    "## PREFILTERING ##\n",
    "# Remove zero sum features\n",
    "nz <- rownames(pfam$cov.F2_LC[rowSums(pfam$cov.F2_LC) > 0, ])\n",
    "pfam$nz.F2_LC <- pfam$cov.F2_LC[rownames(pfam$cov.F2_LC)%in%nz, ]\n",
    "\n",
    "# Filter low abundance features\n",
    "low_threshold = quantile(rowSums(pfam$nz.F2_LC) / sum(rowSums(pfam$nz.F2_LC)) * 100, probs = pfam.F2_LC.quantile_thresh)\n",
    "pfam$filtered.F2_LC <- low.count.removal(pfam$nz.F2_LC, percent = low_threshold)$data.filter\n",
    "\n",
    "pfam$occ.F2_LC <- rowSums(pfam$filtered.F2_LC>0) / ncol(pfam$filtered.F2_LC) * 100\n",
    "# Keep features occurring in defined percentage of samples\n",
    "pfam$filtered.F2_LC <- pfam$filtered.F2_LC[which(pfam$occ.F2_LC >= pfam.F2_LC.percent_occ), ]\n",
    "paste0(c(dim(pfam$cov.F2_LC)[1] - dim(pfam$filtered.F2_LC)[1], \"pfams removed\", dim(pfam$filtered.F2_LC)[1], \"remaining\"))\n",
    "\n",
    "X <- pfam$filtered.F2_LC\n",
    "Y <- info.F2_LC\n",
    "\n",
    "denoms <- aldex.set.mode(ceiling(X), Y[colnames(X),\"treatment\"], denom=\"iqlr\")\n",
    "conds <- factor(Y[colnames(X),\"treatment\"])\n",
    "x.pfam.F2_LC <- aldex(ceiling(X), conds, mc.samples=mc.samples, denom=denoms, test=\"t\", effect=TRUE,\n",
    "     include.sample.summary=FALSE, verbose=TRUE, paired.test=FALSE)\n",
    "save_results(x.pfam.F2_LC[order(x.pfam.F2_LC$effect, decreasing = TRUE),], \"pfam.F2_LC\")"
   ]
  },
  {
   "cell_type": "markdown",
   "id": "4a25ac49",
   "metadata": {},
   "source": [
    "### KOs"
   ]
  },
  {
   "cell_type": "markdown",
   "id": "9e033f44",
   "metadata": {},
   "source": [
    "#### KOs - Generational differences"
   ]
  },
  {
   "cell_type": "code",
   "execution_count": 19,
   "id": "41f76b90",
   "metadata": {
    "vscode": {
     "languageId": "r"
    }
   },
   "outputs": [
    {
     "data": {
      "text/html": [
       "<style>\n",
       ".list-inline {list-style: none; margin:0; padding: 0}\n",
       ".list-inline>li {display: inline-block}\n",
       ".list-inline>li:not(:last-child)::after {content: \"\\00b7\"; padding: 0 .5ex}\n",
       "</style>\n",
       "<ol class=list-inline><li>'974'</li><li>'kos removed'</li><li>'4952'</li><li>'remaining'</li></ol>\n"
      ],
      "text/latex": [
       "\\begin{enumerate*}\n",
       "\\item '974'\n",
       "\\item 'kos removed'\n",
       "\\item '4952'\n",
       "\\item 'remaining'\n",
       "\\end{enumerate*}\n"
      ],
      "text/markdown": [
       "1. '974'\n",
       "2. 'kos removed'\n",
       "3. '4952'\n",
       "4. 'remaining'\n",
       "\n",
       "\n"
      ],
      "text/plain": [
       "[1] \"974\"         \"kos removed\" \"4952\"        \"remaining\"  "
      ]
     },
     "metadata": {},
     "output_type": "display_data"
    },
    {
     "name": "stderr",
     "output_type": "stream",
     "text": [
      "computing iqlr centering\n",
      "\n",
      "checking for condition length disabled!\n",
      "\n",
      "user-defined denominator used\n",
      "\n",
      "multicore environment is is OK -- using the BiocParallel package\n",
      "\n",
      "removed rows with sums equal to zero\n",
      "\n",
      "data format is OK\n",
      "\n",
      "dirichlet samples complete\n",
      "\n",
      "transformation complete\n",
      "\n",
      "running tests for each MC instance:\n",
      "\n"
     ]
    },
    {
     "name": "stdout",
     "output_type": "stream",
     "text": [
      "|------------(25%)----------(50%)----------(75%)----------|\n"
     ]
    },
    {
     "name": "stderr",
     "output_type": "stream",
     "text": [
      "operating in serial mode\n",
      "\n",
      "sanity check complete\n",
      "\n",
      "rab.all  complete\n",
      "\n",
      "rab.win  complete\n",
      "\n",
      "rab of samples complete\n",
      "\n",
      "within sample difference calculated\n",
      "\n",
      "between group difference calculated\n",
      "\n",
      "group summaries calculated\n",
      "\n",
      "unpaired effect size calculated\n",
      "\n",
      "summarizing output\n",
      "\n",
      "operating in serial mode\n",
      "\n",
      "sanity check complete\n",
      "\n",
      "rab.all  complete\n",
      "\n",
      "rab.win  complete\n",
      "\n",
      "rab of samples complete\n",
      "\n",
      "within sample difference calculated\n",
      "\n",
      "between group difference calculated\n",
      "\n",
      "group summaries calculated\n",
      "\n",
      "unpaired effect size calculated\n",
      "\n",
      "summarizing output\n",
      "\n"
     ]
    }
   ],
   "source": [
    "## PARAMS ##\n",
    "# Percentage of samples in which features must have >0 sum\n",
    "ko.percent_occ <- 10\n",
    "# Quantile used for removing low abundance features\n",
    "ko.quantile_thresh <- 0.1\n",
    "mc.samples <- 128\n",
    "\n",
    "## PREFILTERING ##\n",
    "# Remove zero sum features\n",
    "nz <- rownames(ko$cov[rowSums(ko$cov) > 0, ])\n",
    "ko$nz <- ko$cov[rownames(ko$cov)%in%nz, ]\n",
    "\n",
    "# Filter low abundance features\n",
    "low_threshold = quantile(rowSums(ko$nz) / sum(rowSums(ko$nz)) * 100, probs = ko.quantile_thresh)\n",
    "ko$filtered <- low.count.removal(ko$nz, percent = low_threshold)$data.filter\n",
    "\n",
    "ko$occ <- rowSums(ko$filtered>0) / ncol(ko$filtered) * 100\n",
    "# Keep features occurring in defined percentage of samples\n",
    "ko$filtered <- ko$filtered[which(ko$occ >= ko.percent_occ), ]\n",
    "paste0(c(dim(ko$cov)[1] - dim(ko$filtered)[1], \"kos removed\", dim(ko$filtered)[1], \"remaining\"))\n",
    "\n",
    "ko$filtered <- ceiling(ko$filtered)\n",
    "\n",
    "denoms <- aldex.set.mode(ceiling(ko$filtered), info[colnames(ko$filtered),\"generation\"], denom=\"iqlr\")\n",
    "\n",
    "x.ko <- aldex.clr(ceiling(ko$filtered), mm.generation, mc.samples=mc.samples, denom=denoms, verbose=TRUE, useMC = TRUE)\n",
    "glm.test.ko <- aldex.glm(x.ko, mm.generation)\n",
    "save_results(glm.test.ko, \"glm.test.ko\")\n",
    "glm.effect.ko <- aldex.glm.effect(x.ko)\n",
    "save_results(glm.effect.ko, \"glm.effect.ko\")"
   ]
  },
  {
   "cell_type": "markdown",
   "id": "58df968a",
   "metadata": {},
   "source": [
    "#### KO - F0"
   ]
  },
  {
   "cell_type": "code",
   "execution_count": 18,
   "id": "180b04b0",
   "metadata": {
    "vscode": {
     "languageId": "r"
    }
   },
   "outputs": [
    {
     "data": {
      "text/html": [
       "<style>\n",
       ".list-inline {list-style: none; margin:0; padding: 0}\n",
       ".list-inline>li {display: inline-block}\n",
       ".list-inline>li:not(:last-child)::after {content: \"\\00b7\"; padding: 0 .5ex}\n",
       "</style>\n",
       "<ol class=list-inline><li>'1634'</li><li>'kos removed'</li><li>'4292'</li><li>'remaining'</li></ol>\n"
      ],
      "text/latex": [
       "\\begin{enumerate*}\n",
       "\\item '1634'\n",
       "\\item 'kos removed'\n",
       "\\item '4292'\n",
       "\\item 'remaining'\n",
       "\\end{enumerate*}\n"
      ],
      "text/markdown": [
       "1. '1634'\n",
       "2. 'kos removed'\n",
       "3. '4292'\n",
       "4. 'remaining'\n",
       "\n",
       "\n"
      ],
      "text/plain": [
       "[1] \"1634\"        \"kos removed\" \"4292\"        \"remaining\"  "
      ]
     },
     "metadata": {},
     "output_type": "display_data"
    },
    {
     "name": "stderr",
     "output_type": "stream",
     "text": [
      "computing iqlr centering\n",
      "\n",
      "checking for condition length disabled!\n",
      "\n",
      "user-defined denominator used\n",
      "\n",
      "multicore environment is is OK -- using the BiocParallel package\n",
      "\n",
      "removed rows with sums equal to zero\n",
      "\n",
      "data format is OK\n",
      "\n",
      "dirichlet samples complete\n",
      "\n",
      "transformation complete\n",
      "\n",
      "running tests for each MC instance:\n",
      "\n"
     ]
    },
    {
     "name": "stdout",
     "output_type": "stream",
     "text": [
      "|------------(25%)----------(50%)----------(75%)----------|\n"
     ]
    },
    {
     "name": "stderr",
     "output_type": "stream",
     "text": [
      "operating in serial mode\n",
      "\n",
      "sanity check complete\n",
      "\n",
      "rab.all  complete\n",
      "\n",
      "rab.win  complete\n",
      "\n",
      "rab of samples complete\n",
      "\n",
      "within sample difference calculated\n",
      "\n",
      "between group difference calculated\n",
      "\n",
      "group summaries calculated\n",
      "\n",
      "unpaired effect size calculated\n",
      "\n",
      "summarizing output\n",
      "\n",
      "operating in serial mode\n",
      "\n",
      "sanity check complete\n",
      "\n",
      "rab.all  complete\n",
      "\n",
      "rab.win  complete\n",
      "\n",
      "rab of samples complete\n",
      "\n",
      "within sample difference calculated\n",
      "\n",
      "between group difference calculated\n",
      "\n",
      "group summaries calculated\n",
      "\n",
      "unpaired effect size calculated\n",
      "\n",
      "summarizing output\n",
      "\n"
     ]
    }
   ],
   "source": [
    "# Extract and filter F0 samples\n",
    "ko$cov.F0 <- ko$cov[, rownames(info[info$generation==\"F0\",])]\n",
    "## PARAMS ##\n",
    "# Percentage of samples in which features must have >0 sum\n",
    "ko.F0.percent_occ <- 10\n",
    "# Quantile used for removing low abundance features\n",
    "ko.F0.quantile_thresh <- 0.1\n",
    "mc.samples <- 128\n",
    "\n",
    "## PREFILTERING ##\n",
    "# Remove zero sum features\n",
    "nz <- rownames(ko$cov.F0[rowSums(ko$cov.F0) > 0, ])\n",
    "ko$nz.F0 <- ko$cov.F0[rownames(ko$cov.F0)%in%nz, ]\n",
    "\n",
    "# Filter low abundance features\n",
    "low_threshold = quantile(rowSums(ko$nz.F0) / sum(rowSums(ko$nz.F0)) * 100, probs = ko.F0.quantile_thresh)\n",
    "ko$filtered.F0 <- low.count.removal(ko$nz.F0, percent = low_threshold)$data.filter\n",
    "\n",
    "ko$occ.F0 <- rowSums(ko$filtered.F0>0) / ncol(ko$filtered.F0) * 100\n",
    "# Keep features occurring in defined percentage of samples\n",
    "ko$filtered.F0 <- ko$filtered.F0[which(ko$occ.F0 >= ko.F0.percent_occ), ]\n",
    "paste0(c(dim(ko$cov.F0)[1] - dim(ko$filtered.F0)[1], \"kos removed\", dim(ko$filtered.F0)[1], \"remaining\"))\n",
    "\n",
    "# Get denominators from IQLR transformation\n",
    "denoms <- aldex.set.mode(ceiling(ko$filtered.F0), info[colnames(ko$filtered.F0),\"treatment\"], denom=\"iqlr\")\n",
    "\n",
    "x.ko.F0 <- aldex.clr(ceiling(ko$filtered.F0), mm.F0.treatment, mc.samples=mc.samples, denom=denoms, verbose=TRUE, useMC = TRUE)\n",
    "glm.test.ko.F0 <- aldex.glm(x.ko.F0, mm.F0.treatment)\n",
    "save_results(glm.test.ko.F0, \"glm.test.ko.F0\")\n",
    "glm.effect.ko.F0 <- aldex.glm.effect(x.ko.F0)\n",
    "save_results(glm.effect.ko.F0, \"glm.effect.ko.F0\")"
   ]
  },
  {
   "cell_type": "markdown",
   "id": "db0c337f",
   "metadata": {},
   "source": [
    "#### KO - F0 generation (C+L vs H)"
   ]
  },
  {
   "cell_type": "code",
   "execution_count": 19,
   "id": "a1667ca8",
   "metadata": {
    "vscode": {
     "languageId": "r"
    }
   },
   "outputs": [
    {
     "name": "stderr",
     "output_type": "stream",
     "text": [
      "computing iqlr centering\n",
      "\n",
      "aldex.clr: generating Monte-Carlo instances and clr values\n",
      "\n",
      "operating in serial mode\n",
      "\n",
      "removed rows with sums equal to zero\n",
      "\n",
      "data format is OK\n",
      "\n",
      "dirichlet samples complete\n",
      "\n",
      "transformation complete\n",
      "\n",
      "aldex.ttest: doing t-test\n",
      "\n",
      "running tests for each MC instance:\n",
      "\n"
     ]
    },
    {
     "name": "stdout",
     "output_type": "stream",
     "text": [
      "|------------(25%)----------(50%)----------(75%)----------|\n"
     ]
    },
    {
     "name": "stderr",
     "output_type": "stream",
     "text": [
      "aldex.effect: calculating effect sizes\n",
      "\n",
      "operating in serial mode\n",
      "\n",
      "sanity check complete\n",
      "\n",
      "rab.all  complete\n",
      "\n",
      "rab.win  complete\n",
      "\n",
      "rab of samples complete\n",
      "\n",
      "within sample difference calculated\n",
      "\n",
      "between group difference calculated\n",
      "\n",
      "group summaries calculated\n",
      "\n",
      "unpaired effect size calculated\n",
      "\n",
      "summarizing output\n",
      "\n"
     ]
    }
   ],
   "source": [
    "info.F0 <- info[info$generation==\"F0\",]\n",
    "info.F0_2 <- info.F0\n",
    "info.F0_2$treatment <- gsub(x = info.F0_2$treatment, pattern = \"[CL]\", replacement = \"CL\")\n",
    "info.F0_2$treatment <- factor(info.F0_2$treatment)\n",
    "mm.F0_2.treatment <- model.matrix(~ treatment, info.F0_2)\n",
    "mc.samples <- 128\n",
    "\n",
    "denoms <- aldex.set.mode(ceiling(ko$filtered.F0), info[colnames(ko$filtered.F0),\"treatment\"], denom=\"iqlr\")\n",
    "conds <- info.F0_2[colnames(ko$filtered.F0),\"treatment\"]\n",
    "x.ko.F0_2 <- aldex(ceiling(ko$filtered.F0), conds, mc.samples=mc.samples, denom=denoms, test=\"t\", effect=TRUE,\n",
    "     include.sample.summary=FALSE, verbose=TRUE, paired.test=FALSE)\n",
    "save_results(x.ko.F0_2[order(x.ko.F0_2$effect, decreasing = TRUE),], \"ko.F0_2\")"
   ]
  },
  {
   "cell_type": "markdown",
   "id": "5f6f2f5f",
   "metadata": {},
   "source": [
    "#### ko - F0 generation (H vs C)"
   ]
  },
  {
   "cell_type": "code",
   "execution_count": 104,
   "id": "f29d40ac",
   "metadata": {
    "vscode": {
     "languageId": "r"
    }
   },
   "outputs": [
    {
     "data": {
      "text/html": [
       "<style>\n",
       ".list-inline {list-style: none; margin:0; padding: 0}\n",
       ".list-inline>li {display: inline-block}\n",
       ".list-inline>li:not(:last-child)::after {content: \"\\00b7\"; padding: 0 .5ex}\n",
       "</style>\n",
       "<ol class=list-inline><li>'1642'</li><li>'kos removed'</li><li>'4284'</li><li>'remaining'</li></ol>\n"
      ],
      "text/latex": [
       "\\begin{enumerate*}\n",
       "\\item '1642'\n",
       "\\item 'kos removed'\n",
       "\\item '4284'\n",
       "\\item 'remaining'\n",
       "\\end{enumerate*}\n"
      ],
      "text/markdown": [
       "1. '1642'\n",
       "2. 'kos removed'\n",
       "3. '4284'\n",
       "4. 'remaining'\n",
       "\n",
       "\n"
      ],
      "text/plain": [
       "[1] \"1642\"        \"kos removed\" \"4284\"        \"remaining\"  "
      ]
     },
     "metadata": {},
     "output_type": "display_data"
    },
    {
     "name": "stderr",
     "output_type": "stream",
     "text": [
      "computing iqlr centering\n",
      "\n",
      "aldex.clr: generating Monte-Carlo instances and clr values\n",
      "\n",
      "operating in serial mode\n",
      "\n",
      "removed rows with sums equal to zero\n",
      "\n",
      "data format is OK\n",
      "\n",
      "dirichlet samples complete\n",
      "\n",
      "transformation complete\n",
      "\n",
      "aldex.ttest: doing t-test\n",
      "\n",
      "running tests for each MC instance:\n",
      "\n"
     ]
    },
    {
     "name": "stdout",
     "output_type": "stream",
     "text": [
      "|------------(25%)----------(50%)----------(75%)----------|\n"
     ]
    },
    {
     "name": "stderr",
     "output_type": "stream",
     "text": [
      "aldex.effect: calculating effect sizes\n",
      "\n",
      "operating in serial mode\n",
      "\n",
      "sanity check complete\n",
      "\n",
      "rab.all  complete\n",
      "\n",
      "rab.win  complete\n",
      "\n",
      "rab of samples complete\n",
      "\n",
      "within sample difference calculated\n",
      "\n",
      "between group difference calculated\n",
      "\n",
      "group summaries calculated\n",
      "\n",
      "unpaired effect size calculated\n",
      "\n",
      "summarizing output\n",
      "\n"
     ]
    }
   ],
   "source": [
    "info.F0_HC <- info[info$generation==\"F0\",]\n",
    "info.F0_HC <- info.F0_HC[rownames(info.F0_HC)[info.F0_HC$treatment%in%c(\"C\",\"H\")],]\n",
    "ko$cov.F0_HC <- ko$cov[, rownames(info.F0_HC)]\n",
    "\n",
    "## PARAMS ##\n",
    "# Percentage of samples in which features must have >0 sum\n",
    "ko.F0_HC.percent_occ <- 10\n",
    "# Quantile used for removing low abundance features\n",
    "ko.F0_HC.quantile_thresh <- 0.1\n",
    "mc.samples <- 128\n",
    "\n",
    "## PREFILTERING ##\n",
    "# Remove zero sum features\n",
    "nz <- rownames(ko$cov.F0_HC[rowSums(ko$cov.F0_HC) > 0, ])\n",
    "ko$nz.F0_HC <- ko$cov.F0_HC[rownames(ko$cov.F0_HC)%in%nz, ]\n",
    "\n",
    "# Filter low abundance features\n",
    "low_threshold = quantile(rowSums(ko$nz.F0_HC) / sum(rowSums(ko$nz.F0_HC)) * 100, probs = ko.F0_HC.quantile_thresh)\n",
    "ko$filtered.F0_HC <- low.count.removal(ko$nz.F0_HC, percent = low_threshold)$data.filter\n",
    "\n",
    "ko$occ.F0_HC <- rowSums(ko$filtered.F0_HC>0) / ncol(ko$filtered.F0_HC) * 100\n",
    "# Keep features occurring in defined percentage of samples\n",
    "ko$filtered.F0_HC <- ko$filtered.F0_HC[which(ko$occ.F0_HC >= ko.F0_HC.percent_occ), ]\n",
    "paste0(c(dim(ko$cov.F0_HC)[1] - dim(ko$filtered.F0_HC)[1], \"kos removed\", dim(ko$filtered.F0_HC)[1], \"remaining\"))\n",
    "\n",
    "X <- ko$filtered.F0_HC\n",
    "Y <- info.F0_HC\n",
    "\n",
    "denoms <- aldex.set.mode(ceiling(X), Y[colnames(X),\"treatment\"], denom=\"iqlr\")\n",
    "conds <- factor(Y[colnames(X),\"treatment\"])\n",
    "x.ko.F0_HC <- aldex(ceiling(X), conds, mc.samples=mc.samples, denom=denoms, test=\"t\", effect=TRUE,\n",
    "     include.sample.summary=FALSE, verbose=TRUE, paired.test=FALSE)\n",
    "save_results(x.ko.F0_HC[order(x.ko.F0_HC$effect, decreasing = TRUE),], \"ko.F0_HC\")"
   ]
  },
  {
   "cell_type": "markdown",
   "id": "852c30a8",
   "metadata": {},
   "source": [
    "#### ko - F0 generation (L vs C)"
   ]
  },
  {
   "cell_type": "code",
   "execution_count": 18,
   "id": "102f1e83",
   "metadata": {
    "scrolled": false,
    "vscode": {
     "languageId": "r"
    }
   },
   "outputs": [
    {
     "data": {
      "text/html": [
       "<style>\n",
       ".list-inline {list-style: none; margin:0; padding: 0}\n",
       ".list-inline>li {display: inline-block}\n",
       ".list-inline>li:not(:last-child)::after {content: \"\\00b7\"; padding: 0 .5ex}\n",
       "</style>\n",
       "<ol class=list-inline><li>'1672'</li><li>'kos removed'</li><li>'4254'</li><li>'remaining'</li></ol>\n"
      ],
      "text/latex": [
       "\\begin{enumerate*}\n",
       "\\item '1672'\n",
       "\\item 'kos removed'\n",
       "\\item '4254'\n",
       "\\item 'remaining'\n",
       "\\end{enumerate*}\n"
      ],
      "text/markdown": [
       "1. '1672'\n",
       "2. 'kos removed'\n",
       "3. '4254'\n",
       "4. 'remaining'\n",
       "\n",
       "\n"
      ],
      "text/plain": [
       "[1] \"1672\"        \"kos removed\" \"4254\"        \"remaining\"  "
      ]
     },
     "metadata": {},
     "output_type": "display_data"
    },
    {
     "name": "stderr",
     "output_type": "stream",
     "text": [
      "computing iqlr centering\n",
      "\n",
      "aldex.clr: generating Monte-Carlo instances and clr values\n",
      "\n",
      "operating in serial mode\n",
      "\n",
      "removed rows with sums equal to zero\n",
      "\n",
      "data format is OK\n",
      "\n",
      "dirichlet samples complete\n",
      "\n",
      "transformation complete\n",
      "\n",
      "aldex.ttest: doing t-test\n",
      "\n",
      "running tests for each MC instance:\n",
      "\n"
     ]
    },
    {
     "name": "stdout",
     "output_type": "stream",
     "text": [
      "|------------(25%)----------(50%)----------(75%)----------|\n"
     ]
    },
    {
     "name": "stderr",
     "output_type": "stream",
     "text": [
      "aldex.effect: calculating effect sizes\n",
      "\n",
      "operating in serial mode\n",
      "\n",
      "sanity check complete\n",
      "\n",
      "rab.all  complete\n",
      "\n",
      "rab.win  complete\n",
      "\n",
      "rab of samples complete\n",
      "\n",
      "within sample difference calculated\n",
      "\n",
      "between group difference calculated\n",
      "\n",
      "group summaries calculated\n",
      "\n",
      "unpaired effect size calculated\n",
      "\n",
      "summarizing output\n",
      "\n"
     ]
    }
   ],
   "source": [
    "info.F0_LC <- info[info$generation==\"F0\",]\n",
    "info.F0_LC <- info.F0_LC[rownames(info.F0_LC)[info.F0_LC$treatment%in%c(\"C\",\"L\")],]\n",
    "mc.samples <- 128\n",
    "ko$cov.F0_LC <- ko$cov[, rownames(info.F0_LC)]\n",
    "\n",
    "## PARAMS ##\n",
    "# Percentage of samples in which features must have >0 sum\n",
    "ko.F0_LC.percent_occ <- 10\n",
    "# Quantile used for removing low abundance features\n",
    "ko.F0_LC.quantile_thresh <- 0.1\n",
    "mc.samples <- 128\n",
    "\n",
    "## PREFILTERING ##\n",
    "# Remove zero sum features\n",
    "nz <- rownames(ko$cov.F0_LC[rowSums(ko$cov.F0_LC) > 0, ])\n",
    "ko$nz.F0_LC <- ko$cov.F0_LC[rownames(ko$cov.F0_LC)%in%nz, ]\n",
    "\n",
    "# Filter low abundance features\n",
    "low_threshold = quantile(rowSums(ko$nz.F0_LC) / sum(rowSums(ko$nz.F0_LC)) * 100, probs = ko.F0_LC.quantile_thresh)\n",
    "ko$filtered.F0_LC <- low.count.removal(ko$nz.F0_LC, percent = low_threshold)$data.filter\n",
    "\n",
    "ko$occ.F0_LC <- rowSums(ko$filtered.F0_LC>0) / ncol(ko$filtered.F0_LC) * 100\n",
    "# Keep features occurring in defined percentage of samples\n",
    "ko$filtered.F0_LC <- ko$filtered.F0_LC[which(ko$occ.F0_LC >= ko.F0_LC.percent_occ), ]\n",
    "paste0(c(dim(ko$cov.F0_LC)[1] - dim(ko$filtered.F0_LC)[1], \"kos removed\", dim(ko$filtered.F0_LC)[1], \"remaining\"))\n",
    "\n",
    "X <- ko$filtered.F0_LC\n",
    "Y <- info.F0_LC\n",
    "\n",
    "denoms <- aldex.set.mode(ceiling(X), Y[colnames(X),\"treatment\"], denom=\"iqlr\")\n",
    "conds <- factor(Y[colnames(X),\"treatment\"])\n",
    "x.ko.F0_LC <- aldex(ceiling(X), conds, mc.samples=mc.samples, denom=denoms, test=\"t\", effect=TRUE,\n",
    "     include.sample.summary=FALSE, verbose=TRUE, paired.test=FALSE)\n",
    "save_results(x.ko.F0_LC[order(x.ko.F0_LC$effect, decreasing = TRUE),], \"ko.F0_LC\")"
   ]
  },
  {
   "cell_type": "markdown",
   "id": "28302f21",
   "metadata": {},
   "source": [
    "#### KO - F1 generation"
   ]
  },
  {
   "cell_type": "code",
   "execution_count": 20,
   "id": "daabc484",
   "metadata": {
    "vscode": {
     "languageId": "r"
    }
   },
   "outputs": [
    {
     "data": {
      "text/html": [
       "<style>\n",
       ".list-inline {list-style: none; margin:0; padding: 0}\n",
       ".list-inline>li {display: inline-block}\n",
       ".list-inline>li:not(:last-child)::after {content: \"\\00b7\"; padding: 0 .5ex}\n",
       "</style>\n",
       "<ol class=list-inline><li>'1713'</li><li>'species removed'</li><li>'4213'</li><li>'remaining'</li></ol>\n"
      ],
      "text/latex": [
       "\\begin{enumerate*}\n",
       "\\item '1713'\n",
       "\\item 'species removed'\n",
       "\\item '4213'\n",
       "\\item 'remaining'\n",
       "\\end{enumerate*}\n"
      ],
      "text/markdown": [
       "1. '1713'\n",
       "2. 'species removed'\n",
       "3. '4213'\n",
       "4. 'remaining'\n",
       "\n",
       "\n"
      ],
      "text/plain": [
       "[1] \"1713\"            \"species removed\" \"4213\"            \"remaining\"      "
      ]
     },
     "metadata": {},
     "output_type": "display_data"
    },
    {
     "name": "stderr",
     "output_type": "stream",
     "text": [
      "computing iqlr centering\n",
      "\n",
      "checking for condition length disabled!\n",
      "\n",
      "user-defined denominator used\n",
      "\n",
      "multicore environment is is OK -- using the BiocParallel package\n",
      "\n",
      "removed rows with sums equal to zero\n",
      "\n",
      "data format is OK\n",
      "\n",
      "dirichlet samples complete\n",
      "\n",
      "transformation complete\n",
      "\n",
      "running tests for each MC instance:\n",
      "\n"
     ]
    },
    {
     "name": "stdout",
     "output_type": "stream",
     "text": [
      "|------------(25%)----------(50%)----------(75%)----------|\n"
     ]
    },
    {
     "name": "stderr",
     "output_type": "stream",
     "text": [
      "operating in serial mode\n",
      "\n",
      "sanity check complete\n",
      "\n",
      "rab.all  complete\n",
      "\n",
      "rab.win  complete\n",
      "\n",
      "rab of samples complete\n",
      "\n",
      "within sample difference calculated\n",
      "\n",
      "between group difference calculated\n",
      "\n",
      "group summaries calculated\n",
      "\n",
      "unpaired effect size calculated\n",
      "\n",
      "summarizing output\n",
      "\n",
      "operating in serial mode\n",
      "\n",
      "sanity check complete\n",
      "\n",
      "rab.all  complete\n",
      "\n",
      "rab.win  complete\n",
      "\n",
      "rab of samples complete\n",
      "\n",
      "within sample difference calculated\n",
      "\n",
      "between group difference calculated\n",
      "\n",
      "group summaries calculated\n",
      "\n",
      "unpaired effect size calculated\n",
      "\n",
      "summarizing output\n",
      "\n"
     ]
    }
   ],
   "source": [
    "# Extract and filter F1 samples\n",
    "ko$cov.F1 <- ko$cov[, rownames(info[info$generation==\"F1\",])]\n",
    "## PARAMS ##\n",
    "# Percentage of samples in which features must have >0 sum\n",
    "ko.F1.percent_occ <- 10\n",
    "# Quantile used for removing low abundance features\n",
    "ko.F1.quantile_thresh <- 0.1\n",
    "mc.samples <- 200\n",
    "\n",
    "## PREFILTERING ##\n",
    "# Remove zero sum features\n",
    "nz <- rownames(ko$cov.F1[rowSums(ko$cov.F1) > 0, ])\n",
    "ko$nz.F1 <- ko$cov.F1[rownames(ko$cov.F1)%in%nz, ]\n",
    "\n",
    "# Filter low abundance features\n",
    "low_threshold = quantile(rowSums(ko$nz.F1) / sum(rowSums(ko$nz.F1)) * 100, probs = ko.F1.quantile_thresh)\n",
    "ko$filtered.F1 <- low.count.removal(ko$nz.F1, percent = low_threshold)$data.filter\n",
    "\n",
    "ko$occ.F1 <- rowSums(ko$filtered.F1>0) / ncol(ko$filtered.F1) * 100\n",
    "# Keep features occurring in defined percentage of samples\n",
    "ko$filtered.F1 <- ko$filtered.F1[which(ko$occ.F1 >= ko.F1.percent_occ), ]\n",
    "paste0(c(dim(ko$cov.F1)[1] - dim(ko$filtered.F1)[1], \"species removed\", dim(ko$filtered.F1)[1], \"remaining\"))\n",
    "\n",
    "# Get denominators from IQLR transformation\n",
    "denoms <- aldex.set.mode(ceiling(ko$filtered.F1), info[colnames(ko$filtered.F1),\"treatment\"], denom=\"iqlr\")\n",
    "\n",
    "x.ko.F1 <- aldex.clr(ceiling(ko$filtered.F1), mm.F1.treatment, mc.samples=mc.samples, denom=denoms, verbose=TRUE, useMC = TRUE)\n",
    "glm.test.ko.F1 <- aldex.glm(x.ko.F1, mm.F1.treatment)\n",
    "save_results(glm.test.ko.F1, \"glm.test.ko.F1\")\n",
    "glm.effect.ko.F1 <- aldex.glm.effect(x.ko.F1)\n",
    "save_results(glm.effect.ko.F1, \"glm.effect.ko.F1\")"
   ]
  },
  {
   "cell_type": "markdown",
   "id": "b5a76c24",
   "metadata": {},
   "source": [
    "#### KO - F1 generation (C+L vs H)"
   ]
  },
  {
   "cell_type": "code",
   "execution_count": 21,
   "id": "194c057a",
   "metadata": {
    "vscode": {
     "languageId": "r"
    }
   },
   "outputs": [
    {
     "name": "stderr",
     "output_type": "stream",
     "text": [
      "computing iqlr centering\n",
      "\n",
      "aldex.clr: generating Monte-Carlo instances and clr values\n",
      "\n",
      "operating in serial mode\n",
      "\n",
      "removed rows with sums equal to zero\n",
      "\n",
      "data format is OK\n",
      "\n",
      "dirichlet samples complete\n",
      "\n",
      "transformation complete\n",
      "\n",
      "aldex.ttest: doing t-test\n",
      "\n",
      "running tests for each MC instance:\n",
      "\n"
     ]
    },
    {
     "name": "stdout",
     "output_type": "stream",
     "text": [
      "|------------(25%)----------(50%)----------(75%)----------|\n"
     ]
    },
    {
     "name": "stderr",
     "output_type": "stream",
     "text": [
      "aldex.effect: calculating effect sizes\n",
      "\n",
      "operating in serial mode\n",
      "\n",
      "sanity check complete\n",
      "\n",
      "rab.all  complete\n",
      "\n",
      "rab.win  complete\n",
      "\n",
      "rab of samples complete\n",
      "\n",
      "within sample difference calculated\n",
      "\n",
      "between group difference calculated\n",
      "\n",
      "group summaries calculated\n",
      "\n",
      "unpaired effect size calculated\n",
      "\n",
      "summarizing output\n",
      "\n"
     ]
    }
   ],
   "source": [
    "info.F1 <- info[info$generation==\"F1\",]\n",
    "info.F1_2 <- info.F1\n",
    "info.F1_2$treatment <- gsub(x = info.F1_2$treatment, pattern = \"[CL]\", replacement = \"CL\")\n",
    "info.F1_2$treatment <- factor(info.F1_2$treatment)\n",
    "mm.F1_2.treatment <- model.matrix(~ treatment, info.F1_2)\n",
    "mc.samples <- 200\n",
    "\n",
    "denoms <- aldex.set.mode(ceiling(ko$filtered.F1), info[colnames(ko$filtered.F1),\"treatment\"], denom=\"iqlr\")\n",
    "conds <- info.F1_2[colnames(ko$filtered.F1),\"treatment\"]\n",
    "x.ko.F1_2 <- aldex(ceiling(ko$filtered.F1), conds, mc.samples=mc.samples, denom=denoms, test=\"t\", effect=TRUE,\n",
    "     include.sample.summary=FALSE, verbose=TRUE, paired.test=FALSE)\n",
    "save_results(x.ko.F1_2[order(x.ko.F1_2$effect, decreasing = TRUE),], \"ko.F1_2\")"
   ]
  },
  {
   "cell_type": "markdown",
   "id": "22ecd5a6",
   "metadata": {},
   "source": [
    "#### KO - F1 (H vs C)"
   ]
  },
  {
   "cell_type": "code",
   "execution_count": 19,
   "id": "84f72f01",
   "metadata": {
    "vscode": {
     "languageId": "r"
    }
   },
   "outputs": [
    {
     "data": {
      "text/html": [
       "<style>\n",
       ".list-inline {list-style: none; margin:0; padding: 0}\n",
       ".list-inline>li {display: inline-block}\n",
       ".list-inline>li:not(:last-child)::after {content: \"\\00b7\"; padding: 0 .5ex}\n",
       "</style>\n",
       "<ol class=list-inline><li>'1753'</li><li>'kos removed'</li><li>'4173'</li><li>'remaining'</li></ol>\n"
      ],
      "text/latex": [
       "\\begin{enumerate*}\n",
       "\\item '1753'\n",
       "\\item 'kos removed'\n",
       "\\item '4173'\n",
       "\\item 'remaining'\n",
       "\\end{enumerate*}\n"
      ],
      "text/markdown": [
       "1. '1753'\n",
       "2. 'kos removed'\n",
       "3. '4173'\n",
       "4. 'remaining'\n",
       "\n",
       "\n"
      ],
      "text/plain": [
       "[1] \"1753\"        \"kos removed\" \"4173\"        \"remaining\"  "
      ]
     },
     "metadata": {},
     "output_type": "display_data"
    },
    {
     "name": "stderr",
     "output_type": "stream",
     "text": [
      "computing iqlr centering\n",
      "\n",
      "aldex.clr: generating Monte-Carlo instances and clr values\n",
      "\n",
      "operating in serial mode\n",
      "\n",
      "removed rows with sums equal to zero\n",
      "\n",
      "data format is OK\n",
      "\n",
      "dirichlet samples complete\n",
      "\n",
      "transformation complete\n",
      "\n",
      "aldex.ttest: doing t-test\n",
      "\n",
      "running tests for each MC instance:\n",
      "\n"
     ]
    },
    {
     "name": "stdout",
     "output_type": "stream",
     "text": [
      "|------------(25%)----------(50%)----------(75%)----------|\n"
     ]
    },
    {
     "name": "stderr",
     "output_type": "stream",
     "text": [
      "aldex.effect: calculating effect sizes\n",
      "\n",
      "operating in serial mode\n",
      "\n",
      "sanity check complete\n",
      "\n",
      "rab.all  complete\n",
      "\n",
      "rab.win  complete\n",
      "\n",
      "rab of samples complete\n",
      "\n",
      "within sample difference calculated\n",
      "\n",
      "between group difference calculated\n",
      "\n",
      "group summaries calculated\n",
      "\n",
      "unpaired effect size calculated\n",
      "\n",
      "summarizing output\n",
      "\n"
     ]
    }
   ],
   "source": [
    "info.F1_HC <- info[info$generation==\"F1\",]\n",
    "info.F1_HC <- info.F1_HC[rownames(info.F1_HC)[info.F1_HC$treatment%in%c(\"C\",\"H\")],]\n",
    "ko$cov.F1_HC <- ko$cov[, rownames(info.F1_HC)]\n",
    "\n",
    "## PARAMS ##\n",
    "# Percentage of samples in which features must have >0 sum\n",
    "ko.F1_HC.percent_occ <- 10\n",
    "# Quantile used for removing low abundance features\n",
    "ko.F1_HC.quantile_thresh <- 0.1\n",
    "mc.samples <- 200\n",
    "\n",
    "## PREFILTERING ##\n",
    "# Remove zero sum features\n",
    "nz <- rownames(ko$cov.F1_HC[rowSums(ko$cov.F1_HC) > 0, ])\n",
    "ko$nz.F1_HC <- ko$cov.F1_HC[rownames(ko$cov.F1_HC)%in%nz, ]\n",
    "\n",
    "# Filter low abundance features\n",
    "low_threshold = quantile(rowSums(ko$nz.F1_HC) / sum(rowSums(ko$nz.F1_HC)) * 100, probs = ko.F1_HC.quantile_thresh)\n",
    "ko$filtered.F1_HC <- low.count.removal(ko$nz.F1_HC, percent = low_threshold)$data.filter\n",
    "\n",
    "ko$occ.F1_HC <- rowSums(ko$filtered.F1_HC>0) / ncol(ko$filtered.F1_HC) * 100\n",
    "# Keep features occurring in defined percentage of samples\n",
    "ko$filtered.F1_HC <- ko$filtered.F1_HC[which(ko$occ.F1_HC >= ko.F1_HC.percent_occ), ]\n",
    "paste0(c(dim(ko$cov.F1_HC)[1] - dim(ko$filtered.F1_HC)[1], \"kos removed\", dim(ko$filtered.F1_HC)[1], \"remaining\"))\n",
    "\n",
    "X <- ko$filtered.F1_HC\n",
    "Y <- info.F1_HC\n",
    "\n",
    "denoms <- aldex.set.mode(ceiling(X), Y[colnames(X),\"treatment\"], denom=\"iqlr\")\n",
    "conds <- factor(Y[colnames(X),\"treatment\"])\n",
    "x.ko.F1_HC <- aldex(ceiling(X), conds, mc.samples=mc.samples, denom=denoms, test=\"t\", effect=TRUE,\n",
    "     include.sample.summary=FALSE, verbose=TRUE, paired.test=FALSE)\n",
    "save_results(x.ko.F1_HC[order(x.ko.F1_HC$effect, decreasing = TRUE),], \"ko.F1_HC\")"
   ]
  },
  {
   "cell_type": "markdown",
   "id": "10ffb289",
   "metadata": {},
   "source": [
    "#### KO - F1 generation (L vs C)"
   ]
  },
  {
   "cell_type": "code",
   "execution_count": 20,
   "id": "a003bddc",
   "metadata": {
    "vscode": {
     "languageId": "r"
    }
   },
   "outputs": [
    {
     "data": {
      "text/html": [
       "<style>\n",
       ".list-inline {list-style: none; margin:0; padding: 0}\n",
       ".list-inline>li {display: inline-block}\n",
       ".list-inline>li:not(:last-child)::after {content: \"\\00b7\"; padding: 0 .5ex}\n",
       "</style>\n",
       "<ol class=list-inline><li>'1772'</li><li>'kos removed'</li><li>'4154'</li><li>'remaining'</li></ol>\n"
      ],
      "text/latex": [
       "\\begin{enumerate*}\n",
       "\\item '1772'\n",
       "\\item 'kos removed'\n",
       "\\item '4154'\n",
       "\\item 'remaining'\n",
       "\\end{enumerate*}\n"
      ],
      "text/markdown": [
       "1. '1772'\n",
       "2. 'kos removed'\n",
       "3. '4154'\n",
       "4. 'remaining'\n",
       "\n",
       "\n"
      ],
      "text/plain": [
       "[1] \"1772\"        \"kos removed\" \"4154\"        \"remaining\"  "
      ]
     },
     "metadata": {},
     "output_type": "display_data"
    },
    {
     "name": "stderr",
     "output_type": "stream",
     "text": [
      "computing iqlr centering\n",
      "\n",
      "aldex.clr: generating Monte-Carlo instances and clr values\n",
      "\n",
      "operating in serial mode\n",
      "\n",
      "removed rows with sums equal to zero\n",
      "\n",
      "data format is OK\n",
      "\n",
      "dirichlet samples complete\n",
      "\n",
      "transformation complete\n",
      "\n",
      "aldex.ttest: doing t-test\n",
      "\n",
      "running tests for each MC instance:\n",
      "\n"
     ]
    },
    {
     "name": "stdout",
     "output_type": "stream",
     "text": [
      "|------------(25%)----------(50%)----------(75%)----------|\n"
     ]
    },
    {
     "name": "stderr",
     "output_type": "stream",
     "text": [
      "aldex.effect: calculating effect sizes\n",
      "\n",
      "operating in serial mode\n",
      "\n",
      "sanity check complete\n",
      "\n",
      "rab.all  complete\n",
      "\n",
      "rab.win  complete\n",
      "\n",
      "rab of samples complete\n",
      "\n",
      "within sample difference calculated\n",
      "\n",
      "between group difference calculated\n",
      "\n",
      "group summaries calculated\n",
      "\n",
      "unpaired effect size calculated\n",
      "\n",
      "summarizing output\n",
      "\n"
     ]
    }
   ],
   "source": [
    "info.F1_LC <- info[info$generation==\"F1\",]\n",
    "info.F1_LC <- info.F1_LC[rownames(info.F1_LC)[info.F1_LC$treatment%in%c(\"C\",\"L\")],]\n",
    "mc.samples <- 200\n",
    "ko$cov.F1_LC <- ko$cov[, rownames(info.F1_LC)]\n",
    "\n",
    "## PARAMS ##\n",
    "# Percentage of samples in which features must have >0 sum\n",
    "ko.F1_LC.percent_occ <- 10\n",
    "# Quantile used for removing low abundance features\n",
    "ko.F1_LC.quantile_thresh <- 0.1\n",
    "\n",
    "## PREFILTERING ##\n",
    "# Remove zero sum features\n",
    "nz <- rownames(ko$cov.F1_LC[rowSums(ko$cov.F1_LC) > 0, ])\n",
    "ko$nz.F1_LC <- ko$cov.F1_LC[rownames(ko$cov.F1_LC)%in%nz, ]\n",
    "\n",
    "# Filter low abundance features\n",
    "low_threshold = quantile(rowSums(ko$nz.F1_LC) / sum(rowSums(ko$nz.F1_LC)) * 100, probs = ko.F1_LC.quantile_thresh)\n",
    "ko$filtered.F1_LC <- low.count.removal(ko$nz.F1_LC, percent = low_threshold)$data.filter\n",
    "\n",
    "ko$occ.F1_LC <- rowSums(ko$filtered.F1_LC>0) / ncol(ko$filtered.F1_LC) * 100\n",
    "# Keep features occurring in defined percentage of samples\n",
    "ko$filtered.F1_LC <- ko$filtered.F1_LC[which(ko$occ.F1_LC >= ko.F1_LC.percent_occ), ]\n",
    "paste0(c(dim(ko$cov.F1_LC)[1] - dim(ko$filtered.F1_LC)[1], \"kos removed\", dim(ko$filtered.F1_LC)[1], \"remaining\"))\n",
    "\n",
    "X <- ko$filtered.F1_LC\n",
    "Y <- info.F1_LC\n",
    "\n",
    "denoms <- aldex.set.mode(ceiling(X), Y[colnames(X),\"treatment\"], denom=\"iqlr\")\n",
    "conds <- factor(Y[colnames(X),\"treatment\"])\n",
    "x.ko.F1_LC <- aldex(ceiling(X), conds, mc.samples=mc.samples, denom=denoms, test=\"t\", effect=TRUE,\n",
    "     include.sample.summary=FALSE, verbose=TRUE, paired.test=FALSE)\n",
    "save_results(x.ko.F1_LC[order(x.ko.F1_LC$effect, decreasing = TRUE),], \"ko.F1_LC\")"
   ]
  },
  {
   "cell_type": "markdown",
   "id": "8adeacaa",
   "metadata": {},
   "source": [
    "#### KO - F2 generation"
   ]
  },
  {
   "cell_type": "code",
   "execution_count": 22,
   "id": "cb7f8fa2",
   "metadata": {
    "vscode": {
     "languageId": "r"
    }
   },
   "outputs": [
    {
     "data": {
      "text/html": [
       "<style>\n",
       ".list-inline {list-style: none; margin:0; padding: 0}\n",
       ".list-inline>li {display: inline-block}\n",
       ".list-inline>li:not(:last-child)::after {content: \"\\00b7\"; padding: 0 .5ex}\n",
       "</style>\n",
       "<ol class=list-inline><li>'1165'</li><li>'species removed'</li><li>'4761'</li><li>'remaining'</li></ol>\n"
      ],
      "text/latex": [
       "\\begin{enumerate*}\n",
       "\\item '1165'\n",
       "\\item 'species removed'\n",
       "\\item '4761'\n",
       "\\item 'remaining'\n",
       "\\end{enumerate*}\n"
      ],
      "text/markdown": [
       "1. '1165'\n",
       "2. 'species removed'\n",
       "3. '4761'\n",
       "4. 'remaining'\n",
       "\n",
       "\n"
      ],
      "text/plain": [
       "[1] \"1165\"            \"species removed\" \"4761\"            \"remaining\"      "
      ]
     },
     "metadata": {},
     "output_type": "display_data"
    },
    {
     "name": "stderr",
     "output_type": "stream",
     "text": [
      "computing iqlr centering\n",
      "\n",
      "checking for condition length disabled!\n",
      "\n",
      "user-defined denominator used\n",
      "\n",
      "multicore environment is is OK -- using the BiocParallel package\n",
      "\n",
      "removed rows with sums equal to zero\n",
      "\n",
      "data format is OK\n",
      "\n",
      "dirichlet samples complete\n",
      "\n",
      "transformation complete\n",
      "\n",
      "running tests for each MC instance:\n",
      "\n"
     ]
    },
    {
     "name": "stdout",
     "output_type": "stream",
     "text": [
      "|------------(25%)----------(50%)----------(75%)----------|\n"
     ]
    },
    {
     "name": "stderr",
     "output_type": "stream",
     "text": [
      "operating in serial mode\n",
      "\n",
      "sanity check complete\n",
      "\n",
      "rab.all  complete\n",
      "\n",
      "rab.win  complete\n",
      "\n",
      "rab of samples complete\n",
      "\n",
      "within sample difference calculated\n",
      "\n",
      "between group difference calculated\n",
      "\n",
      "group summaries calculated\n",
      "\n",
      "unpaired effect size calculated\n",
      "\n",
      "summarizing output\n",
      "\n",
      "operating in serial mode\n",
      "\n",
      "sanity check complete\n",
      "\n",
      "rab.all  complete\n",
      "\n",
      "rab.win  complete\n",
      "\n",
      "rab of samples complete\n",
      "\n",
      "within sample difference calculated\n",
      "\n",
      "between group difference calculated\n",
      "\n",
      "group summaries calculated\n",
      "\n",
      "unpaired effect size calculated\n",
      "\n",
      "summarizing output\n",
      "\n"
     ]
    }
   ],
   "source": [
    "# Extract and filter F2 samples\n",
    "ko$cov.F2 <- ko$cov[, rownames(info[info$generation==\"F2\",])]\n",
    "## PARAMS ##\n",
    "# Percentage of samples in which features must have >0 sum\n",
    "ko.F2.percent_occ <- 10\n",
    "# Quantile used for removing low abundance features\n",
    "ko.F2.quantile_thresh <- 0.1\n",
    "mc.samples <- 128\n",
    "\n",
    "## PREFILTERING ##\n",
    "# Remove zero sum features\n",
    "nz <- rownames(ko$cov.F2[rowSums(ko$cov.F2) > 0, ])\n",
    "ko$nz.F2 <- ko$cov.F2[rownames(ko$cov.F2)%in%nz, ]\n",
    "\n",
    "# Filter low abundance features\n",
    "low_threshold = quantile(rowSums(ko$nz.F2) / sum(rowSums(ko$nz.F2)) * 100, probs = ko.F2.quantile_thresh)\n",
    "ko$filtered.F2 <- low.count.removal(ko$nz.F2, percent = low_threshold)$data.filter\n",
    "\n",
    "ko$occ.F2 <- rowSums(ko$filtered.F2>0) / ncol(ko$filtered.F2) * 100\n",
    "# Keep features occurring in defined percentage of samples\n",
    "ko$filtered.F2 <- ko$filtered.F2[which(ko$occ.F2 >= ko.F2.percent_occ), ]\n",
    "paste0(c(dim(ko$cov.F2)[1] - dim(ko$filtered.F2)[1], \"species removed\", dim(ko$filtered.F2)[1], \"remaining\"))\n",
    "\n",
    "# Get denominators from IQLR transformation\n",
    "denoms <- aldex.set.mode(ceiling(ko$filtered.F2), info[colnames(ko$filtered.F2),\"treatment\"], denom=\"iqlr\")\n",
    "\n",
    "x.ko.F2 <- aldex.clr(ceiling(ko$filtered.F2), mm.F2.treatment, mc.samples=128, denom=denoms, verbose=TRUE, useMC = TRUE)\n",
    "glm.test.ko.F2 <- aldex.glm(x.ko.F2, mm.F2.treatment)\n",
    "save_results(glm.test.ko.F2, \"glm.test.ko.F2\")\n",
    "glm.effect.ko.F2 <- aldex.glm.effect(x.ko.F2)\n",
    "save_results(glm.effect.ko.F2, \"glm.effect.ko.F2\")"
   ]
  },
  {
   "cell_type": "markdown",
   "id": "53138eaa",
   "metadata": {},
   "source": [
    "#### KO - F2 generation (C+L vs H)"
   ]
  },
  {
   "cell_type": "code",
   "execution_count": 23,
   "id": "8e1ce686",
   "metadata": {
    "vscode": {
     "languageId": "r"
    }
   },
   "outputs": [
    {
     "name": "stderr",
     "output_type": "stream",
     "text": [
      "computing iqlr centering\n",
      "\n",
      "aldex.clr: generating Monte-Carlo instances and clr values\n",
      "\n",
      "operating in serial mode\n",
      "\n",
      "removed rows with sums equal to zero\n",
      "\n",
      "data format is OK\n",
      "\n",
      "dirichlet samples complete\n",
      "\n",
      "transformation complete\n",
      "\n",
      "aldex.ttest: doing t-test\n",
      "\n",
      "running tests for each MC instance:\n",
      "\n"
     ]
    },
    {
     "name": "stdout",
     "output_type": "stream",
     "text": [
      "|------------(25%)----------(50%)----------(75%)----------|\n"
     ]
    },
    {
     "name": "stderr",
     "output_type": "stream",
     "text": [
      "aldex.effect: calculating effect sizes\n",
      "\n",
      "operating in serial mode\n",
      "\n",
      "sanity check complete\n",
      "\n",
      "rab.all  complete\n",
      "\n",
      "rab.win  complete\n",
      "\n",
      "rab of samples complete\n",
      "\n",
      "within sample difference calculated\n",
      "\n",
      "between group difference calculated\n",
      "\n",
      "group summaries calculated\n",
      "\n",
      "unpaired effect size calculated\n",
      "\n",
      "summarizing output\n",
      "\n"
     ]
    }
   ],
   "source": [
    "info.F2 <- info[info$generation==\"F2\",]\n",
    "info.F2_2 <- info.F2\n",
    "info.F2_2$treatment <- gsub(x = info.F2_2$treatment, pattern = \"[CL]\", replacement = \"CL\")\n",
    "info.F2_2$treatment <- factor(info.F2_2$treatment)\n",
    "mm.F2_2.treatment <- model.matrix(~ treatment, info.F2_2)\n",
    "mc.samples <- 128\n",
    "\n",
    "denoms <- aldex.set.mode(ceiling(ko$filtered.F2), info[colnames(ko$filtered.F2),\"treatment\"], denom=\"iqlr\")\n",
    "conds <- info.F2_2[colnames(ko$filtered.F2),\"treatment\"]\n",
    "x.ko.F2_2 <- aldex(ceiling(ko$filtered.F2), conds, mc.samples=mc.samples, denom=denoms, test=\"t\", effect=TRUE,\n",
    "     include.sample.summary=FALSE, verbose=TRUE, paired.test=FALSE)\n",
    "save_results(x.ko.F2_2[order(x.ko.F2_2$effect, decreasing = TRUE),], \"ko.F2_2\")"
   ]
  },
  {
   "cell_type": "markdown",
   "id": "3177e7f0",
   "metadata": {},
   "source": [
    "#### KO - F2 generation (H vs C)"
   ]
  },
  {
   "cell_type": "code",
   "execution_count": 21,
   "id": "e00e8090",
   "metadata": {
    "vscode": {
     "languageId": "r"
    }
   },
   "outputs": [
    {
     "data": {
      "text/html": [
       "<style>\n",
       ".list-inline {list-style: none; margin:0; padding: 0}\n",
       ".list-inline>li {display: inline-block}\n",
       ".list-inline>li:not(:last-child)::after {content: \"\\00b7\"; padding: 0 .5ex}\n",
       "</style>\n",
       "<ol class=list-inline><li>'1211'</li><li>'kos removed'</li><li>'4715'</li><li>'remaining'</li></ol>\n"
      ],
      "text/latex": [
       "\\begin{enumerate*}\n",
       "\\item '1211'\n",
       "\\item 'kos removed'\n",
       "\\item '4715'\n",
       "\\item 'remaining'\n",
       "\\end{enumerate*}\n"
      ],
      "text/markdown": [
       "1. '1211'\n",
       "2. 'kos removed'\n",
       "3. '4715'\n",
       "4. 'remaining'\n",
       "\n",
       "\n"
      ],
      "text/plain": [
       "[1] \"1211\"        \"kos removed\" \"4715\"        \"remaining\"  "
      ]
     },
     "metadata": {},
     "output_type": "display_data"
    },
    {
     "name": "stderr",
     "output_type": "stream",
     "text": [
      "computing iqlr centering\n",
      "\n",
      "aldex.clr: generating Monte-Carlo instances and clr values\n",
      "\n",
      "operating in serial mode\n",
      "\n",
      "removed rows with sums equal to zero\n",
      "\n",
      "data format is OK\n",
      "\n",
      "dirichlet samples complete\n",
      "\n",
      "transformation complete\n",
      "\n",
      "aldex.ttest: doing t-test\n",
      "\n",
      "running tests for each MC instance:\n",
      "\n"
     ]
    },
    {
     "name": "stdout",
     "output_type": "stream",
     "text": [
      "|------------(25%)----------(50%)----------(75%)----------|\n"
     ]
    },
    {
     "name": "stderr",
     "output_type": "stream",
     "text": [
      "aldex.effect: calculating effect sizes\n",
      "\n",
      "operating in serial mode\n",
      "\n",
      "sanity check complete\n",
      "\n",
      "rab.all  complete\n",
      "\n",
      "rab.win  complete\n",
      "\n",
      "rab of samples complete\n",
      "\n",
      "within sample difference calculated\n",
      "\n",
      "between group difference calculated\n",
      "\n",
      "group summaries calculated\n",
      "\n",
      "unpaired effect size calculated\n",
      "\n",
      "summarizing output\n",
      "\n"
     ]
    }
   ],
   "source": [
    "info.F2_HC <- info[info$generation==\"F2\",]\n",
    "info.F2_HC <- info.F2_HC[rownames(info.F2_HC)[info.F2_HC$treatment%in%c(\"C\",\"H\")],]\n",
    "mc.samples <- 128\n",
    "ko$cov.F2_HC <- ko$cov[, rownames(info.F2_HC)]\n",
    "\n",
    "## PARAMS ##\n",
    "# Percentage of samples in which features must have >0 sum\n",
    "ko.F2_HC.percent_occ <- 10\n",
    "# Quantile used for removing low abundance features\n",
    "ko.F2_HC.quantile_thresh <- 0.1\n",
    "mc.samples <- 128\n",
    "\n",
    "## PREFILTERING ##\n",
    "# Remove zero sum features\n",
    "nz <- rownames(ko$cov.F2_HC[rowSums(ko$cov.F2_HC) > 0, ])\n",
    "ko$nz.F2_HC <- ko$cov.F2_HC[rownames(ko$cov.F2_HC)%in%nz, ]\n",
    "\n",
    "# Filter low abundance features\n",
    "low_threshold = quantile(rowSums(ko$nz.F2_HC) / sum(rowSums(ko$nz.F2_HC)) * 100, probs = ko.F2_HC.quantile_thresh)\n",
    "ko$filtered.F2_HC <- low.count.removal(ko$nz.F2_HC, percent = low_threshold)$data.filter\n",
    "\n",
    "ko$occ.F2_HC <- rowSums(ko$filtered.F2_HC>0) / ncol(ko$filtered.F2_HC) * 100\n",
    "# Keep features occurring in defined percentage of samples\n",
    "ko$filtered.F2_HC <- ko$filtered.F2_HC[which(ko$occ.F2_HC >= ko.F2_HC.percent_occ), ]\n",
    "paste0(c(dim(ko$cov.F2_HC)[1] - dim(ko$filtered.F2_HC)[1], \"kos removed\", dim(ko$filtered.F2_HC)[1], \"remaining\"))\n",
    "\n",
    "X <- ko$filtered.F2_HC\n",
    "Y <- info.F2_HC\n",
    "\n",
    "denoms <- aldex.set.mode(ceiling(X), Y[colnames(X),\"treatment\"], denom=\"iqlr\")\n",
    "conds <- factor(Y[colnames(X),\"treatment\"])\n",
    "x.ko.F2_HC <- aldex(ceiling(X), conds, mc.samples=mc.samples, denom=denoms, test=\"t\", effect=TRUE,\n",
    "     include.sample.summary=FALSE, verbose=TRUE, paired.test=FALSE)\n",
    "save_results(x.ko.F2_HC[order(x.ko.F2_HC$effect, decreasing = TRUE),], \"ko.F2_HC\")"
   ]
  },
  {
   "cell_type": "markdown",
   "id": "6768676b",
   "metadata": {},
   "source": [
    "#### KO - F2 generation (L vs C)"
   ]
  },
  {
   "cell_type": "code",
   "execution_count": 22,
   "id": "a03432ac",
   "metadata": {
    "vscode": {
     "languageId": "r"
    }
   },
   "outputs": [
    {
     "data": {
      "text/html": [
       "<style>\n",
       ".list-inline {list-style: none; margin:0; padding: 0}\n",
       ".list-inline>li {display: inline-block}\n",
       ".list-inline>li:not(:last-child)::after {content: \"\\00b7\"; padding: 0 .5ex}\n",
       "</style>\n",
       "<ol class=list-inline><li>'1223'</li><li>'kos removed'</li><li>'4703'</li><li>'remaining'</li></ol>\n"
      ],
      "text/latex": [
       "\\begin{enumerate*}\n",
       "\\item '1223'\n",
       "\\item 'kos removed'\n",
       "\\item '4703'\n",
       "\\item 'remaining'\n",
       "\\end{enumerate*}\n"
      ],
      "text/markdown": [
       "1. '1223'\n",
       "2. 'kos removed'\n",
       "3. '4703'\n",
       "4. 'remaining'\n",
       "\n",
       "\n"
      ],
      "text/plain": [
       "[1] \"1223\"        \"kos removed\" \"4703\"        \"remaining\"  "
      ]
     },
     "metadata": {},
     "output_type": "display_data"
    },
    {
     "name": "stderr",
     "output_type": "stream",
     "text": [
      "computing iqlr centering\n",
      "\n",
      "aldex.clr: generating Monte-Carlo instances and clr values\n",
      "\n",
      "operating in serial mode\n",
      "\n",
      "removed rows with sums equal to zero\n",
      "\n",
      "data format is OK\n",
      "\n",
      "dirichlet samples complete\n",
      "\n",
      "transformation complete\n",
      "\n",
      "aldex.ttest: doing t-test\n",
      "\n",
      "running tests for each MC instance:\n",
      "\n"
     ]
    },
    {
     "name": "stdout",
     "output_type": "stream",
     "text": [
      "|------------(25%)----------(50%)----------(75%)----------|\n"
     ]
    },
    {
     "name": "stderr",
     "output_type": "stream",
     "text": [
      "aldex.effect: calculating effect sizes\n",
      "\n",
      "operating in serial mode\n",
      "\n",
      "sanity check complete\n",
      "\n",
      "rab.all  complete\n",
      "\n",
      "rab.win  complete\n",
      "\n",
      "rab of samples complete\n",
      "\n",
      "within sample difference calculated\n",
      "\n",
      "between group difference calculated\n",
      "\n",
      "group summaries calculated\n",
      "\n",
      "unpaired effect size calculated\n",
      "\n",
      "summarizing output\n",
      "\n"
     ]
    }
   ],
   "source": [
    "info.F2_LC <- info[info$generation==\"F2\",]\n",
    "info.F2_LC <- info.F2_LC[rownames(info.F2_LC)[info.F2_LC$treatment%in%c(\"C\",\"L\")],]\n",
    "mc.samples <- 128\n",
    "ko$cov.F2_LC <- ko$cov[, rownames(info.F2_LC)]\n",
    "\n",
    "## PARAMS ##\n",
    "# Percentage of samples in which features must have >0 sum\n",
    "ko.F2_LC.percent_occ <- 10\n",
    "# Quantile used for removing low abundance features\n",
    "ko.F2_LC.quantile_thresh <- 0.1\n",
    "mc.samples <- 128\n",
    "\n",
    "## PREFILTERING ##\n",
    "# Remove zero sum features\n",
    "nz <- rownames(ko$cov.F2_LC[rowSums(ko$cov.F2_LC) > 0, ])\n",
    "ko$nz.F2_LC <- ko$cov.F2_LC[rownames(ko$cov.F2_LC)%in%nz, ]\n",
    "\n",
    "# Filter low abundance features\n",
    "low_threshold = quantile(rowSums(ko$nz.F2_LC) / sum(rowSums(ko$nz.F2_LC)) * 100, probs = ko.F2_LC.quantile_thresh)\n",
    "ko$filtered.F2_LC <- low.count.removal(ko$nz.F2_LC, percent = low_threshold)$data.filter\n",
    "\n",
    "ko$occ.F2_LC <- rowSums(ko$filtered.F2_LC>0) / ncol(ko$filtered.F2_LC) * 100\n",
    "# Keep features occurring in defined percentage of samples\n",
    "ko$filtered.F2_LC <- ko$filtered.F2_LC[which(ko$occ.F2_LC >= ko.F2_LC.percent_occ), ]\n",
    "paste0(c(dim(ko$cov.F2_LC)[1] - dim(ko$filtered.F2_LC)[1], \"kos removed\", dim(ko$filtered.F2_LC)[1], \"remaining\"))\n",
    "\n",
    "X <- ko$filtered.F2_LC\n",
    "Y <- info.F2_LC\n",
    "\n",
    "denoms <- aldex.set.mode(ceiling(X), Y[colnames(X),\"treatment\"], denom=\"iqlr\")\n",
    "conds <- factor(Y[colnames(X),\"treatment\"])\n",
    "x.ko.F2_LC <- aldex(ceiling(X), conds, mc.samples=mc.samples, denom=denoms, test=\"t\", effect=TRUE,\n",
    "     include.sample.summary=FALSE, verbose=TRUE, paired.test=FALSE)\n",
    "save_results(x.ko.F2_LC[order(x.ko.F2_LC$effect, decreasing = TRUE),], \"ko.F2_LC\")"
   ]
  }
 ],
 "metadata": {
  "kernelspec": {
   "display_name": "R",
   "language": "R",
   "name": "ir"
  },
  "language_info": {
   "codemirror_mode": "r",
   "file_extension": ".r",
   "mimetype": "text/x-r-source",
   "name": "R",
   "pygments_lexer": "r",
   "version": "4.2.3"
  }
 },
 "nbformat": 4,
 "nbformat_minor": 5
}
